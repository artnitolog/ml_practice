{
 "cells": [
  {
   "cell_type": "markdown",
   "metadata": {
    "id": "RYp0bXOFK-hP",
    "papermill": {
     "duration": 0.025068,
     "end_time": "2021-03-20T17:18:02.454520",
     "exception": false,
     "start_time": "2021-03-20T17:18:02.429452",
     "status": "completed"
    },
    "tags": []
   },
   "source": [
    "# Машинное обучение, ВМК МГУ\n",
    "\n",
    "## Практическое задание 1. Метод опорных векторов и аппроксимация ядер\n",
    "\n",
    "### Общая информация\n",
    "Дата выдачи: 23:59 MSK 05.03.2021\n",
    "\n",
    "Мягкий дедлайн: 23:59MSK 19.03.2021 **(за каждый день просрочки снимается 1 балл)**\n",
    "\n",
    "Жесткий дедлайн: 23:59MSK 26.03.2021\n",
    "\n",
    "### Оценивание и штрафы\n",
    "Каждая из задач имеет определенную «стоимость» (указана в скобках около задачи). Максимальная оценка за работу (без учёта бонусов) — **10 баллов.**\n",
    "\n",
    "Сдавать задание после указанного жёсткого срока сдачи нельзя. При выставлении неполного балла за задание в связи с наличием ошибок на усмотрение проверяющего предусмотрена возможность исправить работу на указанных в ответном письме условиях.\n",
    "\n",
    "Задание выполняется самостоятельно. «Похожие» решения считаются плагиатом и все задействованные студенты (в том числе те, у кого списали) не могут получить за него больше 0 баллов (подробнее о плагиате см. на странице курса). Если вы нашли решение какого-то из заданий (или его часть) в открытом источнике, необходимо указать ссылку на этот источник в отдельном блоке в конце вашей работы (скорее всего вы будете не единственным, кто это нашел, поэтому чтобы исключить подозрение в плагиате, необходима ссылка на источник).\n",
    "\n",
    "Неэффективная реализация кода может негативно отразиться на оценке.\n",
    "\n",
    "### Формат сдачи\n",
    "Задания сдаются через систему anytask. Посылка должна содержать:\n",
    "   * Ноутбук homework-practice-01-random-features-Username.ipynb\n",
    "\n",
    "Username — ваша фамилия и имя на латинице именно в таком порядке"
   ]
  },
  {
   "cell_type": "markdown",
   "metadata": {
    "papermill": {
     "duration": 0.022685,
     "end_time": "2021-03-20T17:18:02.501397",
     "exception": false,
     "start_time": "2021-03-20T17:18:02.478712",
     "status": "completed"
    },
    "tags": []
   },
   "source": [
    "<p style=\"color:#de3815;font-size:25px;\">\n",
    "Напоминание об оформлении и выполнении ноутбука\n",
    "</p>"
   ]
  },
  {
   "cell_type": "markdown",
   "metadata": {
    "papermill": {
     "duration": 0.022696,
     "end_time": "2021-03-20T17:18:02.546944",
     "exception": false,
     "start_time": "2021-03-20T17:18:02.524248",
     "status": "completed"
    },
    "tags": []
   },
   "source": [
    "* Все строчки должны быть выполнены. Нужно, чтобы output команды можно было увидеть, не запуская ячейки (кроме редких случаев, когда необходимо намеренно скрыть ненужный output, про такие случаи желательно писать пояснения в тексте). **В противном случае -1 балл**\n",
    "* При оформлении ДЗ нужно пользоваться данным файлом в качестве шаблона. Не нужно удалять и видоизменять написанный код и текст, если явно не указана такая возможность. **В противном случае -1 балл**\n",
    "* В anytask обязательно нужно прикреплять отдельно файл с расширением ipynb (не в архиве, а именно отдельно). Если необходимо отправить еще какие-то файлы, то вынесите их в отдельный архив (если файлов много) и пришлите. **В противном случае -0.5 балла**\n",
    "---\n",
    "* Пишите, пожалуйста, выводы и ответы на вопросы в текстовых ячейках/при помощи print в коде. При их отсутствии мы не можем понять, сделали ли вы задание и понимаете, что происходит, и **поэтому будем снижать баллы**\n",
    "* Если алгоритм не сказано реализовывать явно, его всегда можно импортировать из библиотеки.\n",
    "---\n",
    "* Про графики. _Штрафы будут применяться к каждому результату команды отображения графика (plt.show() и др. аналогичные). Исключением являются графики, генерируемые функциями каких-либо сторонних библиотек, если их нельзя кастомизировать_\n",
    "\n",
    "    * должно быть название (plt.title) графика; **В противном случае &ndash; -0.05 балла**\n",
    "    * на графиках должны быть подписаны оси (plt.xlabel, plt.ylabel); **В противном случае &ndash; -0.025 балла за каждую ось**\n",
    "    * должны быть подписаны единицы измерения (если это возможно); **В противном случае &ndash; -0.025 балла за каждую ось**\n",
    "    * все названия должны быть понятны любому человеку, знакомому с терминологией, без заглядывания в код; **В противном случае &ndash; -0.05 балла**\n",
    "    * подписи тиков на осях не должны сливаться как на одной оси, так и между ними; **В противном случае &ndash; -0.025 балла за каждую ось**\n",
    "    * если изображено несколько сущностей на одном холсте (например несколько функций), то необходима поясняющая легенда (plt.legend); **В противном случае &ndash; -0.05 балла**\n",
    "    * все линии на графиках должны быть чётко видны (нет похожих цветов или цветов, сливающихся с фоном); **В противном случае &ndash; -0.05 балла**\n",
    "    * если отображена величина, имеющая очевидный диапазон значений (например, проценты могут быть от 0 до 100), то желательно масштабировать ось на весь диапазон значений (исключением является случай, когда вам необходимо показать малое отличие, которое незаметно в таких масштабах);\n",
    "    * графики должны быть не супер-микро и не супер-макро по размерам, так, чтобы можно было увидеть все, что нужно.\n",
    "    * при необходимости улучшения наглядности графиков, можно пользоваться логарифмической шкалой по осям x/y.\n",
    "    "
   ]
  },
  {
   "cell_type": "code",
   "execution_count": 1,
   "metadata": {
    "execution": {
     "iopub.execute_input": "2021-03-20T17:18:02.595957Z",
     "iopub.status.busy": "2021-03-20T17:18:02.595428Z",
     "iopub.status.idle": "2021-03-20T17:18:02.603755Z",
     "shell.execute_reply": "2021-03-20T17:18:02.603218Z"
    },
    "papermill": {
     "duration": 0.033859,
     "end_time": "2021-03-20T17:18:02.603913",
     "exception": false,
     "start_time": "2021-03-20T17:18:02.570054",
     "status": "completed"
    },
    "tags": []
   },
   "outputs": [],
   "source": [
    "%matplotlib inline\n",
    "import numpy as np\n",
    "import pandas as pd\n",
    "import matplotlib.pyplot as plt\n",
    "from matplotlib import cm\n",
    "from matplotlib.colors import LinearSegmentedColormap as lsc\n",
    "plt.rc('axes', axisbelow=True, grid=True)\n",
    "plt.rc('grid', c='grey', ls=':')\n",
    "plt.rc('font', family='serif', size=11)"
   ]
  },
  {
   "cell_type": "markdown",
   "metadata": {
    "id": "vY8vT0W_K-hR",
    "papermill": {
     "duration": 0.022874,
     "end_time": "2021-03-20T17:18:02.649991",
     "exception": false,
     "start_time": "2021-03-20T17:18:02.627117",
     "status": "completed"
    },
    "tags": []
   },
   "source": [
    "### О задании\n",
    "\n",
    "На занятиях мы подробно обсуждали метод опорных векторов (SVM). В базовой версии в нём нет чего-то особенного — мы всего лишь используем специальную функцию потерь, которая не требует устремлять отступы к бесконечности; ей достаточно, чтобы отступы были не меньше +1. Затем мы узнали, что SVM можно переписать в двойственном виде, который, позволяет заменить скалярные произведения объектов на ядра. Это будет соответствовать построению модели в новом пространстве более высокой размерности, координаты которого представляют собой нелинейные модификации исходных признаков.\n",
    "\n",
    "Ядровой SVM, к сожалению, довольно затратен по памяти (нужно хранить матрицу Грама размера $d \\times d$) и по времени (нужно решать задачу условной оптимизации с квадратичной функцией, а это не очень быстро). Мы обсуждали, что есть способы посчитать новые признаки $\\tilde \\varphi(x)$ на основе исходных так, что скалярные произведения этих новых $\\langle \\tilde \\varphi(x), \\tilde \\varphi(z) \\rangle$ приближают ядро $K(x, z)$.\n",
    "\n",
    "Мы будем исследовать аппроксимации методом Random Fourier Features (RFF, также в литературе встречается название Random Kitchen Sinks) для гауссовых ядер. Будем использовать формулы, которые немного отличаются от того, что было на лекциях (мы добавим сдвиги внутрь тригонометрических функций и будем использовать только косинусы, потому что с нужным сдвигом косинус превратится в синус):\n",
    "$$\\tilde \\varphi(x) = (\n",
    "\\cos (w_1^T x + b_1),\n",
    "\\dots,\n",
    "\\cos (w_n^T x + b_n)\n",
    "),$$\n",
    "где $w_j \\sim \\mathcal{N}(0, 1/\\sigma^2)$, $b_j \\sim U[-\\pi, \\pi]$.\n",
    "\n",
    "На новых признаках $\\tilde \\varphi(x)$ мы будем строить любую линейную модель.\n",
    "\n",
    "Можно считать, что это некоторая новая парадигма построения сложных моделей. Можно направленно искать сложные нелинейные закономерности в данных с помощью градиентного бустинга или нейронных сетей, а можно просто нагенерировать большое количество случайных нелинейных признаков и надеяться, что быстрая и простая модель (то есть линейная) сможет показать на них хорошее качество. В этом задании мы изучим, насколько работоспособна такая идея.\n",
    "\n",
    "### Алгоритм\n",
    "\n",
    "Вам потребуется реализовать следующий алгоритм:\n",
    "1. Понизить размерность выборки до new_dim с помощью метода главных компонент.\n",
    "\n",
    "2. Для полученной выборки оценить гиперпараметр $\\sigma^2$ с помощью эвристики (рекомендуем считать медиану не по всем парам объектов, а по случайному подмножеству из где-то миллиона пар объектов): $$\\sigma^2 = \\text{median}_{i, j = 1, \\dots, \\ell, i \\neq j} \\left\\{\\sum_{k = 1}^{d} (x_{ik} - x_{jk})^2 \\right\\}$$\n",
    "**Замечание:** обратите внимание на  $i \\neq j$, без этого оценка медианы может быть смещена, а также без этого будут сниматься баллы.\n",
    "\n",
    "3. Сгенерировать n_features наборов весов $w_j$ и сдвигов $b_j$.\n",
    "\n",
    "4. Сформировать n_features новых признаков по формулам, приведённым выше.\n",
    "\n",
    "5. Обучить линейную модель (логистическую регрессию или SVM) на новых признаках.\n",
    "\n",
    "6. Повторить преобразования (PCA, формирование новых признаков) к тестовой выборке и применить модель."
   ]
  },
  {
   "cell_type": "markdown",
   "metadata": {
    "id": "N_sGunb7K-hS",
    "papermill": {
     "duration": 0.023078,
     "end_time": "2021-03-20T17:18:02.696205",
     "exception": false,
     "start_time": "2021-03-20T17:18:02.673127",
     "status": "completed"
    },
    "tags": []
   },
   "source": [
    "Тестировать алгоритм мы будем на данных Fashion MNIST. Ниже код для их загрузки и подготовки."
   ]
  },
  {
   "cell_type": "code",
   "execution_count": 2,
   "metadata": {
    "execution": {
     "iopub.execute_input": "2021-03-20T17:18:02.746943Z",
     "iopub.status.busy": "2021-03-20T17:18:02.746350Z",
     "iopub.status.idle": "2021-03-20T17:18:09.580745Z",
     "shell.execute_reply": "2021-03-20T17:18:09.579877Z"
    },
    "papermill": {
     "duration": 6.861679,
     "end_time": "2021-03-20T17:18:09.580892",
     "exception": false,
     "start_time": "2021-03-20T17:18:02.719213",
     "status": "completed"
    },
    "tags": []
   },
   "outputs": [
    {
     "name": "stdout",
     "output_type": "stream",
     "text": [
      "Downloading data from https://storage.googleapis.com/tensorflow/tf-keras-datasets/train-labels-idx1-ubyte.gz\n",
      "32768/29515 [=================================] - 0s 0us/step\n",
      "Downloading data from https://storage.googleapis.com/tensorflow/tf-keras-datasets/train-images-idx3-ubyte.gz\n",
      "26427392/26421880 [==============================] - 0s 0us/step\n",
      "Downloading data from https://storage.googleapis.com/tensorflow/tf-keras-datasets/t10k-labels-idx1-ubyte.gz\n",
      "8192/5148 [===============================================] - 0s 0us/step\n",
      "Downloading data from https://storage.googleapis.com/tensorflow/tf-keras-datasets/t10k-images-idx3-ubyte.gz\n",
      "4423680/4422102 [==============================] - 0s 0us/step\n"
     ]
    }
   ],
   "source": [
    "# Attention! Кажется, под python3.9 импортнуть керас будет трудно (стабильный тензорфлоу requires Python 3.5–3.8, pip and venv >= 19.0)\n",
    "import keras\n",
    "from keras.datasets import fashion_mnist\n",
    "(x_train_pics, y_train), (x_test_pics, y_test) = fashion_mnist.load_data()\n",
    "x_train = x_train_pics.reshape(x_train_pics.shape[0], -1)\n",
    "x_test = x_test_pics.reshape(x_test_pics.shape[0], -1)"
   ]
  },
  {
   "cell_type": "markdown",
   "metadata": {
    "papermill": {
     "duration": 0.025961,
     "end_time": "2021-03-20T17:18:09.634117",
     "exception": false,
     "start_time": "2021-03-20T17:18:09.608156",
     "status": "completed"
    },
    "tags": []
   },
   "source": [
    "**ВАЖНОЕ ЗАМЕЧАНИЕ:**\n",
    "\n",
    "Датасет по умолчанию хранится в типе 'uint8', вследствие чего при ручном подсчете дисперсии переменные переполняются и вы получаете неадекватные результаты. Бороться с этим можно преобразованием исходных данных к типу 'float'. Еще один хороший вариант &ndash; использовать специализированные функции из библиотек numpy / scipy и, в частности, **scipy.spatial.distance_matrix**.\n",
    "\n",
    "Ниже приводим подтверждающий пример."
   ]
  },
  {
   "cell_type": "code",
   "execution_count": 3,
   "metadata": {
    "ExecuteTime": {
     "end_time": "2021-03-05T17:40:50.990485Z",
     "start_time": "2021-03-05T17:40:50.949509Z"
    },
    "execution": {
     "iopub.execute_input": "2021-03-20T17:18:09.695352Z",
     "iopub.status.busy": "2021-03-20T17:18:09.694755Z",
     "iopub.status.idle": "2021-03-20T17:18:09.710658Z",
     "shell.execute_reply": "2021-03-20T17:18:09.711356Z"
    },
    "papermill": {
     "duration": 0.051354,
     "end_time": "2021-03-20T17:18:09.711561",
     "exception": false,
     "start_time": "2021-03-20T17:18:09.660207",
     "status": "completed"
    },
    "tags": []
   },
   "outputs": [
    {
     "name": "stdout",
     "output_type": "stream",
     "text": [
      "8844153.0\n",
      "54376.5\n"
     ]
    }
   ],
   "source": [
    "import numpy as np\n",
    "\n",
    "indices = np.random.choice(x_train.shape[0], size=2000)\n",
    "print(np.median(np.sum((x_train[indices[:1000]].astype(float) - x_train[indices[1000:]]).astype(float) ** 2, axis=1)))\n",
    "\n",
    "print(np.median(np.sum((x_train[indices[:1000]] - x_train[indices[1000:]]) ** 2, axis=1)))"
   ]
  },
  {
   "cell_type": "markdown",
   "metadata": {
    "id": "rJNN55F7K-hT",
    "papermill": {
     "duration": 0.026278,
     "end_time": "2021-03-20T17:18:09.765335",
     "exception": false,
     "start_time": "2021-03-20T17:18:09.739057",
     "status": "completed"
    },
    "tags": []
   },
   "source": [
    "__Задание 1. (5 баллов)__\n",
    "\n",
    "**А) (4 балла)** Реализуйте алгоритм, описанный выше. Можете воспользоваться шаблоном класса ниже или написать свой интерфейс.\n",
    "\n",
    "Ваша реализация должна поддерживать следующие опции:\n",
    "1. Возможность задавать значения параметров new_dim (по умолчанию 50) и n_features (по умолчанию 1000).\n",
    "2. Возможность включать или выключать предварительное понижение размерности с помощью метода главных компонент.\n",
    "3. Возможность выбирать тип линейной модели (логистическая регрессия или SVM с линейным ядром).\n",
    "\n",
    "\n",
    "**Важно! За несоответствия будут сниматься баллы:**\n",
    "* Так как мы работаем с линейными моделями, вам необходимо делать нормализацию данных.\n",
    "* Оценка гиперпраметра распределения и построение нового датасета должны быть без питоновских циклов (можно все запрограммировать векторно, используя numpy)\n",
    "\n",
    "**Б) (1 балл)** Протестируйте на данных Fashion MNIST, сформированных кодом выше. Если на тесте у вас получилась доля верных ответов **не ниже 0.84 с параметрами по умолчанию**, то вы всё сделали правильно.\n",
    "\n",
    "**Подсказка**\n",
    "* Использование метода без PCA и без нормализации признаков перед генерацией весов может дать неожиданные результаты. Сами подумайте, почему так может происходить :)"
   ]
  },
  {
   "cell_type": "markdown",
   "metadata": {
    "papermill": {
     "duration": 0.026705,
     "end_time": "2021-03-20T17:18:09.820579",
     "exception": false,
     "start_time": "2021-03-20T17:18:09.793874",
     "status": "completed"
    },
    "tags": []
   },
   "source": [
    "<font color=blue>Модификации шаблона:</font>\n",
    "* <font color=blue>В инициализацию пайплайна добавлены параметры.</font>\n",
    "    * <font color=blue>`normalize`, регулирующий нормализацию признаков до или в отсутствие PCA (после применении PCA признаки всегда нормализуются)</font>\n",
    "    * <font color=blue>`seed` для генерации весов и смещений в RFF, а также инициализации солверов. </font>\n",
    "    * <font color=blue>`clf_kwargs` для аргументов, передаваемых классификатору при инициализации.</font>\n",
    "* <font color=blue>Из инициализации убран `use_PCA` (его функцию берет на себя `new_dim`).</font>\n",
    "* <font color=blue>Последовательность преобразований реализована с помощью sklearn'овского пайплайна. Можно было бы обойтись без обертки-класса вообще, если бы не требовалось измерение времени отдельных шагов.</font>\n",
    "\n",
    "<font color=blue>Комментарии к предобработке:</font>\n",
    "* <font color=blue>По умолчанию нормализацию <b>перед PCA</b> не проводим, так как наши данные уже в единой шкале, sklearn перед нахождением SVD сам центрирует признаки. Нормализация <b>после PCA</b> обеспечивается за счет `whitening=False`.</font>\n",
    "* <font color=blue>Для оценки $\\sigma$ возьмем подвыборку из не более чем 2000 объектов (это даст чуть меньше 2 млн пар). Попарные расстояния сэмпла удобнее считать с помощью `scipy.spatial.distance.pdist`. Заметим, что мы работаем со <b>стандартным отклонением</b>, а не дисперсией.</font>"
   ]
  },
  {
   "cell_type": "code",
   "execution_count": 4,
   "metadata": {
    "execution": {
     "iopub.execute_input": "2021-03-20T17:18:09.880753Z",
     "iopub.status.busy": "2021-03-20T17:18:09.879776Z",
     "iopub.status.idle": "2021-03-20T17:18:10.642126Z",
     "shell.execute_reply": "2021-03-20T17:18:10.641349Z"
    },
    "id": "jP8yepx8K-hT",
    "papermill": {
     "duration": 0.794326,
     "end_time": "2021-03-20T17:18:10.642266",
     "exception": false,
     "start_time": "2021-03-20T17:18:09.847940",
     "status": "completed"
    },
    "tags": []
   },
   "outputs": [],
   "source": [
    "from time import time\n",
    "from sklearn.base import BaseEstimator, TransformerMixin\n",
    "from sklearn.pipeline import Pipeline, make_pipeline\n",
    "from sklearn.preprocessing import StandardScaler, FunctionTransformer\n",
    "from sklearn.decomposition import PCA\n",
    "from sklearn.linear_model import LogisticRegression\n",
    "from sklearn.svm import LinearSVC\n",
    "from scipy.spatial.distance import pdist\n",
    "\n",
    "class RFFPipeline(BaseEstimator, TransformerMixin):\n",
    "    def __init__(self, n_features=1000, normalize=False, new_dim=50,\n",
    "                 seed=None, classifier='logreg', **clf_kwargs):\n",
    "        \"\"\"\n",
    "        Implements pipeline, which consists of PCA decomposition,\n",
    "        Random Fourier Features approximation and linear classification model.\n",
    "        \n",
    "        n_features, int: amount of synthetic random features generated\n",
    "                         with RFF approximation.\n",
    "        normalize, bool: whether to normalize data before all steps.\n",
    "        new_dim, int: PCA output size.\n",
    "                      Set `None` to exclude PCA from preprocessing.\n",
    "        seed, int: used to initialize random generator.\n",
    "        classifier, string: either 'svm' or 'logreg', a linear classification model\n",
    "                            to use on top of pipeline.  \n",
    "        \"\"\"\n",
    "        self.n_features = n_features\n",
    "        self.new_dim = new_dim\n",
    "        self.normalize = normalize\n",
    "        self.seed = seed\n",
    "        self.classifier = classifier\n",
    "        self.steps = [None]\n",
    "        if normalize:\n",
    "            self.steps.append(StandardScaler())\n",
    "        if new_dim is not None:\n",
    "            self.steps.append(PCA(n_components=new_dim,\n",
    "                                  whiten=True,\n",
    "                                  random_state=seed))\n",
    "        if 'random_state' not in clf_kwargs:\n",
    "            clf_kwargs['random_state'] = seed\n",
    "        if classifier == 'logreg':\n",
    "            self.clf_ = LogisticRegression(**clf_kwargs)\n",
    "        elif classifier == 'svm':\n",
    "            self.clf_ = LinearSVC(**clf_kwargs)\n",
    "        self.rng = np.random.default_rng(seed=seed)\n",
    "        self.time_fit_full = None\n",
    "        self.time_fit_clf = None\n",
    "        self.pipe = make_pipeline(*self.steps)\n",
    "    \n",
    "    def _set_W_b(self, X):\n",
    "        \"\"\"\n",
    "        Generate weights and biases for RFF.\n",
    "        \"\"\"\n",
    "        sample = self.rng.choice(X.shape[0], min(2000, X.shape[0]), replace=False)\n",
    "        std = 1 / np.median(pdist(X[sample]))\n",
    "        self.weights = self.rng.normal(0, std, size=(X.shape[1], self.n_features))\n",
    "        self.biases = self.rng.uniform(-np.pi, np.pi, size=self.n_features)\n",
    "    \n",
    "    def fit(self, X, y):\n",
    "        \"\"\"\n",
    "        Fit all parts of algorithm (normalization), (PCA), RFF \n",
    "        and classification to training set.\n",
    "        \"\"\"\n",
    "        self.time_fit_full = -time()\n",
    "        X_reduced = self.pipe.fit_transform(X)\n",
    "        self._set_W_b(X_reduced)\n",
    "        RFF = FunctionTransformer(lambda x: np.cos(x @ self.weights + self.biases))\n",
    "        X_rff = RFF.transform(X_reduced)\n",
    "        self.steps.append(RFF)\n",
    "        self.time_fit_clf = -time()\n",
    "        self.clf_.fit(X_rff, y)\n",
    "        self.steps.append(self.clf_)\n",
    "        self.time_fit_clf += time()\n",
    "        self.time_fit_full += time()\n",
    "        self.pipe = make_pipeline(*self.steps)\n",
    "        return self\n",
    "\n",
    "    def predict_proba(self, X):\n",
    "        \"\"\"\n",
    "        Probability estimates (only if classifier is 'logreg').\n",
    "        \"\"\"\n",
    "        return self.pipe.predict_proba(X)\n",
    "        \n",
    "    def decision_function(self, X):\n",
    "        \"\"\"\n",
    "        Predict confidence scores for samples.\n",
    "        \"\"\"\n",
    "        return self.pipe.decision_function(X)        \n",
    "        \n",
    "    def predict(self, X):\n",
    "        \"\"\"\n",
    "        Apply pipeline to obtain discrete predictions for input data.\n",
    "        \"\"\"\n",
    "        return self.pipe.predict(X)\n"
   ]
  },
  {
   "cell_type": "markdown",
   "metadata": {
    "papermill": {
     "duration": 0.026934,
     "end_time": "2021-03-20T17:18:10.696981",
     "exception": false,
     "start_time": "2021-03-20T17:18:10.670047",
     "status": "completed"
    },
    "tags": []
   },
   "source": [
    "<font color=blue>Протестируем метод на Fashion MNIST.</font>"
   ]
  },
  {
   "cell_type": "code",
   "execution_count": 5,
   "metadata": {
    "execution": {
     "iopub.execute_input": "2021-03-20T17:18:10.754805Z",
     "iopub.status.busy": "2021-03-20T17:18:10.753984Z",
     "iopub.status.idle": "2021-03-20T17:18:10.759572Z",
     "shell.execute_reply": "2021-03-20T17:18:10.758999Z"
    },
    "papermill": {
     "duration": 0.0354,
     "end_time": "2021-03-20T17:18:10.759686",
     "exception": false,
     "start_time": "2021-03-20T17:18:10.724286",
     "status": "completed"
    },
    "tags": []
   },
   "outputs": [],
   "source": [
    "seed = 0\n",
    "\n",
    "def check_implementation():\n",
    "    rff_pipeline = RFFPipeline(seed=seed)\n",
    "    rff_pipeline.fit(x_train, y_train)\n",
    "    print(f'Fit time (full): {rff_pipeline.time_fit_full:.2f} s')\n",
    "    print(f'Fit time (classifier): {rff_pipeline.time_fit_clf:.2f} s')\n",
    "    print(f'Train accuracy: {(rff_pipeline.predict(x_train) == y_train).mean():.5f}')\n",
    "    test_acc = (rff_pipeline.predict(x_test) == y_test).mean()\n",
    "    print(f'Test accuracy: {test_acc}')\n",
    "    assert test_acc > 0.84"
   ]
  },
  {
   "cell_type": "code",
   "execution_count": 6,
   "metadata": {
    "execution": {
     "iopub.execute_input": "2021-03-20T17:18:10.818483Z",
     "iopub.status.busy": "2021-03-20T17:18:10.817817Z",
     "iopub.status.idle": "2021-03-20T17:22:40.058150Z",
     "shell.execute_reply": "2021-03-20T17:22:40.057521Z"
    },
    "papermill": {
     "duration": 269.27167,
     "end_time": "2021-03-20T17:22:40.058303",
     "exception": false,
     "start_time": "2021-03-20T17:18:10.786633",
     "status": "completed"
    },
    "tags": []
   },
   "outputs": [
    {
     "name": "stderr",
     "output_type": "stream",
     "text": [
      "/opt/conda/lib/python3.7/site-packages/sklearn/linear_model/_logistic.py:765: ConvergenceWarning: lbfgs failed to converge (status=1):\n",
      "STOP: TOTAL NO. of ITERATIONS REACHED LIMIT.\n",
      "\n",
      "Increase the number of iterations (max_iter) or scale the data as shown in:\n",
      "    https://scikit-learn.org/stable/modules/preprocessing.html\n",
      "Please also refer to the documentation for alternative solver options:\n",
      "    https://scikit-learn.org/stable/modules/linear_model.html#logistic-regression\n",
      "  extra_warning_msg=_LOGISTIC_SOLVER_CONVERGENCE_MSG)\n"
     ]
    },
    {
     "name": "stdout",
     "output_type": "stream",
     "text": [
      "Fit time (full): 262.95 s\n",
      "Fit time (classifier): 149.11 s\n",
      "Train accuracy: 0.88782\n",
      "Test accuracy: 0.8627\n"
     ]
    }
   ],
   "source": [
    "check_implementation()"
   ]
  },
  {
   "cell_type": "code",
   "execution_count": 7,
   "metadata": {
    "execution": {
     "iopub.execute_input": "2021-03-20T17:22:40.120087Z",
     "iopub.status.busy": "2021-03-20T17:22:40.119536Z",
     "iopub.status.idle": "2021-03-20T17:27:09.532497Z",
     "shell.execute_reply": "2021-03-20T17:27:09.532037Z"
    },
    "papermill": {
     "duration": 269.44519,
     "end_time": "2021-03-20T17:27:09.532653",
     "exception": false,
     "start_time": "2021-03-20T17:22:40.087463",
     "status": "completed"
    },
    "tags": []
   },
   "outputs": [
    {
     "name": "stderr",
     "output_type": "stream",
     "text": [
      "/opt/conda/lib/python3.7/site-packages/sklearn/linear_model/_logistic.py:765: ConvergenceWarning: lbfgs failed to converge (status=1):\n",
      "STOP: TOTAL NO. of ITERATIONS REACHED LIMIT.\n",
      "\n",
      "Increase the number of iterations (max_iter) or scale the data as shown in:\n",
      "    https://scikit-learn.org/stable/modules/preprocessing.html\n",
      "Please also refer to the documentation for alternative solver options:\n",
      "    https://scikit-learn.org/stable/modules/linear_model.html#logistic-regression\n",
      "  extra_warning_msg=_LOGISTIC_SOLVER_CONVERGENCE_MSG)\n"
     ]
    },
    {
     "name": "stdout",
     "output_type": "stream",
     "text": [
      "Fit time (full): 263.17 s\n",
      "Fit time (classifier): 148.73 s\n",
      "Train accuracy: 0.88782\n",
      "Test accuracy: 0.8627\n"
     ]
    }
   ],
   "source": [
    "check_implementation()"
   ]
  },
  {
   "cell_type": "markdown",
   "metadata": {
    "papermill": {
     "duration": 0.028754,
     "end_time": "2021-03-20T17:27:09.591268",
     "exception": false,
     "start_time": "2021-03-20T17:27:09.562514",
     "status": "completed"
    },
    "tags": []
   },
   "source": [
    "<font color=blue>Запуск произведен дважды, чтобы проверить корректность инициализации BitGenerator'а. Несмотря на ворнинг, предупреждающий, что солвер не успел сойтись за дефолтное число итераций, модель достигла приемлемого качества.</font>"
   ]
  },
  {
   "cell_type": "markdown",
   "metadata": {
    "id": "HYqQUEi-K-hU",
    "papermill": {
     "duration": 0.028448,
     "end_time": "2021-03-20T17:27:09.648370",
     "exception": false,
     "start_time": "2021-03-20T17:27:09.619922",
     "status": "completed"
    },
    "tags": []
   },
   "source": [
    "__Задание 2. (3 балла)__\n",
    "\n",
    "_Сравните следующие подходы: **(2.5 балла)**_\n",
    "\n",
    "* Подход со случайными признаками vs обучение линейного SVM на исходных признаках.\n",
    "* Подход со случайными признаками vs обучение ядрового SVM на исходных признаках.\n",
    "* Подход со случайными признаками vs вариант, в котором вы понижаете размерность с помощью PCA и обучаете градиентный бустинг. Используйте одну из реализаций CatBoost/LightGBM/XGBoost\n",
    " * Не забудьте в этом случае подобрать число деревьев и длину шага.\n",
    "\n",
    "_Сделайте выводы: **(0.5 баллов)**_\n",
    "* Насколько идея со случайными признаками работает?\n",
    "* Сравните как с точки зрения качества, так и с точки зрения скорости обучения и применения.\n",
    "\n",
    "**Важные замечания**\n",
    "* Подход по случайными признаками тестируйте в двух вариантах линейной модели. То есть у вас должно получиться всего 6 пар сравнений.\n",
    "* В подходе со случайными признаками в этом задании можно оставиь все параметры, кроме типа модели, по умолчанию.\n",
    "---\n",
    "* Ядровой SVM может очень долго обучаться, поэтому можно делать любые разумные вещи для ускорения: брать подмножество объектов из обучающей выборки, например.\n",
    "* Если вы решили брать подвыборку для какого-то сравнения, то следите за тем, чтобы оба метода обучались на **одинаковом датасете**. Например, сравнивать подход со случайными признаками, обучая его на всем датасете, против ядрового SVM на подвыборке -- некорректно. Тестирование так же должно происходить на одинаковом датасете.\n",
    "* Можно в начале этой секции выделить подвыборку и использовать ее для всех экспериментов, если вам это удобно. Необходимо оставить в таком случае хотя бы 10000 объектов. **За меньшее число будут сниматься баллы**\n",
    "---\n",
    "* При сравнении по времени не забывайте смотреть, во сколько потоков реализован алгоритм. Например, сравнивать алгоритм, с параметром n_jobs=-1 (задействовать все возможные потоки) с однопоточным алгоритмом по времени будет некорректно\n",
    "* Замеряйте время не только обучения, но и обучения + препроцессинга, если он есть (считайте, что формирование признаков в подходе со случайными признаками входит в понятие алгоритма). Так вы сможете более точно проанализировать временные характеристики подходов. \n",
    "---\n",
    "* Переберите хотя бы 10 различных значений количества деревьев (в разумных пределах и с разумным шагом), хотя бы 5 значений параметра learning rate (по логарифмической шкале). Если не знаете, в каких пределах пребирать, то можно найти материалы по соответствующим градиентным бустингам с разбором того, как обычно параметры перебирают.\n",
    "* Перед использованием линейного подхода необходимо нормализовывать признаки (это обычная практика при применении линейных методов, как вы знаете)\n",
    "* Отображать результаты лучше всего будет в виде таблички (pandas DataFrame например), где отображены результаты как  качеств всех алгоритмов, так и времена работы. Можно использовать графическое отображение через bar_plot. Можно также текстом.\n",
    "---\n",
    "* Здесь и далее нигде не должно быть сильных просадок по качеству. То есть, если вы получили где-то качество 0.2/0.3/0.4 итд --- это повод задуматься, что где-то у вас есть бага. Во всех экспериментах мы ожидаем качество на тесте не ниже 0.75. **За меньшее качество будут сниматься баллы**"
   ]
  },
  {
   "cell_type": "markdown",
   "metadata": {
    "papermill": {
     "duration": 0.028519,
     "end_time": "2021-03-20T17:27:09.705475",
     "exception": false,
     "start_time": "2021-03-20T17:27:09.676956",
     "status": "completed"
    },
    "tags": []
   },
   "source": [
    "<font color=blue>Далее в экспериментах не будем распараллеливать модели (чтобы однородно оценить время везде), и даже пока оставим выборки полными.</font>"
   ]
  },
  {
   "cell_type": "code",
   "execution_count": 8,
   "metadata": {
    "execution": {
     "iopub.execute_input": "2021-03-20T17:27:09.766852Z",
     "iopub.status.busy": "2021-03-20T17:27:09.766333Z",
     "iopub.status.idle": "2021-03-20T17:27:09.769656Z",
     "shell.execute_reply": "2021-03-20T17:27:09.769129Z"
    },
    "papermill": {
     "duration": 0.035564,
     "end_time": "2021-03-20T17:27:09.769767",
     "exception": false,
     "start_time": "2021-03-20T17:27:09.734203",
     "status": "completed"
    },
    "tags": []
   },
   "outputs": [],
   "source": [
    "from sklearn.model_selection import train_test_split"
   ]
  },
  {
   "cell_type": "markdown",
   "metadata": {
    "papermill": {
     "duration": 0.02935,
     "end_time": "2021-03-20T17:27:09.828516",
     "exception": false,
     "start_time": "2021-03-20T17:27:09.799166",
     "status": "completed"
    },
    "tags": []
   },
   "source": [
    "<font color=blue>Измерения времени будут подразумевать три оценки для каждой модели:</font>\n",
    "1. <font color=blue>Обучение классификатора.</font>\n",
    "2. <font color=blue>Полное время обучения (время на предобработку обучения, в ходе которой, например, фитится PCA + обучение классификатора).</font>\n",
    "3. <font color=blue>Полное время предсказания (в которое входит и трансформация теста, и предикт). Здесь мы не разделяем, поскольку оба этапа производятся быстро.</font>\n",
    "\n",
    "<font color=blue><b>Модели, используемые в экспериментах</b></font>\n",
    "\n",
    "<font color=blue>Внутри RFF-пайплайна:</font>\n",
    "* <font color=blue>Логистическая регрессия с оптимизатором `SAGA`</font>\n",
    "* <font color=blue>Метод опорных векторов (линейный) в реализации `liblinear`</font>\n",
    "\n",
    "<font color=blue>Вне RFF:</font>\n",
    "* <font color=blue>Метод опорных векторов (линейный) в реализации `liblinear`</font>\n",
    "* <font color=blue>Метод опорных векторов (ядровой) в реализации `libsvm`, RBF-ядро</font>\n",
    "* <font color=blue>Градиентный бустинг в реализации PCA + `LightGBM`</font>\n"
   ]
  },
  {
   "cell_type": "code",
   "execution_count": 9,
   "metadata": {
    "execution": {
     "iopub.execute_input": "2021-03-20T17:27:09.896242Z",
     "iopub.status.busy": "2021-03-20T17:27:09.895617Z",
     "iopub.status.idle": "2021-03-20T17:27:09.922703Z",
     "shell.execute_reply": "2021-03-20T17:27:09.922158Z"
    },
    "papermill": {
     "duration": 0.064434,
     "end_time": "2021-03-20T17:27:09.922823",
     "exception": false,
     "start_time": "2021-03-20T17:27:09.858389",
     "status": "completed"
    },
    "tags": []
   },
   "outputs": [
    {
     "data": {
      "text/html": [
       "<div>\n",
       "<style scoped>\n",
       "    .dataframe tbody tr th:only-of-type {\n",
       "        vertical-align: middle;\n",
       "    }\n",
       "\n",
       "    .dataframe tbody tr th {\n",
       "        vertical-align: top;\n",
       "    }\n",
       "\n",
       "    .dataframe thead th {\n",
       "        text-align: right;\n",
       "    }\n",
       "</style>\n",
       "<table border=\"1\" class=\"dataframe\">\n",
       "  <thead>\n",
       "    <tr style=\"text-align: right;\">\n",
       "      <th></th>\n",
       "      <th>PCA + RFF + LogReg</th>\n",
       "      <th>PCA + RFF + Linear SVM</th>\n",
       "      <th>Linear SVM</th>\n",
       "      <th>Kernel SVM (RBF)</th>\n",
       "      <th>PCA + GBM</th>\n",
       "    </tr>\n",
       "  </thead>\n",
       "  <tbody>\n",
       "    <tr>\n",
       "      <th>test accuracy</th>\n",
       "      <td>NaN</td>\n",
       "      <td>NaN</td>\n",
       "      <td>NaN</td>\n",
       "      <td>NaN</td>\n",
       "      <td>NaN</td>\n",
       "    </tr>\n",
       "    <tr>\n",
       "      <th>train accuracy</th>\n",
       "      <td>NaN</td>\n",
       "      <td>NaN</td>\n",
       "      <td>NaN</td>\n",
       "      <td>NaN</td>\n",
       "      <td>NaN</td>\n",
       "    </tr>\n",
       "    <tr>\n",
       "      <th>fit time (full), s</th>\n",
       "      <td>NaN</td>\n",
       "      <td>NaN</td>\n",
       "      <td>NaN</td>\n",
       "      <td>NaN</td>\n",
       "      <td>NaN</td>\n",
       "    </tr>\n",
       "    <tr>\n",
       "      <th>fit time (clf), s</th>\n",
       "      <td>NaN</td>\n",
       "      <td>NaN</td>\n",
       "      <td>NaN</td>\n",
       "      <td>NaN</td>\n",
       "      <td>NaN</td>\n",
       "    </tr>\n",
       "    <tr>\n",
       "      <th>predict time, s</th>\n",
       "      <td>NaN</td>\n",
       "      <td>NaN</td>\n",
       "      <td>NaN</td>\n",
       "      <td>NaN</td>\n",
       "      <td>NaN</td>\n",
       "    </tr>\n",
       "  </tbody>\n",
       "</table>\n",
       "</div>"
      ],
      "text/plain": [
       "                    PCA + RFF + LogReg  PCA + RFF + Linear SVM  Linear SVM  \\\n",
       "test accuracy                      NaN                     NaN         NaN   \n",
       "train accuracy                     NaN                     NaN         NaN   \n",
       "fit time (full), s                 NaN                     NaN         NaN   \n",
       "fit time (clf), s                  NaN                     NaN         NaN   \n",
       "predict time, s                    NaN                     NaN         NaN   \n",
       "\n",
       "                    Kernel SVM (RBF)  PCA + GBM  \n",
       "test accuracy                    NaN        NaN  \n",
       "train accuracy                   NaN        NaN  \n",
       "fit time (full), s               NaN        NaN  \n",
       "fit time (clf), s                NaN        NaN  \n",
       "predict time, s                  NaN        NaN  "
      ]
     },
     "execution_count": 9,
     "metadata": {},
     "output_type": "execute_result"
    }
   ],
   "source": [
    "model_names = ['PCA + RFF + LogReg', 'PCA + RFF + Linear SVM',\n",
    "               'Linear SVM', 'Kernel SVM (RBF)', 'PCA + GBM']\n",
    "exps = ['test accuracy', 'train accuracy',\n",
    "        'fit time (full), s', 'fit time (clf), s', 'predict time, s']\n",
    "\n",
    "results = pd.DataFrame(index=exps, columns=model_names, dtype=float)\n",
    "results"
   ]
  },
  {
   "cell_type": "markdown",
   "metadata": {
    "papermill": {
     "duration": 0.029231,
     "end_time": "2021-03-20T17:27:09.981672",
     "exception": false,
     "start_time": "2021-03-20T17:27:09.952441",
     "status": "completed"
    },
    "tags": []
   },
   "source": [
    "## <font color=blue>RFF</font>"
   ]
  },
  {
   "cell_type": "code",
   "execution_count": 10,
   "metadata": {
    "execution": {
     "iopub.execute_input": "2021-03-20T17:27:10.045069Z",
     "iopub.status.busy": "2021-03-20T17:27:10.044191Z",
     "iopub.status.idle": "2021-03-20T17:35:31.606503Z",
     "shell.execute_reply": "2021-03-20T17:35:31.606985Z"
    },
    "papermill": {
     "duration": 501.595844,
     "end_time": "2021-03-20T17:35:31.607187",
     "exception": false,
     "start_time": "2021-03-20T17:27:10.011343",
     "status": "completed"
    },
    "tags": []
   },
   "outputs": [],
   "source": [
    "inner_names = ['logreg', 'svm']\n",
    "outer_names = ['PCA + RFF + LogReg', 'PCA + RFF + Linear SVM']\n",
    "logreg_kw = {'solver': 'saga', 'tol': 0.05}\n",
    "lin_svm_kw = {'dual': False}\n",
    "clf_kwargs = [logreg_kw, lin_svm_kw]\n",
    "\n",
    "for inner_name, outer_name, kw in zip(inner_names, outer_names, clf_kwargs):\n",
    "    model = RFFPipeline(classifier=inner_name, seed=seed, **kw)\n",
    "    model.fit(x_train, y_train)\n",
    "    pred_time = -time()\n",
    "    test_acc = (model.predict(x_test) == y_test).mean()\n",
    "    pred_time += time()\n",
    "    results[outer_name] = [\n",
    "        test_acc,\n",
    "        (model.predict(x_train) == y_train).mean(),\n",
    "        model.time_fit_full,\n",
    "        model.time_fit_clf,\n",
    "        pred_time\n",
    "    ]"
   ]
  },
  {
   "cell_type": "markdown",
   "metadata": {
    "papermill": {
     "duration": 0.029636,
     "end_time": "2021-03-20T17:35:31.667300",
     "exception": false,
     "start_time": "2021-03-20T17:35:31.637664",
     "status": "completed"
    },
    "tags": []
   },
   "source": [
    "## <font color=blue>Линейный SVM, ядровой SVM</font>"
   ]
  },
  {
   "cell_type": "code",
   "execution_count": 11,
   "metadata": {
    "execution": {
     "iopub.execute_input": "2021-03-20T17:35:31.729557Z",
     "iopub.status.busy": "2021-03-20T17:35:31.729009Z",
     "iopub.status.idle": "2021-03-20T18:02:39.441834Z",
     "shell.execute_reply": "2021-03-20T18:02:39.441294Z"
    },
    "papermill": {
     "duration": 1627.744618,
     "end_time": "2021-03-20T18:02:39.441987",
     "exception": false,
     "start_time": "2021-03-20T17:35:31.697369",
     "status": "completed"
    },
    "tags": []
   },
   "outputs": [],
   "source": [
    "from sklearn.svm import LinearSVC, SVC\n",
    "\n",
    "time_train_prep = -time()\n",
    "x_train_scaled = x_train / 255\n",
    "time_train_prep += time()\n",
    "time_test_prep = -time()\n",
    "x_test_scaled = x_test / 255\n",
    "time_test_prep += time()\n",
    "\n",
    "models = [LinearSVC(random_state=seed, **lin_svm_kw),\n",
    "          SVC(random_state=seed, kernel='rbf',\n",
    "              cache_size=1024)]\n",
    "outer_names = ['Linear SVM', 'Kernel SVM (RBF)']\n",
    "\n",
    "for model, outer_name in zip(models, outer_names):\n",
    "    time_fit_clf = -time()\n",
    "    model.fit(x_train_scaled, y_train)\n",
    "    time_fit_clf += time()\n",
    "    pred_time = -time()\n",
    "    test_acc = (model.predict(x_test_scaled) == y_test).mean()\n",
    "    pred_time += time()\n",
    "    results[outer_name] = [\n",
    "        test_acc,\n",
    "        (model.predict(x_train_scaled) == y_train).mean(),\n",
    "        time_fit_clf + time_train_prep,\n",
    "        time_fit_clf,\n",
    "        pred_time + time_test_prep\n",
    "    ]"
   ]
  },
  {
   "cell_type": "markdown",
   "metadata": {
    "papermill": {
     "duration": 0.030044,
     "end_time": "2021-03-20T18:02:39.502518",
     "exception": false,
     "start_time": "2021-03-20T18:02:39.472474",
     "status": "completed"
    },
    "tags": []
   },
   "source": [
    "## <font color=blue>Градиентный бустинг</font>"
   ]
  },
  {
   "cell_type": "markdown",
   "metadata": {
    "papermill": {
     "duration": 0.029277,
     "end_time": "2021-03-20T18:02:39.561236",
     "exception": false,
     "start_time": "2021-03-20T18:02:39.531959",
     "status": "completed"
    },
    "tags": []
   },
   "source": [
    "<font color=blue>Для подбора параметров понадобится отложенная выборка.</font>"
   ]
  },
  {
   "cell_type": "code",
   "execution_count": 12,
   "metadata": {
    "execution": {
     "iopub.execute_input": "2021-03-20T18:02:39.625974Z",
     "iopub.status.busy": "2021-03-20T18:02:39.625187Z",
     "iopub.status.idle": "2021-03-20T18:03:44.816558Z",
     "shell.execute_reply": "2021-03-20T18:03:44.816970Z"
    },
    "papermill": {
     "duration": 65.226582,
     "end_time": "2021-03-20T18:03:44.817185",
     "exception": false,
     "start_time": "2021-03-20T18:02:39.590603",
     "status": "completed"
    },
    "tags": []
   },
   "outputs": [],
   "source": [
    "x_train_lgb, x_val_lgb, y_train_lgb, y_val_lgb = train_test_split(\n",
    "    x_train, y_train, test_size=0.1, stratify=y_train, random_state=seed)\n",
    "\n",
    "time_train_prep = -time()\n",
    "pca = PCA(n_components=30, random_state=seed)\n",
    "x_train_lgb_pca = pca.fit_transform(x_train_lgb)\n",
    "time_train_prep += time()\n",
    "time_test_prep = -time()\n",
    "x_test_lgb_pca = pca.transform(x_test)\n",
    "time_test_prep += time()\n",
    "x_val_lgb_pca = pca.transform(x_val_lgb)"
   ]
  },
  {
   "cell_type": "code",
   "execution_count": 13,
   "metadata": {
    "execution": {
     "iopub.execute_input": "2021-03-20T18:03:44.885108Z",
     "iopub.status.busy": "2021-03-20T18:03:44.884521Z",
     "iopub.status.idle": "2021-03-20T18:09:40.301167Z",
     "shell.execute_reply": "2021-03-20T18:09:40.298128Z"
    },
    "papermill": {
     "duration": 355.452843,
     "end_time": "2021-03-20T18:09:40.301324",
     "exception": false,
     "start_time": "2021-03-20T18:03:44.848481",
     "status": "completed"
    },
    "tags": []
   },
   "outputs": [
    {
     "data": {
      "text/html": [
       "<style type='text/css'>\n",
       ".datatable table.frame { margin-bottom: 0; }\n",
       ".datatable table.frame thead { border-bottom: none; }\n",
       ".datatable table.frame tr.coltypes td {  color: #FFFFFF;  line-height: 6px;  padding: 0 0.5em;}\n",
       ".datatable .bool    { background: #DDDD99; }\n",
       ".datatable .object  { background: #565656; }\n",
       ".datatable .int     { background: #5D9E5D; }\n",
       ".datatable .float   { background: #4040CC; }\n",
       ".datatable .str     { background: #CC4040; }\n",
       ".datatable .row_index {  background: var(--jp-border-color3);  border-right: 1px solid var(--jp-border-color0);  color: var(--jp-ui-font-color3);  font-size: 9px;}\n",
       ".datatable .frame tr.coltypes .row_index {  background: var(--jp-border-color0);}\n",
       ".datatable th:nth-child(2) { padding-left: 12px; }\n",
       ".datatable .hellipsis {  color: var(--jp-cell-editor-border-color);}\n",
       ".datatable .vellipsis {  background: var(--jp-layout-color0);  color: var(--jp-cell-editor-border-color);}\n",
       ".datatable .na {  color: var(--jp-cell-editor-border-color);  font-size: 80%;}\n",
       ".datatable .footer { font-size: 9px; }\n",
       ".datatable .frame_dimensions {  background: var(--jp-border-color3);  border-top: 1px solid var(--jp-border-color0);  color: var(--jp-ui-font-color3);  display: inline-block;  opacity: 0.6;  padding: 1px 10px 1px 5px;}\n",
       "</style>\n"
      ],
      "text/plain": [
       "<IPython.core.display.HTML object>"
      ]
     },
     "metadata": {},
     "output_type": "display_data"
    },
    {
     "data": {
      "application/vnd.jupyter.widget-view+json": {
       "model_id": "d4097b5e94954e12991f66efe74a807d",
       "version_major": 2,
       "version_minor": 0
      },
      "text/plain": [
       "  0%|          | 0/5 [00:00<?, ?it/s]"
      ]
     },
     "metadata": {},
     "output_type": "display_data"
    },
    {
     "name": "stdout",
     "output_type": "stream",
     "text": [
      "learning_rate = 0.0001\n",
      "    20 trees, val accuracy: 0.7836666666666666\n",
      "    40 trees, val accuracy: 0.7838333333333334\n",
      "    60 trees, val accuracy: 0.7843333333333333\n",
      "    80 trees, val accuracy: 0.783\n",
      "    100 trees, val accuracy: 0.7828333333333334\n",
      "    120 trees, val accuracy: 0.7823333333333333\n",
      "    140 trees, val accuracy: 0.782\n",
      "    160 trees, val accuracy: 0.7841666666666667\n",
      "    180 trees, val accuracy: 0.785\n",
      "    200 trees, val accuracy: 0.7853333333333333\n",
      "learning_rate = 0.001\n",
      "    20 trees, val accuracy: 0.7856666666666666\n",
      "    40 trees, val accuracy: 0.7905\n",
      "    60 trees, val accuracy: 0.7943333333333333\n",
      "    80 trees, val accuracy: 0.799\n",
      "    100 trees, val accuracy: 0.7983333333333333\n",
      "    120 trees, val accuracy: 0.8005\n",
      "    140 trees, val accuracy: 0.8016666666666666\n",
      "    160 trees, val accuracy: 0.8031666666666667\n",
      "    180 trees, val accuracy: 0.8043333333333333\n",
      "    200 trees, val accuracy: 0.8061666666666667\n",
      "learning_rate = 0.01\n",
      "    20 trees, val accuracy: 0.8076666666666666\n",
      "    40 trees, val accuracy: 0.8166666666666667\n",
      "    60 trees, val accuracy: 0.8215\n",
      "    80 trees, val accuracy: 0.8231666666666667\n",
      "    100 trees, val accuracy: 0.8265\n",
      "    120 trees, val accuracy: 0.831\n",
      "    140 trees, val accuracy: 0.8355\n",
      "    160 trees, val accuracy: 0.8373333333333334\n",
      "    180 trees, val accuracy: 0.8391666666666666\n",
      "    200 trees, val accuracy: 0.84\n",
      "learning_rate = 0.1\n",
      "    20 trees, val accuracy: 0.837\n",
      "    40 trees, val accuracy: 0.853\n",
      "    60 trees, val accuracy: 0.8598333333333333\n",
      "    80 trees, val accuracy: 0.8646666666666667\n",
      "    100 trees, val accuracy: 0.8663333333333333\n",
      "    120 trees, val accuracy: 0.8676666666666667\n",
      "    140 trees, val accuracy: 0.8683333333333333\n",
      "    160 trees, val accuracy: 0.8683333333333333\n",
      "    180 trees, val accuracy: 0.8716666666666667\n",
      "    200 trees, val accuracy: 0.8703333333333333\n",
      "learning_rate = 1.0\n",
      "    20 trees, val accuracy: 0.723\n",
      "    40 trees, val accuracy: 0.7306666666666667\n",
      "    60 trees, val accuracy: 0.49133333333333334\n",
      "    80 trees, val accuracy: 0.2675\n",
      "    100 trees, val accuracy: 0.5501666666666667\n",
      "    120 trees, val accuracy: 0.3516666666666667\n",
      "    140 trees, val accuracy: 0.6701666666666667\n",
      "    160 trees, val accuracy: 0.19483333333333333\n",
      "    180 trees, val accuracy: 0.19666666666666666\n",
      "    200 trees, val accuracy: 0.49816666666666665\n"
     ]
    }
   ],
   "source": [
    "from tqdm.notebook import tqdm\n",
    "from lightgbm import LGBMClassifier\n",
    "\n",
    "n_trees = (np.arange(10) + 1) * 20  # 20, 40, ..., 200\n",
    "learning_rates = np.logspace(-4, 0, 5)\n",
    "val_accs = []\n",
    "\n",
    "for learning_rate in tqdm(learning_rates):\n",
    "    print(f'learning_rate = {learning_rate}')\n",
    "    for n_estimators in n_trees:\n",
    "        lgb = LGBMClassifier(learning_rate=learning_rate,\n",
    "                             n_estimators=n_estimators,\n",
    "                             random_state=seed)\n",
    "        lgb.fit(x_train_lgb_pca, y_train_lgb)\n",
    "        val_acc = (lgb.predict(x_val_lgb_pca) == y_val_lgb).mean()\n",
    "        val_accs.append((val_acc, learning_rate, n_estimators))\n",
    "        print(f'    {n_estimators} trees, val accuracy: {val_acc}')"
   ]
  },
  {
   "cell_type": "code",
   "execution_count": 14,
   "metadata": {
    "execution": {
     "iopub.execute_input": "2021-03-20T18:09:40.398393Z",
     "iopub.status.busy": "2021-03-20T18:09:40.397404Z",
     "iopub.status.idle": "2021-03-20T18:09:40.404432Z",
     "shell.execute_reply": "2021-03-20T18:09:40.403708Z"
    },
    "papermill": {
     "duration": 0.055682,
     "end_time": "2021-03-20T18:09:40.404581",
     "exception": false,
     "start_time": "2021-03-20T18:09:40.348899",
     "status": "completed"
    },
    "tags": []
   },
   "outputs": [
    {
     "name": "stdout",
     "output_type": "stream",
     "text": [
      "Best accuracy on validation: 0.8716666666666667\n",
      "with parameters learning_rate=0.1, n_estimators=180\n"
     ]
    }
   ],
   "source": [
    "best_lgb = max(val_accs)\n",
    "print(f'Best accuracy on validation: {best_lgb[0]}')\n",
    "print(f'with parameters learning_rate={best_lgb[1]}, n_estimators={best_lgb[2]}')"
   ]
  },
  {
   "cell_type": "code",
   "execution_count": 15,
   "metadata": {
    "execution": {
     "iopub.execute_input": "2021-03-20T18:09:40.501274Z",
     "iopub.status.busy": "2021-03-20T18:09:40.500226Z",
     "iopub.status.idle": "2021-03-20T18:10:18.484991Z",
     "shell.execute_reply": "2021-03-20T18:10:18.485533Z"
    },
    "papermill": {
     "duration": 38.036469,
     "end_time": "2021-03-20T18:10:18.485730",
     "exception": false,
     "start_time": "2021-03-20T18:09:40.449261",
     "status": "completed"
    },
    "tags": []
   },
   "outputs": [],
   "source": [
    "model = LGBMClassifier(learning_rate=best_lgb[1],\n",
    "                       n_estimators=best_lgb[2],\n",
    "                       random_state=seed,\n",
    "                       n_jobs=1)\n",
    "time_fit_clf = -time()\n",
    "model.fit(x_train_lgb_pca, y_train_lgb)\n",
    "time_fit_clf += time()\n",
    "pred_time = -time()\n",
    "test_acc = (model.predict(x_test_lgb_pca) == y_test).mean()\n",
    "pred_time += time()\n",
    "results['PCA + GBM'] = [\n",
    "    test_acc,\n",
    "    (model.predict(x_train_lgb_pca) == y_train_lgb).mean(),\n",
    "    time_fit_clf + time_train_prep,\n",
    "    time_fit_clf,\n",
    "    pred_time + time_test_prep\n",
    "]\n"
   ]
  },
  {
   "cell_type": "markdown",
   "metadata": {
    "papermill": {
     "duration": 0.044052,
     "end_time": "2021-03-20T18:10:18.574357",
     "exception": false,
     "start_time": "2021-03-20T18:10:18.530305",
     "status": "completed"
    },
    "tags": []
   },
   "source": [
    "## <font color=blue>Результаты</font>"
   ]
  },
  {
   "cell_type": "markdown",
   "metadata": {
    "papermill": {
     "duration": 0.043908,
     "end_time": "2021-03-20T18:10:18.662403",
     "exception": false,
     "start_time": "2021-03-20T18:10:18.618495",
     "status": "completed"
    },
    "tags": []
   },
   "source": [
    "<font color=blue>Выведем результаты экспериментов (светлее фон $\\implies$ лучше):</font>"
   ]
  },
  {
   "cell_type": "code",
   "execution_count": 16,
   "metadata": {
    "execution": {
     "iopub.execute_input": "2021-03-20T18:10:18.753868Z",
     "iopub.status.busy": "2021-03-20T18:10:18.753243Z",
     "iopub.status.idle": "2021-03-20T18:10:18.868234Z",
     "shell.execute_reply": "2021-03-20T18:10:18.867710Z"
    },
    "papermill": {
     "duration": 0.162119,
     "end_time": "2021-03-20T18:10:18.868373",
     "exception": false,
     "start_time": "2021-03-20T18:10:18.706254",
     "status": "completed"
    },
    "tags": []
   },
   "outputs": [
    {
     "data": {
      "text/html": [
       "<style  type=\"text/css\" >\n",
       "#T_d1e62_row0_col0{\n",
       "            background-color:  #00dd00;\n",
       "            color:  #000000;\n",
       "        }#T_d1e62_row0_col1{\n",
       "            background-color:  #00d300;\n",
       "            color:  #000000;\n",
       "        }#T_d1e62_row0_col2,#T_d1e62_row1_col2{\n",
       "            background-color:  #009900;\n",
       "            color:  #000000;\n",
       "        }#T_d1e62_row0_col3,#T_d1e62_row1_col4{\n",
       "            background-color:  #00ff00;\n",
       "            color:  #000000;\n",
       "        }#T_d1e62_row0_col4{\n",
       "            background-color:  #00da00;\n",
       "            color:  #000000;\n",
       "        }#T_d1e62_row1_col0{\n",
       "            background-color:  #00af00;\n",
       "            color:  #000000;\n",
       "        }#T_d1e62_row1_col1{\n",
       "            background-color:  #00b900;\n",
       "            color:  #000000;\n",
       "        }#T_d1e62_row1_col3{\n",
       "            background-color:  #00bb00;\n",
       "            color:  #000000;\n",
       "        }#T_d1e62_row2_col0{\n",
       "            background-color:  #00ecec;\n",
       "            color:  #000000;\n",
       "        }#T_d1e62_row2_col1,#T_d1e62_row3_col3,#T_d1e62_row4_col3{\n",
       "            background-color:  #009999;\n",
       "            color:  #000000;\n",
       "        }#T_d1e62_row2_col2{\n",
       "            background-color:  #00f7f7;\n",
       "            color:  #000000;\n",
       "        }#T_d1e62_row2_col3{\n",
       "            background-color:  #00a5a5;\n",
       "            color:  #000000;\n",
       "        }#T_d1e62_row2_col4,#T_d1e62_row3_col0,#T_d1e62_row3_col4,#T_d1e62_row4_col0,#T_d1e62_row4_col1,#T_d1e62_row4_col2{\n",
       "            background-color:  #00ffff;\n",
       "            color:  #000000;\n",
       "        }#T_d1e62_row3_col1{\n",
       "            background-color:  #00b6b6;\n",
       "            color:  #000000;\n",
       "        }#T_d1e62_row3_col2{\n",
       "            background-color:  #00e1e1;\n",
       "            color:  #000000;\n",
       "        }#T_d1e62_row4_col4{\n",
       "            background-color:  #00fefe;\n",
       "            color:  #000000;\n",
       "        }</style><table id=\"T_d1e62_\" ><thead>    <tr>        <th class=\"blank level0\" ></th>        <th class=\"col_heading level0 col0\" >PCA + RFF + LogReg</th>        <th class=\"col_heading level0 col1\" >PCA + RFF + Linear SVM</th>        <th class=\"col_heading level0 col2\" >Linear SVM</th>        <th class=\"col_heading level0 col3\" >Kernel SVM (RBF)</th>        <th class=\"col_heading level0 col4\" >PCA + GBM</th>    </tr></thead><tbody>\n",
       "                <tr>\n",
       "                        <th id=\"T_d1e62_level0_row0\" class=\"row_heading level0 row0\" >test accuracy</th>\n",
       "                        <td id=\"T_d1e62_row0_col0\" class=\"data row0 col0\" >0.869</td>\n",
       "                        <td id=\"T_d1e62_row0_col1\" class=\"data row0 col1\" >0.865</td>\n",
       "                        <td id=\"T_d1e62_row0_col2\" class=\"data row0 col2\" >0.840</td>\n",
       "                        <td id=\"T_d1e62_row0_col3\" class=\"data row0 col3\" >0.883</td>\n",
       "                        <td id=\"T_d1e62_row0_col4\" class=\"data row0 col4\" >0.867</td>\n",
       "            </tr>\n",
       "            <tr>\n",
       "                        <th id=\"T_d1e62_level0_row1\" class=\"row_heading level0 row1\" >train accuracy</th>\n",
       "                        <td id=\"T_d1e62_row1_col0\" class=\"data row1 col0\" >0.900</td>\n",
       "                        <td id=\"T_d1e62_row1_col1\" class=\"data row1 col1\" >0.910</td>\n",
       "                        <td id=\"T_d1e62_row1_col2\" class=\"data row1 col2\" >0.874</td>\n",
       "                        <td id=\"T_d1e62_row1_col3\" class=\"data row1 col3\" >0.913</td>\n",
       "                        <td id=\"T_d1e62_row1_col4\" class=\"data row1 col4\" >0.991</td>\n",
       "            </tr>\n",
       "            <tr>\n",
       "                        <th id=\"T_d1e62_level0_row2\" class=\"row_heading level0 row2\" >fit time (full), s</th>\n",
       "                        <td id=\"T_d1e62_row2_col0\" class=\"data row2 col0\" >140.562</td>\n",
       "                        <td id=\"T_d1e62_row2_col1\" class=\"data row2 col1\" >349.283</td>\n",
       "                        <td id=\"T_d1e62_row2_col2\" class=\"data row2 col2\" >112.863</td>\n",
       "                        <td id=\"T_d1e62_row2_col3\" class=\"data row2 col3\" >319.278</td>\n",
       "                        <td id=\"T_d1e62_row2_col4\" class=\"data row2 col4\" >91.374</td>\n",
       "            </tr>\n",
       "            <tr>\n",
       "                        <th id=\"T_d1e62_level0_row3\" class=\"row_heading level0 row3\" >fit time (clf), s</th>\n",
       "                        <td id=\"T_d1e62_row3_col0\" class=\"data row3 col0\" >26.539</td>\n",
       "                        <td id=\"T_d1e62_row3_col1\" class=\"data row3 col1\" >236.476</td>\n",
       "                        <td id=\"T_d1e62_row3_col2\" class=\"data row3 col2\" >112.740</td>\n",
       "                        <td id=\"T_d1e62_row3_col3\" class=\"data row3 col3\" >319.155</td>\n",
       "                        <td id=\"T_d1e62_row3_col4\" class=\"data row3 col4\" >26.468</td>\n",
       "            </tr>\n",
       "            <tr>\n",
       "                        <th id=\"T_d1e62_level0_row4\" class=\"row_heading level0 row4\" >predict time, s</th>\n",
       "                        <td id=\"T_d1e62_row4_col0\" class=\"data row4 col0\" >0.883</td>\n",
       "                        <td id=\"T_d1e62_row4_col1\" class=\"data row4 col1\" >0.796</td>\n",
       "                        <td id=\"T_d1e62_row4_col2\" class=\"data row4 col2\" >0.072</td>\n",
       "                        <td id=\"T_d1e62_row4_col3\" class=\"data row4 col3\" >171.699</td>\n",
       "                        <td id=\"T_d1e62_row4_col4\" class=\"data row4 col4\" >1.998</td>\n",
       "            </tr>\n",
       "    </tbody></table>"
      ],
      "text/plain": [
       "<pandas.io.formats.style.Styler at 0x7f5de663b110>"
      ]
     },
     "execution_count": 16,
     "metadata": {},
     "output_type": "execute_result"
    }
   ],
   "source": [
    "cmap_to_lime = lsc.from_list('to_lime', ['#009900', '#00ff00'])\n",
    "cmap_to_cyan = lsc.from_list('to_cyan', ['#009999', '#00ffff'])\n",
    "acc_subset = (results.index[:2], results.columns)\n",
    "time_subset = (results.index[2:], results.columns)\n",
    "\n",
    "results.style.background_gradient(cmap=cmap_to_lime,\n",
    "                                  axis=1, subset=acc_subset) \\\n",
    "             .background_gradient(cmap=cmap_to_cyan.reversed(),\n",
    "                                  axis=1, subset=time_subset)\\\n",
    "             .format(\"{:.3f}\")"
   ]
  },
  {
   "cell_type": "markdown",
   "metadata": {
    "papermill": {
     "duration": 0.044138,
     "end_time": "2021-03-20T18:10:18.956875",
     "exception": false,
     "start_time": "2021-03-20T18:10:18.912737",
     "status": "completed"
    },
    "tags": []
   },
   "source": [
    "<font color=blue>Итак, результаты экспериментов проведены в таблице. Прокомментируем некоторые моменты.</font>\n",
    "\n",
    "* <font color=blue><b>PCA + RFF + LogReg</b> vs <b>PCA + RFF + Linear SVM</b><br>\n",
    "Обе линейных модели над случайными признаками дают похожее качество, но SVM сильнее переобучается и в результате работает лучше на трейне и хуже на тесте. Логистическая существенно быстрее — почему? В том числе прочего, благодаря солверу: критерий останова выставлен не очень строгим (`tolerance=0.05`). Во SVM же порог строже, но это не помогло модели достичь лучшего качества.\n",
    "</font>\n",
    "\n",
    "* <font color=blue><b>PCA + RFF + LogReg</b> vs <b>Linear SVM</b><br>\n",
    "Линейный SVM дает наихудшее качество вообще по результатам всех экспериментов, а значит, цель построить нелинейный алгоритм для данной выборки оправдана. Более долгое время работы самого классификатора связано с тем, что мы позволили линейному SVM над исходными признаками лучше сойтись. Также Linear SVM очень быстро делает предсказания. \n",
    "</font>\n",
    "\n",
    "* <font color=blue><b>PCA + RFF + Linear SVM</b> vs <b>Linear SVM</b><br>\n",
    "SVM над RFF по результатам измерений все еще лучше линейного SVM над исходными признаками с точки зрения качества, но обучается и делает предсказания медленнее. Как видим, что переход в новое признаковое пространство дает лучшую линейную разделимость.\n",
    "</font>\n",
    "\n",
    "* <font color=blue><b>PCA + RFF + LogReg</b> vs <b>Kernel SVM (RBF)</b><br>\n",
    "У ядрового SVM лучшее качество на тесте вообще по результатам всех экспериментов. В сравнении с логистической регрессией над RFF, SVM с RBF ядром гораздо обучается и непозволительно долго строит предсказания. Последнее связано с тем, что RBF-ядро дорого вычислять и на этапе предсказаний.\n",
    "</font>\n",
    "\n",
    "* <font color=blue><b>PCA + RFF + Linear SVM</b> vs <b>Kernel SVM (RBF)</b><br>\n",
    "По качеству SVM с RBF по-прежнему лучше, но по времени результаты отличаются от предыдущей пары. Мы видим, что полное время обучения не очень отличается, но сама модель быстрее учится с RFF. В целом, это может быть не очень честным измерением, ведь непосредственно вычисление RBF-ядра здесь не отделяется от обучения классификатора.\n",
    "</font>\n",
    "\n",
    "* <font color=blue><b>PCA + RFF + LogReg</b> vs <b>PCA + GBM</b><br>\n",
    "Бустинг на тесте работает чуть-чуть хуже, чем логистическая регрессия над RFF, но сильнее всего переобучается на трейн. Причем по времени обучения алгоритмы близки, но предсказания бустинг делает дольше.\n",
    "</font>\n",
    "\n",
    "* <font color=blue><b>PCA + RFF + Linear SVM</b> vs <b>PCA + GBM</b><br>\n",
    "А здесь бустинг работает чуть лучше подхода с RFF, но выигрывает по времени обучения.\n",
    "</font>\n",
    "\n",
    "<font color=blue><b>Таким образом</b>, у каждого из подходов есть сильные и слабые стороны. Чисто линейная модель выигрывает исключительно по времени предсказаний, но проигрывает по всем остальным пунктам. Ядерный SVM лучше всего работает на тесте, но эти предсказания делаются слишком долго. Бустинг быстро обучается (после PCA), но по качеству занимает средние позиции. Идея со случайными признаками работает! В частности с линейной регрессией удается достичь высокого качества за приемлемое время.</font>"
   ]
  },
  {
   "cell_type": "markdown",
   "metadata": {
    "id": "e6umjhWuK-hV",
    "papermill": {
     "duration": 0.044558,
     "end_time": "2021-03-20T18:10:19.046742",
     "exception": false,
     "start_time": "2021-03-20T18:10:19.002184",
     "status": "completed"
    },
    "tags": []
   },
   "source": [
    "__Задание 3. (2 балла)__\n",
    "\n",
    "Проведите эксперименты **(1.5 балла)**, после которых вы сможете ответить на следующие вопросы **(0.5 балла)**:\n",
    "1. Помогает ли предварительное понижение размерности с помощью PCA? \n",
    "2. Как зависит итоговое качество от n_features? Выходит ли оно на плато при росте n_features?\n",
    "3. Важно ли, какую модель обучать — логистическую регрессию или SVM?\n",
    "\n",
    "**Замечания:**\n",
    "* В п.2 необходимо перебрать хотя бы 30 значений признаков по разумной сетке, затрагивающей значение в 3000 признаков (или максимальное из того, что позволяет ваш компьтер за разумное время). **За меньшее число признаков и меньшее максимальное значение будут сниматься баллы**\n",
    "* В п.2 используйте логистическую регрессию\n",
    "* В п.2 отобразите качества (accuracy_score) на обучении и на тесте в виде графиков на одном полотне. **За отсутствие будут сниматься баллы**\n",
    "* Везде делайте замеры по времени и результаты включайте в выводы. **За отсутствие будут сниматься баллы**"
   ]
  },
  {
   "cell_type": "markdown",
   "metadata": {
    "papermill": {
     "duration": 0.044197,
     "end_time": "2021-03-20T18:10:19.135567",
     "exception": false,
     "start_time": "2021-03-20T18:10:19.091370",
     "status": "completed"
    },
    "tags": []
   },
   "source": [
    "### <font color=blue>1. Помогает ли предварительное понижение размерности с помощью PCA? </font>"
   ]
  },
  {
   "cell_type": "code",
   "execution_count": 17,
   "metadata": {
    "execution": {
     "iopub.execute_input": "2021-03-20T18:10:19.257931Z",
     "iopub.status.busy": "2021-03-20T18:10:19.257275Z",
     "iopub.status.idle": "2021-03-20T18:26:48.210281Z",
     "shell.execute_reply": "2021-03-20T18:26:48.208790Z"
    },
    "papermill": {
     "duration": 989.030112,
     "end_time": "2021-03-20T18:26:48.210423",
     "exception": false,
     "start_time": "2021-03-20T18:10:19.180311",
     "status": "completed"
    },
    "tags": []
   },
   "outputs": [
    {
     "data": {
      "application/vnd.jupyter.widget-view+json": {
       "model_id": "9729691d92184c959c60b98749361245",
       "version_major": 2,
       "version_minor": 0
      },
      "text/plain": [
       "  0%|          | 0/6 [00:00<?, ?it/s]"
      ]
     },
     "metadata": {},
     "output_type": "display_data"
    }
   ],
   "source": [
    "new_dims = [10, 50, 100, 150, 200, None]\n",
    "\n",
    "results = pd.DataFrame(index=exps, columns=new_dims)\n",
    "\n",
    "for new_dim in tqdm(new_dims):\n",
    "    model = RFFPipeline(new_dim=new_dim, classifier='logreg',\n",
    "                        seed=seed, **logreg_kw)\n",
    "    model.fit(x_train, y_train)\n",
    "    pred_time = -time()\n",
    "    test_acc = (model.predict(x_test) == y_test).mean()\n",
    "    pred_time += time()\n",
    "    results[new_dim] = [\n",
    "        test_acc,\n",
    "        (model.predict(x_train) == y_train).mean(),\n",
    "        model.time_fit_full,\n",
    "        model.time_fit_clf,\n",
    "        pred_time\n",
    "    ]"
   ]
  },
  {
   "cell_type": "markdown",
   "metadata": {
    "papermill": {
     "duration": 0.04451,
     "end_time": "2021-03-20T18:26:48.299633",
     "exception": false,
     "start_time": "2021-03-20T18:26:48.255123",
     "status": "completed"
    },
    "tags": []
   },
   "source": [
    "<font color=blue>В отсутствие PCA мы попробуем строить RFF как над сырыми, так и нормализованными данными.</font>"
   ]
  },
  {
   "cell_type": "code",
   "execution_count": 18,
   "metadata": {
    "execution": {
     "iopub.execute_input": "2021-03-20T18:26:48.394627Z",
     "iopub.status.busy": "2021-03-20T18:26:48.393965Z",
     "iopub.status.idle": "2021-03-20T18:28:08.504670Z",
     "shell.execute_reply": "2021-03-20T18:28:08.504185Z"
    },
    "papermill": {
     "duration": 80.161011,
     "end_time": "2021-03-20T18:28:08.504816",
     "exception": false,
     "start_time": "2021-03-20T18:26:48.343805",
     "status": "completed"
    },
    "tags": []
   },
   "outputs": [],
   "source": [
    "model = RFFPipeline(new_dim=None, normalize=True, classifier='logreg',\n",
    "                    seed=seed, **logreg_kw)\n",
    "model.fit(x_train, y_train)\n",
    "pred_time = -time()\n",
    "test_acc = (model.predict(x_test) == y_test).mean()\n",
    "pred_time += time()\n",
    "results['normalized'] = [\n",
    "    test_acc,\n",
    "    (model.predict(x_train) == y_train).mean(),\n",
    "    model.time_fit_full,\n",
    "    model.time_fit_clf,\n",
    "    pred_time\n",
    "]"
   ]
  },
  {
   "cell_type": "code",
   "execution_count": 19,
   "metadata": {
    "execution": {
     "iopub.execute_input": "2021-03-20T18:28:08.618342Z",
     "iopub.status.busy": "2021-03-20T18:28:08.614533Z",
     "iopub.status.idle": "2021-03-20T18:28:08.683621Z",
     "shell.execute_reply": "2021-03-20T18:28:08.683062Z"
    },
    "papermill": {
     "duration": 0.134499,
     "end_time": "2021-03-20T18:28:08.683750",
     "exception": false,
     "start_time": "2021-03-20T18:28:08.549251",
     "status": "completed"
    },
    "tags": []
   },
   "outputs": [
    {
     "data": {
      "text/html": [
       "<style  type=\"text/css\" >\n",
       "#T_4904c_row0_col0,#T_4904c_row1_col0{\n",
       "            background-color:  #009900;\n",
       "            color:  #000000;\n",
       "        }#T_4904c_row0_col1,#T_4904c_row0_col5,#T_4904c_row0_col6,#T_4904c_row1_col5,#T_4904c_row1_col6{\n",
       "            background-color:  #00ff00;\n",
       "            color:  #000000;\n",
       "        }#T_4904c_row0_col2{\n",
       "            background-color:  #00f500;\n",
       "            color:  #000000;\n",
       "        }#T_4904c_row0_col3{\n",
       "            background-color:  #00e500;\n",
       "            color:  #000000;\n",
       "        }#T_4904c_row0_col4{\n",
       "            background-color:  #00d500;\n",
       "            color:  #000000;\n",
       "        }#T_4904c_row1_col1,#T_4904c_row1_col2{\n",
       "            background-color:  #00fb00;\n",
       "            color:  #000000;\n",
       "        }#T_4904c_row1_col3{\n",
       "            background-color:  #00f600;\n",
       "            color:  #000000;\n",
       "        }#T_4904c_row1_col4{\n",
       "            background-color:  #00ec00;\n",
       "            color:  #000000;\n",
       "        }#T_4904c_row2_col0{\n",
       "            background-color:  #00f5f5;\n",
       "            color:  #000000;\n",
       "        }#T_4904c_row2_col1{\n",
       "            background-color:  #00d3d3;\n",
       "            color:  #000000;\n",
       "        }#T_4904c_row2_col2,#T_4904c_row4_col4{\n",
       "            background-color:  #00d1d1;\n",
       "            color:  #000000;\n",
       "        }#T_4904c_row2_col3{\n",
       "            background-color:  #00b5b5;\n",
       "            color:  #000000;\n",
       "        }#T_4904c_row2_col4,#T_4904c_row3_col0,#T_4904c_row4_col5{\n",
       "            background-color:  #009999;\n",
       "            color:  #000000;\n",
       "        }#T_4904c_row2_col5,#T_4904c_row2_col6,#T_4904c_row3_col3,#T_4904c_row4_col0{\n",
       "            background-color:  #00ffff;\n",
       "            color:  #000000;\n",
       "        }#T_4904c_row3_col1{\n",
       "            background-color:  #00cece;\n",
       "            color:  #000000;\n",
       "        }#T_4904c_row3_col2{\n",
       "            background-color:  #00fdfd;\n",
       "            color:  #000000;\n",
       "        }#T_4904c_row3_col4{\n",
       "            background-color:  #00bcbc;\n",
       "            color:  #000000;\n",
       "        }#T_4904c_row3_col5{\n",
       "            background-color:  #009e9e;\n",
       "            color:  #000000;\n",
       "        }#T_4904c_row3_col6{\n",
       "            background-color:  #00a0a0;\n",
       "            color:  #000000;\n",
       "        }#T_4904c_row4_col1{\n",
       "            background-color:  #00f7f7;\n",
       "            color:  #000000;\n",
       "        }#T_4904c_row4_col2{\n",
       "            background-color:  #00ebeb;\n",
       "            color:  #000000;\n",
       "        }#T_4904c_row4_col3{\n",
       "            background-color:  #00dcdc;\n",
       "            color:  #000000;\n",
       "        }#T_4904c_row4_col6{\n",
       "            background-color:  #009b9b;\n",
       "            color:  #000000;\n",
       "        }</style><table id=\"T_4904c_\" ><thead>    <tr>        <th class=\"blank level0\" ></th>        <th class=\"col_heading level0 col0\" colspan=\"5\">n_features</th>        <th class=\"col_heading level0 col5\" colspan=\"2\">[no PCA] preprocessing</th>    </tr>    <tr>        <th class=\"blank level1\" ></th>        <th class=\"col_heading level1 col0\" >10</th>        <th class=\"col_heading level1 col1\" >50</th>        <th class=\"col_heading level1 col2\" >100</th>        <th class=\"col_heading level1 col3\" >150</th>        <th class=\"col_heading level1 col4\" >200</th>        <th class=\"col_heading level1 col5\" >nothing</th>        <th class=\"col_heading level1 col6\" >normalized</th>    </tr></thead><tbody>\n",
       "                <tr>\n",
       "                        <th id=\"T_4904c_level0_row0\" class=\"row_heading level0 row0\" >test accuracy</th>\n",
       "                        <td id=\"T_4904c_row0_col0\" class=\"data row0 col0\" >0.8178</td>\n",
       "                        <td id=\"T_4904c_row0_col1\" class=\"data row0 col1\" >0.8688</td>\n",
       "                        <td id=\"T_4904c_row0_col2\" class=\"data row0 col2\" >0.8637</td>\n",
       "                        <td id=\"T_4904c_row0_col3\" class=\"data row0 col3\" >0.8556</td>\n",
       "                        <td id=\"T_4904c_row0_col4\" class=\"data row0 col4\" >0.8476</td>\n",
       "                        <td id=\"T_4904c_row0_col5\" class=\"data row0 col5\" >0.8689</td>\n",
       "                        <td id=\"T_4904c_row0_col6\" class=\"data row0 col6\" >0.8686</td>\n",
       "            </tr>\n",
       "            <tr>\n",
       "                        <th id=\"T_4904c_level0_row1\" class=\"row_heading level0 row1\" >train accuracy</th>\n",
       "                        <td id=\"T_4904c_row1_col0\" class=\"data row1 col0\" >0.8305</td>\n",
       "                        <td id=\"T_4904c_row1_col1\" class=\"data row1 col1\" >0.8998</td>\n",
       "                        <td id=\"T_4904c_row1_col2\" class=\"data row1 col2\" >0.8995</td>\n",
       "                        <td id=\"T_4904c_row1_col3\" class=\"data row1 col3\" >0.8963</td>\n",
       "                        <td id=\"T_4904c_row1_col4\" class=\"data row1 col4\" >0.8895</td>\n",
       "                        <td id=\"T_4904c_row1_col5\" class=\"data row1 col5\" >0.9029</td>\n",
       "                        <td id=\"T_4904c_row1_col6\" class=\"data row1 col6\" >0.9027</td>\n",
       "            </tr>\n",
       "            <tr>\n",
       "                        <th id=\"T_4904c_level0_row2\" class=\"row_heading level0 row2\" >fit time (full), s</th>\n",
       "                        <td id=\"T_4904c_row2_col0\" class=\"data row2 col0\" >73.8871</td>\n",
       "                        <td id=\"T_4904c_row2_col1\" class=\"data row2 col1\" >147.5060</td>\n",
       "                        <td id=\"T_4904c_row2_col2\" class=\"data row2 col2\" >153.9485</td>\n",
       "                        <td id=\"T_4904c_row2_col3\" class=\"data row2 col3\" >213.5737</td>\n",
       "                        <td id=\"T_4904c_row2_col4\" class=\"data row2 col4\" >274.9880</td>\n",
       "                        <td id=\"T_4904c_row2_col5\" class=\"data row2 col5\" >52.8793</td>\n",
       "                        <td id=\"T_4904c_row2_col6\" class=\"data row2 col6\" >53.7614</td>\n",
       "            </tr>\n",
       "            <tr>\n",
       "                        <th id=\"T_4904c_level0_row3\" class=\"row_heading level0 row3\" >fit time (clf), s</th>\n",
       "                        <td id=\"T_4904c_row3_col0\" class=\"data row3 col0\" >30.4864</td>\n",
       "                        <td id=\"T_4904c_row3_col1\" class=\"data row3 col1\" >26.8222</td>\n",
       "                        <td id=\"T_4904c_row3_col2\" class=\"data row3 col2\" >23.5686</td>\n",
       "                        <td id=\"T_4904c_row3_col3\" class=\"data row3 col3\" >23.4558</td>\n",
       "                        <td id=\"T_4904c_row3_col4\" class=\"data row3 col4\" >28.0929</td>\n",
       "                        <td id=\"T_4904c_row3_col5\" class=\"data row3 col5\" >30.1423</td>\n",
       "                        <td id=\"T_4904c_row3_col6\" class=\"data row3 col6\" >29.9876</td>\n",
       "            </tr>\n",
       "            <tr>\n",
       "                        <th id=\"T_4904c_level0_row4\" class=\"row_heading level0 row4\" >predict time, s</th>\n",
       "                        <td id=\"T_4904c_row4_col0\" class=\"data row4 col0\" >0.6223</td>\n",
       "                        <td id=\"T_4904c_row4_col1\" class=\"data row4 col1\" >0.8981</td>\n",
       "                        <td id=\"T_4904c_row4_col2\" class=\"data row4 col2\" >1.2494</td>\n",
       "                        <td id=\"T_4904c_row4_col3\" class=\"data row4 col3\" >1.7224</td>\n",
       "                        <td id=\"T_4904c_row4_col4\" class=\"data row4 col4\" >2.0640</td>\n",
       "                        <td id=\"T_4904c_row4_col5\" class=\"data row4 col5\" >3.8423</td>\n",
       "                        <td id=\"T_4904c_row4_col6\" class=\"data row4 col6\" >3.7549</td>\n",
       "            </tr>\n",
       "    </tbody></table>"
      ],
      "text/plain": [
       "<pandas.io.formats.style.Styler at 0x7f5de6537510>"
      ]
     },
     "execution_count": 19,
     "metadata": {},
     "output_type": "execute_result"
    }
   ],
   "source": [
    "import itertools\n",
    "def cart_prod(*args):\n",
    "    return list(itertools.product(*args))\n",
    "\n",
    "results.columns = results.columns.fillna('nothing')\n",
    "\n",
    "results.columns = pd.MultiIndex.from_tuples(\n",
    "    cart_prod(['n_features'], results.columns[:5]) +\n",
    "    cart_prod(['[no PCA] preprocessing'], results.columns[5:])\n",
    ")\n",
    "\n",
    "acc_subset = (results.index[:2], results.columns)\n",
    "time_subset = (results.index[2:], results.columns)\n",
    "\n",
    "results.style.background_gradient(cmap=cmap_to_lime,\n",
    "                                  axis=1, subset=acc_subset) \\\n",
    "             .background_gradient(cmap=cmap_to_cyan.reversed(),\n",
    "                                  axis=1, subset=time_subset)\\\n",
    "             .format(\"{:.4f}\")"
   ]
  },
  {
   "cell_type": "markdown",
   "metadata": {
    "papermill": {
     "duration": 0.04415,
     "end_time": "2021-03-20T18:28:08.773682",
     "exception": false,
     "start_time": "2021-03-20T18:28:08.729532",
     "status": "completed"
    },
    "tags": []
   },
   "source": [
    "<font color=blue>Результаты получились достаточно интересные. Во-первых, без PCA алгоритм работает лучше на ненормализованных данных. Это может быть связано с тем, что они уже в одной шкале. Во-вторых, при варьировании числа компонент наблюдается локальный оптимум: качество на тесте при `n_features=50` очень близко к качеству без предобработки (в данном эксперимент незначительно ниже). Что касается времени, то при PCA много времени уходит именно на поиск разложения, зато обучение классификатора и предсказания достаточно быстрые. Без предобработки уходит много времени на генерацию RFF и его применение из-за большей размерности.</font>\n",
    "\n",
    "<font color=blue>Таким образом, предварительное снижение размерности помогает, если мы хотим быстрее работать с RFF, качество (при разумном числе компонент) получается таким же приемлемым. Но PCA мешает, если мы дорожим полным временем обучения, поскольку PCA дорог сам по себе.</font>"
   ]
  },
  {
   "cell_type": "markdown",
   "metadata": {
    "papermill": {
     "duration": 0.044163,
     "end_time": "2021-03-20T18:28:08.862297",
     "exception": false,
     "start_time": "2021-03-20T18:28:08.818134",
     "status": "completed"
    },
    "tags": []
   },
   "source": [
    "### <font color=blue>2. Как зависит итоговое качество от n_features? Выходит ли оно на плато при росте n_features?</font>"
   ]
  },
  {
   "cell_type": "markdown",
   "metadata": {
    "papermill": {
     "duration": 0.092737,
     "end_time": "2021-03-20T18:28:08.999631",
     "exception": false,
     "start_time": "2021-03-20T18:28:08.906894",
     "status": "completed"
    },
    "tags": []
   },
   "source": [
    "<font color=blue>Заметим, что для ускорения данного эксперимента можно понизить размерность один раз, а потом просто варьировать `n_features`. Далее оставим именно такую выборку.</font>"
   ]
  },
  {
   "cell_type": "code",
   "execution_count": 20,
   "metadata": {
    "execution": {
     "iopub.execute_input": "2021-03-20T18:28:09.096304Z",
     "iopub.status.busy": "2021-03-20T18:28:09.095663Z",
     "iopub.status.idle": "2021-03-20T18:30:04.678580Z",
     "shell.execute_reply": "2021-03-20T18:30:04.679051Z"
    },
    "papermill": {
     "duration": 115.633074,
     "end_time": "2021-03-20T18:30:04.679224",
     "exception": false,
     "start_time": "2021-03-20T18:28:09.046150",
     "status": "completed"
    },
    "tags": []
   },
   "outputs": [
    {
     "name": "stdout",
     "output_type": "stream",
     "text": [
      "CPU times: user 1min 57s, sys: 4.92 s, total: 2min 2s\n",
      "Wall time: 1min 55s\n"
     ]
    }
   ],
   "source": [
    "%%time\n",
    "pca = PCA(n_components=50, whiten=True, random_state=seed)\n",
    "x_train_pca = pca.fit_transform(x_train)\n",
    "x_test_pca = pca.transform(x_test)"
   ]
  },
  {
   "cell_type": "code",
   "execution_count": 21,
   "metadata": {
    "execution": {
     "iopub.execute_input": "2021-03-20T18:30:04.796416Z",
     "iopub.status.busy": "2021-03-20T18:30:04.795782Z",
     "iopub.status.idle": "2021-03-20T19:16:03.247531Z",
     "shell.execute_reply": "2021-03-20T19:16:03.246001Z"
    },
    "papermill": {
     "duration": 2758.523147,
     "end_time": "2021-03-20T19:16:03.247698",
     "exception": false,
     "start_time": "2021-03-20T18:30:04.724551",
     "status": "completed"
    },
    "tags": []
   },
   "outputs": [
    {
     "data": {
      "application/vnd.jupyter.widget-view+json": {
       "model_id": "a5f02d94e2e54be7afa6b34dc894ef31",
       "version_major": 2,
       "version_minor": 0
      },
      "text/plain": [
       "  0%|          | 0/30 [00:00<?, ?it/s]"
      ]
     },
     "metadata": {},
     "output_type": "display_data"
    }
   ],
   "source": [
    "# 150, 300, ..., 4500\n",
    "n_features_vals = (np.arange(30) + 1) * 150\n",
    "\n",
    "test_accs, train_accs = [], []\n",
    "clf_fit_times, full_fit_times = [], []\n",
    "\n",
    "for n_features in tqdm(n_features_vals):\n",
    "    model = RFFPipeline(new_dim=None, classifier='logreg',\n",
    "                        n_features=n_features,\n",
    "                        seed=seed, **logreg_kw)\n",
    "    model.fit(x_train_pca, y_train)\n",
    "    test_accs += [(model.predict(x_test_pca) == y_test).mean()]\n",
    "    train_accs += [(model.predict(x_train_pca) == y_train).mean()]\n",
    "    full_fit_times += [model.time_fit_full]\n",
    "    clf_fit_times += [model.time_fit_clf]"
   ]
  },
  {
   "cell_type": "markdown",
   "metadata": {
    "papermill": {
     "duration": 0.045944,
     "end_time": "2021-03-20T19:16:03.340358",
     "exception": false,
     "start_time": "2021-03-20T19:16:03.294414",
     "status": "completed"
    },
    "tags": []
   },
   "source": [
    "<font color=blue>Сначала рассмотрим время работы (помним, что PCA мы сделали предварительно):</font>"
   ]
  },
  {
   "cell_type": "code",
   "execution_count": 22,
   "metadata": {
    "execution": {
     "iopub.execute_input": "2021-03-20T19:16:03.436777Z",
     "iopub.status.busy": "2021-03-20T19:16:03.435947Z",
     "iopub.status.idle": "2021-03-20T19:16:03.762901Z",
     "shell.execute_reply": "2021-03-20T19:16:03.762402Z"
    },
    "papermill": {
     "duration": 0.375887,
     "end_time": "2021-03-20T19:16:03.763064",
     "exception": false,
     "start_time": "2021-03-20T19:16:03.387177",
     "status": "completed"
    },
    "tags": []
   },
   "outputs": [
    {
     "data": {
      "image/png": "[encoded data removed]",
      "text/plain": [
       "<Figure size 864x432 with 1 Axes>"
      ]
     },
     "metadata": {
      "needs_background": "light"
     },
     "output_type": "display_data"
    }
   ],
   "source": [
    "plt.figure(figsize=(12, 6))\n",
    "plt.title('Impact of `n_features` on RFF method (time)')\n",
    "plt.plot(n_features_vals, clf_fit_times, label='classifier fitting')\n",
    "plt.plot(n_features_vals, full_fit_times, label='RFF + flassifier fitting')\n",
    "plt.legend()\n",
    "plt.xlabel('n_features')\n",
    "_ = plt.ylabel('time, s')"
   ]
  },
  {
   "cell_type": "markdown",
   "metadata": {
    "papermill": {
     "duration": 0.046584,
     "end_time": "2021-03-20T19:16:03.857348",
     "exception": false,
     "start_time": "2021-03-20T19:16:03.810764",
     "status": "completed"
    },
    "tags": []
   },
   "source": [
    "<font color=blue>Время ожидаемо растет.</font>\n",
    "\n",
    "<font color=blue>Теперь рассмотрим, что происходит с качеством на трейне и тесте:</font>"
   ]
  },
  {
   "cell_type": "code",
   "execution_count": 23,
   "metadata": {
    "execution": {
     "iopub.execute_input": "2021-03-20T19:16:03.965176Z",
     "iopub.status.busy": "2021-03-20T19:16:03.956129Z",
     "iopub.status.idle": "2021-03-20T19:16:04.130387Z",
     "shell.execute_reply": "2021-03-20T19:16:04.130818Z"
    },
    "papermill": {
     "duration": 0.226597,
     "end_time": "2021-03-20T19:16:04.130974",
     "exception": false,
     "start_time": "2021-03-20T19:16:03.904377",
     "status": "completed"
    },
    "tags": []
   },
   "outputs": [
    {
     "data": {
      "image/png": "[encoded data removed]",
      "text/plain": [
       "<Figure size 864x432 with 1 Axes>"
      ]
     },
     "metadata": {
      "needs_background": "light"
     },
     "output_type": "display_data"
    }
   ],
   "source": [
    "plt.figure(figsize=(12, 6))\n",
    "plt.title('Impact of `n_features` on RFF method (accuracy)')\n",
    "plt.plot(n_features_vals, test_accs, label='test')\n",
    "plt.plot(n_features_vals, train_accs, label='train')\n",
    "plt.legend()\n",
    "plt.ylim((None, 1))\n",
    "plt.xlabel('n_features')\n",
    "_ = plt.ylabel('accuracy')"
   ]
  },
  {
   "cell_type": "markdown",
   "metadata": {
    "papermill": {
     "duration": 0.047891,
     "end_time": "2021-03-20T19:16:04.227407",
     "exception": false,
     "start_time": "2021-03-20T19:16:04.179516",
     "status": "completed"
    },
    "tags": []
   },
   "source": [
    "<font color=blue>Можно заметить, что качество постепенно увеличивается с ростом `n_features`, а затем выходит на асимптоту, если не учитывать разброс, связанный с генерацией случайных признаков. Время же растет, не считая выбросов, линейно.</font>"
   ]
  },
  {
   "cell_type": "markdown",
   "metadata": {
    "papermill": {
     "duration": 0.047831,
     "end_time": "2021-03-20T19:16:04.323076",
     "exception": false,
     "start_time": "2021-03-20T19:16:04.275245",
     "status": "completed"
    },
    "tags": []
   },
   "source": [
    "### <font color=blue> 3. Важно ли, какую модель обучать — логистическую регрессию или SVM?</font>"
   ]
  },
  {
   "cell_type": "markdown",
   "metadata": {
    "papermill": {
     "duration": 0.047794,
     "end_time": "2021-03-20T19:16:04.418951",
     "exception": false,
     "start_time": "2021-03-20T19:16:04.371157",
     "status": "completed"
    },
    "tags": []
   },
   "source": [
    "<font color=blue>У нас уже был проведен эксперимент в предыдущем задании, в котором мы увидели, что логистическая регрессия может работать быстрее и качественнее над признаками RFF, при том, что у логистической регрессии был слабее критерий останова. Попробуем обогнать логистическую регрессию, варьируя параметр регуляризации у SVM.</font>"
   ]
  },
  {
   "cell_type": "code",
   "execution_count": 24,
   "metadata": {
    "execution": {
     "iopub.execute_input": "2021-03-20T19:16:04.521858Z",
     "iopub.status.busy": "2021-03-20T19:16:04.520952Z",
     "iopub.status.idle": "2021-03-20T19:16:39.096816Z",
     "shell.execute_reply": "2021-03-20T19:16:39.096284Z"
    },
    "papermill": {
     "duration": 34.630258,
     "end_time": "2021-03-20T19:16:39.096975",
     "exception": false,
     "start_time": "2021-03-20T19:16:04.466717",
     "status": "completed"
    },
    "tags": []
   },
   "outputs": [],
   "source": [
    "results = pd.DataFrame(index=exps)\n",
    "model = RFFPipeline(new_dim=None, normalize=True, classifier='logreg',\n",
    "                    seed=seed, **logreg_kw)\n",
    "model.fit(x_train_pca, y_train)\n",
    "pred_time = -time()\n",
    "test_acc = (model.predict(x_test_pca) == y_test).mean()\n",
    "pred_time += time()\n",
    "\n",
    "results['LogReg'] = [\n",
    "    test_acc,\n",
    "    (model.predict(x_train_pca) == y_train).mean(),\n",
    "    model.time_fit_full,\n",
    "    model.time_fit_clf,\n",
    "    pred_time\n",
    "]"
   ]
  },
  {
   "cell_type": "code",
   "execution_count": 25,
   "metadata": {
    "execution": {
     "iopub.execute_input": "2021-03-20T19:16:39.222925Z",
     "iopub.status.busy": "2021-03-20T19:16:39.222175Z",
     "iopub.status.idle": "2021-03-20T19:28:39.732000Z",
     "shell.execute_reply": "2021-03-20T19:28:39.730380Z"
    },
    "papermill": {
     "duration": 720.585051,
     "end_time": "2021-03-20T19:28:39.732286",
     "exception": false,
     "start_time": "2021-03-20T19:16:39.147235",
     "status": "completed"
    },
    "tags": []
   },
   "outputs": [
    {
     "data": {
      "application/vnd.jupyter.widget-view+json": {
       "model_id": "ad3d477e229843439934b29304495834",
       "version_major": 2,
       "version_minor": 0
      },
      "text/plain": [
       "  0%|          | 0/5 [00:00<?, ?it/s]"
      ]
     },
     "metadata": {},
     "output_type": "display_data"
    }
   ],
   "source": [
    "Cs = np.logspace(-4, 0, 5)\n",
    "\n",
    "for C in tqdm(Cs):\n",
    "    model = RFFPipeline(new_dim=new_dim, classifier='svm',\n",
    "                        dual=False, C=C, seed=seed)\n",
    "    model.fit(x_train_pca, y_train)\n",
    "    pred_time = -time()\n",
    "    test_acc = (model.predict(x_test_pca) == y_test).mean()\n",
    "    pred_time += time()\n",
    "    results[f'SVM, C={C}'] = [\n",
    "        test_acc,\n",
    "        (model.predict(x_train_pca) == y_train).mean(),\n",
    "        model.time_fit_full,\n",
    "        model.time_fit_clf,\n",
    "        pred_time\n",
    "    ]"
   ]
  },
  {
   "cell_type": "code",
   "execution_count": 26,
   "metadata": {
    "execution": {
     "iopub.execute_input": "2021-03-20T19:28:39.834154Z",
     "iopub.status.busy": "2021-03-20T19:28:39.833294Z",
     "iopub.status.idle": "2021-03-20T19:28:39.866529Z",
     "shell.execute_reply": "2021-03-20T19:28:39.867013Z"
    },
    "papermill": {
     "duration": 0.085487,
     "end_time": "2021-03-20T19:28:39.867181",
     "exception": false,
     "start_time": "2021-03-20T19:28:39.781694",
     "status": "completed"
    },
    "tags": []
   },
   "outputs": [
    {
     "data": {
      "text/html": [
       "<style  type=\"text/css\" >\n",
       "#T_5dabb_row0_col0,#T_5dabb_row1_col5{\n",
       "            background-color:  #00ff00;\n",
       "            color:  #000000;\n",
       "        }#T_5dabb_row0_col1,#T_5dabb_row1_col1{\n",
       "            background-color:  #009900;\n",
       "            color:  #000000;\n",
       "        }#T_5dabb_row0_col2{\n",
       "            background-color:  #00de00;\n",
       "            color:  #000000;\n",
       "        }#T_5dabb_row0_col3{\n",
       "            background-color:  #00fd00;\n",
       "            color:  #000000;\n",
       "        }#T_5dabb_row0_col4{\n",
       "            background-color:  #00f800;\n",
       "            color:  #000000;\n",
       "        }#T_5dabb_row0_col5{\n",
       "            background-color:  #00f200;\n",
       "            color:  #000000;\n",
       "        }#T_5dabb_row1_col0{\n",
       "            background-color:  #00ee00;\n",
       "            color:  #000000;\n",
       "        }#T_5dabb_row1_col2{\n",
       "            background-color:  #00c900;\n",
       "            color:  #000000;\n",
       "        }#T_5dabb_row1_col3{\n",
       "            background-color:  #00e900;\n",
       "            color:  #000000;\n",
       "        }#T_5dabb_row1_col4{\n",
       "            background-color:  #00f900;\n",
       "            color:  #000000;\n",
       "        }#T_5dabb_row2_col0,#T_5dabb_row3_col0,#T_5dabb_row4_col1{\n",
       "            background-color:  #00ffff;\n",
       "            color:  #000000;\n",
       "        }#T_5dabb_row2_col1,#T_5dabb_row3_col1{\n",
       "            background-color:  #00eeee;\n",
       "            color:  #000000;\n",
       "        }#T_5dabb_row2_col2,#T_5dabb_row3_col2{\n",
       "            background-color:  #00e2e2;\n",
       "            color:  #000000;\n",
       "        }#T_5dabb_row2_col3,#T_5dabb_row3_col3{\n",
       "            background-color:  #00d4d4;\n",
       "            color:  #000000;\n",
       "        }#T_5dabb_row2_col4,#T_5dabb_row3_col4{\n",
       "            background-color:  #00baba;\n",
       "            color:  #000000;\n",
       "        }#T_5dabb_row2_col5,#T_5dabb_row3_col5,#T_5dabb_row4_col2{\n",
       "            background-color:  #009999;\n",
       "            color:  #000000;\n",
       "        }#T_5dabb_row4_col0{\n",
       "            background-color:  #00acac;\n",
       "            color:  #000000;\n",
       "        }#T_5dabb_row4_col3,#T_5dabb_row4_col5{\n",
       "            background-color:  #00eded;\n",
       "            color:  #000000;\n",
       "        }#T_5dabb_row4_col4{\n",
       "            background-color:  #00f2f2;\n",
       "            color:  #000000;\n",
       "        }</style><table id=\"T_5dabb_\" ><thead>    <tr>        <th class=\"blank level0\" ></th>        <th class=\"col_heading level0 col0\" >LogReg</th>        <th class=\"col_heading level0 col1\" >SVM, C=0.0001</th>        <th class=\"col_heading level0 col2\" >SVM, C=0.001</th>        <th class=\"col_heading level0 col3\" >SVM, C=0.01</th>        <th class=\"col_heading level0 col4\" >SVM, C=0.1</th>        <th class=\"col_heading level0 col5\" >SVM, C=1.0</th>    </tr></thead><tbody>\n",
       "                <tr>\n",
       "                        <th id=\"T_5dabb_level0_row0\" class=\"row_heading level0 row0\" >test accuracy</th>\n",
       "                        <td id=\"T_5dabb_row0_col0\" class=\"data row0 col0\" >0.8688</td>\n",
       "                        <td id=\"T_5dabb_row0_col1\" class=\"data row0 col1\" >0.8361</td>\n",
       "                        <td id=\"T_5dabb_row0_col2\" class=\"data row0 col2\" >0.8581</td>\n",
       "                        <td id=\"T_5dabb_row0_col3\" class=\"data row0 col3\" >0.8680</td>\n",
       "                        <td id=\"T_5dabb_row0_col4\" class=\"data row0 col4\" >0.8666</td>\n",
       "                        <td id=\"T_5dabb_row0_col5\" class=\"data row0 col5\" >0.8645</td>\n",
       "            </tr>\n",
       "            <tr>\n",
       "                        <th id=\"T_5dabb_level0_row1\" class=\"row_heading level0 row1\" >train accuracy</th>\n",
       "                        <td id=\"T_5dabb_row1_col0\" class=\"data row1 col0\" >0.8997</td>\n",
       "                        <td id=\"T_5dabb_row1_col1\" class=\"data row1 col1\" >0.8491</td>\n",
       "                        <td id=\"T_5dabb_row1_col2\" class=\"data row1 col2\" >0.8780</td>\n",
       "                        <td id=\"T_5dabb_row1_col3\" class=\"data row1 col3\" >0.8966</td>\n",
       "                        <td id=\"T_5dabb_row1_col4\" class=\"data row1 col4\" >0.9061</td>\n",
       "                        <td id=\"T_5dabb_row1_col5\" class=\"data row1 col5\" >0.9101</td>\n",
       "            </tr>\n",
       "            <tr>\n",
       "                        <th id=\"T_5dabb_level0_row2\" class=\"row_heading level0 row2\" >fit time (full), s</th>\n",
       "                        <td id=\"T_5dabb_row2_col0\" class=\"data row2 col0\" >29.8096</td>\n",
       "                        <td id=\"T_5dabb_row2_col1\" class=\"data row2 col1\" >65.6005</td>\n",
       "                        <td id=\"T_5dabb_row2_col2\" class=\"data row2 col2\" >90.9396</td>\n",
       "                        <td id=\"T_5dabb_row2_col3\" class=\"data row2 col3\" >121.4134</td>\n",
       "                        <td id=\"T_5dabb_row2_col4\" class=\"data row2 col4\" >175.1773</td>\n",
       "                        <td id=\"T_5dabb_row2_col5\" class=\"data row2 col5\" >245.9917</td>\n",
       "            </tr>\n",
       "            <tr>\n",
       "                        <th id=\"T_5dabb_level0_row3\" class=\"row_heading level0 row3\" >fit time (clf), s</th>\n",
       "                        <td id=\"T_5dabb_row3_col0\" class=\"data row3 col0\" >26.5232</td>\n",
       "                        <td id=\"T_5dabb_row3_col1\" class=\"data row3 col1\" >62.3739</td>\n",
       "                        <td id=\"T_5dabb_row3_col2\" class=\"data row3 col2\" >87.6474</td>\n",
       "                        <td id=\"T_5dabb_row3_col3\" class=\"data row3 col3\" >118.1226</td>\n",
       "                        <td id=\"T_5dabb_row3_col4\" class=\"data row3 col4\" >171.8807</td>\n",
       "                        <td id=\"T_5dabb_row3_col5\" class=\"data row3 col5\" >242.7219</td>\n",
       "            </tr>\n",
       "            <tr>\n",
       "                        <th id=\"T_5dabb_level0_row4\" class=\"row_heading level0 row4\" >predict time, s</th>\n",
       "                        <td id=\"T_5dabb_row4_col0\" class=\"data row4 col0\" >0.6777</td>\n",
       "                        <td id=\"T_5dabb_row4_col1\" class=\"data row4 col1\" >0.5861</td>\n",
       "                        <td id=\"T_5dabb_row4_col2\" class=\"data row4 col2\" >0.6990</td>\n",
       "                        <td id=\"T_5dabb_row4_col3\" class=\"data row4 col3\" >0.6059</td>\n",
       "                        <td id=\"T_5dabb_row4_col4\" class=\"data row4 col4\" >0.6009</td>\n",
       "                        <td id=\"T_5dabb_row4_col5\" class=\"data row4 col5\" >0.6064</td>\n",
       "            </tr>\n",
       "    </tbody></table>"
      ],
      "text/plain": [
       "<pandas.io.formats.style.Styler at 0x7f5de62d6d10>"
      ]
     },
     "execution_count": 26,
     "metadata": {},
     "output_type": "execute_result"
    }
   ],
   "source": [
    "acc_subset = (results.index[:2], results.columns)\n",
    "time_subset = (results.index[2:], results.columns)\n",
    "\n",
    "results.style.background_gradient(cmap=cmap_to_lime,\n",
    "                                  axis=1, subset=acc_subset) \\\n",
    "             .background_gradient(cmap=cmap_to_cyan.reversed(),\n",
    "                                  axis=1, subset=time_subset)\\\n",
    "             .format(\"{:.4f}\")"
   ]
  },
  {
   "cell_type": "markdown",
   "metadata": {},
   "source": [
    "<font color=blue>Как видим, с нужным параметром регуляризации (0.001) модель с SVM может работать тоже неплохо. Но тем не менее логрегрессию она не догнала в итоге по нашим измерениям, кроме разве что времени предсказаний. Таким образом, имеет значение сама линейная модель — то есть правильный подбор параметров и т.д. В нашем случае пока лучше логистическая регрессия.</font>"
   ]
  },
  {
   "cell_type": "markdown",
   "metadata": {
    "id": "CJqXVuasK-hW",
    "papermill": {
     "duration": 0.049911,
     "end_time": "2021-03-20T19:28:39.966594",
     "exception": false,
     "start_time": "2021-03-20T19:28:39.916683",
     "status": "completed"
    },
    "tags": []
   },
   "source": [
    "### Бонус"
   ]
  },
  {
   "cell_type": "markdown",
   "metadata": {
    "id": "QVDWHCdrK-hX",
    "papermill": {
     "duration": 0.070597,
     "end_time": "2021-03-20T19:28:40.092481",
     "exception": false,
     "start_time": "2021-03-20T19:28:40.021884",
     "status": "completed"
    },
    "tags": []
   },
   "source": [
    "__Задание 4. (Максимум 2 балла)__\n",
    "\n",
    "Многие алгоритмы машинного обучения работают лучше, если признаки данных некоррелированы. Оказывается, что для RFF существует модификация, позволяющая получать ортогональные случайные признаки (Orthogonal Random Features, ORF). Об этом методе можно прочитать в [статье](https://proceedings.neurips.cc/paper/2016/file/53adaf494dc89ef7196d73636eb2451b-Paper.pdf). Реализуйте класс для вычисления ORF по аналогии с основным заданием. Обратите внимание, что ваш класс должен уметь работать со случаем n_features > new_dim (в статье есть замечание на этот счет). Проведите эксперименты, сравнивающие RFF и ORF, сделайте выводы.\n",
    "\n",
    "**Замечание:**\n",
    "* Сравнения делайте как по времени, так и по качеству.\n",
    "* Можно сравнивать качество двух методов на разном числе признаков, в таком случае очень полезным будет график зависимости качества от числа признаков"
   ]
  },
  {
   "cell_type": "markdown",
   "metadata": {
    "id": "4pc7-1jmK-hY",
    "papermill": {
     "duration": 0.049919,
     "end_time": "2021-03-20T19:28:40.198870",
     "exception": false,
     "start_time": "2021-03-20T19:28:40.148951",
     "status": "completed"
    },
    "tags": []
   },
   "source": [
    "__Задание 5. (Максимум 2 балла)__\n",
    "\n",
    "Поэкспериментируйте с функциями для вычисления новых случайных признаков. Не обязательно использовать косинус от скалярного произведения — можно брать знак от него, хэш и т.д. Придумайте побольше вариантов для генерации признаков и проверьте, не получается ли с их помощью добиваться более высокого качества. Также можете попробовать другой классификатор поверх случайных признаков, сравните результаты."
   ]
  },
  {
   "cell_type": "markdown",
   "metadata": {
    "papermill": {
     "duration": 0.049674,
     "end_time": "2021-03-20T19:28:40.298994",
     "exception": false,
     "start_time": "2021-03-20T19:28:40.249320",
     "status": "completed"
    },
    "tags": []
   },
   "source": [
    "**Замечание:**\n",
    "* Сравнения делайте как по времени, так и по качеству."
   ]
  },
  {
   "cell_type": "markdown",
   "metadata": {},
   "source": [
    "<font color=blue>Добавим новый параметр — функцию, применяющуюся после скалярных произведений.</font>"
   ]
  },
  {
   "cell_type": "code",
   "execution_count": 37,
   "metadata": {},
   "outputs": [],
   "source": [
    "class RFFPipeline_v2(BaseEstimator, TransformerMixin):\n",
    "    def __init__(self, n_features=1000, normalize=False, new_dim=50,\n",
    "                 seed=None, classifier='logreg', func=np.cos,\n",
    "                 **clf_kwargs):\n",
    "        \"\"\"\n",
    "        Implements pipeline, which consists of PCA decomposition,\n",
    "        Random Fourier Features approximation and linear classification model.\n",
    "        \n",
    "        n_features, int: amount of synthetic random features generated\n",
    "                         with RFF approximation.\n",
    "        normalize, bool: whether to normalize data before all steps.\n",
    "        new_dim, int: PCA output size.\n",
    "                      Set `None` to exclude PCA from preprocessing.\n",
    "        seed, int: used to initialize random generator.\n",
    "        classifier, string: either 'svm' or 'logreg', a linear classification model\n",
    "                            to use on top of pipeline.\n",
    "        func: func to apply after inner product.\n",
    "        **clf_kwargs: additional kwargs to classifier.\n",
    "        \"\"\"\n",
    "        self.n_features = n_features\n",
    "        self.new_dim = new_dim\n",
    "        self.normalize = normalize\n",
    "        self.seed = seed\n",
    "        self.classifier = classifier\n",
    "        self.func=func\n",
    "        self.steps = [None]\n",
    "        if normalize:\n",
    "            self.steps.append(StandardScaler())\n",
    "        if new_dim is not None:\n",
    "            self.steps.append(PCA(n_components=new_dim,\n",
    "                                  whiten=True,\n",
    "                                  random_state=seed))\n",
    "        if 'random_state' not in clf_kwargs:\n",
    "            clf_kwargs['random_state'] = seed\n",
    "        if classifier == 'logreg':\n",
    "            self.clf_ = LogisticRegression(**clf_kwargs)\n",
    "        elif classifier == 'svm':\n",
    "            self.clf_ = LinearSVC(**clf_kwargs)\n",
    "        self.rng = np.random.default_rng(seed=seed)\n",
    "        self.time_fit_full = None\n",
    "        self.time_fit_clf = None\n",
    "        self.pipe = make_pipeline(*self.steps)\n",
    "    \n",
    "    def _set_W_b(self, X):\n",
    "        \"\"\"\n",
    "        Generate weights and biases for RFF.\n",
    "        \"\"\"\n",
    "        sample = self.rng.choice(X.shape[0], min(2000, X.shape[0]), replace=False)\n",
    "        std = 1 / np.median(pdist(X[sample]))\n",
    "        self.weights = self.rng.normal(0, std, size=(X.shape[1], self.n_features))\n",
    "        self.biases = self.rng.uniform(-np.pi, np.pi, size=self.n_features)\n",
    "    \n",
    "    def fit(self, X, y):\n",
    "        \"\"\"\n",
    "        Fit all parts of algorithm (normalization), (PCA), RFF \n",
    "        and classification to training set.\n",
    "        \"\"\"\n",
    "        self.time_fit_full = -time()\n",
    "        X_reduced = self.pipe.fit_transform(X)\n",
    "        self._set_W_b(X_reduced)\n",
    "        RFF = FunctionTransformer(lambda x: self.func(x @ self.weights + self.biases))\n",
    "        X_rff = RFF.transform(X_reduced)\n",
    "        self.steps.append(RFF)\n",
    "        self.time_fit_clf = -time()\n",
    "        self.clf_.fit(X_rff, y)\n",
    "        self.steps.append(self.clf_)\n",
    "        self.time_fit_clf += time()\n",
    "        self.time_fit_full += time()\n",
    "        self.pipe = make_pipeline(*self.steps)\n",
    "        return self\n",
    "\n",
    "    def predict_proba(self, X):\n",
    "        \"\"\"\n",
    "        Probability estimates (only if classifier is 'logreg').\n",
    "        \"\"\"\n",
    "        return self.pipe.predict_proba(X)\n",
    "        \n",
    "    def decision_function(self, X):\n",
    "        \"\"\"\n",
    "        Predict confidence scores for samples.\n",
    "        \"\"\"\n",
    "        return self.pipe.decision_function(X)        \n",
    "        \n",
    "    def predict(self, X):\n",
    "        \"\"\"\n",
    "        Apply pipeline to obtain discrete predictions for input data.\n",
    "        \"\"\"\n",
    "        return self.pipe.predict(X)"
   ]
  },
  {
   "cell_type": "code",
   "execution_count": 38,
   "metadata": {},
   "outputs": [
    {
     "data": {
      "application/vnd.jupyter.widget-view+json": {
       "model_id": "724b27a3735a4f78a1e4d42c18a53389",
       "version_major": 2,
       "version_minor": 0
      },
      "text/plain": [
       "  0%|          | 0/9 [00:00<?, ?it/s]"
      ]
     },
     "metadata": {},
     "output_type": "display_data"
    }
   ],
   "source": [
    "from scipy.special import expit\n",
    "\n",
    "results = pd.DataFrame(index=exps)\n",
    "\n",
    "funcs = [np.cos, np.sin, np.sign, expit, np.tanh,\n",
    "         lambda x: np.exp(-x ** 2),\n",
    "         lambda x: np.exp(-np.abs(x)),\n",
    "         lambda x: (np.abs(x) < 1) * (1 - np.abs(x)),\n",
    "         lambda x: (np.abs(x) < 1) * (1 - x ** 2)]\n",
    "\n",
    "func_names = ['sin', 'cos', 'sign', 'sigmoid', 'tanh',\n",
    "              r'$e^{-x^2}$',\n",
    "              r'$e^{-|x|}$',\n",
    "              r'$[|x|< 1]\\cdot (1-|x|)$',\n",
    "              r'$[|x|< 1]\\cdot (1-x^2)$',\n",
    "             ]\n",
    "\n",
    "for name, func in tqdm(zip(func_names, funcs), total=len(funcs)):\n",
    "    model = RFFPipeline_v2(new_dim=None, func=func,\n",
    "                                   seed=seed, **logreg_kw)\n",
    "    model.fit(x_train_pca, y_train)\n",
    "    pred_time = -time()\n",
    "    test_acc = (model.predict(x_test_pca) == y_test).mean()\n",
    "    pred_time += time()\n",
    "    results[name] = [\n",
    "        test_acc,\n",
    "        (model.predict(x_train_pca) == y_train).mean(),\n",
    "        model.time_fit_full,\n",
    "        model.time_fit_clf,\n",
    "        pred_time\n",
    "    ]"
   ]
  },
  {
   "cell_type": "code",
   "execution_count": 39,
   "metadata": {},
   "outputs": [
    {
     "data": {
      "text/html": [
       "<style  type=\"text/css\" >\n",
       "#T_f4468_row0_col0,#T_f4468_row1_col0,#T_f4468_row1_col1{\n",
       "            background-color:  #00ff00;\n",
       "            color:  #000000;\n",
       "        }#T_f4468_row0_col1{\n",
       "            background-color:  #00fd00;\n",
       "            color:  #000000;\n",
       "        }#T_f4468_row0_col2,#T_f4468_row1_col2,#T_f4468_row1_col3{\n",
       "            background-color:  #009900;\n",
       "            color:  #000000;\n",
       "        }#T_f4468_row0_col3{\n",
       "            background-color:  #00bf00;\n",
       "            color:  #000000;\n",
       "        }#T_f4468_row0_col4,#T_f4468_row0_col6{\n",
       "            background-color:  #00ea00;\n",
       "            color:  #000000;\n",
       "        }#T_f4468_row0_col5{\n",
       "            background-color:  #00f400;\n",
       "            color:  #000000;\n",
       "        }#T_f4468_row0_col7{\n",
       "            background-color:  #00cf00;\n",
       "            color:  #000000;\n",
       "        }#T_f4468_row0_col8{\n",
       "            background-color:  #00d600;\n",
       "            color:  #000000;\n",
       "        }#T_f4468_row1_col4,#T_f4468_row1_col7{\n",
       "            background-color:  #00d500;\n",
       "            color:  #000000;\n",
       "        }#T_f4468_row1_col5{\n",
       "            background-color:  #00ee00;\n",
       "            color:  #000000;\n",
       "        }#T_f4468_row1_col6{\n",
       "            background-color:  #00d900;\n",
       "            color:  #000000;\n",
       "        }#T_f4468_row1_col8{\n",
       "            background-color:  #00de00;\n",
       "            color:  #000000;\n",
       "        }#T_f4468_row2_col0,#T_f4468_row2_col1{\n",
       "            background-color:  #00d0d0;\n",
       "            color:  #000000;\n",
       "        }#T_f4468_row2_col2,#T_f4468_row3_col7,#T_f4468_row3_col8,#T_f4468_row4_col2{\n",
       "            background-color:  #00ffff;\n",
       "            color:  #000000;\n",
       "        }#T_f4468_row2_col3,#T_f4468_row3_col3,#T_f4468_row4_col4{\n",
       "            background-color:  #009999;\n",
       "            color:  #000000;\n",
       "        }#T_f4468_row2_col4{\n",
       "            background-color:  #00cfcf;\n",
       "            color:  #000000;\n",
       "        }#T_f4468_row2_col5{\n",
       "            background-color:  #00e6e6;\n",
       "            color:  #000000;\n",
       "        }#T_f4468_row2_col6{\n",
       "            background-color:  #00e7e7;\n",
       "            color:  #000000;\n",
       "        }#T_f4468_row2_col7,#T_f4468_row2_col8,#T_f4468_row3_col2{\n",
       "            background-color:  #00fefe;\n",
       "            color:  #000000;\n",
       "        }#T_f4468_row3_col0{\n",
       "            background-color:  #00d7d7;\n",
       "            color:  #000000;\n",
       "        }#T_f4468_row3_col1,#T_f4468_row3_col4{\n",
       "            background-color:  #00d6d6;\n",
       "            color:  #000000;\n",
       "        }#T_f4468_row3_col5,#T_f4468_row3_col6,#T_f4468_row4_col8{\n",
       "            background-color:  #00ebeb;\n",
       "            color:  #000000;\n",
       "        }#T_f4468_row4_col0{\n",
       "            background-color:  #00a5a5;\n",
       "            color:  #000000;\n",
       "        }#T_f4468_row4_col1{\n",
       "            background-color:  #00abab;\n",
       "            color:  #000000;\n",
       "        }#T_f4468_row4_col3{\n",
       "            background-color:  #00c5c5;\n",
       "            color:  #000000;\n",
       "        }#T_f4468_row4_col5{\n",
       "            background-color:  #00bdbd;\n",
       "            color:  #000000;\n",
       "        }#T_f4468_row4_col6{\n",
       "            background-color:  #00c0c0;\n",
       "            color:  #000000;\n",
       "        }#T_f4468_row4_col7{\n",
       "            background-color:  #00eaea;\n",
       "            color:  #000000;\n",
       "        }</style><table id=\"T_f4468_\" ><thead>    <tr>        <th class=\"blank level0\" ></th>        <th class=\"col_heading level0 col0\" >sin</th>        <th class=\"col_heading level0 col1\" >cos</th>        <th class=\"col_heading level0 col2\" >sign</th>        <th class=\"col_heading level0 col3\" >sigmoid</th>        <th class=\"col_heading level0 col4\" >tanh</th>        <th class=\"col_heading level0 col5\" >$e^{-x^2}$</th>        <th class=\"col_heading level0 col6\" >$e^{-|x|}$</th>        <th class=\"col_heading level0 col7\" >$[|x|< 1]\\cdot (1-|x|)$</th>        <th class=\"col_heading level0 col8\" >$[|x|< 1]\\cdot (1-x^2)$</th>    </tr></thead><tbody>\n",
       "                <tr>\n",
       "                        <th id=\"T_f4468_level0_row0\" class=\"row_heading level0 row0\" >test accuracy</th>\n",
       "                        <td id=\"T_f4468_row0_col0\" class=\"data row0 col0\" >0.8688</td>\n",
       "                        <td id=\"T_f4468_row0_col1\" class=\"data row0 col1\" >0.8678</td>\n",
       "                        <td id=\"T_f4468_row0_col2\" class=\"data row0 col2\" >0.8260</td>\n",
       "                        <td id=\"T_f4468_row0_col3\" class=\"data row0 col3\" >0.8422</td>\n",
       "                        <td id=\"T_f4468_row0_col4\" class=\"data row0 col4\" >0.8600</td>\n",
       "                        <td id=\"T_f4468_row0_col5\" class=\"data row0 col5\" >0.8642</td>\n",
       "                        <td id=\"T_f4468_row0_col6\" class=\"data row0 col6\" >0.8600</td>\n",
       "                        <td id=\"T_f4468_row0_col7\" class=\"data row0 col7\" >0.8487</td>\n",
       "                        <td id=\"T_f4468_row0_col8\" class=\"data row0 col8\" >0.8517</td>\n",
       "            </tr>\n",
       "            <tr>\n",
       "                        <th id=\"T_f4468_level0_row1\" class=\"row_heading level0 row1\" >train accuracy</th>\n",
       "                        <td id=\"T_f4468_row1_col0\" class=\"data row1 col0\" >0.8997</td>\n",
       "                        <td id=\"T_f4468_row1_col1\" class=\"data row1 col1\" >0.8999</td>\n",
       "                        <td id=\"T_f4468_row1_col2\" class=\"data row1 col2\" >0.8589</td>\n",
       "                        <td id=\"T_f4468_row1_col3\" class=\"data row1 col3\" >0.8589</td>\n",
       "                        <td id=\"T_f4468_row1_col4\" class=\"data row1 col4\" >0.8828</td>\n",
       "                        <td id=\"T_f4468_row1_col5\" class=\"data row1 col5\" >0.8932</td>\n",
       "                        <td id=\"T_f4468_row1_col6\" class=\"data row1 col6\" >0.8847</td>\n",
       "                        <td id=\"T_f4468_row1_col7\" class=\"data row1 col7\" >0.8828</td>\n",
       "                        <td id=\"T_f4468_row1_col8\" class=\"data row1 col8\" >0.8865</td>\n",
       "            </tr>\n",
       "            <tr>\n",
       "                        <th id=\"T_f4468_level0_row2\" class=\"row_heading level0 row2\" >fit time (full), s</th>\n",
       "                        <td id=\"T_f4468_row2_col0\" class=\"data row2 col0\" >29.9940</td>\n",
       "                        <td id=\"T_f4468_row2_col1\" class=\"data row2 col1\" >29.9345</td>\n",
       "                        <td id=\"T_f4468_row2_col2\" class=\"data row2 col2\" >21.8673</td>\n",
       "                        <td id=\"T_f4468_row2_col3\" class=\"data row2 col3\" >39.4612</td>\n",
       "                        <td id=\"T_f4468_row2_col4\" class=\"data row2 col4\" >30.1726</td>\n",
       "                        <td id=\"T_f4468_row2_col5\" class=\"data row2 col5\" >26.2489</td>\n",
       "                        <td id=\"T_f4468_row2_col6\" class=\"data row2 col6\" >26.1135</td>\n",
       "                        <td id=\"T_f4468_row2_col7\" class=\"data row2 col7\" >22.1239</td>\n",
       "                        <td id=\"T_f4468_row2_col8\" class=\"data row2 col8\" >22.0663</td>\n",
       "            </tr>\n",
       "            <tr>\n",
       "                        <th id=\"T_f4468_level0_row3\" class=\"row_heading level0 row3\" >fit time (clf), s</th>\n",
       "                        <td id=\"T_f4468_row3_col0\" class=\"data row3 col0\" >26.6384</td>\n",
       "                        <td id=\"T_f4468_row3_col1\" class=\"data row3 col1\" >26.7363</td>\n",
       "                        <td id=\"T_f4468_row3_col2\" class=\"data row3 col2\" >20.0906</td>\n",
       "                        <td id=\"T_f4468_row3_col3\" class=\"data row3 col3\" >36.7429</td>\n",
       "                        <td id=\"T_f4468_row3_col4\" class=\"data row3 col4\" >26.7160</td>\n",
       "                        <td id=\"T_f4468_row3_col5\" class=\"data row3 col5\" >23.3178</td>\n",
       "                        <td id=\"T_f4468_row3_col6\" class=\"data row3 col6\" >23.2556</td>\n",
       "                        <td id=\"T_f4468_row3_col7\" class=\"data row3 col7\" >19.9756</td>\n",
       "                        <td id=\"T_f4468_row3_col8\" class=\"data row3 col8\" >19.9512</td>\n",
       "            </tr>\n",
       "            <tr>\n",
       "                        <th id=\"T_f4468_level0_row4\" class=\"row_heading level0 row4\" >predict time, s</th>\n",
       "                        <td id=\"T_f4468_row4_col0\" class=\"data row4 col0\" >0.6883</td>\n",
       "                        <td id=\"T_f4468_row4_col1\" class=\"data row4 col1\" >0.6721</td>\n",
       "                        <td id=\"T_f4468_row4_col2\" class=\"data row4 col2\" >0.4402</td>\n",
       "                        <td id=\"T_f4468_row4_col3\" class=\"data row4 col3\" >0.5993</td>\n",
       "                        <td id=\"T_f4468_row4_col4\" class=\"data row4 col4\" >0.7219</td>\n",
       "                        <td id=\"T_f4468_row4_col5\" class=\"data row4 col5\" >0.6228</td>\n",
       "                        <td id=\"T_f4468_row4_col6\" class=\"data row4 col6\" >0.6133</td>\n",
       "                        <td id=\"T_f4468_row4_col7\" class=\"data row4 col7\" >0.4977</td>\n",
       "                        <td id=\"T_f4468_row4_col8\" class=\"data row4 col8\" >0.4971</td>\n",
       "            </tr>\n",
       "    </tbody></table>"
      ],
      "text/plain": [
       "<pandas.io.formats.style.Styler at 0x7f0ff5837510>"
      ]
     },
     "execution_count": 39,
     "metadata": {},
     "output_type": "execute_result"
    }
   ],
   "source": [
    "acc_subset = (results.index[:2], results.columns)\n",
    "time_subset = (results.index[2:], results.columns)\n",
    "\n",
    "results.style.background_gradient(cmap=cmap_to_lime,\n",
    "                                  axis=1, subset=acc_subset) \\\n",
    "             .background_gradient(cmap=cmap_to_cyan.reversed(),\n",
    "                                  axis=1, subset=time_subset)\\\n",
    "             .format(\"{:.4f}\")"
   ]
  },
  {
   "cell_type": "markdown",
   "metadata": {
    "execution": {
     "iopub.execute_input": "2021-03-20T19:28:40.402941Z",
     "iopub.status.busy": "2021-03-20T19:28:40.402375Z",
     "iopub.status.idle": "2021-03-20T19:28:40.405092Z",
     "shell.execute_reply": "2021-03-20T19:28:40.404531Z"
    },
    "id": "dWj-O2vjK-hY",
    "papermill": {
     "duration": 0.056352,
     "end_time": "2021-03-20T19:28:40.405216",
     "exception": false,
     "start_time": "2021-03-20T19:28:40.348864",
     "status": "completed"
    },
    "tags": []
   },
   "source": [
    "<font color=blue>Как видим, косинус работает лучше всего. Хотя другие функции тоже не плохи! Например, сигнум самый быстрый, а $e^{-x^2}$ дает неплохое качество. Последние две функции, взяты по типу треугольного и квадратического ядра.</font>"
   ]
  }
 ],
 "metadata": {
  "kernelspec": {
   "display_name": "Python 3",
   "language": "python",
   "name": "python3"
  },
  "language_info": {
   "codemirror_mode": {
    "name": "ipython",
    "version": 3
   },
   "file_extension": ".py",
   "mimetype": "text/x-python",
   "name": "python",
   "nbconvert_exporter": "python",
   "pygments_lexer": "ipython3",
   "version": "3.8.8"
  },
  "papermill": {
   "default_parameters": {},
   "duration": 7843.669163,
   "end_time": "2021-03-20T19:28:41.365159",
   "environment_variables": {},
   "exception": null,
   "input_path": "__notebook__.ipynb",
   "output_path": "__notebook__.ipynb",
   "parameters": {},
   "start_time": "2021-03-20T17:17:57.695996",
   "version": "2.2.2"
  },
  "widgets": {
   "application/vnd.jupyter.widget-state+json": {
    "state": {
     "03440e8b0b1a4e92bff651e66e0de32d": {
      "model_module": "@jupyter-widgets/controls",
      "model_module_version": "1.5.0",
      "model_name": "ProgressStyleModel",
      "state": {
       "_model_module": "@jupyter-widgets/controls",
       "_model_module_version": "1.5.0",
       "_model_name": "ProgressStyleModel",
       "_view_count": null,
       "_view_module": "@jupyter-widgets/base",
       "_view_module_version": "1.2.0",
       "_view_name": "StyleView",
       "bar_color": null,
       "description_width": ""
      }
     },
     "16bd24898f4747d19a4c515bc001fa35": {
      "model_module": "@jupyter-widgets/controls",
      "model_module_version": "1.5.0",
      "model_name": "DescriptionStyleModel",
      "state": {
       "_model_module": "@jupyter-widgets/controls",
       "_model_module_version": "1.5.0",
       "_model_name": "DescriptionStyleModel",
       "_view_count": null,
       "_view_module": "@jupyter-widgets/base",
       "_view_module_version": "1.2.0",
       "_view_name": "StyleView",
       "description_width": ""
      }
     },
     "1990b31e560441bea6d9d203ebe7cd86": {
      "model_module": "@jupyter-widgets/controls",
      "model_module_version": "1.5.0",
      "model_name": "DescriptionStyleModel",
      "state": {
       "_model_module": "@jupyter-widgets/controls",
       "_model_module_version": "1.5.0",
       "_model_name": "DescriptionStyleModel",
       "_view_count": null,
       "_view_module": "@jupyter-widgets/base",
       "_view_module_version": "1.2.0",
       "_view_name": "StyleView",
       "description_width": ""
      }
     },
     "1e741a8a38ca44d4b5d9e9d0ed3c1e94": {
      "model_module": "@jupyter-widgets/base",
      "model_module_version": "1.2.0",
      "model_name": "LayoutModel",
      "state": {
       "_model_module": "@jupyter-widgets/base",
       "_model_module_version": "1.2.0",
       "_model_name": "LayoutModel",
       "_view_count": null,
       "_view_module": "@jupyter-widgets/base",
       "_view_module_version": "1.2.0",
       "_view_name": "LayoutView",
       "align_content": null,
       "align_items": null,
       "align_self": null,
       "border": null,
       "bottom": null,
       "display": null,
       "flex": null,
       "flex_flow": null,
       "grid_area": null,
       "grid_auto_columns": null,
       "grid_auto_flow": null,
       "grid_auto_rows": null,
       "grid_column": null,
       "grid_gap": null,
       "grid_row": null,
       "grid_template_areas": null,
       "grid_template_columns": null,
       "grid_template_rows": null,
       "height": null,
       "justify_content": null,
       "justify_items": null,
       "left": null,
       "margin": null,
       "max_height": null,
       "max_width": null,
       "min_height": null,
       "min_width": null,
       "object_fit": null,
       "object_position": null,
       "order": null,
       "overflow": null,
       "overflow_x": null,
       "overflow_y": null,
       "padding": null,
       "right": null,
       "top": null,
       "visibility": null,
       "width": null
      }
     },
     "27a7ae0470d14315b7c64aadd5bc20b3": {
      "model_module": "@jupyter-widgets/controls",
      "model_module_version": "1.5.0",
      "model_name": "ProgressStyleModel",
      "state": {
       "_model_module": "@jupyter-widgets/controls",
       "_model_module_version": "1.5.0",
       "_model_name": "ProgressStyleModel",
       "_view_count": null,
       "_view_module": "@jupyter-widgets/base",
       "_view_module_version": "1.2.0",
       "_view_name": "StyleView",
       "bar_color": null,
       "description_width": ""
      }
     },
     "2a81dbeb425d4c218a21978dc8fb0f9e": {
      "model_module": "@jupyter-widgets/controls",
      "model_module_version": "1.5.0",
      "model_name": "HTMLModel",
      "state": {
       "_dom_classes": [],
       "_model_module": "@jupyter-widgets/controls",
       "_model_module_version": "1.5.0",
       "_model_name": "HTMLModel",
       "_view_count": null,
       "_view_module": "@jupyter-widgets/controls",
       "_view_module_version": "1.5.0",
       "_view_name": "HTMLView",
       "description": "",
       "description_tooltip": null,
       "layout": "IPY_MODEL_c6651ca3b0af49c7a4673092ba67d97f",
       "placeholder": "​",
       "style": "IPY_MODEL_b715b2a5a90948f5800032825d057d53",
       "value": "100%"
      }
     },
     "2b77a0c475e14c69a5e26f2fa0886587": {
      "model_module": "@jupyter-widgets/controls",
      "model_module_version": "1.5.0",
      "model_name": "HTMLModel",
      "state": {
       "_dom_classes": [],
       "_model_module": "@jupyter-widgets/controls",
       "_model_module_version": "1.5.0",
       "_model_name": "HTMLModel",
       "_view_count": null,
       "_view_module": "@jupyter-widgets/controls",
       "_view_module_version": "1.5.0",
       "_view_name": "HTMLView",
       "description": "",
       "description_tooltip": null,
       "layout": "IPY_MODEL_9689ff2d8e924fb58f81d642d73835fc",
       "placeholder": "​",
       "style": "IPY_MODEL_3f9396548e6e4920873378c2d2b1f7f7",
       "value": " 6/6 [16:28&lt;00:00, 169.39s/it]"
      }
     },
     "3420f9d11afd45159dafe2bd9509a5c2": {
      "model_module": "@jupyter-widgets/controls",
      "model_module_version": "1.5.0",
      "model_name": "FloatProgressModel",
      "state": {
       "_dom_classes": [],
       "_model_module": "@jupyter-widgets/controls",
       "_model_module_version": "1.5.0",
       "_model_name": "FloatProgressModel",
       "_view_count": null,
       "_view_module": "@jupyter-widgets/controls",
       "_view_module_version": "1.5.0",
       "_view_name": "ProgressView",
       "bar_style": "success",
       "description": "",
       "description_tooltip": null,
       "layout": "IPY_MODEL_ed14d1d0c07744fd9aa20cb6811ffe7f",
       "max": 5,
       "min": 0,
       "orientation": "horizontal",
       "style": "IPY_MODEL_27a7ae0470d14315b7c64aadd5bc20b3",
       "value": 5
      }
     },
     "3f9396548e6e4920873378c2d2b1f7f7": {
      "model_module": "@jupyter-widgets/controls",
      "model_module_version": "1.5.0",
      "model_name": "DescriptionStyleModel",
      "state": {
       "_model_module": "@jupyter-widgets/controls",
       "_model_module_version": "1.5.0",
       "_model_name": "DescriptionStyleModel",
       "_view_count": null,
       "_view_module": "@jupyter-widgets/base",
       "_view_module_version": "1.2.0",
       "_view_name": "StyleView",
       "description_width": ""
      }
     },
     "44db5127c73643de921f982fe79a71b7": {
      "model_module": "@jupyter-widgets/controls",
      "model_module_version": "1.5.0",
      "model_name": "HTMLModel",
      "state": {
       "_dom_classes": [],
       "_model_module": "@jupyter-widgets/controls",
       "_model_module_version": "1.5.0",
       "_model_name": "HTMLModel",
       "_view_count": null,
       "_view_module": "@jupyter-widgets/controls",
       "_view_module_version": "1.5.0",
       "_view_name": "HTMLView",
       "description": "",
       "description_tooltip": null,
       "layout": "IPY_MODEL_e1c0bfdb0c264ec68418f78512c10b6b",
       "placeholder": "​",
       "style": "IPY_MODEL_1990b31e560441bea6d9d203ebe7cd86",
       "value": "100%"
      }
     },
     "4885eec5a6ad4301a3da67f283ac9c4e": {
      "model_module": "@jupyter-widgets/base",
      "model_module_version": "1.2.0",
      "model_name": "LayoutModel",
      "state": {
       "_model_module": "@jupyter-widgets/base",
       "_model_module_version": "1.2.0",
       "_model_name": "LayoutModel",
       "_view_count": null,
       "_view_module": "@jupyter-widgets/base",
       "_view_module_version": "1.2.0",
       "_view_name": "LayoutView",
       "align_content": null,
       "align_items": null,
       "align_self": null,
       "border": null,
       "bottom": null,
       "display": null,
       "flex": null,
       "flex_flow": null,
       "grid_area": null,
       "grid_auto_columns": null,
       "grid_auto_flow": null,
       "grid_auto_rows": null,
       "grid_column": null,
       "grid_gap": null,
       "grid_row": null,
       "grid_template_areas": null,
       "grid_template_columns": null,
       "grid_template_rows": null,
       "height": null,
       "justify_content": null,
       "justify_items": null,
       "left": null,
       "margin": null,
       "max_height": null,
       "max_width": null,
       "min_height": null,
       "min_width": null,
       "object_fit": null,
       "object_position": null,
       "order": null,
       "overflow": null,
       "overflow_x": null,
       "overflow_y": null,
       "padding": null,
       "right": null,
       "top": null,
       "visibility": null,
       "width": null
      }
     },
     "4902cee1498e4478adf5833f50115898": {
      "model_module": "@jupyter-widgets/controls",
      "model_module_version": "1.5.0",
      "model_name": "FloatProgressModel",
      "state": {
       "_dom_classes": [],
       "_model_module": "@jupyter-widgets/controls",
       "_model_module_version": "1.5.0",
       "_model_name": "FloatProgressModel",
       "_view_count": null,
       "_view_module": "@jupyter-widgets/controls",
       "_view_module_version": "1.5.0",
       "_view_name": "ProgressView",
       "bar_style": "success",
       "description": "",
       "description_tooltip": null,
       "layout": "IPY_MODEL_cae99b85dc2343059b293624db091233",
       "max": 30,
       "min": 0,
       "orientation": "horizontal",
       "style": "IPY_MODEL_03440e8b0b1a4e92bff651e66e0de32d",
       "value": 30
      }
     },
     "6d77f3bfd7e04c22beb1e053d3dd7a73": {
      "model_module": "@jupyter-widgets/base",
      "model_module_version": "1.2.0",
      "model_name": "LayoutModel",
      "state": {
       "_model_module": "@jupyter-widgets/base",
       "_model_module_version": "1.2.0",
       "_model_name": "LayoutModel",
       "_view_count": null,
       "_view_module": "@jupyter-widgets/base",
       "_view_module_version": "1.2.0",
       "_view_name": "LayoutView",
       "align_content": null,
       "align_items": null,
       "align_self": null,
       "border": null,
       "bottom": null,
       "display": null,
       "flex": null,
       "flex_flow": null,
       "grid_area": null,
       "grid_auto_columns": null,
       "grid_auto_flow": null,
       "grid_auto_rows": null,
       "grid_column": null,
       "grid_gap": null,
       "grid_row": null,
       "grid_template_areas": null,
       "grid_template_columns": null,
       "grid_template_rows": null,
       "height": null,
       "justify_content": null,
       "justify_items": null,
       "left": null,
       "margin": null,
       "max_height": null,
       "max_width": null,
       "min_height": null,
       "min_width": null,
       "object_fit": null,
       "object_position": null,
       "order": null,
       "overflow": null,
       "overflow_x": null,
       "overflow_y": null,
       "padding": null,
       "right": null,
       "top": null,
       "visibility": null,
       "width": null
      }
     },
     "7274c6f5db8f43398efe296d3c507704": {
      "model_module": "@jupyter-widgets/controls",
      "model_module_version": "1.5.0",
      "model_name": "FloatProgressModel",
      "state": {
       "_dom_classes": [],
       "_model_module": "@jupyter-widgets/controls",
       "_model_module_version": "1.5.0",
       "_model_name": "FloatProgressModel",
       "_view_count": null,
       "_view_module": "@jupyter-widgets/controls",
       "_view_module_version": "1.5.0",
       "_view_name": "ProgressView",
       "bar_style": "success",
       "description": "",
       "description_tooltip": null,
       "layout": "IPY_MODEL_4885eec5a6ad4301a3da67f283ac9c4e",
       "max": 6,
       "min": 0,
       "orientation": "horizontal",
       "style": "IPY_MODEL_afe713d3d5c44fc684b3b89102bb3f50",
       "value": 6
      }
     },
     "7f78a54707cb4560a52fbc76c8e9cb50": {
      "model_module": "@jupyter-widgets/base",
      "model_module_version": "1.2.0",
      "model_name": "LayoutModel",
      "state": {
       "_model_module": "@jupyter-widgets/base",
       "_model_module_version": "1.2.0",
       "_model_name": "LayoutModel",
       "_view_count": null,
       "_view_module": "@jupyter-widgets/base",
       "_view_module_version": "1.2.0",
       "_view_name": "LayoutView",
       "align_content": null,
       "align_items": null,
       "align_self": null,
       "border": null,
       "bottom": null,
       "display": null,
       "flex": null,
       "flex_flow": null,
       "grid_area": null,
       "grid_auto_columns": null,
       "grid_auto_flow": null,
       "grid_auto_rows": null,
       "grid_column": null,
       "grid_gap": null,
       "grid_row": null,
       "grid_template_areas": null,
       "grid_template_columns": null,
       "grid_template_rows": null,
       "height": null,
       "justify_content": null,
       "justify_items": null,
       "left": null,
       "margin": null,
       "max_height": null,
       "max_width": null,
       "min_height": null,
       "min_width": null,
       "object_fit": null,
       "object_position": null,
       "order": null,
       "overflow": null,
       "overflow_x": null,
       "overflow_y": null,
       "padding": null,
       "right": null,
       "top": null,
       "visibility": null,
       "width": null
      }
     },
     "830d6e8ae93f48228ecaf8f44ada285f": {
      "model_module": "@jupyter-widgets/base",
      "model_module_version": "1.2.0",
      "model_name": "LayoutModel",
      "state": {
       "_model_module": "@jupyter-widgets/base",
       "_model_module_version": "1.2.0",
       "_model_name": "LayoutModel",
       "_view_count": null,
       "_view_module": "@jupyter-widgets/base",
       "_view_module_version": "1.2.0",
       "_view_name": "LayoutView",
       "align_content": null,
       "align_items": null,
       "align_self": null,
       "border": null,
       "bottom": null,
       "display": null,
       "flex": null,
       "flex_flow": null,
       "grid_area": null,
       "grid_auto_columns": null,
       "grid_auto_flow": null,
       "grid_auto_rows": null,
       "grid_column": null,
       "grid_gap": null,
       "grid_row": null,
       "grid_template_areas": null,
       "grid_template_columns": null,
       "grid_template_rows": null,
       "height": null,
       "justify_content": null,
       "justify_items": null,
       "left": null,
       "margin": null,
       "max_height": null,
       "max_width": null,
       "min_height": null,
       "min_width": null,
       "object_fit": null,
       "object_position": null,
       "order": null,
       "overflow": null,
       "overflow_x": null,
       "overflow_y": null,
       "padding": null,
       "right": null,
       "top": null,
       "visibility": null,
       "width": null
      }
     },
     "83bffc333de74cffb9235b8a1798d261": {
      "model_module": "@jupyter-widgets/base",
      "model_module_version": "1.2.0",
      "model_name": "LayoutModel",
      "state": {
       "_model_module": "@jupyter-widgets/base",
       "_model_module_version": "1.2.0",
       "_model_name": "LayoutModel",
       "_view_count": null,
       "_view_module": "@jupyter-widgets/base",
       "_view_module_version": "1.2.0",
       "_view_name": "LayoutView",
       "align_content": null,
       "align_items": null,
       "align_self": null,
       "border": null,
       "bottom": null,
       "display": null,
       "flex": null,
       "flex_flow": null,
       "grid_area": null,
       "grid_auto_columns": null,
       "grid_auto_flow": null,
       "grid_auto_rows": null,
       "grid_column": null,
       "grid_gap": null,
       "grid_row": null,
       "grid_template_areas": null,
       "grid_template_columns": null,
       "grid_template_rows": null,
       "height": null,
       "justify_content": null,
       "justify_items": null,
       "left": null,
       "margin": null,
       "max_height": null,
       "max_width": null,
       "min_height": null,
       "min_width": null,
       "object_fit": null,
       "object_position": null,
       "order": null,
       "overflow": null,
       "overflow_x": null,
       "overflow_y": null,
       "padding": null,
       "right": null,
       "top": null,
       "visibility": null,
       "width": null
      }
     },
     "8cb4e8337b6f43a299f58400cf25e1cb": {
      "model_module": "@jupyter-widgets/base",
      "model_module_version": "1.2.0",
      "model_name": "LayoutModel",
      "state": {
       "_model_module": "@jupyter-widgets/base",
       "_model_module_version": "1.2.0",
       "_model_name": "LayoutModel",
       "_view_count": null,
       "_view_module": "@jupyter-widgets/base",
       "_view_module_version": "1.2.0",
       "_view_name": "LayoutView",
       "align_content": null,
       "align_items": null,
       "align_self": null,
       "border": null,
       "bottom": null,
       "display": null,
       "flex": null,
       "flex_flow": null,
       "grid_area": null,
       "grid_auto_columns": null,
       "grid_auto_flow": null,
       "grid_auto_rows": null,
       "grid_column": null,
       "grid_gap": null,
       "grid_row": null,
       "grid_template_areas": null,
       "grid_template_columns": null,
       "grid_template_rows": null,
       "height": null,
       "justify_content": null,
       "justify_items": null,
       "left": null,
       "margin": null,
       "max_height": null,
       "max_width": null,
       "min_height": null,
       "min_width": null,
       "object_fit": null,
       "object_position": null,
       "order": null,
       "overflow": null,
       "overflow_x": null,
       "overflow_y": null,
       "padding": null,
       "right": null,
       "top": null,
       "visibility": null,
       "width": null
      }
     },
     "9689ff2d8e924fb58f81d642d73835fc": {
      "model_module": "@jupyter-widgets/base",
      "model_module_version": "1.2.0",
      "model_name": "LayoutModel",
      "state": {
       "_model_module": "@jupyter-widgets/base",
       "_model_module_version": "1.2.0",
       "_model_name": "LayoutModel",
       "_view_count": null,
       "_view_module": "@jupyter-widgets/base",
       "_view_module_version": "1.2.0",
       "_view_name": "LayoutView",
       "align_content": null,
       "align_items": null,
       "align_self": null,
       "border": null,
       "bottom": null,
       "display": null,
       "flex": null,
       "flex_flow": null,
       "grid_area": null,
       "grid_auto_columns": null,
       "grid_auto_flow": null,
       "grid_auto_rows": null,
       "grid_column": null,
       "grid_gap": null,
       "grid_row": null,
       "grid_template_areas": null,
       "grid_template_columns": null,
       "grid_template_rows": null,
       "height": null,
       "justify_content": null,
       "justify_items": null,
       "left": null,
       "margin": null,
       "max_height": null,
       "max_width": null,
       "min_height": null,
       "min_width": null,
       "object_fit": null,
       "object_position": null,
       "order": null,
       "overflow": null,
       "overflow_x": null,
       "overflow_y": null,
       "padding": null,
       "right": null,
       "top": null,
       "visibility": null,
       "width": null
      }
     },
     "9729691d92184c959c60b98749361245": {
      "model_module": "@jupyter-widgets/controls",
      "model_module_version": "1.5.0",
      "model_name": "HBoxModel",
      "state": {
       "_dom_classes": [],
       "_model_module": "@jupyter-widgets/controls",
       "_model_module_version": "1.5.0",
       "_model_name": "HBoxModel",
       "_view_count": null,
       "_view_module": "@jupyter-widgets/controls",
       "_view_module_version": "1.5.0",
       "_view_name": "HBoxView",
       "box_style": "",
       "children": [
        "IPY_MODEL_44db5127c73643de921f982fe79a71b7",
        "IPY_MODEL_7274c6f5db8f43398efe296d3c507704",
        "IPY_MODEL_2b77a0c475e14c69a5e26f2fa0886587"
       ],
       "layout": "IPY_MODEL_830d6e8ae93f48228ecaf8f44ada285f"
      }
     },
     "97de3b37e53e41a0bf663d78a9c0eb65": {
      "model_module": "@jupyter-widgets/base",
      "model_module_version": "1.2.0",
      "model_name": "LayoutModel",
      "state": {
       "_model_module": "@jupyter-widgets/base",
       "_model_module_version": "1.2.0",
       "_model_name": "LayoutModel",
       "_view_count": null,
       "_view_module": "@jupyter-widgets/base",
       "_view_module_version": "1.2.0",
       "_view_name": "LayoutView",
       "align_content": null,
       "align_items": null,
       "align_self": null,
       "border": null,
       "bottom": null,
       "display": null,
       "flex": null,
       "flex_flow": null,
       "grid_area": null,
       "grid_auto_columns": null,
       "grid_auto_flow": null,
       "grid_auto_rows": null,
       "grid_column": null,
       "grid_gap": null,
       "grid_row": null,
       "grid_template_areas": null,
       "grid_template_columns": null,
       "grid_template_rows": null,
       "height": null,
       "justify_content": null,
       "justify_items": null,
       "left": null,
       "margin": null,
       "max_height": null,
       "max_width": null,
       "min_height": null,
       "min_width": null,
       "object_fit": null,
       "object_position": null,
       "order": null,
       "overflow": null,
       "overflow_x": null,
       "overflow_y": null,
       "padding": null,
       "right": null,
       "top": null,
       "visibility": null,
       "width": null
      }
     },
     "9de3b45a6f754047b7e0e26ac3bf5679": {
      "model_module": "@jupyter-widgets/controls",
      "model_module_version": "1.5.0",
      "model_name": "DescriptionStyleModel",
      "state": {
       "_model_module": "@jupyter-widgets/controls",
       "_model_module_version": "1.5.0",
       "_model_name": "DescriptionStyleModel",
       "_view_count": null,
       "_view_module": "@jupyter-widgets/base",
       "_view_module_version": "1.2.0",
       "_view_name": "StyleView",
       "description_width": ""
      }
     },
     "a2c573b7b5284901a719100b06d1675c": {
      "model_module": "@jupyter-widgets/base",
      "model_module_version": "1.2.0",
      "model_name": "LayoutModel",
      "state": {
       "_model_module": "@jupyter-widgets/base",
       "_model_module_version": "1.2.0",
       "_model_name": "LayoutModel",
       "_view_count": null,
       "_view_module": "@jupyter-widgets/base",
       "_view_module_version": "1.2.0",
       "_view_name": "LayoutView",
       "align_content": null,
       "align_items": null,
       "align_self": null,
       "border": null,
       "bottom": null,
       "display": null,
       "flex": null,
       "flex_flow": null,
       "grid_area": null,
       "grid_auto_columns": null,
       "grid_auto_flow": null,
       "grid_auto_rows": null,
       "grid_column": null,
       "grid_gap": null,
       "grid_row": null,
       "grid_template_areas": null,
       "grid_template_columns": null,
       "grid_template_rows": null,
       "height": null,
       "justify_content": null,
       "justify_items": null,
       "left": null,
       "margin": null,
       "max_height": null,
       "max_width": null,
       "min_height": null,
       "min_width": null,
       "object_fit": null,
       "object_position": null,
       "order": null,
       "overflow": null,
       "overflow_x": null,
       "overflow_y": null,
       "padding": null,
       "right": null,
       "top": null,
       "visibility": null,
       "width": null
      }
     },
     "a5f02d94e2e54be7afa6b34dc894ef31": {
      "model_module": "@jupyter-widgets/controls",
      "model_module_version": "1.5.0",
      "model_name": "HBoxModel",
      "state": {
       "_dom_classes": [],
       "_model_module": "@jupyter-widgets/controls",
       "_model_module_version": "1.5.0",
       "_model_name": "HBoxModel",
       "_view_count": null,
       "_view_module": "@jupyter-widgets/controls",
       "_view_module_version": "1.5.0",
       "_view_name": "HBoxView",
       "box_style": "",
       "children": [
        "IPY_MODEL_b750a3e38cca484ba965a11b87de95d0",
        "IPY_MODEL_4902cee1498e4478adf5833f50115898",
        "IPY_MODEL_c173e64d26cf44fe8427a3e2cac6e391"
       ],
       "layout": "IPY_MODEL_d223ed432d1c43fc927960356e4ace7d"
      }
     },
     "ac8f96258e4940a28b2efe3743e93290": {
      "model_module": "@jupyter-widgets/controls",
      "model_module_version": "1.5.0",
      "model_name": "HTMLModel",
      "state": {
       "_dom_classes": [],
       "_model_module": "@jupyter-widgets/controls",
       "_model_module_version": "1.5.0",
       "_model_name": "HTMLModel",
       "_view_count": null,
       "_view_module": "@jupyter-widgets/controls",
       "_view_module_version": "1.5.0",
       "_view_name": "HTMLView",
       "description": "",
       "description_tooltip": null,
       "layout": "IPY_MODEL_7f78a54707cb4560a52fbc76c8e9cb50",
       "placeholder": "​",
       "style": "IPY_MODEL_9de3b45a6f754047b7e0e26ac3bf5679",
       "value": " 5/5 [12:00&lt;00:00, 175.57s/it]"
      }
     },
     "ad3d477e229843439934b29304495834": {
      "model_module": "@jupyter-widgets/controls",
      "model_module_version": "1.5.0",
      "model_name": "HBoxModel",
      "state": {
       "_dom_classes": [],
       "_model_module": "@jupyter-widgets/controls",
       "_model_module_version": "1.5.0",
       "_model_name": "HBoxModel",
       "_view_count": null,
       "_view_module": "@jupyter-widgets/controls",
       "_view_module_version": "1.5.0",
       "_view_name": "HBoxView",
       "box_style": "",
       "children": [
        "IPY_MODEL_2a81dbeb425d4c218a21978dc8fb0f9e",
        "IPY_MODEL_eb61cb470c174e51aea6883866444f88",
        "IPY_MODEL_ac8f96258e4940a28b2efe3743e93290"
       ],
       "layout": "IPY_MODEL_83bffc333de74cffb9235b8a1798d261"
      }
     },
     "afe713d3d5c44fc684b3b89102bb3f50": {
      "model_module": "@jupyter-widgets/controls",
      "model_module_version": "1.5.0",
      "model_name": "ProgressStyleModel",
      "state": {
       "_model_module": "@jupyter-widgets/controls",
       "_model_module_version": "1.5.0",
       "_model_name": "ProgressStyleModel",
       "_view_count": null,
       "_view_module": "@jupyter-widgets/base",
       "_view_module_version": "1.2.0",
       "_view_name": "StyleView",
       "bar_color": null,
       "description_width": ""
      }
     },
     "b715b2a5a90948f5800032825d057d53": {
      "model_module": "@jupyter-widgets/controls",
      "model_module_version": "1.5.0",
      "model_name": "DescriptionStyleModel",
      "state": {
       "_model_module": "@jupyter-widgets/controls",
       "_model_module_version": "1.5.0",
       "_model_name": "DescriptionStyleModel",
       "_view_count": null,
       "_view_module": "@jupyter-widgets/base",
       "_view_module_version": "1.2.0",
       "_view_name": "StyleView",
       "description_width": ""
      }
     },
     "b750a3e38cca484ba965a11b87de95d0": {
      "model_module": "@jupyter-widgets/controls",
      "model_module_version": "1.5.0",
      "model_name": "HTMLModel",
      "state": {
       "_dom_classes": [],
       "_model_module": "@jupyter-widgets/controls",
       "_model_module_version": "1.5.0",
       "_model_name": "HTMLModel",
       "_view_count": null,
       "_view_module": "@jupyter-widgets/controls",
       "_view_module_version": "1.5.0",
       "_view_name": "HTMLView",
       "description": "",
       "description_tooltip": null,
       "layout": "IPY_MODEL_6d77f3bfd7e04c22beb1e053d3dd7a73",
       "placeholder": "​",
       "style": "IPY_MODEL_e7a785d627f54940a3beb86d5cf999a3",
       "value": "100%"
      }
     },
     "bc7ce19111d9474c9d6d83ec85f2676a": {
      "model_module": "@jupyter-widgets/controls",
      "model_module_version": "1.5.0",
      "model_name": "DescriptionStyleModel",
      "state": {
       "_model_module": "@jupyter-widgets/controls",
       "_model_module_version": "1.5.0",
       "_model_name": "DescriptionStyleModel",
       "_view_count": null,
       "_view_module": "@jupyter-widgets/base",
       "_view_module_version": "1.2.0",
       "_view_name": "StyleView",
       "description_width": ""
      }
     },
     "bdb4fc0fdabb4866ab7a2ed595b4c69e": {
      "model_module": "@jupyter-widgets/controls",
      "model_module_version": "1.5.0",
      "model_name": "HTMLModel",
      "state": {
       "_dom_classes": [],
       "_model_module": "@jupyter-widgets/controls",
       "_model_module_version": "1.5.0",
       "_model_name": "HTMLModel",
       "_view_count": null,
       "_view_module": "@jupyter-widgets/controls",
       "_view_module_version": "1.5.0",
       "_view_name": "HTMLView",
       "description": "",
       "description_tooltip": null,
       "layout": "IPY_MODEL_c2856e318da144a9bf1dec46c8fd0b3d",
       "placeholder": "​",
       "style": "IPY_MODEL_bc7ce19111d9474c9d6d83ec85f2676a",
       "value": " 5/5 [05:55&lt;00:00, 67.99s/it]"
      }
     },
     "c173e64d26cf44fe8427a3e2cac6e391": {
      "model_module": "@jupyter-widgets/controls",
      "model_module_version": "1.5.0",
      "model_name": "HTMLModel",
      "state": {
       "_dom_classes": [],
       "_model_module": "@jupyter-widgets/controls",
       "_model_module_version": "1.5.0",
       "_model_name": "HTMLModel",
       "_view_count": null,
       "_view_module": "@jupyter-widgets/controls",
       "_view_module_version": "1.5.0",
       "_view_name": "HTMLView",
       "description": "",
       "description_tooltip": null,
       "layout": "IPY_MODEL_8cb4e8337b6f43a299f58400cf25e1cb",
       "placeholder": "​",
       "style": "IPY_MODEL_fd857460767b432d8771244a6765ad9b",
       "value": " 30/30 [45:58&lt;00:00, 164.75s/it]"
      }
     },
     "c2856e318da144a9bf1dec46c8fd0b3d": {
      "model_module": "@jupyter-widgets/base",
      "model_module_version": "1.2.0",
      "model_name": "LayoutModel",
      "state": {
       "_model_module": "@jupyter-widgets/base",
       "_model_module_version": "1.2.0",
       "_model_name": "LayoutModel",
       "_view_count": null,
       "_view_module": "@jupyter-widgets/base",
       "_view_module_version": "1.2.0",
       "_view_name": "LayoutView",
       "align_content": null,
       "align_items": null,
       "align_self": null,
       "border": null,
       "bottom": null,
       "display": null,
       "flex": null,
       "flex_flow": null,
       "grid_area": null,
       "grid_auto_columns": null,
       "grid_auto_flow": null,
       "grid_auto_rows": null,
       "grid_column": null,
       "grid_gap": null,
       "grid_row": null,
       "grid_template_areas": null,
       "grid_template_columns": null,
       "grid_template_rows": null,
       "height": null,
       "justify_content": null,
       "justify_items": null,
       "left": null,
       "margin": null,
       "max_height": null,
       "max_width": null,
       "min_height": null,
       "min_width": null,
       "object_fit": null,
       "object_position": null,
       "order": null,
       "overflow": null,
       "overflow_x": null,
       "overflow_y": null,
       "padding": null,
       "right": null,
       "top": null,
       "visibility": null,
       "width": null
      }
     },
     "c6651ca3b0af49c7a4673092ba67d97f": {
      "model_module": "@jupyter-widgets/base",
      "model_module_version": "1.2.0",
      "model_name": "LayoutModel",
      "state": {
       "_model_module": "@jupyter-widgets/base",
       "_model_module_version": "1.2.0",
       "_model_name": "LayoutModel",
       "_view_count": null,
       "_view_module": "@jupyter-widgets/base",
       "_view_module_version": "1.2.0",
       "_view_name": "LayoutView",
       "align_content": null,
       "align_items": null,
       "align_self": null,
       "border": null,
       "bottom": null,
       "display": null,
       "flex": null,
       "flex_flow": null,
       "grid_area": null,
       "grid_auto_columns": null,
       "grid_auto_flow": null,
       "grid_auto_rows": null,
       "grid_column": null,
       "grid_gap": null,
       "grid_row": null,
       "grid_template_areas": null,
       "grid_template_columns": null,
       "grid_template_rows": null,
       "height": null,
       "justify_content": null,
       "justify_items": null,
       "left": null,
       "margin": null,
       "max_height": null,
       "max_width": null,
       "min_height": null,
       "min_width": null,
       "object_fit": null,
       "object_position": null,
       "order": null,
       "overflow": null,
       "overflow_x": null,
       "overflow_y": null,
       "padding": null,
       "right": null,
       "top": null,
       "visibility": null,
       "width": null
      }
     },
     "cae99b85dc2343059b293624db091233": {
      "model_module": "@jupyter-widgets/base",
      "model_module_version": "1.2.0",
      "model_name": "LayoutModel",
      "state": {
       "_model_module": "@jupyter-widgets/base",
       "_model_module_version": "1.2.0",
       "_model_name": "LayoutModel",
       "_view_count": null,
       "_view_module": "@jupyter-widgets/base",
       "_view_module_version": "1.2.0",
       "_view_name": "LayoutView",
       "align_content": null,
       "align_items": null,
       "align_self": null,
       "border": null,
       "bottom": null,
       "display": null,
       "flex": null,
       "flex_flow": null,
       "grid_area": null,
       "grid_auto_columns": null,
       "grid_auto_flow": null,
       "grid_auto_rows": null,
       "grid_column": null,
       "grid_gap": null,
       "grid_row": null,
       "grid_template_areas": null,
       "grid_template_columns": null,
       "grid_template_rows": null,
       "height": null,
       "justify_content": null,
       "justify_items": null,
       "left": null,
       "margin": null,
       "max_height": null,
       "max_width": null,
       "min_height": null,
       "min_width": null,
       "object_fit": null,
       "object_position": null,
       "order": null,
       "overflow": null,
       "overflow_x": null,
       "overflow_y": null,
       "padding": null,
       "right": null,
       "top": null,
       "visibility": null,
       "width": null
      }
     },
     "d223ed432d1c43fc927960356e4ace7d": {
      "model_module": "@jupyter-widgets/base",
      "model_module_version": "1.2.0",
      "model_name": "LayoutModel",
      "state": {
       "_model_module": "@jupyter-widgets/base",
       "_model_module_version": "1.2.0",
       "_model_name": "LayoutModel",
       "_view_count": null,
       "_view_module": "@jupyter-widgets/base",
       "_view_module_version": "1.2.0",
       "_view_name": "LayoutView",
       "align_content": null,
       "align_items": null,
       "align_self": null,
       "border": null,
       "bottom": null,
       "display": null,
       "flex": null,
       "flex_flow": null,
       "grid_area": null,
       "grid_auto_columns": null,
       "grid_auto_flow": null,
       "grid_auto_rows": null,
       "grid_column": null,
       "grid_gap": null,
       "grid_row": null,
       "grid_template_areas": null,
       "grid_template_columns": null,
       "grid_template_rows": null,
       "height": null,
       "justify_content": null,
       "justify_items": null,
       "left": null,
       "margin": null,
       "max_height": null,
       "max_width": null,
       "min_height": null,
       "min_width": null,
       "object_fit": null,
       "object_position": null,
       "order": null,
       "overflow": null,
       "overflow_x": null,
       "overflow_y": null,
       "padding": null,
       "right": null,
       "top": null,
       "visibility": null,
       "width": null
      }
     },
     "d4097b5e94954e12991f66efe74a807d": {
      "model_module": "@jupyter-widgets/controls",
      "model_module_version": "1.5.0",
      "model_name": "HBoxModel",
      "state": {
       "_dom_classes": [],
       "_model_module": "@jupyter-widgets/controls",
       "_model_module_version": "1.5.0",
       "_model_name": "HBoxModel",
       "_view_count": null,
       "_view_module": "@jupyter-widgets/controls",
       "_view_module_version": "1.5.0",
       "_view_name": "HBoxView",
       "box_style": "",
       "children": [
        "IPY_MODEL_f53cf4fd848540ebb90f586ddfac6d33",
        "IPY_MODEL_3420f9d11afd45159dafe2bd9509a5c2",
        "IPY_MODEL_bdb4fc0fdabb4866ab7a2ed595b4c69e"
       ],
       "layout": "IPY_MODEL_a2c573b7b5284901a719100b06d1675c"
      }
     },
     "df89b05026bd4ac38938cc6c7f42b14d": {
      "model_module": "@jupyter-widgets/controls",
      "model_module_version": "1.5.0",
      "model_name": "ProgressStyleModel",
      "state": {
       "_model_module": "@jupyter-widgets/controls",
       "_model_module_version": "1.5.0",
       "_model_name": "ProgressStyleModel",
       "_view_count": null,
       "_view_module": "@jupyter-widgets/base",
       "_view_module_version": "1.2.0",
       "_view_name": "StyleView",
       "bar_color": null,
       "description_width": ""
      }
     },
     "e1c0bfdb0c264ec68418f78512c10b6b": {
      "model_module": "@jupyter-widgets/base",
      "model_module_version": "1.2.0",
      "model_name": "LayoutModel",
      "state": {
       "_model_module": "@jupyter-widgets/base",
       "_model_module_version": "1.2.0",
       "_model_name": "LayoutModel",
       "_view_count": null,
       "_view_module": "@jupyter-widgets/base",
       "_view_module_version": "1.2.0",
       "_view_name": "LayoutView",
       "align_content": null,
       "align_items": null,
       "align_self": null,
       "border": null,
       "bottom": null,
       "display": null,
       "flex": null,
       "flex_flow": null,
       "grid_area": null,
       "grid_auto_columns": null,
       "grid_auto_flow": null,
       "grid_auto_rows": null,
       "grid_column": null,
       "grid_gap": null,
       "grid_row": null,
       "grid_template_areas": null,
       "grid_template_columns": null,
       "grid_template_rows": null,
       "height": null,
       "justify_content": null,
       "justify_items": null,
       "left": null,
       "margin": null,
       "max_height": null,
       "max_width": null,
       "min_height": null,
       "min_width": null,
       "object_fit": null,
       "object_position": null,
       "order": null,
       "overflow": null,
       "overflow_x": null,
       "overflow_y": null,
       "padding": null,
       "right": null,
       "top": null,
       "visibility": null,
       "width": null
      }
     },
     "e7a785d627f54940a3beb86d5cf999a3": {
      "model_module": "@jupyter-widgets/controls",
      "model_module_version": "1.5.0",
      "model_name": "DescriptionStyleModel",
      "state": {
       "_model_module": "@jupyter-widgets/controls",
       "_model_module_version": "1.5.0",
       "_model_name": "DescriptionStyleModel",
       "_view_count": null,
       "_view_module": "@jupyter-widgets/base",
       "_view_module_version": "1.2.0",
       "_view_name": "StyleView",
       "description_width": ""
      }
     },
     "eb61cb470c174e51aea6883866444f88": {
      "model_module": "@jupyter-widgets/controls",
      "model_module_version": "1.5.0",
      "model_name": "FloatProgressModel",
      "state": {
       "_dom_classes": [],
       "_model_module": "@jupyter-widgets/controls",
       "_model_module_version": "1.5.0",
       "_model_name": "FloatProgressModel",
       "_view_count": null,
       "_view_module": "@jupyter-widgets/controls",
       "_view_module_version": "1.5.0",
       "_view_name": "ProgressView",
       "bar_style": "success",
       "description": "",
       "description_tooltip": null,
       "layout": "IPY_MODEL_97de3b37e53e41a0bf663d78a9c0eb65",
       "max": 5,
       "min": 0,
       "orientation": "horizontal",
       "style": "IPY_MODEL_df89b05026bd4ac38938cc6c7f42b14d",
       "value": 5
      }
     },
     "ed14d1d0c07744fd9aa20cb6811ffe7f": {
      "model_module": "@jupyter-widgets/base",
      "model_module_version": "1.2.0",
      "model_name": "LayoutModel",
      "state": {
       "_model_module": "@jupyter-widgets/base",
       "_model_module_version": "1.2.0",
       "_model_name": "LayoutModel",
       "_view_count": null,
       "_view_module": "@jupyter-widgets/base",
       "_view_module_version": "1.2.0",
       "_view_name": "LayoutView",
       "align_content": null,
       "align_items": null,
       "align_self": null,
       "border": null,
       "bottom": null,
       "display": null,
       "flex": null,
       "flex_flow": null,
       "grid_area": null,
       "grid_auto_columns": null,
       "grid_auto_flow": null,
       "grid_auto_rows": null,
       "grid_column": null,
       "grid_gap": null,
       "grid_row": null,
       "grid_template_areas": null,
       "grid_template_columns": null,
       "grid_template_rows": null,
       "height": null,
       "justify_content": null,
       "justify_items": null,
       "left": null,
       "margin": null,
       "max_height": null,
       "max_width": null,
       "min_height": null,
       "min_width": null,
       "object_fit": null,
       "object_position": null,
       "order": null,
       "overflow": null,
       "overflow_x": null,
       "overflow_y": null,
       "padding": null,
       "right": null,
       "top": null,
       "visibility": null,
       "width": null
      }
     },
     "f53cf4fd848540ebb90f586ddfac6d33": {
      "model_module": "@jupyter-widgets/controls",
      "model_module_version": "1.5.0",
      "model_name": "HTMLModel",
      "state": {
       "_dom_classes": [],
       "_model_module": "@jupyter-widgets/controls",
       "_model_module_version": "1.5.0",
       "_model_name": "HTMLModel",
       "_view_count": null,
       "_view_module": "@jupyter-widgets/controls",
       "_view_module_version": "1.5.0",
       "_view_name": "HTMLView",
       "description": "",
       "description_tooltip": null,
       "layout": "IPY_MODEL_1e741a8a38ca44d4b5d9e9d0ed3c1e94",
       "placeholder": "​",
       "style": "IPY_MODEL_16bd24898f4747d19a4c515bc001fa35",
       "value": "100%"
      }
     },
     "fd857460767b432d8771244a6765ad9b": {
      "model_module": "@jupyter-widgets/controls",
      "model_module_version": "1.5.0",
      "model_name": "DescriptionStyleModel",
      "state": {
       "_model_module": "@jupyter-widgets/controls",
       "_model_module_version": "1.5.0",
       "_model_name": "DescriptionStyleModel",
       "_view_count": null,
       "_view_module": "@jupyter-widgets/base",
       "_view_module_version": "1.2.0",
       "_view_name": "StyleView",
       "description_width": ""
      }
     }
    },
    "version_major": 2,
    "version_minor": 0
   }
  }
 },
 "nbformat": 4,
 "nbformat_minor": 4
}
