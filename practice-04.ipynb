{
 "cells": [
  {
   "cell_type": "markdown",
   "metadata": {
    "papermill": {
     "duration": 0.060508,
     "end_time": "2020-12-12T16:51:46.418162",
     "exception": false,
     "start_time": "2020-12-12T16:51:46.357654",
     "status": "completed"
    },
    "tags": []
   },
   "source": [
    "# Машинное обучение, ВМК МГУ\n",
    "\n",
    "## Практическое задание 4. Разложение ошибки на смещение и разброс. Градиентный бустинг ~~своими руками~~\n",
    "\n",
    "### Общая информация\n",
    "\n",
    "Дата выдачи: 30.11.2020 01:00\n",
    "\n",
    "Мягкий дедлайн: 01:00MSK 14.12.2020\n",
    "\n",
    "Жесткий дедлайн: 01:00MSK 21.12.2020\n",
    "\n",
    "### Оценивание и штрафы\n",
    "Каждая из задач имеет определенную «стоимость» (указана в скобках около задачи). Максимально допустимая оценка за работу — 10 баллов.\n",
    "\n",
    "Сдавать задание после указанного срока сдачи нельзя. При выставлении неполного балла за задание в связи с наличием ошибок на усмотрение проверяющего предусмотрена возможность исправить работу на указанных в ответном письме условиях.\n",
    "\n",
    "Задание выполняется самостоятельно. «Похожие» решения считаются плагиатом и все задействованные студенты (в том числе те, у кого списали) не могут получить за него больше 0 баллов (подробнее о плагиате см. на странице курса). Если вы нашли решение какого-то из заданий (или его часть) в открытом источнике, необходимо указать ссылку на этот источник в отдельном блоке в конце вашей работы (скорее всего вы будете не единственным, кто это нашел, поэтому чтобы исключить подозрение в плагиате, необходима ссылка на источник).\n",
    "\n",
    "Неэффективная реализация кода может негативно отразиться на оценке.\n",
    "\n",
    "### Формат сдачи\n",
    "Задания сдаются через систему anytask. Посылка должна содержать:\n",
    "* Ноутбук homework-practice-04-Username.ipynb\n",
    "\n",
    "Username — ваша фамилия и имя на латинице именно в таком порядке\n",
    "\n",
    "### О задании\n",
    "\n",
    "В этом задании вам предстоит воспользоваться возможностями bootstraping для оценки смещения и разброса алгоритмов машинного обучения. Делать мы это будем на данных boston. \n",
    "Также в задании вам будет предложено пообучать готовые модели градиентного бустинга и CatBoost."
   ]
  },
  {
   "cell_type": "markdown",
   "metadata": {
    "papermill": {
     "duration": 0.056917,
     "end_time": "2020-12-12T16:51:46.531813",
     "exception": false,
     "start_time": "2020-12-12T16:51:46.474896",
     "status": "completed"
    },
    "tags": []
   },
   "source": [
    "**Напоминание:**\n",
    "    \n",
    "* Все ваши графики должны быть **\"красивыми\"** --- подробнее о том, как их оформлять, можно найти в первом практическом задании. При несоответствии какиму-то из критериев вам могут снять баллы.\n",
    "* Пишите в текстовых ячейках/print в коде ответы на **все вопросы из заданий/просьбы сделать выводы** --- при их отсутствии мы не можем понять, сделали ли вы задание и понимаете, что происходит, и поэтому будем снижать баллы"
   ]
  },
  {
   "cell_type": "markdown",
   "metadata": {
    "papermill": {
     "duration": 0.056731,
     "end_time": "2020-12-12T16:51:46.645727",
     "exception": false,
     "start_time": "2020-12-12T16:51:46.588996",
     "status": "completed"
    },
    "tags": []
   },
   "source": [
    "## Часть 1. Bias-Variance Decomposition"
   ]
  },
  {
   "cell_type": "code",
   "execution_count": 1,
   "metadata": {
    "execution": {
     "iopub.execute_input": "2020-12-12T16:51:46.766826Z",
     "iopub.status.busy": "2020-12-12T16:51:46.766175Z",
     "iopub.status.idle": "2020-12-12T16:51:46.768723Z",
     "shell.execute_reply": "2020-12-12T16:51:46.769180Z"
    },
    "papermill": {
     "duration": 0.067242,
     "end_time": "2020-12-12T16:51:46.769338",
     "exception": false,
     "start_time": "2020-12-12T16:51:46.702096",
     "status": "completed"
    },
    "tags": []
   },
   "outputs": [],
   "source": [
    "import numpy as np\n",
    "import pandas as pd\n",
    "%matplotlib inline\n",
    "from matplotlib import pyplot as plt"
   ]
  },
  {
   "cell_type": "code",
   "execution_count": 2,
   "metadata": {
    "execution": {
     "iopub.execute_input": "2020-12-12T16:51:46.892866Z",
     "iopub.status.busy": "2020-12-12T16:51:46.892270Z",
     "iopub.status.idle": "2020-12-12T16:51:46.895136Z",
     "shell.execute_reply": "2020-12-12T16:51:46.894651Z"
    },
    "papermill": {
     "duration": 0.066378,
     "end_time": "2020-12-12T16:51:46.895227",
     "exception": false,
     "start_time": "2020-12-12T16:51:46.828849",
     "status": "completed"
    },
    "tags": []
   },
   "outputs": [],
   "source": [
    "plt.rc('axes', axisbelow=True, grid=True)\n",
    "plt.rc('figure', dpi=200)\n",
    "plt.rc('grid', c='grey', ls=':')\n",
    "plt.rc('font', family='serif')\n",
    "plt.rc('mathtext', fontset='dejavuserif')"
   ]
  },
  {
   "cell_type": "code",
   "execution_count": 3,
   "metadata": {
    "execution": {
     "iopub.execute_input": "2020-12-12T16:51:47.014898Z",
     "iopub.status.busy": "2020-12-12T16:51:47.014213Z",
     "iopub.status.idle": "2020-12-12T16:51:47.861740Z",
     "shell.execute_reply": "2020-12-12T16:51:47.860944Z"
    },
    "papermill": {
     "duration": 0.909892,
     "end_time": "2020-12-12T16:51:47.861863",
     "exception": false,
     "start_time": "2020-12-12T16:51:46.951971",
     "status": "completed"
    },
    "tags": []
   },
   "outputs": [],
   "source": [
    "from sklearn.datasets import load_boston"
   ]
  },
  {
   "cell_type": "code",
   "execution_count": 4,
   "metadata": {
    "execution": {
     "iopub.execute_input": "2020-12-12T16:51:47.982207Z",
     "iopub.status.busy": "2020-12-12T16:51:47.981503Z",
     "iopub.status.idle": "2020-12-12T16:51:47.994532Z",
     "shell.execute_reply": "2020-12-12T16:51:47.993944Z"
    },
    "papermill": {
     "duration": 0.073631,
     "end_time": "2020-12-12T16:51:47.994651",
     "exception": false,
     "start_time": "2020-12-12T16:51:47.921020",
     "status": "completed"
    },
    "tags": []
   },
   "outputs": [],
   "source": [
    "boston = load_boston()"
   ]
  },
  {
   "cell_type": "code",
   "execution_count": 5,
   "metadata": {
    "execution": {
     "iopub.execute_input": "2020-12-12T16:51:48.114177Z",
     "iopub.status.busy": "2020-12-12T16:51:48.113364Z",
     "iopub.status.idle": "2020-12-12T16:51:48.115720Z",
     "shell.execute_reply": "2020-12-12T16:51:48.116214Z"
    },
    "papermill": {
     "duration": 0.065205,
     "end_time": "2020-12-12T16:51:48.116366",
     "exception": false,
     "start_time": "2020-12-12T16:51:48.051161",
     "status": "completed"
    },
    "tags": []
   },
   "outputs": [],
   "source": [
    "X = boston[\"data\"]\n",
    "y = boston[\"target\"]"
   ]
  },
  {
   "cell_type": "code",
   "execution_count": 6,
   "metadata": {
    "execution": {
     "iopub.execute_input": "2020-12-12T16:51:48.239275Z",
     "iopub.status.busy": "2020-12-12T16:51:48.238631Z",
     "iopub.status.idle": "2020-12-12T16:51:48.242715Z",
     "shell.execute_reply": "2020-12-12T16:51:48.242140Z"
    },
    "papermill": {
     "duration": 0.067978,
     "end_time": "2020-12-12T16:51:48.242840",
     "exception": false,
     "start_time": "2020-12-12T16:51:48.174862",
     "status": "completed"
    },
    "tags": []
   },
   "outputs": [
    {
     "data": {
      "text/plain": [
       "((506, 13), (506,))"
      ]
     },
     "execution_count": 6,
     "metadata": {},
     "output_type": "execute_result"
    }
   ],
   "source": [
    "X.shape, y.shape"
   ]
  },
  {
   "cell_type": "markdown",
   "metadata": {
    "papermill": {
     "duration": 0.058988,
     "end_time": "2020-12-12T16:51:48.363534",
     "exception": false,
     "start_time": "2020-12-12T16:51:48.304546",
     "status": "completed"
    },
    "tags": []
   },
   "source": [
    "### Вычисление bias и variance с помощью бутстрапа\n",
    "На лекции была выведено следующая формула, показывающая, как можно представить ошибку алгоритма регрессии в виде суммы трех компонент:\n",
    "$$\n",
    "L(\\mu) = \n",
    "    \\mathbb{E}_{x, y}\\bigl[\\mathbb{E}_{X}\\bigl[ (y - \\mu(X)(x))^2 \\bigr]\\bigr] = \n",
    "$$\n",
    "$$\n",
    "    \\underbrace{\\mathbb{E}_{x, y}\\bigl[(y - \\mathbb{E}[y|x] )^2\\bigr]}_{\\text{шум}} + \\underbrace{\\mathbb{E}_{x}\\bigl[(\\mathbb{E}_{X}[\\mu(X)(x)] - \\mathbb{E}[y|x] )^2\\bigr]}_{\\text{смещение}} +\n",
    "    \\underbrace{\\mathbb{E}_{x}\\bigl[\\mathbb{E}_{X}\\bigl[(\\mu(X)(x) - \\mathbb{E}_{X}[\\mu(X)(x)] )^2\\bigr]\\bigr]}_{\\text{разброс}},\n",
    "$$\n",
    "* $\\mu(X)$ — алгоритм, обученный по выборке $X = \\{(x_1, y_1), \\dots (x_\\ell, y_\\ell)\\}$;\n",
    "* $\\mu(X)(x)$ — ответ алгоритма, обученного по выборке $X$, на объекте $x$;\n",
    "* $\\mathbb{E}_{X}$ — мат. ожидание по всем возможным выборкам;\n",
    "* $\\mathbb{E}_{X}[\\mu(X)(x)]$ — \"средний\" ответ алгоритма, обученного по всем возможным выборкам $X$, на объекте $x$.\n",
    "    \n",
    "С помощью этой формулы мы можем анализировать свойства алгоритма обучения модели $\\mu$, если зададим вероятностную модель порождения пар $p(x, y)$.\n",
    "\n",
    "В реальных задачах мы, конечно же, не знаем распределение на парах объект - правильный ответ. Однако у нас есть набор семплов из этого распределения (обучающую выборка), и мы можем использовать его, чтобы оценивать математические ожидания. Для оценки мат. ожиданий по выборкам мы будем пользоваться бутстрэпом - методом генерации \"новых\" выборок из одной с помощью выбора объектов с возвращением. Разберем несколько шагов на пути к оценке смещения и разброса.\n",
    "\n",
    "#### Приближенное вычисление интегралов\n",
    "На занятиях мы разбирали примеры аналитического вычисления смещения и разброса нескольких алгоритмов обучения. Для большинства моделей данных и алгоритмов обучения аналитически рассчитать математические ожидания в формулах не удастся. Однако мат. ожидания можно оценивать приближенно. Чтобы оценить математическое ожидание $\\mathbb{E}_{\\bar z} f(\\bar z)$ функции от многомерной случайной величины $\\bar z = (z_1, \\dots, z_d)$, $\\bar z \\sim p(\\bar z)$, можно сгенерировать выборку из распределения $p(\\bar z)$ и усреднить значение функции на элементах этой выборки:\n",
    "$$\\mathbb{E}_{\\bar z} f(z) = \\int f(\\bar z) p(\\bar z) d \\bar z \\approx \\frac 1 m \\sum_{i=1}^m f(\\bar z_i), \\, \\bar z_i \\sim p(\\bar z), i = 1, \\dots, m.$$\n",
    "\n",
    "Например, оценим $\\mathbb{E}_z z^2,$ $z \\sim \\mathcal{N}(\\mu=5, \\sigma=3)$ (из теории вероятностей мы знаем, что\n",
    "$\\mathbb{E}_z z^2 = \\sigma^2 + \\mu^2 = 34$):"
   ]
  },
  {
   "cell_type": "code",
   "execution_count": 7,
   "metadata": {
    "execution": {
     "iopub.execute_input": "2020-12-12T16:51:48.487950Z",
     "iopub.status.busy": "2020-12-12T16:51:48.487262Z",
     "iopub.status.idle": "2020-12-12T16:51:48.491671Z",
     "shell.execute_reply": "2020-12-12T16:51:48.491110Z"
    },
    "papermill": {
     "duration": 0.067116,
     "end_time": "2020-12-12T16:51:48.491778",
     "exception": false,
     "start_time": "2020-12-12T16:51:48.424662",
     "status": "completed"
    },
    "tags": []
   },
   "outputs": [
    {
     "data": {
      "text/plain": [
       "33.20300208554895"
      ]
     },
     "execution_count": 7,
     "metadata": {},
     "output_type": "execute_result"
    }
   ],
   "source": [
    "z = np.random.normal(loc=5, scale=3, size=1000)\n",
    "(z**2).mean()"
   ]
  },
  {
   "cell_type": "markdown",
   "metadata": {
    "papermill": {
     "duration": 0.057804,
     "end_time": "2020-12-12T16:51:48.608594",
     "exception": false,
     "start_time": "2020-12-12T16:51:48.550790",
     "status": "completed"
    },
    "tags": []
   },
   "source": [
    "#### Оценивание $\\mathbb{E}_{x, y}$\n",
    "Оценить мат. ожидания по $x$ и по $x, y$, встречающиеся во всех трех компонентах разложения, несложно, потому что у нас есть выборка объектов из распределения данных $p(x, y)$:\n",
    "$$ \\mathbb{E}_{x} f(x) \\approx \\frac 1 N \\sum_{i=1}^N f(x_i), \\quad\n",
    "\\mathbb{E}_{x, y} f(x, y) \\approx \\frac 1 N \\sum_{i=1}^N f(x_i, y_i),$$\n",
    "где $N$ - число объектов в выборке, $\\{(x_i, y_i)\\}_{i=1}^N$ - сама выборка. \n",
    "\n",
    "#### Оценивание $\\mathbb{E}_X$ с помощью бутстрапа\n",
    "Чтобы оценить мат. ожидание по $X$, нам понадобится выборка из выборок:\n",
    "$$\\mathbb{E}_X f(X) \\approx \\frac 1 s \\sum_{j=1}^s f(X_j),$$\n",
    "где $X_j$ - $j$-я выборка. Чтобы их получить, мы можем воспользоваться бутстрапом - методом генерации выборок на основе выбора объектов с возвращением. Чтобы составить одну выборку, будем $N$ раз выбирать индекс объекта $i \\sim \\text{Uniform}(1 \\dots N)$ и добавлять $i$-ю пару (объект, целевая переменная) в выборку. В результате в каждой выборке могут появиться повторяющиеся объекты, а какие-то объекты могут вовсе не войти в некоторые выборки.\n",
    "\n",
    "#### Итоговый алгоритм оценки смещения и разброса алгоритма $a$\n",
    "1. Сгенерировать $s$ выборок $X_j$ методом бутстрапа.\n",
    "1. На каждой выборке $X_j$ обучить алгоритм $a_j$.\n",
    "1. Для каждой выборки $X_j$ определить множество объектов $T_j$, не вошедших в нее (out-of-bag). Вычислить предсказания алгоритма $a_j$ на объектах $T_j$. \n",
    "\n",
    "Поскольку у нас есть только один ответ для каждого объекта, мы будем считать шум равным 0, а $\\mathbb{E}[y|x]$ равным имеющемуся правильному ответу для объекта $x$. \n",
    "\n",
    "Итоговые оценки:\n",
    "* Смещение: для одного объекта - квадрат разности среднего предсказания и правильного ответа. Среднее предсказание берется только по тем алгоритмам $a_j$, для которых этот объект входил в out-of-bag выборку $T_j$. Для получения общего смещения выполнить усреденение смещений по объектам.\n",
    "* Разброс: для одного объекта - выборочная дисперсия предсказаний алгоритмов $a_j$, для которых этот объект входил в out-of-bag выборку $T_j$. Для получения общего разброса выполнить усреденение разбросов по объектам.\n",
    "* Ошибка $L$: усреднить квадраты разностей предсказания и правильного ответа по всем выполненным предсказаниям для всех объектов.\n",
    "\n",
    "В результате должно получиться, что ошибка приблизительно равна сумме смещения и разброса!\n",
    "\n",
    "Алгоритм также вкратце описан по [ссылке](https://web.engr.oregonstate.edu/~tgd/classes/534/slides/part9.pdf) (слайды 19-21).\n",
    "\n",
    "__Задание 1. (1.5 баллa)__\n",
    "\n",
    "Реализуйте описанный алгоритм. Обратите внимание, что если объект не вошел ни в одну из out-of-bag выборок, учитывать его в вычислении итоговых величин не нужно. Как обычно, разрешается использовать только один цикл - по выборкам (от 0 до num_runs-1)."
   ]
  },
  {
   "cell_type": "markdown",
   "metadata": {
    "papermill": {
     "duration": 0.061658,
     "end_time": "2020-12-12T16:51:48.729463",
     "exception": false,
     "start_time": "2020-12-12T16:51:48.667805",
     "status": "completed"
    },
    "tags": []
   },
   "source": [
    "<font color=blue>Комментарии к реализации:\n",
    "* Возникло желание добавить параметр `seed` для воспроизводимости. Преодолеть не получилось. <i>(Сообщение из будущего: дальше в работе при всех случайных генерациях дополнительно вводится сид, по умолчанию равный нулю)</i>\n",
    "* В формуле для разброса внутри матожидания (по объектам) стоит дисперсия (по выборкам), для оценки которой в условии предлагается усреднять ее по аналогии с матожиданием. Однако по [ссылке](https://web.engr.oregonstate.edu/~tgd/classes/534/slides/part9.pdf) для оценки используется исправленная выборочная дисперсия. И именно она считается в реализации, поскольку является несмещенной оценкой дисперсии.\n",
    "* Перед расчетом смещения, разброса и ошибки необязательно сохранять все предсказания. Так можно было бы сделать, но для этого пришлось бы либо использовать структуры данных нефиксированного размера (например, список списков), либо заранее выделять большой фрагмент памяти, большая часть которого не понадится. В реализации, приведенно ниже, используется другой подход. А именно, для каждого объекта накопливаются три величины: сколько раз он попал в oob (`cnts`), сумма ответов (`sums`), сумма квадратов ответов (`sqr_sums`). Этих статистик достаточно для подсчета общей ошибки, смещения и разброса.\n",
    "</font>"
   ]
  },
  {
   "cell_type": "code",
   "execution_count": 8,
   "metadata": {
    "execution": {
     "iopub.execute_input": "2020-12-12T16:51:48.863442Z",
     "iopub.status.busy": "2020-12-12T16:51:48.862426Z",
     "iopub.status.idle": "2020-12-12T16:51:48.867156Z",
     "shell.execute_reply": "2020-12-12T16:51:48.866542Z"
    },
    "papermill": {
     "duration": 0.079274,
     "end_time": "2020-12-12T16:51:48.867264",
     "exception": false,
     "start_time": "2020-12-12T16:51:48.787990",
     "status": "completed"
    },
    "tags": []
   },
   "outputs": [],
   "source": [
    "from tqdm.notebook import trange\n",
    "\n",
    "def compute_biase_variance(regressor, X, y, num_runs=1000, seed=0):\n",
    "    \"\"\"\n",
    "    :param regressor: sklearn estimator with fit(...) and predict(...) method\n",
    "    :param X: numpy-array representing training set of objects, shape [n_obj, n_feat]\n",
    "    :param y: numpy-array representing target for training objects, shape [n_obj]\n",
    "    :param num_runs: int, number of samples (s in the description of the algorithm)\n",
    "    :param seed: int, a seed to initialize random generator\n",
    "    \n",
    "    :returns: bias (float), variance (float), error (float) \n",
    "    each value is computed using bootstrap\n",
    "    \"\"\"\n",
    "    rng = np.random.default_rng(seed=seed)\n",
    "    all_inds = np.arange(len(y))\n",
    "    sums = np.zeros(len(y), dtype=float)\n",
    "    sqr_sums = np.zeros_like(sums)\n",
    "    cnts = np.zeros(len(y), dtype=int)\n",
    "    for _ in trange(num_runs):\n",
    "        bs_inds = rng.choice(all_inds, len(y))\n",
    "        regressor.fit(X[bs_inds], y[bs_inds])\n",
    "        oob_inds = np.setdiff1d(all_inds, bs_inds)\n",
    "        preds = regressor.predict(X[oob_inds])\n",
    "        sums[oob_inds] += preds\n",
    "        sqr_sums[oob_inds] += preds ** 2\n",
    "        cnts[oob_inds] += 1\n",
    "    means = sums[cnts > 0] / cnts[cnts > 0]\n",
    "    error = (y[cnts > 0] * (y[cnts > 0] - 2 * means)).mean()\n",
    "    error += (sqr_sums[cnts > 0] / cnts[cnts > 0]).mean()\n",
    "    bias = ((means - y[cnts > 0]) ** 2).mean()\n",
    "    variance = ((sqr_sums[cnts > 1] - (sums[cnts > 1] ** 2) / cnts[cnts > 1])\n",
    "                / (cnts[cnts > 1] - 1)).mean()\n",
    "    return bias, variance, error"
   ]
  },
  {
   "cell_type": "markdown",
   "metadata": {
    "papermill": {
     "duration": 0.05829,
     "end_time": "2020-12-12T16:51:48.986082",
     "exception": false,
     "start_time": "2020-12-12T16:51:48.927792",
     "status": "completed"
    },
    "tags": []
   },
   "source": [
    "**Задание 2. (0.5 баллa)**\n",
    "\n",
    "Оцените смещение, разброс и ошибку для трех алгоритмов с гиперпараметрами по умолчанию: линейная регрессия, решающее дерево, случайный лес.\n"
   ]
  },
  {
   "cell_type": "markdown",
   "metadata": {
    "papermill": {
     "duration": 0.058373,
     "end_time": "2020-12-12T16:51:49.104125",
     "exception": false,
     "start_time": "2020-12-12T16:51:49.045752",
     "status": "completed"
    },
    "tags": []
   },
   "source": [
    "<font color=blue>В параметрах sklearn-реализаций зафиксируем сид.</font>"
   ]
  },
  {
   "cell_type": "code",
   "execution_count": 9,
   "metadata": {
    "execution": {
     "iopub.execute_input": "2020-12-12T16:51:49.230913Z",
     "iopub.status.busy": "2020-12-12T16:51:49.230293Z",
     "iopub.status.idle": "2020-12-12T16:58:15.099114Z",
     "shell.execute_reply": "2020-12-12T16:58:15.098601Z"
    },
    "papermill": {
     "duration": 385.935722,
     "end_time": "2020-12-12T16:58:15.099229",
     "exception": false,
     "start_time": "2020-12-12T16:51:49.163507",
     "status": "completed"
    },
    "tags": []
   },
   "outputs": [
    {
     "data": {
      "application/vnd.jupyter.widget-view+json": {
       "model_id": "49383ce6cdde4000b51459c3b8aab1a5",
       "version_major": 2,
       "version_minor": 0
      },
      "text/plain": [
       "HBox(children=(FloatProgress(value=0.0, max=1000.0), HTML(value='')))"
      ]
     },
     "metadata": {},
     "output_type": "display_data"
    },
    {
     "name": "stdout",
     "output_type": "stream",
     "text": [
      "\n"
     ]
    },
    {
     "data": {
      "application/vnd.jupyter.widget-view+json": {
       "model_id": "c811dff2b30c4ec3b44b8f7bdeee124f",
       "version_major": 2,
       "version_minor": 0
      },
      "text/plain": [
       "HBox(children=(FloatProgress(value=0.0, max=1000.0), HTML(value='')))"
      ]
     },
     "metadata": {},
     "output_type": "display_data"
    },
    {
     "name": "stdout",
     "output_type": "stream",
     "text": [
      "\n"
     ]
    },
    {
     "data": {
      "application/vnd.jupyter.widget-view+json": {
       "model_id": "24f3f257534545f9b668cefd6cad6c16",
       "version_major": 2,
       "version_minor": 0
      },
      "text/plain": [
       "HBox(children=(FloatProgress(value=0.0, max=1000.0), HTML(value='')))"
      ]
     },
     "metadata": {},
     "output_type": "display_data"
    },
    {
     "name": "stdout",
     "output_type": "stream",
     "text": [
      "\n"
     ]
    }
   ],
   "source": [
    "from sklearn.linear_model import LinearRegression\n",
    "from sklearn.tree import DecisionTreeRegressor\n",
    "from sklearn.ensemble import RandomForestRegressor\n",
    "\n",
    "names = ['linear regression', 'decision tree', 'random forest']\n",
    "models = [\n",
    "    LinearRegression(),\n",
    "    DecisionTreeRegressor(random_state=0),\n",
    "    RandomForestRegressor(random_state=0),\n",
    "]\n",
    "results = pd.DataFrame(index=names, columns=['bias', 'variance', 'error', '|bvd - error|'])\n",
    "for name, model in zip(names, models):\n",
    "    model.fit(X, y)\n",
    "    results.loc[name][:-1] = compute_biase_variance(model, X, y)\n",
    "results.iloc[:, -1] = (results.iloc[:, 0] + results.iloc[:, 1] - results.iloc[:, 2]).abs()"
   ]
  },
  {
   "cell_type": "code",
   "execution_count": 10,
   "metadata": {
    "execution": {
     "iopub.execute_input": "2020-12-12T16:58:15.235489Z",
     "iopub.status.busy": "2020-12-12T16:58:15.234800Z",
     "iopub.status.idle": "2020-12-12T16:58:15.242567Z",
     "shell.execute_reply": "2020-12-12T16:58:15.242007Z"
    },
    "papermill": {
     "duration": 0.079915,
     "end_time": "2020-12-12T16:58:15.242674",
     "exception": false,
     "start_time": "2020-12-12T16:58:15.162759",
     "status": "completed"
    },
    "tags": []
   },
   "outputs": [
    {
     "data": {
      "text/html": [
       "<div>\n",
       "<style scoped>\n",
       "    .dataframe tbody tr th:only-of-type {\n",
       "        vertical-align: middle;\n",
       "    }\n",
       "\n",
       "    .dataframe tbody tr th {\n",
       "        vertical-align: top;\n",
       "    }\n",
       "\n",
       "    .dataframe thead th {\n",
       "        text-align: right;\n",
       "    }\n",
       "</style>\n",
       "<table border=\"1\" class=\"dataframe\">\n",
       "  <thead>\n",
       "    <tr style=\"text-align: right;\">\n",
       "      <th></th>\n",
       "      <th>bias</th>\n",
       "      <th>variance</th>\n",
       "      <th>error</th>\n",
       "      <th>|bvd - error|</th>\n",
       "    </tr>\n",
       "  </thead>\n",
       "  <tbody>\n",
       "    <tr>\n",
       "      <th>linear regression</th>\n",
       "      <td>23.7287</td>\n",
       "      <td>0.923713</td>\n",
       "      <td>24.6499</td>\n",
       "      <td>0.00251937</td>\n",
       "    </tr>\n",
       "    <tr>\n",
       "      <th>decision tree</th>\n",
       "      <td>10.3007</td>\n",
       "      <td>13.1013</td>\n",
       "      <td>23.3662</td>\n",
       "      <td>0.0357746</td>\n",
       "    </tr>\n",
       "    <tr>\n",
       "      <th>random forest</th>\n",
       "      <td>10.6973</td>\n",
       "      <td>2.2294</td>\n",
       "      <td>12.9206</td>\n",
       "      <td>0.00609826</td>\n",
       "    </tr>\n",
       "  </tbody>\n",
       "</table>\n",
       "</div>"
      ],
      "text/plain": [
       "                      bias  variance    error |bvd - error|\n",
       "linear regression  23.7287  0.923713  24.6499    0.00251937\n",
       "decision tree      10.3007   13.1013  23.3662     0.0357746\n",
       "random forest      10.6973    2.2294  12.9206    0.00609826"
      ]
     },
     "execution_count": 10,
     "metadata": {},
     "output_type": "execute_result"
    }
   ],
   "source": [
    "results"
   ]
  },
  {
   "cell_type": "markdown",
   "metadata": {
    "papermill": {
     "duration": 0.064643,
     "end_time": "2020-12-12T16:58:15.369946",
     "exception": false,
     "start_time": "2020-12-12T16:58:15.305303",
     "status": "completed"
    },
    "tags": []
   },
   "source": [
    "Проанализируйте полученный результат. Согласуются ли полученные результаты с теми, что мы обсуждали на семинарах (с комментарием)?\n",
    "\n",
    "__Your answer here:__\n",
    "<font color=blue>Общая оценка ошибки почта совпадает с разложением на смещение и разброс! Различия обусловлены тем, что мы не учитываем шум и вычисляем непараметрические оценки рассматриваемых величин. Результаты вполне согласуются с теорией, которую мы обсуждали на семинарах. Наименьший разброс, как у самого «простого» алгоритма, у линейной регрессии, наибольший — у решающего дерева (об это далее). При этом предсказание линейной регресии оказались сильно смещены, что также характерно для простых моделей.</font>\n",
    "\n",
    "Вспомните во сколько раз в теории бутстрап уменьшает разброс базового алгоритма. Выполняется ли это в ваших экспериментах? Если нет, поясните, почему.\n",
    "\n",
    "__Your answer here:__\n",
    "<font color=blue>В проведенных экспериментах данный факт подтверждается отличием результатов в работе случайного леса и решающего дерева. В последнем варианте усредняются ответы работы деревьев, которые построены на подвыборках, сгенерерированных с помощью бутстрапа (бэггинг — bootstrap aggregation). Результаты показывают, что смещение почти не меняется, а вот разброс случайного леса почти в 6 раз меньше разброса решающего дерева. Согласно теории, при «хорошем» раскладе дисперсия могла бы уменьшится в число раз, соответствующее длине композиции. Дефолтное число деревьев в RandomForest — 100. В нашем эксперименте разброс не уменьшился в 100 раз из-за «не столь хорошего расклада»: алгоритмы одной природы и между ними присутствует корреляция.</font>"
   ]
  },
  {
   "cell_type": "markdown",
   "metadata": {
    "papermill": {
     "duration": 0.060483,
     "end_time": "2020-12-12T16:58:15.494537",
     "exception": false,
     "start_time": "2020-12-12T16:58:15.434054",
     "status": "completed"
    },
    "tags": []
   },
   "source": [
    "### Визуализация предсказаний базовых алгоритмов бэггинга\n",
    "\n",
    "В материалах лекций можно найти изображение, похожее на мишень - визуализация алгоритмов с разным смещением и разным разбросом. В центре \"мишени\" - правильный ответ, а \"попадания\" - предсказания алгоритмов, обученных по разным выборкам. Построим похожее изображение на наших данных для трех алгоритмов. Наши \"мишени\" будут одномерными, потому что мы решаем задачу одномерной регрессии.\n",
    "\n",
    "__Задание 3. (1.5 балла)__\n",
    "\n",
    "Реализуйте фукнцию plot_predictions. Она должна выполнять следующие действия:\n",
    "1. Случайно выбрать num_test_objects пар объект-целевая переменная из выборки X, y. Получится две выборки: маленькая X_test, y_test (выбранные тестовые объекты) и X_train, y_train (остальные объекты).\n",
    "1. Сгенерировать num_runs выборок методом бутстарапа из X_train, y_train. На каждой выборке обучить алгоритм regressor и сделать предсказания для X_test.\n",
    "1. Нарисовать scatter-график. По оси абсцисс - объекты тестовой выборки (номера от 0 до num_test_objects-1), по оси ординат - предсказания. В итоге получится num_test_objects столбиков с точками. Для каждого тестового объекта надо отметить одним цветом все предсказания для него, а также черным цветом отметить правильный ответ.\n",
    "1. Подпишите оси и название графика (аргумент title)."
   ]
  },
  {
   "cell_type": "code",
   "execution_count": 11,
   "metadata": {
    "execution": {
     "iopub.execute_input": "2020-12-12T16:58:15.629217Z",
     "iopub.status.busy": "2020-12-12T16:58:15.628539Z",
     "iopub.status.idle": "2020-12-12T16:58:15.630822Z",
     "shell.execute_reply": "2020-12-12T16:58:15.631256Z"
    },
    "papermill": {
     "duration": 0.074646,
     "end_time": "2020-12-12T16:58:15.631375",
     "exception": false,
     "start_time": "2020-12-12T16:58:15.556729",
     "status": "completed"
    },
    "tags": []
   },
   "outputs": [],
   "source": [
    "from sklearn.model_selection import train_test_split\n",
    "\n",
    "def plot_predictions(regressor, X, y, num_runs=100, num_test_objects=10, title=\"\", seed=0):\n",
    "    \"\"\"\n",
    "    plot graphics described above\n",
    "    \"\"\"\n",
    "    X_train, X_test, y_train, y_test = train_test_split(\n",
    "        X, y, test_size=num_test_objects, random_state=0)\n",
    "    rng = np.random.default_rng(seed=seed)\n",
    "    xs = np.arange(num_test_objects)\n",
    "    for i in range(num_runs):\n",
    "        bs_inds = rng.choice(len(y_train), len(y_train))\n",
    "        regressor.fit(X_train[bs_inds], y_train[bs_inds])\n",
    "        plt.scatter(xs, regressor.predict(X_test), color='magenta', s=90)\n",
    "    plt.scatter(xs, y_test, color='black', marker='*', s=80)\n",
    "    plt.title(title)\n",
    "    plt.xlabel('test object number')\n",
    "#     plt.ylabel('target')\n",
    "    plt.xticks(xs)"
   ]
  },
  {
   "cell_type": "markdown",
   "metadata": {
    "papermill": {
     "duration": 0.082543,
     "end_time": "2020-12-12T16:58:15.775594",
     "exception": false,
     "start_time": "2020-12-12T16:58:15.693051",
     "status": "completed"
    },
    "tags": []
   },
   "source": [
    "Нарисуйте графики для линейной регрессии, решающего дерева и случайного леса. Нарисуйте три графика в строчку (это можно сделать с помощью plt.subplot) с одинаковой осью ординат (это важно для понимания масштаба разброса у разных алгоритмов):"
   ]
  },
  {
   "cell_type": "markdown",
   "metadata": {
    "papermill": {
     "duration": 0.065693,
     "end_time": "2020-12-12T16:58:15.918849",
     "exception": false,
     "start_time": "2020-12-12T16:58:15.853156",
     "status": "completed"
    },
    "tags": []
   },
   "source": [
    "<font color=blue>Выровняем по единой оси ординат, но для наглядности не будем стирать пометки.</font>"
   ]
  },
  {
   "cell_type": "code",
   "execution_count": 12,
   "metadata": {
    "execution": {
     "iopub.execute_input": "2020-12-12T16:58:16.057041Z",
     "iopub.status.busy": "2020-12-12T16:58:16.050707Z",
     "iopub.status.idle": "2020-12-12T16:58:55.296637Z",
     "shell.execute_reply": "2020-12-12T16:58:55.297125Z"
    },
    "papermill": {
     "duration": 39.316343,
     "end_time": "2020-12-12T16:58:55.297260",
     "exception": false,
     "start_time": "2020-12-12T16:58:15.980917",
     "status": "completed"
    },
    "tags": []
   },
   "outputs": [
    {
     "data": {
      "image/png": "[encoded data removed]",
      "text/plain": [
       "<Figure size 2400x800 with 3 Axes>"
      ]
     },
     "metadata": {
      "needs_background": "light"
     },
     "output_type": "display_data"
    }
   ],
   "source": [
    "plt.figure(figsize=(12, 4))\n",
    "for i, (name, model) in enumerate(zip(names, models)):\n",
    "    if i == 0:\n",
    "        ax = plt.subplot(1, 3, i + 1)\n",
    "        plt.ylabel('target')\n",
    "    else:\n",
    "        plt.subplot(1, 3, i + 1, sharey=ax)\n",
    "    plot_predictions(model, X, y, title=name)\n",
    "plt.suptitle('1-dimensional «darts» of algorithms, stars denote real targets')\n",
    "plt.show()"
   ]
  },
  {
   "cell_type": "markdown",
   "metadata": {
    "papermill": {
     "duration": 0.068935,
     "end_time": "2020-12-12T16:58:55.433042",
     "exception": false,
     "start_time": "2020-12-12T16:58:55.364107",
     "status": "completed"
    },
    "tags": []
   },
   "source": [
    "Для каждого графика прокомментируйте, как он характеризует смещение и разброс соответствующего алгоритма.\n",
    "\n",
    "**Your answer here:**\n",
    "<font color=blue>Отметим, что по результатам работы алгоритмов видно, что скорее всего 1-й объект является выбросом — его истинная целевая переменная (цена дома) значительно превосходит оставшиеся, и алгоритмы часто ошибаются на нем. В меньшей мере это касается и 3-го объекта (уже в сторону низких цен).</font>\n",
    "* <font color=blue><b>Линейная регрессия</b> дает предсказания с наименьшим разбросом. Ее «простота», однако, не позволяет ей сделать адекватное предсказание для 1-го объекта, хотя на 3-м ее ответы близки к истине. Той же причиной может быть обусловлена неожиданная ошибка на 2-м объекте (все ответы смещены). Это может быть и следствием переобучения.</font>\n",
    "* <font color=blue>У <b>решающего дерева</b> действительно самый большой разброс по объектам (за исключением поведения леса на 1-м, но об этом далее). Но зато, в отличие от линейной регрессии, на каждый объект нашлось решающее дерево с достаточно точным предсказанием. А также у данного алгоритма видно наименьшее смещение.</font>\n",
    "* <font color=blue>Результаты <b>случайного леса</b> получились неоднозначными. Смещение почти всегда меньше, чем в линейной регрессии, но не всегда (объект 8). Разброс, опять же, чаще меньше, чем в линейной регрессии, но не на объектах 2, 3, 5, 9. И на 2-м здесь самый большой разброс в принципе: ответы «размазаны» от среднего к истинному наибольшему. Причем достигнуть истинного значения лесу не вполне удается — усреднение по множествам деревьев приводит к сглаживанию, и здесь ответы часто корректируются в сторону среднего. </font>\n",
    "\n",
    "<font color=blue>В целом, результаты согласуются с теорией и табличкой, полученной в задании 2.</font>"
   ]
  },
  {
   "cell_type": "markdown",
   "metadata": {
    "papermill": {
     "duration": 0.065991,
     "end_time": "2020-12-12T16:58:55.563646",
     "exception": false,
     "start_time": "2020-12-12T16:58:55.497655",
     "status": "completed"
    },
    "tags": []
   },
   "source": [
    "### Часть 2. Градиентный бустинг"
   ]
  },
  {
   "cell_type": "markdown",
   "metadata": {
    "papermill": {
     "duration": 0.064719,
     "end_time": "2020-12-12T16:58:55.694233",
     "exception": false,
     "start_time": "2020-12-12T16:58:55.629514",
     "status": "completed"
    },
    "tags": []
   },
   "source": [
    "**Задание 4 (1 балл)**\n",
    "\n",
    "Мы будем использовать данные из [соревнования](https://www.kaggle.com/t/b710e05dc0bd424995ca94da5b639869) (вам нужны только данные, посылать туда ничего не надо).\n",
    "* Загрузите таблицу application_train.csv;\n",
    "* Запишите в Y столбец с целевой переменной (TARGET);\n",
    "* Удалите ненужные столбцы:\n",
    "    * Воспользуйтесь описанием соревнования\n",
    "    * При желании, воспользуйтесь методами feature selection/стат. методами, если хотите. Объясните, что использовали и почему решили выкинуть тот или иной признак.\n",
    "* Определите тип столбцов и заполните пропуски - стратегия произвольная;\n",
    "* Разбейте выборку в соотношении 70:30 с random_state=0. Если считаете нужным, сделайте сбалансированное по классам разбиение.\n",
    "\n",
    "Так как в данных имеется значительный дисбаланс классов, в качестве метрики качества везде будем использовать площадь под precision-recall кривой (AUC-PR)."
   ]
  },
  {
   "cell_type": "markdown",
   "metadata": {
    "papermill": {
     "duration": 0.101911,
     "end_time": "2020-12-12T16:58:55.860856",
     "exception": false,
     "start_time": "2020-12-12T16:58:55.758945",
     "status": "completed"
    },
    "tags": []
   },
   "source": [
    "<font color=blue>Для предотвращения ликов сразу разделим выборку на трейн и тест (сделав <b>сбалансированное по классам разбиение</b>), а затем будем строить преобразование по трейну.</font>"
   ]
  },
  {
   "cell_type": "code",
   "execution_count": 13,
   "metadata": {
    "execution": {
     "iopub.execute_input": "2020-12-12T16:58:56.001449Z",
     "iopub.status.busy": "2020-12-12T16:58:56.000816Z",
     "iopub.status.idle": "2020-12-12T16:59:01.253487Z",
     "shell.execute_reply": "2020-12-12T16:59:01.252910Z"
    },
    "papermill": {
     "duration": 5.327548,
     "end_time": "2020-12-12T16:59:01.253639",
     "exception": false,
     "start_time": "2020-12-12T16:58:55.926091",
     "status": "completed"
    },
    "tags": []
   },
   "outputs": [],
   "source": [
    "from sklearn.model_selection import train_test_split\n",
    "\n",
    "features = pd.read_csv('../input/hse19-gbm/application_train.csv', index_col=0)\n",
    "Y = features.pop('TARGET')\n",
    "\n",
    "X_train, X_test, y_train, y_test = train_test_split(features, Y, test_size=0.3,\n",
    "                                                    random_state=0, stratify=Y)"
   ]
  },
  {
   "cell_type": "markdown",
   "metadata": {
    "papermill": {
     "duration": 0.067639,
     "end_time": "2020-12-12T16:59:01.386278",
     "exception": false,
     "start_time": "2020-12-12T16:59:01.318639",
     "status": "completed"
    },
    "tags": []
   },
   "source": [
    "<font color=blue>Описание соревнования ссылается описание другого [соревнования](https://www.kaggle.com/c/home-credit-default-risk/data), в котором есть специальный файл с описанием признаков. Выведем смысл целевой переменной и сохраним информацию об интересующих нас признаках.</font>"
   ]
  },
  {
   "cell_type": "code",
   "execution_count": 14,
   "metadata": {
    "execution": {
     "iopub.execute_input": "2020-12-12T16:59:01.523048Z",
     "iopub.status.busy": "2020-12-12T16:59:01.522186Z",
     "iopub.status.idle": "2020-12-12T16:59:01.524534Z",
     "shell.execute_reply": "2020-12-12T16:59:01.524968Z"
    },
    "papermill": {
     "duration": 0.071352,
     "end_time": "2020-12-12T16:59:01.525087",
     "exception": false,
     "start_time": "2020-12-12T16:59:01.453735",
     "status": "completed"
    },
    "tags": []
   },
   "outputs": [],
   "source": [
    "import numpy as np"
   ]
  },
  {
   "cell_type": "code",
   "execution_count": 15,
   "metadata": {
    "execution": {
     "iopub.execute_input": "2020-12-12T16:59:01.660982Z",
     "iopub.status.busy": "2020-12-12T16:59:01.660413Z",
     "iopub.status.idle": "2020-12-12T16:59:01.686811Z",
     "shell.execute_reply": "2020-12-12T16:59:01.686259Z"
    },
    "papermill": {
     "duration": 0.096564,
     "end_time": "2020-12-12T16:59:01.686921",
     "exception": false,
     "start_time": "2020-12-12T16:59:01.590357",
     "status": "completed"
    },
    "tags": []
   },
   "outputs": [
    {
     "name": "stdout",
     "output_type": "stream",
     "text": [
      "What do we need to predict?\n",
      "Target variable (1 - client with payment difficulties: he/she had late payment more than X days on at least one of the first Y installments of the loan in our sample, 0 - all other cases)\n"
     ]
    }
   ],
   "source": [
    "fname = '../input/home-credit-default-risk/HomeCredit_columns_description.csv'\n",
    "info = pd.read_csv(fname, index_col=0, encoding='ISO-8859-1')\n",
    "\n",
    "print(\"What do we need to predict?\")\n",
    "print(info[info['Row'] == 'TARGET']['Description'].iloc[0])\n",
    "\n",
    "info = info[(info['Table'] == 'application_{train|test}.csv')\n",
    "            & (info['Row'].isin(X_train.columns))].drop(columns='Table')"
   ]
  },
  {
   "cell_type": "markdown",
   "metadata": {
    "papermill": {
     "duration": 0.064641,
     "end_time": "2020-12-12T16:59:01.817564",
     "exception": false,
     "start_time": "2020-12-12T16:59:01.752923",
     "status": "completed"
    },
    "tags": []
   },
   "source": [
    "<font color=blue>То есть мы фактически решаем задачу кредитного скоринга.</font>"
   ]
  },
  {
   "cell_type": "code",
   "execution_count": 16,
   "metadata": {
    "execution": {
     "iopub.execute_input": "2020-12-12T16:59:01.955372Z",
     "iopub.status.busy": "2020-12-12T16:59:01.954769Z",
     "iopub.status.idle": "2020-12-12T16:59:01.958329Z",
     "shell.execute_reply": "2020-12-12T16:59:01.958827Z"
    },
    "papermill": {
     "duration": 0.074772,
     "end_time": "2020-12-12T16:59:01.958940",
     "exception": false,
     "start_time": "2020-12-12T16:59:01.884168",
     "status": "completed"
    },
    "tags": []
   },
   "outputs": [
    {
     "data": {
      "text/plain": [
       "120"
      ]
     },
     "execution_count": 16,
     "metadata": {},
     "output_type": "execute_result"
    }
   ],
   "source": [
    "# check if everything is okay and count features\n",
    "(info['Row'] == X_train.columns).sum()"
   ]
  },
  {
   "cell_type": "markdown",
   "metadata": {
    "papermill": {
     "duration": 0.06585,
     "end_time": "2020-12-12T16:59:02.091286",
     "exception": false,
     "start_time": "2020-12-12T16:59:02.025436",
     "status": "completed"
    },
    "tags": []
   },
   "source": [
    "<font color=blue>Посмотрим на первые признаки (`Row` — названия признаков, `Description` — описание, `Special` — дополнительная информация):</font>"
   ]
  },
  {
   "cell_type": "code",
   "execution_count": 17,
   "metadata": {
    "execution": {
     "iopub.execute_input": "2020-12-12T16:59:02.235723Z",
     "iopub.status.busy": "2020-12-12T16:59:02.234919Z",
     "iopub.status.idle": "2020-12-12T16:59:02.239117Z",
     "shell.execute_reply": "2020-12-12T16:59:02.238580Z"
    },
    "papermill": {
     "duration": 0.079821,
     "end_time": "2020-12-12T16:59:02.239245",
     "exception": false,
     "start_time": "2020-12-12T16:59:02.159424",
     "status": "completed"
    },
    "tags": []
   },
   "outputs": [
    {
     "data": {
      "text/html": [
       "<div>\n",
       "<style scoped>\n",
       "    .dataframe tbody tr th:only-of-type {\n",
       "        vertical-align: middle;\n",
       "    }\n",
       "\n",
       "    .dataframe tbody tr th {\n",
       "        vertical-align: top;\n",
       "    }\n",
       "\n",
       "    .dataframe thead th {\n",
       "        text-align: right;\n",
       "    }\n",
       "</style>\n",
       "<table border=\"1\" class=\"dataframe\">\n",
       "  <thead>\n",
       "    <tr style=\"text-align: right;\">\n",
       "      <th></th>\n",
       "      <th>Row</th>\n",
       "      <th>Description</th>\n",
       "      <th>Special</th>\n",
       "    </tr>\n",
       "  </thead>\n",
       "  <tbody>\n",
       "    <tr>\n",
       "      <th>5</th>\n",
       "      <td>NAME_CONTRACT_TYPE</td>\n",
       "      <td>Identification if loan is cash or revolving</td>\n",
       "      <td>NaN</td>\n",
       "    </tr>\n",
       "    <tr>\n",
       "      <th>6</th>\n",
       "      <td>CODE_GENDER</td>\n",
       "      <td>Gender of the client</td>\n",
       "      <td>NaN</td>\n",
       "    </tr>\n",
       "    <tr>\n",
       "      <th>7</th>\n",
       "      <td>FLAG_OWN_CAR</td>\n",
       "      <td>Flag if the client owns a car</td>\n",
       "      <td>NaN</td>\n",
       "    </tr>\n",
       "    <tr>\n",
       "      <th>8</th>\n",
       "      <td>FLAG_OWN_REALTY</td>\n",
       "      <td>Flag if client owns a house or flat</td>\n",
       "      <td>NaN</td>\n",
       "    </tr>\n",
       "    <tr>\n",
       "      <th>9</th>\n",
       "      <td>CNT_CHILDREN</td>\n",
       "      <td>Number of children the client has</td>\n",
       "      <td>NaN</td>\n",
       "    </tr>\n",
       "  </tbody>\n",
       "</table>\n",
       "</div>"
      ],
      "text/plain": [
       "                  Row                                  Description Special\n",
       "5  NAME_CONTRACT_TYPE  Identification if loan is cash or revolving     NaN\n",
       "6         CODE_GENDER                         Gender of the client     NaN\n",
       "7        FLAG_OWN_CAR                Flag if the client owns a car     NaN\n",
       "8     FLAG_OWN_REALTY          Flag if client owns a house or flat     NaN\n",
       "9        CNT_CHILDREN            Number of children the client has     NaN"
      ]
     },
     "execution_count": 17,
     "metadata": {},
     "output_type": "execute_result"
    }
   ],
   "source": [
    "info.head()"
   ]
  },
  {
   "cell_type": "markdown",
   "metadata": {
    "papermill": {
     "duration": 0.069933,
     "end_time": "2020-12-12T16:59:02.376644",
     "exception": false,
     "start_time": "2020-12-12T16:59:02.306711",
     "status": "completed"
    },
    "tags": []
   },
   "source": [
    "<font color=blue>У нас 120 признаков — чтобы не выводить гигантскую таблицу, проверим, есть ли повторы (в описаниях):</font>"
   ]
  },
  {
   "cell_type": "code",
   "execution_count": 18,
   "metadata": {
    "execution": {
     "iopub.execute_input": "2020-12-12T16:59:02.519577Z",
     "iopub.status.busy": "2020-12-12T16:59:02.518752Z",
     "iopub.status.idle": "2020-12-12T16:59:02.521572Z",
     "shell.execute_reply": "2020-12-12T16:59:02.521024Z"
    },
    "papermill": {
     "duration": 0.077565,
     "end_time": "2020-12-12T16:59:02.521671",
     "exception": false,
     "start_time": "2020-12-12T16:59:02.444106",
     "status": "completed"
    },
    "tags": []
   },
   "outputs": [],
   "source": [
    "def df_full_col(df):\n",
    "    \"\"\"do not truncate text in DataFrame\"\"\"\n",
    "    with pd.option_context('display.max_colwidth', -1):\n",
    "        ret_st = df.style\n",
    "    return ret_st\n",
    "\n",
    "def nlargest_duplicates(df, col, n=5):\n",
    "    descr_cnts = df.groupby(col).size().sort_values(ascending=False)[:n]\n",
    "    res_df = df.loc[df[col].isin(descr_cnts.index)].groupby(col).agg(\n",
    "                lambda s: set(s)).reindex(descr_cnts.index)\n",
    "    res_df.insert(0, 'Counts', descr_cnts.values)\n",
    "    return res_df"
   ]
  },
  {
   "cell_type": "code",
   "execution_count": 19,
   "metadata": {
    "execution": {
     "iopub.execute_input": "2020-12-12T16:59:02.675221Z",
     "iopub.status.busy": "2020-12-12T16:59:02.674606Z",
     "iopub.status.idle": "2020-12-12T16:59:02.824051Z",
     "shell.execute_reply": "2020-12-12T16:59:02.823339Z"
    },
    "papermill": {
     "duration": 0.235142,
     "end_time": "2020-12-12T16:59:02.824185",
     "exception": false,
     "start_time": "2020-12-12T16:59:02.589043",
     "status": "completed"
    },
    "tags": []
   },
   "outputs": [
    {
     "data": {
      "text/html": [
       "<style  type=\"text/css\" >\n",
       "</style><table id=\"T_562a3f4e_3c9b_11eb_8cb4_0242ac130202\" ><thead>    <tr>        <th class=\"blank level0\" ></th>        <th class=\"col_heading level0 col0\" >Counts</th>        <th class=\"col_heading level0 col1\" >Row</th>        <th class=\"col_heading level0 col2\" >Special</th>    </tr>    <tr>        <th class=\"index_name level0\" >Description</th>        <th class=\"blank\" ></th>        <th class=\"blank\" ></th>        <th class=\"blank\" ></th>    </tr></thead><tbody>\n",
       "                <tr>\n",
       "                        <th id=\"T_562a3f4e_3c9b_11eb_8cb4_0242ac130202level0_row0\" class=\"row_heading level0 row0\" >Normalized information about building where the client lives, What is average (_AVG suffix), modus (_MODE suffix), median (_MEDI suffix) apartment size, common area, living area, age of building, number of elevators, number of entrances, state of the building, number of floor</th>\n",
       "                        <td id=\"T_562a3f4e_3c9b_11eb_8cb4_0242ac130202row0_col0\" class=\"data row0 col0\" >47</td>\n",
       "                        <td id=\"T_562a3f4e_3c9b_11eb_8cb4_0242ac130202row0_col1\" class=\"data row0 col1\" >{'APARTMENTS_MODE', 'ELEVATORS_MEDI', 'BASEMENTAREA_AVG', 'BASEMENTAREA_MODE', 'ENTRANCES_MEDI', 'EMERGENCYSTATE_MODE', 'YEARS_BUILD_MODE', 'LANDAREA_MEDI', 'APARTMENTS_AVG', 'LANDAREA_AVG', 'LANDAREA_MODE', 'FLOORSMIN_AVG', 'LIVINGAREA_MEDI', 'YEARS_BUILD_AVG', 'HOUSETYPE_MODE', 'LIVINGAREA_MODE', 'COMMONAREA_MEDI', 'APARTMENTS_MEDI', 'LIVINGAPARTMENTS_AVG', 'LIVINGAPARTMENTS_MODE', 'FLOORSMIN_MODE', 'COMMONAREA_MODE', 'ENTRANCES_AVG', 'YEARS_BEGINEXPLUATATION_MODE', 'TOTALAREA_MODE', 'YEARS_BUILD_MEDI', 'YEARS_BEGINEXPLUATATION_AVG', 'NONLIVINGAREA_MODE', 'ENTRANCES_MODE', 'LIVINGAPARTMENTS_MEDI', 'FONDKAPREMONT_MODE', 'FLOORSMAX_MODE', 'ELEVATORS_AVG', 'ELEVATORS_MODE', 'NONLIVINGAPARTMENTS_MEDI', 'NONLIVINGAREA_AVG', 'LIVINGAREA_AVG', 'COMMONAREA_AVG', 'NONLIVINGAPARTMENTS_AVG', 'YEARS_BEGINEXPLUATATION_MEDI', 'NONLIVINGAREA_MEDI', 'FLOORSMIN_MEDI', 'NONLIVINGAPARTMENTS_MODE', 'FLOORSMAX_MEDI', 'WALLSMATERIAL_MODE', 'FLOORSMAX_AVG', 'BASEMENTAREA_MEDI'}</td>\n",
       "                        <td id=\"T_562a3f4e_3c9b_11eb_8cb4_0242ac130202row0_col2\" class=\"data row0 col2\" >{'normalized'}</td>\n",
       "            </tr>\n",
       "            <tr>\n",
       "                        <th id=\"T_562a3f4e_3c9b_11eb_8cb4_0242ac130202level0_row1\" class=\"row_heading level0 row1\" >Normalized score from external data source</th>\n",
       "                        <td id=\"T_562a3f4e_3c9b_11eb_8cb4_0242ac130202row1_col0\" class=\"data row1 col0\" >3</td>\n",
       "                        <td id=\"T_562a3f4e_3c9b_11eb_8cb4_0242ac130202row1_col1\" class=\"data row1 col1\" >{'EXT_SOURCE_2', 'EXT_SOURCE_3', 'EXT_SOURCE_1'}</td>\n",
       "                        <td id=\"T_562a3f4e_3c9b_11eb_8cb4_0242ac130202row1_col2\" class=\"data row1 col2\" >{'normalized'}</td>\n",
       "            </tr>\n",
       "            <tr>\n",
       "                        <th id=\"T_562a3f4e_3c9b_11eb_8cb4_0242ac130202level0_row2\" class=\"row_heading level0 row2\" >Did client provide home phone (1=YES, 0=NO)</th>\n",
       "                        <td id=\"T_562a3f4e_3c9b_11eb_8cb4_0242ac130202row2_col0\" class=\"data row2 col0\" >2</td>\n",
       "                        <td id=\"T_562a3f4e_3c9b_11eb_8cb4_0242ac130202row2_col1\" class=\"data row2 col1\" >{'FLAG_WORK_PHONE', 'FLAG_PHONE'}</td>\n",
       "                        <td id=\"T_562a3f4e_3c9b_11eb_8cb4_0242ac130202row2_col2\" class=\"data row2 col2\" >{nan}</td>\n",
       "            </tr>\n",
       "            <tr>\n",
       "                        <th id=\"T_562a3f4e_3c9b_11eb_8cb4_0242ac130202level0_row3\" class=\"row_heading level0 row3\" >Who was accompanying client when he was applying for the loan</th>\n",
       "                        <td id=\"T_562a3f4e_3c9b_11eb_8cb4_0242ac130202row3_col0\" class=\"data row3 col0\" >1</td>\n",
       "                        <td id=\"T_562a3f4e_3c9b_11eb_8cb4_0242ac130202row3_col1\" class=\"data row3 col1\" >{'NAME_TYPE_SUITE'}</td>\n",
       "                        <td id=\"T_562a3f4e_3c9b_11eb_8cb4_0242ac130202row3_col2\" class=\"data row3 col2\" >{nan}</td>\n",
       "            </tr>\n",
       "            <tr>\n",
       "                        <th id=\"T_562a3f4e_3c9b_11eb_8cb4_0242ac130202level0_row4\" class=\"row_heading level0 row4\" >Did client provide document 8</th>\n",
       "                        <td id=\"T_562a3f4e_3c9b_11eb_8cb4_0242ac130202row4_col0\" class=\"data row4 col0\" >1</td>\n",
       "                        <td id=\"T_562a3f4e_3c9b_11eb_8cb4_0242ac130202row4_col1\" class=\"data row4 col1\" >{'FLAG_DOCUMENT_8'}</td>\n",
       "                        <td id=\"T_562a3f4e_3c9b_11eb_8cb4_0242ac130202row4_col2\" class=\"data row4 col2\" >{nan}</td>\n",
       "            </tr>\n",
       "    </tbody></table>"
      ],
      "text/plain": [
       "<pandas.io.formats.style.Styler at 0x7f5b1d328410>"
      ]
     },
     "execution_count": 19,
     "metadata": {},
     "output_type": "execute_result"
    }
   ],
   "source": [
    "popular_descr = nlargest_duplicates(info, 'Description')\n",
    "df_full_col(popular_descr)"
   ]
  },
  {
   "cell_type": "markdown",
   "metadata": {
    "papermill": {
     "duration": 0.067717,
     "end_time": "2020-12-12T16:59:02.961028",
     "exception": false,
     "start_time": "2020-12-12T16:59:02.893311",
     "status": "completed"
    },
    "tags": []
   },
   "source": [
    "<font color=blue>Итак, 47 признаков имеет одинаковое описание. Их значения — меры central tendency для различных характеристик дома клиента (нормализованные). В данной группе наверняка многие коррелируют, и пока непонятно, нужно ли такое большое число признаков, относящихся к жилью заемщика. Другие 3 признака с одинаковым описанием — скороинг со сторонних ресурсов. Возможно, они окажутся достаточно сильными. Наконец, еще 2 бинарных признака связаны с (не)предоставлением номера телефона оО.</font>\n",
    "<font color=blue>Чтобы обнаружить другую большую группу, попробуем убрать из описания цифры:</font>"
   ]
  },
  {
   "cell_type": "code",
   "execution_count": 20,
   "metadata": {
    "execution": {
     "iopub.execute_input": "2020-12-12T16:59:03.112172Z",
     "iopub.status.busy": "2020-12-12T16:59:03.111423Z",
     "iopub.status.idle": "2020-12-12T16:59:03.131023Z",
     "shell.execute_reply": "2020-12-12T16:59:03.130557Z"
    },
    "papermill": {
     "duration": 0.101889,
     "end_time": "2020-12-12T16:59:03.131121",
     "exception": false,
     "start_time": "2020-12-12T16:59:03.029232",
     "status": "completed"
    },
    "tags": []
   },
   "outputs": [
    {
     "data": {
      "text/html": [
       "<style  type=\"text/css\" >\n",
       "</style><table id=\"T_5659be04_3c9b_11eb_8cb4_0242ac130202\" ><thead>    <tr>        <th class=\"blank level0\" ></th>        <th class=\"col_heading level0 col0\" >Counts</th>        <th class=\"col_heading level0 col1\" >Row</th>        <th class=\"col_heading level0 col2\" >Description</th>        <th class=\"col_heading level0 col3\" >Special</th>    </tr>    <tr>        <th class=\"index_name level0\" >Description w/o numbers</th>        <th class=\"blank\" ></th>        <th class=\"blank\" ></th>        <th class=\"blank\" ></th>        <th class=\"blank\" ></th>    </tr></thead><tbody>\n",
       "                <tr>\n",
       "                        <th id=\"T_5659be04_3c9b_11eb_8cb4_0242ac130202level0_row0\" class=\"row_heading level0 row0\" >Did client provide document </th>\n",
       "                        <td id=\"T_5659be04_3c9b_11eb_8cb4_0242ac130202row0_col0\" class=\"data row0 col0\" >20</td>\n",
       "                        <td id=\"T_5659be04_3c9b_11eb_8cb4_0242ac130202row0_col1\" class=\"data row0 col1\" >{'FLAG_DOCUMENT_3', 'FLAG_DOCUMENT_17', 'FLAG_DOCUMENT_19', 'FLAG_DOCUMENT_8', 'FLAG_DOCUMENT_9', 'FLAG_DOCUMENT_5', 'FLAG_DOCUMENT_21', 'FLAG_DOCUMENT_16', 'FLAG_DOCUMENT_18', 'FLAG_DOCUMENT_2', 'FLAG_DOCUMENT_20', 'FLAG_DOCUMENT_11', 'FLAG_DOCUMENT_4', 'FLAG_DOCUMENT_7', 'FLAG_DOCUMENT_12', 'FLAG_DOCUMENT_13', 'FLAG_DOCUMENT_6', 'FLAG_DOCUMENT_15', 'FLAG_DOCUMENT_10', 'FLAG_DOCUMENT_14'}</td>\n",
       "                        <td id=\"T_5659be04_3c9b_11eb_8cb4_0242ac130202row0_col2\" class=\"data row0 col2\" >{'Did client provide document 10', 'Did client provide document 11', 'Did client provide document 13', 'Did client provide document 4', 'Did client provide document 17', 'Did client provide document 5', 'Did client provide document 14', 'Did client provide document 8', 'Did client provide document 15', 'Did client provide document 18', 'Did client provide document 21', 'Did client provide document 16', 'Did client provide document 2', 'Did client provide document 7', 'Did client provide document 6', 'Did client provide document 20', 'Did client provide document 9', 'Did client provide document 3', 'Did client provide document 12', 'Did client provide document 19'}</td>\n",
       "                        <td id=\"T_5659be04_3c9b_11eb_8cb4_0242ac130202row0_col3\" class=\"data row0 col3\" >{nan}</td>\n",
       "            </tr>\n",
       "    </tbody></table>"
      ],
      "text/plain": [
       "<pandas.io.formats.style.Styler at 0x7f5b09a42190>"
      ]
     },
     "execution_count": 20,
     "metadata": {},
     "output_type": "execute_result"
    }
   ],
   "source": [
    "seen_features = set(popular_descr['Row'].iloc[:3].apply(lambda s: [*s]).sum())\n",
    "rem_info = info[~info['Row'].isin(seen_features)].copy()\n",
    "rem_info['Description w/o numbers'] = rem_info['Description'].str.replace('\\d+', '')\n",
    "dwonum = nlargest_duplicates(rem_info, 'Description w/o numbers', 1)\n",
    "seen_features |= dwonum.iloc[0, 1]\n",
    "df_full_col(dwonum)"
   ]
  },
  {
   "cell_type": "markdown",
   "metadata": {
    "papermill": {
     "duration": 0.068695,
     "end_time": "2020-12-12T16:59:03.269909",
     "exception": false,
     "start_time": "2020-12-12T16:59:03.201214",
     "status": "completed"
    },
    "tags": []
   },
   "source": [
    "<font color=blue>Видим, что 20 признаков отвечают за предоставление определенных документов. Теперь мы готовы вывести таблицу с оставшимися признаками:</font>"
   ]
  },
  {
   "cell_type": "code",
   "execution_count": 21,
   "metadata": {
    "execution": {
     "iopub.execute_input": "2020-12-12T16:59:03.431901Z",
     "iopub.status.busy": "2020-12-12T16:59:03.431279Z",
     "iopub.status.idle": "2020-12-12T16:59:03.436645Z",
     "shell.execute_reply": "2020-12-12T16:59:03.436109Z"
    },
    "papermill": {
     "duration": 0.097725,
     "end_time": "2020-12-12T16:59:03.436771",
     "exception": false,
     "start_time": "2020-12-12T16:59:03.339046",
     "status": "completed"
    },
    "tags": []
   },
   "outputs": [
    {
     "data": {
      "text/html": [
       "<style  type=\"text/css\" >\n",
       "</style><table id=\"T_56866f1c_3c9b_11eb_8cb4_0242ac130202\" ><thead>    <tr>        <th class=\"blank level0\" ></th>        <th class=\"col_heading level0 col0\" >Row</th>        <th class=\"col_heading level0 col1\" >Description</th>        <th class=\"col_heading level0 col2\" >Special</th>    </tr></thead><tbody>\n",
       "                <tr>\n",
       "                        <th id=\"T_56866f1c_3c9b_11eb_8cb4_0242ac130202level0_row0\" class=\"row_heading level0 row0\" >5</th>\n",
       "                        <td id=\"T_56866f1c_3c9b_11eb_8cb4_0242ac130202row0_col0\" class=\"data row0 col0\" >NAME_CONTRACT_TYPE</td>\n",
       "                        <td id=\"T_56866f1c_3c9b_11eb_8cb4_0242ac130202row0_col1\" class=\"data row0 col1\" >Identification if loan is cash or revolving</td>\n",
       "                        <td id=\"T_56866f1c_3c9b_11eb_8cb4_0242ac130202row0_col2\" class=\"data row0 col2\" >nan</td>\n",
       "            </tr>\n",
       "            <tr>\n",
       "                        <th id=\"T_56866f1c_3c9b_11eb_8cb4_0242ac130202level0_row1\" class=\"row_heading level0 row1\" >6</th>\n",
       "                        <td id=\"T_56866f1c_3c9b_11eb_8cb4_0242ac130202row1_col0\" class=\"data row1 col0\" >CODE_GENDER</td>\n",
       "                        <td id=\"T_56866f1c_3c9b_11eb_8cb4_0242ac130202row1_col1\" class=\"data row1 col1\" >Gender of the client</td>\n",
       "                        <td id=\"T_56866f1c_3c9b_11eb_8cb4_0242ac130202row1_col2\" class=\"data row1 col2\" >nan</td>\n",
       "            </tr>\n",
       "            <tr>\n",
       "                        <th id=\"T_56866f1c_3c9b_11eb_8cb4_0242ac130202level0_row2\" class=\"row_heading level0 row2\" >7</th>\n",
       "                        <td id=\"T_56866f1c_3c9b_11eb_8cb4_0242ac130202row2_col0\" class=\"data row2 col0\" >FLAG_OWN_CAR</td>\n",
       "                        <td id=\"T_56866f1c_3c9b_11eb_8cb4_0242ac130202row2_col1\" class=\"data row2 col1\" >Flag if the client owns a car</td>\n",
       "                        <td id=\"T_56866f1c_3c9b_11eb_8cb4_0242ac130202row2_col2\" class=\"data row2 col2\" >nan</td>\n",
       "            </tr>\n",
       "            <tr>\n",
       "                        <th id=\"T_56866f1c_3c9b_11eb_8cb4_0242ac130202level0_row3\" class=\"row_heading level0 row3\" >8</th>\n",
       "                        <td id=\"T_56866f1c_3c9b_11eb_8cb4_0242ac130202row3_col0\" class=\"data row3 col0\" >FLAG_OWN_REALTY</td>\n",
       "                        <td id=\"T_56866f1c_3c9b_11eb_8cb4_0242ac130202row3_col1\" class=\"data row3 col1\" >Flag if client owns a house or flat</td>\n",
       "                        <td id=\"T_56866f1c_3c9b_11eb_8cb4_0242ac130202row3_col2\" class=\"data row3 col2\" >nan</td>\n",
       "            </tr>\n",
       "            <tr>\n",
       "                        <th id=\"T_56866f1c_3c9b_11eb_8cb4_0242ac130202level0_row4\" class=\"row_heading level0 row4\" >9</th>\n",
       "                        <td id=\"T_56866f1c_3c9b_11eb_8cb4_0242ac130202row4_col0\" class=\"data row4 col0\" >CNT_CHILDREN</td>\n",
       "                        <td id=\"T_56866f1c_3c9b_11eb_8cb4_0242ac130202row4_col1\" class=\"data row4 col1\" >Number of children the client has</td>\n",
       "                        <td id=\"T_56866f1c_3c9b_11eb_8cb4_0242ac130202row4_col2\" class=\"data row4 col2\" >nan</td>\n",
       "            </tr>\n",
       "            <tr>\n",
       "                        <th id=\"T_56866f1c_3c9b_11eb_8cb4_0242ac130202level0_row5\" class=\"row_heading level0 row5\" >10</th>\n",
       "                        <td id=\"T_56866f1c_3c9b_11eb_8cb4_0242ac130202row5_col0\" class=\"data row5 col0\" >AMT_INCOME_TOTAL</td>\n",
       "                        <td id=\"T_56866f1c_3c9b_11eb_8cb4_0242ac130202row5_col1\" class=\"data row5 col1\" >Income of the client</td>\n",
       "                        <td id=\"T_56866f1c_3c9b_11eb_8cb4_0242ac130202row5_col2\" class=\"data row5 col2\" >nan</td>\n",
       "            </tr>\n",
       "            <tr>\n",
       "                        <th id=\"T_56866f1c_3c9b_11eb_8cb4_0242ac130202level0_row6\" class=\"row_heading level0 row6\" >11</th>\n",
       "                        <td id=\"T_56866f1c_3c9b_11eb_8cb4_0242ac130202row6_col0\" class=\"data row6 col0\" >AMT_CREDIT</td>\n",
       "                        <td id=\"T_56866f1c_3c9b_11eb_8cb4_0242ac130202row6_col1\" class=\"data row6 col1\" >Credit amount of the loan</td>\n",
       "                        <td id=\"T_56866f1c_3c9b_11eb_8cb4_0242ac130202row6_col2\" class=\"data row6 col2\" >nan</td>\n",
       "            </tr>\n",
       "            <tr>\n",
       "                        <th id=\"T_56866f1c_3c9b_11eb_8cb4_0242ac130202level0_row7\" class=\"row_heading level0 row7\" >12</th>\n",
       "                        <td id=\"T_56866f1c_3c9b_11eb_8cb4_0242ac130202row7_col0\" class=\"data row7 col0\" >AMT_ANNUITY</td>\n",
       "                        <td id=\"T_56866f1c_3c9b_11eb_8cb4_0242ac130202row7_col1\" class=\"data row7 col1\" >Loan annuity</td>\n",
       "                        <td id=\"T_56866f1c_3c9b_11eb_8cb4_0242ac130202row7_col2\" class=\"data row7 col2\" >nan</td>\n",
       "            </tr>\n",
       "            <tr>\n",
       "                        <th id=\"T_56866f1c_3c9b_11eb_8cb4_0242ac130202level0_row8\" class=\"row_heading level0 row8\" >13</th>\n",
       "                        <td id=\"T_56866f1c_3c9b_11eb_8cb4_0242ac130202row8_col0\" class=\"data row8 col0\" >AMT_GOODS_PRICE</td>\n",
       "                        <td id=\"T_56866f1c_3c9b_11eb_8cb4_0242ac130202row8_col1\" class=\"data row8 col1\" >For consumer loans it is the price of the goods for which the loan is given</td>\n",
       "                        <td id=\"T_56866f1c_3c9b_11eb_8cb4_0242ac130202row8_col2\" class=\"data row8 col2\" >nan</td>\n",
       "            </tr>\n",
       "            <tr>\n",
       "                        <th id=\"T_56866f1c_3c9b_11eb_8cb4_0242ac130202level0_row9\" class=\"row_heading level0 row9\" >14</th>\n",
       "                        <td id=\"T_56866f1c_3c9b_11eb_8cb4_0242ac130202row9_col0\" class=\"data row9 col0\" >NAME_TYPE_SUITE</td>\n",
       "                        <td id=\"T_56866f1c_3c9b_11eb_8cb4_0242ac130202row9_col1\" class=\"data row9 col1\" >Who was accompanying client when he was applying for the loan</td>\n",
       "                        <td id=\"T_56866f1c_3c9b_11eb_8cb4_0242ac130202row9_col2\" class=\"data row9 col2\" >nan</td>\n",
       "            </tr>\n",
       "            <tr>\n",
       "                        <th id=\"T_56866f1c_3c9b_11eb_8cb4_0242ac130202level0_row10\" class=\"row_heading level0 row10\" >15</th>\n",
       "                        <td id=\"T_56866f1c_3c9b_11eb_8cb4_0242ac130202row10_col0\" class=\"data row10 col0\" >NAME_INCOME_TYPE</td>\n",
       "                        <td id=\"T_56866f1c_3c9b_11eb_8cb4_0242ac130202row10_col1\" class=\"data row10 col1\" >Clients income type (businessman, working, maternity leave,",
       ")</td>\n",
       "                        <td id=\"T_56866f1c_3c9b_11eb_8cb4_0242ac130202row10_col2\" class=\"data row10 col2\" >nan</td>\n",
       "            </tr>\n",
       "            <tr>\n",
       "                        <th id=\"T_56866f1c_3c9b_11eb_8cb4_0242ac130202level0_row11\" class=\"row_heading level0 row11\" >16</th>\n",
       "                        <td id=\"T_56866f1c_3c9b_11eb_8cb4_0242ac130202row11_col0\" class=\"data row11 col0\" >NAME_EDUCATION_TYPE</td>\n",
       "                        <td id=\"T_56866f1c_3c9b_11eb_8cb4_0242ac130202row11_col1\" class=\"data row11 col1\" >Level of highest education the client achieved</td>\n",
       "                        <td id=\"T_56866f1c_3c9b_11eb_8cb4_0242ac130202row11_col2\" class=\"data row11 col2\" >nan</td>\n",
       "            </tr>\n",
       "            <tr>\n",
       "                        <th id=\"T_56866f1c_3c9b_11eb_8cb4_0242ac130202level0_row12\" class=\"row_heading level0 row12\" >17</th>\n",
       "                        <td id=\"T_56866f1c_3c9b_11eb_8cb4_0242ac130202row12_col0\" class=\"data row12 col0\" >NAME_FAMILY_STATUS</td>\n",
       "                        <td id=\"T_56866f1c_3c9b_11eb_8cb4_0242ac130202row12_col1\" class=\"data row12 col1\" >Family status of the client</td>\n",
       "                        <td id=\"T_56866f1c_3c9b_11eb_8cb4_0242ac130202row12_col2\" class=\"data row12 col2\" >nan</td>\n",
       "            </tr>\n",
       "            <tr>\n",
       "                        <th id=\"T_56866f1c_3c9b_11eb_8cb4_0242ac130202level0_row13\" class=\"row_heading level0 row13\" >18</th>\n",
       "                        <td id=\"T_56866f1c_3c9b_11eb_8cb4_0242ac130202row13_col0\" class=\"data row13 col0\" >NAME_HOUSING_TYPE</td>\n",
       "                        <td id=\"T_56866f1c_3c9b_11eb_8cb4_0242ac130202row13_col1\" class=\"data row13 col1\" >What is the housing situation of the client (renting, living with parents, ...)</td>\n",
       "                        <td id=\"T_56866f1c_3c9b_11eb_8cb4_0242ac130202row13_col2\" class=\"data row13 col2\" >nan</td>\n",
       "            </tr>\n",
       "            <tr>\n",
       "                        <th id=\"T_56866f1c_3c9b_11eb_8cb4_0242ac130202level0_row14\" class=\"row_heading level0 row14\" >19</th>\n",
       "                        <td id=\"T_56866f1c_3c9b_11eb_8cb4_0242ac130202row14_col0\" class=\"data row14 col0\" >REGION_POPULATION_RELATIVE</td>\n",
       "                        <td id=\"T_56866f1c_3c9b_11eb_8cb4_0242ac130202row14_col1\" class=\"data row14 col1\" >Normalized population of region where client lives (higher number means the client lives in more populated region)</td>\n",
       "                        <td id=\"T_56866f1c_3c9b_11eb_8cb4_0242ac130202row14_col2\" class=\"data row14 col2\" >normalized </td>\n",
       "            </tr>\n",
       "            <tr>\n",
       "                        <th id=\"T_56866f1c_3c9b_11eb_8cb4_0242ac130202level0_row15\" class=\"row_heading level0 row15\" >20</th>\n",
       "                        <td id=\"T_56866f1c_3c9b_11eb_8cb4_0242ac130202row15_col0\" class=\"data row15 col0\" >DAYS_BIRTH</td>\n",
       "                        <td id=\"T_56866f1c_3c9b_11eb_8cb4_0242ac130202row15_col1\" class=\"data row15 col1\" >Client's age in days at the time of application</td>\n",
       "                        <td id=\"T_56866f1c_3c9b_11eb_8cb4_0242ac130202row15_col2\" class=\"data row15 col2\" >time only relative to the application</td>\n",
       "            </tr>\n",
       "            <tr>\n",
       "                        <th id=\"T_56866f1c_3c9b_11eb_8cb4_0242ac130202level0_row16\" class=\"row_heading level0 row16\" >21</th>\n",
       "                        <td id=\"T_56866f1c_3c9b_11eb_8cb4_0242ac130202row16_col0\" class=\"data row16 col0\" >DAYS_EMPLOYED</td>\n",
       "                        <td id=\"T_56866f1c_3c9b_11eb_8cb4_0242ac130202row16_col1\" class=\"data row16 col1\" >How many days before the application the person started current employment</td>\n",
       "                        <td id=\"T_56866f1c_3c9b_11eb_8cb4_0242ac130202row16_col2\" class=\"data row16 col2\" >time only relative to the application</td>\n",
       "            </tr>\n",
       "            <tr>\n",
       "                        <th id=\"T_56866f1c_3c9b_11eb_8cb4_0242ac130202level0_row17\" class=\"row_heading level0 row17\" >22</th>\n",
       "                        <td id=\"T_56866f1c_3c9b_11eb_8cb4_0242ac130202row17_col0\" class=\"data row17 col0\" >DAYS_REGISTRATION</td>\n",
       "                        <td id=\"T_56866f1c_3c9b_11eb_8cb4_0242ac130202row17_col1\" class=\"data row17 col1\" >How many days before the application did client change his registration</td>\n",
       "                        <td id=\"T_56866f1c_3c9b_11eb_8cb4_0242ac130202row17_col2\" class=\"data row17 col2\" >time only relative to the application</td>\n",
       "            </tr>\n",
       "            <tr>\n",
       "                        <th id=\"T_56866f1c_3c9b_11eb_8cb4_0242ac130202level0_row18\" class=\"row_heading level0 row18\" >23</th>\n",
       "                        <td id=\"T_56866f1c_3c9b_11eb_8cb4_0242ac130202row18_col0\" class=\"data row18 col0\" >DAYS_ID_PUBLISH</td>\n",
       "                        <td id=\"T_56866f1c_3c9b_11eb_8cb4_0242ac130202row18_col1\" class=\"data row18 col1\" >How many days before the application did client change the identity document with which he applied for the loan</td>\n",
       "                        <td id=\"T_56866f1c_3c9b_11eb_8cb4_0242ac130202row18_col2\" class=\"data row18 col2\" >time only relative to the application</td>\n",
       "            </tr>\n",
       "            <tr>\n",
       "                        <th id=\"T_56866f1c_3c9b_11eb_8cb4_0242ac130202level0_row19\" class=\"row_heading level0 row19\" >24</th>\n",
       "                        <td id=\"T_56866f1c_3c9b_11eb_8cb4_0242ac130202row19_col0\" class=\"data row19 col0\" >OWN_CAR_AGE</td>\n",
       "                        <td id=\"T_56866f1c_3c9b_11eb_8cb4_0242ac130202row19_col1\" class=\"data row19 col1\" >Age of client's car</td>\n",
       "                        <td id=\"T_56866f1c_3c9b_11eb_8cb4_0242ac130202row19_col2\" class=\"data row19 col2\" >nan</td>\n",
       "            </tr>\n",
       "            <tr>\n",
       "                        <th id=\"T_56866f1c_3c9b_11eb_8cb4_0242ac130202level0_row20\" class=\"row_heading level0 row20\" >25</th>\n",
       "                        <td id=\"T_56866f1c_3c9b_11eb_8cb4_0242ac130202row20_col0\" class=\"data row20 col0\" >FLAG_MOBIL</td>\n",
       "                        <td id=\"T_56866f1c_3c9b_11eb_8cb4_0242ac130202row20_col1\" class=\"data row20 col1\" >Did client provide mobile phone (1=YES, 0=NO)</td>\n",
       "                        <td id=\"T_56866f1c_3c9b_11eb_8cb4_0242ac130202row20_col2\" class=\"data row20 col2\" >nan</td>\n",
       "            </tr>\n",
       "            <tr>\n",
       "                        <th id=\"T_56866f1c_3c9b_11eb_8cb4_0242ac130202level0_row21\" class=\"row_heading level0 row21\" >26</th>\n",
       "                        <td id=\"T_56866f1c_3c9b_11eb_8cb4_0242ac130202row21_col0\" class=\"data row21 col0\" >FLAG_EMP_PHONE</td>\n",
       "                        <td id=\"T_56866f1c_3c9b_11eb_8cb4_0242ac130202row21_col1\" class=\"data row21 col1\" >Did client provide work phone (1=YES, 0=NO)</td>\n",
       "                        <td id=\"T_56866f1c_3c9b_11eb_8cb4_0242ac130202row21_col2\" class=\"data row21 col2\" >nan</td>\n",
       "            </tr>\n",
       "            <tr>\n",
       "                        <th id=\"T_56866f1c_3c9b_11eb_8cb4_0242ac130202level0_row22\" class=\"row_heading level0 row22\" >28</th>\n",
       "                        <td id=\"T_56866f1c_3c9b_11eb_8cb4_0242ac130202row22_col0\" class=\"data row22 col0\" >FLAG_CONT_MOBILE</td>\n",
       "                        <td id=\"T_56866f1c_3c9b_11eb_8cb4_0242ac130202row22_col1\" class=\"data row22 col1\" >Was mobile phone reachable (1=YES, 0=NO)</td>\n",
       "                        <td id=\"T_56866f1c_3c9b_11eb_8cb4_0242ac130202row22_col2\" class=\"data row22 col2\" >nan</td>\n",
       "            </tr>\n",
       "            <tr>\n",
       "                        <th id=\"T_56866f1c_3c9b_11eb_8cb4_0242ac130202level0_row23\" class=\"row_heading level0 row23\" >30</th>\n",
       "                        <td id=\"T_56866f1c_3c9b_11eb_8cb4_0242ac130202row23_col0\" class=\"data row23 col0\" >FLAG_EMAIL</td>\n",
       "                        <td id=\"T_56866f1c_3c9b_11eb_8cb4_0242ac130202row23_col1\" class=\"data row23 col1\" >Did client provide email (1=YES, 0=NO)</td>\n",
       "                        <td id=\"T_56866f1c_3c9b_11eb_8cb4_0242ac130202row23_col2\" class=\"data row23 col2\" >nan</td>\n",
       "            </tr>\n",
       "            <tr>\n",
       "                        <th id=\"T_56866f1c_3c9b_11eb_8cb4_0242ac130202level0_row24\" class=\"row_heading level0 row24\" >31</th>\n",
       "                        <td id=\"T_56866f1c_3c9b_11eb_8cb4_0242ac130202row24_col0\" class=\"data row24 col0\" >OCCUPATION_TYPE</td>\n",
       "                        <td id=\"T_56866f1c_3c9b_11eb_8cb4_0242ac130202row24_col1\" class=\"data row24 col1\" >What kind of occupation does the client have</td>\n",
       "                        <td id=\"T_56866f1c_3c9b_11eb_8cb4_0242ac130202row24_col2\" class=\"data row24 col2\" >nan</td>\n",
       "            </tr>\n",
       "            <tr>\n",
       "                        <th id=\"T_56866f1c_3c9b_11eb_8cb4_0242ac130202level0_row25\" class=\"row_heading level0 row25\" >32</th>\n",
       "                        <td id=\"T_56866f1c_3c9b_11eb_8cb4_0242ac130202row25_col0\" class=\"data row25 col0\" >CNT_FAM_MEMBERS</td>\n",
       "                        <td id=\"T_56866f1c_3c9b_11eb_8cb4_0242ac130202row25_col1\" class=\"data row25 col1\" >How many family members does client have</td>\n",
       "                        <td id=\"T_56866f1c_3c9b_11eb_8cb4_0242ac130202row25_col2\" class=\"data row25 col2\" >nan</td>\n",
       "            </tr>\n",
       "            <tr>\n",
       "                        <th id=\"T_56866f1c_3c9b_11eb_8cb4_0242ac130202level0_row26\" class=\"row_heading level0 row26\" >33</th>\n",
       "                        <td id=\"T_56866f1c_3c9b_11eb_8cb4_0242ac130202row26_col0\" class=\"data row26 col0\" >REGION_RATING_CLIENT</td>\n",
       "                        <td id=\"T_56866f1c_3c9b_11eb_8cb4_0242ac130202row26_col1\" class=\"data row26 col1\" >Our rating of the region where client lives (1,2,3)</td>\n",
       "                        <td id=\"T_56866f1c_3c9b_11eb_8cb4_0242ac130202row26_col2\" class=\"data row26 col2\" >nan</td>\n",
       "            </tr>\n",
       "            <tr>\n",
       "                        <th id=\"T_56866f1c_3c9b_11eb_8cb4_0242ac130202level0_row27\" class=\"row_heading level0 row27\" >34</th>\n",
       "                        <td id=\"T_56866f1c_3c9b_11eb_8cb4_0242ac130202row27_col0\" class=\"data row27 col0\" >REGION_RATING_CLIENT_W_CITY</td>\n",
       "                        <td id=\"T_56866f1c_3c9b_11eb_8cb4_0242ac130202row27_col1\" class=\"data row27 col1\" >Our rating of the region where client lives with taking city into account (1,2,3)</td>\n",
       "                        <td id=\"T_56866f1c_3c9b_11eb_8cb4_0242ac130202row27_col2\" class=\"data row27 col2\" >nan</td>\n",
       "            </tr>\n",
       "            <tr>\n",
       "                        <th id=\"T_56866f1c_3c9b_11eb_8cb4_0242ac130202level0_row28\" class=\"row_heading level0 row28\" >35</th>\n",
       "                        <td id=\"T_56866f1c_3c9b_11eb_8cb4_0242ac130202row28_col0\" class=\"data row28 col0\" >WEEKDAY_APPR_PROCESS_START</td>\n",
       "                        <td id=\"T_56866f1c_3c9b_11eb_8cb4_0242ac130202row28_col1\" class=\"data row28 col1\" >On which day of the week did the client apply for the loan</td>\n",
       "                        <td id=\"T_56866f1c_3c9b_11eb_8cb4_0242ac130202row28_col2\" class=\"data row28 col2\" >nan</td>\n",
       "            </tr>\n",
       "            <tr>\n",
       "                        <th id=\"T_56866f1c_3c9b_11eb_8cb4_0242ac130202level0_row29\" class=\"row_heading level0 row29\" >36</th>\n",
       "                        <td id=\"T_56866f1c_3c9b_11eb_8cb4_0242ac130202row29_col0\" class=\"data row29 col0\" >HOUR_APPR_PROCESS_START</td>\n",
       "                        <td id=\"T_56866f1c_3c9b_11eb_8cb4_0242ac130202row29_col1\" class=\"data row29 col1\" >Approximately at what hour did the client apply for the loan</td>\n",
       "                        <td id=\"T_56866f1c_3c9b_11eb_8cb4_0242ac130202row29_col2\" class=\"data row29 col2\" >rounded</td>\n",
       "            </tr>\n",
       "            <tr>\n",
       "                        <th id=\"T_56866f1c_3c9b_11eb_8cb4_0242ac130202level0_row30\" class=\"row_heading level0 row30\" >37</th>\n",
       "                        <td id=\"T_56866f1c_3c9b_11eb_8cb4_0242ac130202row30_col0\" class=\"data row30 col0\" >REG_REGION_NOT_LIVE_REGION</td>\n",
       "                        <td id=\"T_56866f1c_3c9b_11eb_8cb4_0242ac130202row30_col1\" class=\"data row30 col1\" >Flag if client's permanent address does not match contact address (1=different, 0=same, at region level)</td>\n",
       "                        <td id=\"T_56866f1c_3c9b_11eb_8cb4_0242ac130202row30_col2\" class=\"data row30 col2\" >nan</td>\n",
       "            </tr>\n",
       "            <tr>\n",
       "                        <th id=\"T_56866f1c_3c9b_11eb_8cb4_0242ac130202level0_row31\" class=\"row_heading level0 row31\" >38</th>\n",
       "                        <td id=\"T_56866f1c_3c9b_11eb_8cb4_0242ac130202row31_col0\" class=\"data row31 col0\" >REG_REGION_NOT_WORK_REGION</td>\n",
       "                        <td id=\"T_56866f1c_3c9b_11eb_8cb4_0242ac130202row31_col1\" class=\"data row31 col1\" >Flag if client's permanent address does not match work address (1=different, 0=same, at region level)</td>\n",
       "                        <td id=\"T_56866f1c_3c9b_11eb_8cb4_0242ac130202row31_col2\" class=\"data row31 col2\" >nan</td>\n",
       "            </tr>\n",
       "            <tr>\n",
       "                        <th id=\"T_56866f1c_3c9b_11eb_8cb4_0242ac130202level0_row32\" class=\"row_heading level0 row32\" >39</th>\n",
       "                        <td id=\"T_56866f1c_3c9b_11eb_8cb4_0242ac130202row32_col0\" class=\"data row32 col0\" >LIVE_REGION_NOT_WORK_REGION</td>\n",
       "                        <td id=\"T_56866f1c_3c9b_11eb_8cb4_0242ac130202row32_col1\" class=\"data row32 col1\" >Flag if client's contact address does not match work address (1=different, 0=same, at region level)</td>\n",
       "                        <td id=\"T_56866f1c_3c9b_11eb_8cb4_0242ac130202row32_col2\" class=\"data row32 col2\" >nan</td>\n",
       "            </tr>\n",
       "            <tr>\n",
       "                        <th id=\"T_56866f1c_3c9b_11eb_8cb4_0242ac130202level0_row33\" class=\"row_heading level0 row33\" >40</th>\n",
       "                        <td id=\"T_56866f1c_3c9b_11eb_8cb4_0242ac130202row33_col0\" class=\"data row33 col0\" >REG_CITY_NOT_LIVE_CITY</td>\n",
       "                        <td id=\"T_56866f1c_3c9b_11eb_8cb4_0242ac130202row33_col1\" class=\"data row33 col1\" >Flag if client's permanent address does not match contact address (1=different, 0=same, at city level)</td>\n",
       "                        <td id=\"T_56866f1c_3c9b_11eb_8cb4_0242ac130202row33_col2\" class=\"data row33 col2\" >nan</td>\n",
       "            </tr>\n",
       "            <tr>\n",
       "                        <th id=\"T_56866f1c_3c9b_11eb_8cb4_0242ac130202level0_row34\" class=\"row_heading level0 row34\" >41</th>\n",
       "                        <td id=\"T_56866f1c_3c9b_11eb_8cb4_0242ac130202row34_col0\" class=\"data row34 col0\" >REG_CITY_NOT_WORK_CITY</td>\n",
       "                        <td id=\"T_56866f1c_3c9b_11eb_8cb4_0242ac130202row34_col1\" class=\"data row34 col1\" >Flag if client's permanent address does not match work address (1=different, 0=same, at city level)</td>\n",
       "                        <td id=\"T_56866f1c_3c9b_11eb_8cb4_0242ac130202row34_col2\" class=\"data row34 col2\" >nan</td>\n",
       "            </tr>\n",
       "            <tr>\n",
       "                        <th id=\"T_56866f1c_3c9b_11eb_8cb4_0242ac130202level0_row35\" class=\"row_heading level0 row35\" >42</th>\n",
       "                        <td id=\"T_56866f1c_3c9b_11eb_8cb4_0242ac130202row35_col0\" class=\"data row35 col0\" >LIVE_CITY_NOT_WORK_CITY</td>\n",
       "                        <td id=\"T_56866f1c_3c9b_11eb_8cb4_0242ac130202row35_col1\" class=\"data row35 col1\" >Flag if client's contact address does not match work address (1=different, 0=same, at city level)</td>\n",
       "                        <td id=\"T_56866f1c_3c9b_11eb_8cb4_0242ac130202row35_col2\" class=\"data row35 col2\" >nan</td>\n",
       "            </tr>\n",
       "            <tr>\n",
       "                        <th id=\"T_56866f1c_3c9b_11eb_8cb4_0242ac130202level0_row36\" class=\"row_heading level0 row36\" >43</th>\n",
       "                        <td id=\"T_56866f1c_3c9b_11eb_8cb4_0242ac130202row36_col0\" class=\"data row36 col0\" >ORGANIZATION_TYPE</td>\n",
       "                        <td id=\"T_56866f1c_3c9b_11eb_8cb4_0242ac130202row36_col1\" class=\"data row36 col1\" >Type of organization where client works</td>\n",
       "                        <td id=\"T_56866f1c_3c9b_11eb_8cb4_0242ac130202row36_col2\" class=\"data row36 col2\" >nan</td>\n",
       "            </tr>\n",
       "            <tr>\n",
       "                        <th id=\"T_56866f1c_3c9b_11eb_8cb4_0242ac130202level0_row37\" class=\"row_heading level0 row37\" >94</th>\n",
       "                        <td id=\"T_56866f1c_3c9b_11eb_8cb4_0242ac130202row37_col0\" class=\"data row37 col0\" >OBS_30_CNT_SOCIAL_CIRCLE</td>\n",
       "                        <td id=\"T_56866f1c_3c9b_11eb_8cb4_0242ac130202row37_col1\" class=\"data row37 col1\" >How many observation of client's social surroundings with observable 30 DPD (days past due) default</td>\n",
       "                        <td id=\"T_56866f1c_3c9b_11eb_8cb4_0242ac130202row37_col2\" class=\"data row37 col2\" >nan</td>\n",
       "            </tr>\n",
       "            <tr>\n",
       "                        <th id=\"T_56866f1c_3c9b_11eb_8cb4_0242ac130202level0_row38\" class=\"row_heading level0 row38\" >95</th>\n",
       "                        <td id=\"T_56866f1c_3c9b_11eb_8cb4_0242ac130202row38_col0\" class=\"data row38 col0\" >DEF_30_CNT_SOCIAL_CIRCLE</td>\n",
       "                        <td id=\"T_56866f1c_3c9b_11eb_8cb4_0242ac130202row38_col1\" class=\"data row38 col1\" >How many observation of client's social surroundings defaulted on 30 DPD (days past due) </td>\n",
       "                        <td id=\"T_56866f1c_3c9b_11eb_8cb4_0242ac130202row38_col2\" class=\"data row38 col2\" >nan</td>\n",
       "            </tr>\n",
       "            <tr>\n",
       "                        <th id=\"T_56866f1c_3c9b_11eb_8cb4_0242ac130202level0_row39\" class=\"row_heading level0 row39\" >96</th>\n",
       "                        <td id=\"T_56866f1c_3c9b_11eb_8cb4_0242ac130202row39_col0\" class=\"data row39 col0\" >OBS_60_CNT_SOCIAL_CIRCLE</td>\n",
       "                        <td id=\"T_56866f1c_3c9b_11eb_8cb4_0242ac130202row39_col1\" class=\"data row39 col1\" >How many observation of client's social surroundings with observable 60 DPD (days past due) default</td>\n",
       "                        <td id=\"T_56866f1c_3c9b_11eb_8cb4_0242ac130202row39_col2\" class=\"data row39 col2\" >nan</td>\n",
       "            </tr>\n",
       "            <tr>\n",
       "                        <th id=\"T_56866f1c_3c9b_11eb_8cb4_0242ac130202level0_row40\" class=\"row_heading level0 row40\" >97</th>\n",
       "                        <td id=\"T_56866f1c_3c9b_11eb_8cb4_0242ac130202row40_col0\" class=\"data row40 col0\" >DEF_60_CNT_SOCIAL_CIRCLE</td>\n",
       "                        <td id=\"T_56866f1c_3c9b_11eb_8cb4_0242ac130202row40_col1\" class=\"data row40 col1\" >How many observation of client's social surroundings defaulted on 60 (days past due) DPD</td>\n",
       "                        <td id=\"T_56866f1c_3c9b_11eb_8cb4_0242ac130202row40_col2\" class=\"data row40 col2\" >nan</td>\n",
       "            </tr>\n",
       "            <tr>\n",
       "                        <th id=\"T_56866f1c_3c9b_11eb_8cb4_0242ac130202level0_row41\" class=\"row_heading level0 row41\" >98</th>\n",
       "                        <td id=\"T_56866f1c_3c9b_11eb_8cb4_0242ac130202row41_col0\" class=\"data row41 col0\" >DAYS_LAST_PHONE_CHANGE</td>\n",
       "                        <td id=\"T_56866f1c_3c9b_11eb_8cb4_0242ac130202row41_col1\" class=\"data row41 col1\" >How many days before application did client change phone</td>\n",
       "                        <td id=\"T_56866f1c_3c9b_11eb_8cb4_0242ac130202row41_col2\" class=\"data row41 col2\" >nan</td>\n",
       "            </tr>\n",
       "            <tr>\n",
       "                        <th id=\"T_56866f1c_3c9b_11eb_8cb4_0242ac130202level0_row42\" class=\"row_heading level0 row42\" >119</th>\n",
       "                        <td id=\"T_56866f1c_3c9b_11eb_8cb4_0242ac130202row42_col0\" class=\"data row42 col0\" >AMT_REQ_CREDIT_BUREAU_HOUR</td>\n",
       "                        <td id=\"T_56866f1c_3c9b_11eb_8cb4_0242ac130202row42_col1\" class=\"data row42 col1\" >Number of enquiries to Credit Bureau about the client one hour before application</td>\n",
       "                        <td id=\"T_56866f1c_3c9b_11eb_8cb4_0242ac130202row42_col2\" class=\"data row42 col2\" >nan</td>\n",
       "            </tr>\n",
       "            <tr>\n",
       "                        <th id=\"T_56866f1c_3c9b_11eb_8cb4_0242ac130202level0_row43\" class=\"row_heading level0 row43\" >120</th>\n",
       "                        <td id=\"T_56866f1c_3c9b_11eb_8cb4_0242ac130202row43_col0\" class=\"data row43 col0\" >AMT_REQ_CREDIT_BUREAU_DAY</td>\n",
       "                        <td id=\"T_56866f1c_3c9b_11eb_8cb4_0242ac130202row43_col1\" class=\"data row43 col1\" >Number of enquiries to Credit Bureau about the client one day before application (excluding one hour before application)</td>\n",
       "                        <td id=\"T_56866f1c_3c9b_11eb_8cb4_0242ac130202row43_col2\" class=\"data row43 col2\" >nan</td>\n",
       "            </tr>\n",
       "            <tr>\n",
       "                        <th id=\"T_56866f1c_3c9b_11eb_8cb4_0242ac130202level0_row44\" class=\"row_heading level0 row44\" >121</th>\n",
       "                        <td id=\"T_56866f1c_3c9b_11eb_8cb4_0242ac130202row44_col0\" class=\"data row44 col0\" >AMT_REQ_CREDIT_BUREAU_WEEK</td>\n",
       "                        <td id=\"T_56866f1c_3c9b_11eb_8cb4_0242ac130202row44_col1\" class=\"data row44 col1\" >Number of enquiries to Credit Bureau about the client one week before application (excluding one day before application)</td>\n",
       "                        <td id=\"T_56866f1c_3c9b_11eb_8cb4_0242ac130202row44_col2\" class=\"data row44 col2\" >nan</td>\n",
       "            </tr>\n",
       "            <tr>\n",
       "                        <th id=\"T_56866f1c_3c9b_11eb_8cb4_0242ac130202level0_row45\" class=\"row_heading level0 row45\" >122</th>\n",
       "                        <td id=\"T_56866f1c_3c9b_11eb_8cb4_0242ac130202row45_col0\" class=\"data row45 col0\" >AMT_REQ_CREDIT_BUREAU_MON</td>\n",
       "                        <td id=\"T_56866f1c_3c9b_11eb_8cb4_0242ac130202row45_col1\" class=\"data row45 col1\" >Number of enquiries to Credit Bureau about the client one month before application (excluding one week before application)</td>\n",
       "                        <td id=\"T_56866f1c_3c9b_11eb_8cb4_0242ac130202row45_col2\" class=\"data row45 col2\" >nan</td>\n",
       "            </tr>\n",
       "            <tr>\n",
       "                        <th id=\"T_56866f1c_3c9b_11eb_8cb4_0242ac130202level0_row46\" class=\"row_heading level0 row46\" >123</th>\n",
       "                        <td id=\"T_56866f1c_3c9b_11eb_8cb4_0242ac130202row46_col0\" class=\"data row46 col0\" >AMT_REQ_CREDIT_BUREAU_QRT</td>\n",
       "                        <td id=\"T_56866f1c_3c9b_11eb_8cb4_0242ac130202row46_col1\" class=\"data row46 col1\" >Number of enquiries to Credit Bureau about the client 3 month before application (excluding one month before application)</td>\n",
       "                        <td id=\"T_56866f1c_3c9b_11eb_8cb4_0242ac130202row46_col2\" class=\"data row46 col2\" >nan</td>\n",
       "            </tr>\n",
       "            <tr>\n",
       "                        <th id=\"T_56866f1c_3c9b_11eb_8cb4_0242ac130202level0_row47\" class=\"row_heading level0 row47\" >124</th>\n",
       "                        <td id=\"T_56866f1c_3c9b_11eb_8cb4_0242ac130202row47_col0\" class=\"data row47 col0\" >AMT_REQ_CREDIT_BUREAU_YEAR</td>\n",
       "                        <td id=\"T_56866f1c_3c9b_11eb_8cb4_0242ac130202row47_col1\" class=\"data row47 col1\" >Number of enquiries to Credit Bureau about the client one day year (excluding last 3 months before application)</td>\n",
       "                        <td id=\"T_56866f1c_3c9b_11eb_8cb4_0242ac130202row47_col2\" class=\"data row47 col2\" >nan</td>\n",
       "            </tr>\n",
       "    </tbody></table>"
      ],
      "text/plain": [
       "<pandas.io.formats.style.Styler at 0x7f5b0a0decd0>"
      ]
     },
     "execution_count": 21,
     "metadata": {},
     "output_type": "execute_result"
    }
   ],
   "source": [
    "rem_info.drop(columns='Description w/o numbers', inplace=True)\n",
    "df_full_col(rem_info[~rem_info['Row'].isin(dwonum.iloc[0, 1])])"
   ]
  },
  {
   "cell_type": "markdown",
   "metadata": {
    "papermill": {
     "duration": 0.071465,
     "end_time": "2020-12-12T16:59:03.578333",
     "exception": false,
     "start_time": "2020-12-12T16:59:03.506868",
     "status": "completed"
    },
    "tags": []
   },
   "source": [
    "<font color=blue>В последней таблице признаки с номерами:</font>\n",
    "* <font color=blue>$5, 11-13$ содержат информацию о текущем запросе на предоставление кредита.</font>\n",
    "* <font color=blue>$7, 8, 10, 15, 24, 43$ соответствуют достаточно вопросам об имуществе и финансах клиента. </font>\n",
    "* <font color=blue>$6, 9, 14, 16-18, 31, 32$ связаны с личностью и семейном положением человека.</font>\n",
    "* <font color=blue>$19, 33, 34, 37-42$ относятся к региону, городу, т.е. аггрегируют географическую информацию.</font>\n",
    "* <font color=blue>$25-30, 98$ содержат некоторые сведения о том, как клиент предоставлял свои контакты оО</font>\n",
    "* <font color=blue>$20-23$ — счетчики дней с момента некоторых событий в жизни клиента.</font>\n",
    "* <font color=blue>$94-97$ — информация о невыполнении договора займа со стороны людей из социального окружения клиента.</font>\n",
    "* <font color=blue>$119-124$ связаны с прошлыми обращениями клиента в кредитное бюро.</font>\n",
    "\n",
    "<font color=blue>Встречаются признаки бинарные, вещественные, категориальные, а некоторые имеют рейтинговый смысл. Теперь мы имеем представление о смысле признаков, осталось удалить совсем нерелевантные и разобраться с пропусками.</font>"
   ]
  },
  {
   "cell_type": "markdown",
   "metadata": {
    "papermill": {
     "duration": 0.069968,
     "end_time": "2020-12-12T16:59:03.719114",
     "exception": false,
     "start_time": "2020-12-12T16:59:03.649146",
     "status": "completed"
    },
    "tags": []
   },
   "source": [
    "<font color=blue>Определим типы признаков:</font>"
   ]
  },
  {
   "cell_type": "code",
   "execution_count": 22,
   "metadata": {
    "execution": {
     "iopub.execute_input": "2020-12-12T16:59:03.866904Z",
     "iopub.status.busy": "2020-12-12T16:59:03.866203Z",
     "iopub.status.idle": "2020-12-12T16:59:03.869757Z",
     "shell.execute_reply": "2020-12-12T16:59:03.870280Z"
    },
    "papermill": {
     "duration": 0.081514,
     "end_time": "2020-12-12T16:59:03.870434",
     "exception": false,
     "start_time": "2020-12-12T16:59:03.788920",
     "status": "completed"
    },
    "tags": []
   },
   "outputs": [
    {
     "name": "stdout",
     "output_type": "stream",
     "text": [
      "int64: ['CNT_CHILDREN', 'DAYS_BIRTH', 'DAYS_EMPLOYED', 'DAYS_ID_PUBLISH', 'FLAG_MOBIL', 'FLAG_EMP_PHONE', 'FLAG_WORK_PHONE', 'FLAG_CONT_MOBILE', 'FLAG_PHONE', 'FLAG_EMAIL', 'REGION_RATING_CLIENT', 'REGION_RATING_CLIENT_W_CITY', 'HOUR_APPR_PROCESS_START', 'REG_REGION_NOT_LIVE_REGION', 'REG_REGION_NOT_WORK_REGION', 'LIVE_REGION_NOT_WORK_REGION', 'REG_CITY_NOT_LIVE_CITY', 'REG_CITY_NOT_WORK_CITY', 'LIVE_CITY_NOT_WORK_CITY', 'FLAG_DOCUMENT_2', 'FLAG_DOCUMENT_3', 'FLAG_DOCUMENT_4', 'FLAG_DOCUMENT_5', 'FLAG_DOCUMENT_6', 'FLAG_DOCUMENT_7', 'FLAG_DOCUMENT_8', 'FLAG_DOCUMENT_9', 'FLAG_DOCUMENT_10', 'FLAG_DOCUMENT_11', 'FLAG_DOCUMENT_12', 'FLAG_DOCUMENT_13', 'FLAG_DOCUMENT_14', 'FLAG_DOCUMENT_15', 'FLAG_DOCUMENT_16', 'FLAG_DOCUMENT_17', 'FLAG_DOCUMENT_18', 'FLAG_DOCUMENT_19', 'FLAG_DOCUMENT_20', 'FLAG_DOCUMENT_21']\n",
      "\n",
      "float64: ['AMT_INCOME_TOTAL', 'AMT_CREDIT', 'AMT_ANNUITY', 'AMT_GOODS_PRICE', 'REGION_POPULATION_RELATIVE', 'DAYS_REGISTRATION', 'OWN_CAR_AGE', 'CNT_FAM_MEMBERS', 'EXT_SOURCE_1', 'EXT_SOURCE_2', 'EXT_SOURCE_3', 'APARTMENTS_AVG', 'BASEMENTAREA_AVG', 'YEARS_BEGINEXPLUATATION_AVG', 'YEARS_BUILD_AVG', 'COMMONAREA_AVG', 'ELEVATORS_AVG', 'ENTRANCES_AVG', 'FLOORSMAX_AVG', 'FLOORSMIN_AVG', 'LANDAREA_AVG', 'LIVINGAPARTMENTS_AVG', 'LIVINGAREA_AVG', 'NONLIVINGAPARTMENTS_AVG', 'NONLIVINGAREA_AVG', 'APARTMENTS_MODE', 'BASEMENTAREA_MODE', 'YEARS_BEGINEXPLUATATION_MODE', 'YEARS_BUILD_MODE', 'COMMONAREA_MODE', 'ELEVATORS_MODE', 'ENTRANCES_MODE', 'FLOORSMAX_MODE', 'FLOORSMIN_MODE', 'LANDAREA_MODE', 'LIVINGAPARTMENTS_MODE', 'LIVINGAREA_MODE', 'NONLIVINGAPARTMENTS_MODE', 'NONLIVINGAREA_MODE', 'APARTMENTS_MEDI', 'BASEMENTAREA_MEDI', 'YEARS_BEGINEXPLUATATION_MEDI', 'YEARS_BUILD_MEDI', 'COMMONAREA_MEDI', 'ELEVATORS_MEDI', 'ENTRANCES_MEDI', 'FLOORSMAX_MEDI', 'FLOORSMIN_MEDI', 'LANDAREA_MEDI', 'LIVINGAPARTMENTS_MEDI', 'LIVINGAREA_MEDI', 'NONLIVINGAPARTMENTS_MEDI', 'NONLIVINGAREA_MEDI', 'TOTALAREA_MODE', 'OBS_30_CNT_SOCIAL_CIRCLE', 'DEF_30_CNT_SOCIAL_CIRCLE', 'OBS_60_CNT_SOCIAL_CIRCLE', 'DEF_60_CNT_SOCIAL_CIRCLE', 'DAYS_LAST_PHONE_CHANGE', 'AMT_REQ_CREDIT_BUREAU_HOUR', 'AMT_REQ_CREDIT_BUREAU_DAY', 'AMT_REQ_CREDIT_BUREAU_WEEK', 'AMT_REQ_CREDIT_BUREAU_MON', 'AMT_REQ_CREDIT_BUREAU_QRT', 'AMT_REQ_CREDIT_BUREAU_YEAR']\n",
      "\n",
      "object: ['NAME_CONTRACT_TYPE', 'CODE_GENDER', 'FLAG_OWN_CAR', 'FLAG_OWN_REALTY', 'NAME_TYPE_SUITE', 'NAME_INCOME_TYPE', 'NAME_EDUCATION_TYPE', 'NAME_FAMILY_STATUS', 'NAME_HOUSING_TYPE', 'OCCUPATION_TYPE', 'WEEKDAY_APPR_PROCESS_START', 'ORGANIZATION_TYPE', 'FONDKAPREMONT_MODE', 'HOUSETYPE_MODE', 'WALLSMATERIAL_MODE', 'EMERGENCYSTATE_MODE']\n",
      "\n"
     ]
    }
   ],
   "source": [
    "def get_dtypes(data):\n",
    "    gr = data.columns.groupby(data.dtypes)\n",
    "    return {str(dtype): list(val) for dtype, val in gr.items()}\n",
    "\n",
    "dtypes = get_dtypes(X_train)\n",
    "for dtype in dtypes:\n",
    "    print(f'{dtype}: {dtypes[dtype]}\\n')"
   ]
  },
  {
   "cell_type": "markdown",
   "metadata": {
    "papermill": {
     "duration": 0.068449,
     "end_time": "2020-12-12T16:59:04.010898",
     "exception": false,
     "start_time": "2020-12-12T16:59:03.942449",
     "status": "completed"
    },
    "tags": []
   },
   "source": [
    "<font color=blue>Сначала удалим некоторые целочисленные признаки. В решении нам поможет их разброс!</font>"
   ]
  },
  {
   "cell_type": "code",
   "execution_count": 23,
   "metadata": {
    "execution": {
     "iopub.execute_input": "2020-12-12T16:59:04.188020Z",
     "iopub.status.busy": "2020-12-12T16:59:04.187374Z",
     "iopub.status.idle": "2020-12-12T16:59:04.485139Z",
     "shell.execute_reply": "2020-12-12T16:59:04.484554Z"
    },
    "papermill": {
     "duration": 0.403445,
     "end_time": "2020-12-12T16:59:04.485239",
     "exception": false,
     "start_time": "2020-12-12T16:59:04.081794",
     "status": "completed"
    },
    "tags": []
   },
   "outputs": [
    {
     "data": {
      "text/html": [
       "<div>\n",
       "<style scoped>\n",
       "    .dataframe tbody tr th:only-of-type {\n",
       "        vertical-align: middle;\n",
       "    }\n",
       "\n",
       "    .dataframe tbody tr th {\n",
       "        vertical-align: top;\n",
       "    }\n",
       "\n",
       "    .dataframe thead th {\n",
       "        text-align: right;\n",
       "    }\n",
       "</style>\n",
       "<table border=\"1\" class=\"dataframe\">\n",
       "  <thead>\n",
       "    <tr style=\"text-align: right;\">\n",
       "      <th></th>\n",
       "      <th>var</th>\n",
       "      <th>mean</th>\n",
       "      <th>nunique</th>\n",
       "      <th>nan_cnt</th>\n",
       "    </tr>\n",
       "  </thead>\n",
       "  <tbody>\n",
       "    <tr>\n",
       "      <th>FLAG_MOBIL</th>\n",
       "      <td>0.000000e+00</td>\n",
       "      <td>1.000000</td>\n",
       "      <td>1</td>\n",
       "      <td>0</td>\n",
       "    </tr>\n",
       "    <tr>\n",
       "      <th>FLAG_DOCUMENT_12</th>\n",
       "      <td>6.636625e-06</td>\n",
       "      <td>0.000007</td>\n",
       "      <td>2</td>\n",
       "      <td>0</td>\n",
       "    </tr>\n",
       "    <tr>\n",
       "      <th>FLAG_DOCUMENT_10</th>\n",
       "      <td>1.327316e-05</td>\n",
       "      <td>0.000013</td>\n",
       "      <td>2</td>\n",
       "      <td>0</td>\n",
       "    </tr>\n",
       "    <tr>\n",
       "      <th>FLAG_DOCUMENT_2</th>\n",
       "      <td>2.654597e-05</td>\n",
       "      <td>0.000027</td>\n",
       "      <td>2</td>\n",
       "      <td>0</td>\n",
       "    </tr>\n",
       "    <tr>\n",
       "      <th>FLAG_DOCUMENT_4</th>\n",
       "      <td>6.636228e-05</td>\n",
       "      <td>0.000066</td>\n",
       "      <td>2</td>\n",
       "      <td>0</td>\n",
       "    </tr>\n",
       "    <tr>\n",
       "      <th>FLAG_DOCUMENT_7</th>\n",
       "      <td>1.924264e-04</td>\n",
       "      <td>0.000192</td>\n",
       "      <td>2</td>\n",
       "      <td>0</td>\n",
       "    </tr>\n",
       "    <tr>\n",
       "      <th>FLAG_DOCUMENT_17</th>\n",
       "      <td>2.587631e-04</td>\n",
       "      <td>0.000259</td>\n",
       "      <td>2</td>\n",
       "      <td>0</td>\n",
       "    </tr>\n",
       "    <tr>\n",
       "      <th>FLAG_DOCUMENT_21</th>\n",
       "      <td>2.985609e-04</td>\n",
       "      <td>0.000299</td>\n",
       "      <td>2</td>\n",
       "      <td>0</td>\n",
       "    </tr>\n",
       "    <tr>\n",
       "      <th>FLAG_DOCUMENT_20</th>\n",
       "      <td>4.842421e-04</td>\n",
       "      <td>0.000484</td>\n",
       "      <td>2</td>\n",
       "      <td>0</td>\n",
       "    </tr>\n",
       "    <tr>\n",
       "      <th>FLAG_DOCUMENT_19</th>\n",
       "      <td>6.102007e-04</td>\n",
       "      <td>0.000611</td>\n",
       "      <td>2</td>\n",
       "      <td>0</td>\n",
       "    </tr>\n",
       "    <tr>\n",
       "      <th>FLAG_DOCUMENT_15</th>\n",
       "      <td>1.166689e-03</td>\n",
       "      <td>0.001168</td>\n",
       "      <td>2</td>\n",
       "      <td>0</td>\n",
       "    </tr>\n",
       "    <tr>\n",
       "      <th>FLAG_CONT_MOBILE</th>\n",
       "      <td>1.947374e-03</td>\n",
       "      <td>0.998049</td>\n",
       "      <td>2</td>\n",
       "      <td>0</td>\n",
       "    </tr>\n",
       "    <tr>\n",
       "      <th>FLAG_DOCUMENT_14</th>\n",
       "      <td>2.918205e-03</td>\n",
       "      <td>0.002927</td>\n",
       "      <td>2</td>\n",
       "      <td>0</td>\n",
       "    </tr>\n",
       "    <tr>\n",
       "      <th>FLAG_DOCUMENT_13</th>\n",
       "      <td>3.472111e-03</td>\n",
       "      <td>0.003484</td>\n",
       "      <td>2</td>\n",
       "      <td>0</td>\n",
       "    </tr>\n",
       "    <tr>\n",
       "      <th>FLAG_DOCUMENT_9</th>\n",
       "      <td>3.913472e-03</td>\n",
       "      <td>0.003929</td>\n",
       "      <td>2</td>\n",
       "      <td>0</td>\n",
       "    </tr>\n",
       "    <tr>\n",
       "      <th>FLAG_DOCUMENT_11</th>\n",
       "      <td>4.005646e-03</td>\n",
       "      <td>0.004022</td>\n",
       "      <td>2</td>\n",
       "      <td>0</td>\n",
       "    </tr>\n",
       "    <tr>\n",
       "      <th>FLAG_DOCUMENT_18</th>\n",
       "      <td>7.867922e-03</td>\n",
       "      <td>0.007931</td>\n",
       "      <td>2</td>\n",
       "      <td>0</td>\n",
       "    </tr>\n",
       "    <tr>\n",
       "      <th>FLAG_DOCUMENT_16</th>\n",
       "      <td>1.024602e-02</td>\n",
       "      <td>0.010353</td>\n",
       "      <td>2</td>\n",
       "      <td>0</td>\n",
       "    </tr>\n",
       "    <tr>\n",
       "      <th>FLAG_DOCUMENT_5</th>\n",
       "      <td>1.509568e-02</td>\n",
       "      <td>0.015331</td>\n",
       "      <td>2</td>\n",
       "      <td>0</td>\n",
       "    </tr>\n",
       "    <tr>\n",
       "      <th>REG_REGION_NOT_LIVE_REGION</th>\n",
       "      <td>1.523075e-02</td>\n",
       "      <td>0.015470</td>\n",
       "      <td>2</td>\n",
       "      <td>0</td>\n",
       "    </tr>\n",
       "    <tr>\n",
       "      <th>LIVE_REGION_NOT_WORK_REGION</th>\n",
       "      <td>3.944816e-02</td>\n",
       "      <td>0.041140</td>\n",
       "      <td>2</td>\n",
       "      <td>0</td>\n",
       "    </tr>\n",
       "    <tr>\n",
       "      <th>REG_REGION_NOT_WORK_REGION</th>\n",
       "      <td>4.878873e-02</td>\n",
       "      <td>0.051434</td>\n",
       "      <td>2</td>\n",
       "      <td>0</td>\n",
       "    </tr>\n",
       "    <tr>\n",
       "      <th>FLAG_EMAIL</th>\n",
       "      <td>5.394122e-02</td>\n",
       "      <td>0.057214</td>\n",
       "      <td>2</td>\n",
       "      <td>0</td>\n",
       "    </tr>\n",
       "    <tr>\n",
       "      <th>REG_CITY_NOT_LIVE_CITY</th>\n",
       "      <td>7.342026e-02</td>\n",
       "      <td>0.079786</td>\n",
       "      <td>2</td>\n",
       "      <td>0</td>\n",
       "    </tr>\n",
       "    <tr>\n",
       "      <th>FLAG_DOCUMENT_8</th>\n",
       "      <td>7.426149e-02</td>\n",
       "      <td>0.080788</td>\n",
       "      <td>2</td>\n",
       "      <td>0</td>\n",
       "    </tr>\n",
       "    <tr>\n",
       "      <th>FLAG_DOCUMENT_6</th>\n",
       "      <td>7.982560e-02</td>\n",
       "      <td>0.087477</td>\n",
       "      <td>2</td>\n",
       "      <td>0</td>\n",
       "    </tr>\n",
       "    <tr>\n",
       "      <th>LIVE_CITY_NOT_WORK_CITY</th>\n",
       "      <td>1.471153e-01</td>\n",
       "      <td>0.179242</td>\n",
       "      <td>2</td>\n",
       "      <td>0</td>\n",
       "    </tr>\n",
       "    <tr>\n",
       "      <th>FLAG_EMP_PHONE</th>\n",
       "      <td>1.473748e-01</td>\n",
       "      <td>0.820353</td>\n",
       "      <td>2</td>\n",
       "      <td>0</td>\n",
       "    </tr>\n",
       "    <tr>\n",
       "      <th>FLAG_WORK_PHONE</th>\n",
       "      <td>1.598306e-01</td>\n",
       "      <td>0.199716</td>\n",
       "      <td>2</td>\n",
       "      <td>0</td>\n",
       "    </tr>\n",
       "    <tr>\n",
       "      <th>REG_CITY_NOT_WORK_CITY</th>\n",
       "      <td>1.777442e-01</td>\n",
       "      <td>0.231193</td>\n",
       "      <td>2</td>\n",
       "      <td>0</td>\n",
       "    </tr>\n",
       "    <tr>\n",
       "      <th>FLAG_PHONE</th>\n",
       "      <td>2.015046e-01</td>\n",
       "      <td>0.279780</td>\n",
       "      <td>2</td>\n",
       "      <td>0</td>\n",
       "    </tr>\n",
       "    <tr>\n",
       "      <th>FLAG_DOCUMENT_3</th>\n",
       "      <td>2.056196e-01</td>\n",
       "      <td>0.710670</td>\n",
       "      <td>2</td>\n",
       "      <td>0</td>\n",
       "    </tr>\n",
       "    <tr>\n",
       "      <th>REGION_RATING_CLIENT_W_CITY</th>\n",
       "      <td>2.527288e-01</td>\n",
       "      <td>2.030409</td>\n",
       "      <td>3</td>\n",
       "      <td>0</td>\n",
       "    </tr>\n",
       "    <tr>\n",
       "      <th>REGION_RATING_CLIENT</th>\n",
       "      <td>2.593294e-01</td>\n",
       "      <td>2.051314</td>\n",
       "      <td>3</td>\n",
       "      <td>0</td>\n",
       "    </tr>\n",
       "    <tr>\n",
       "      <th>CNT_CHILDREN</th>\n",
       "      <td>5.172443e-01</td>\n",
       "      <td>0.415479</td>\n",
       "      <td>14</td>\n",
       "      <td>0</td>\n",
       "    </tr>\n",
       "    <tr>\n",
       "      <th>HOUR_APPR_PROCESS_START</th>\n",
       "      <td>1.070089e+01</td>\n",
       "      <td>12.063074</td>\n",
       "      <td>24</td>\n",
       "      <td>0</td>\n",
       "    </tr>\n",
       "    <tr>\n",
       "      <th>DAYS_ID_PUBLISH</th>\n",
       "      <td>2.280641e+06</td>\n",
       "      <td>-2992.722443</td>\n",
       "      <td>6041</td>\n",
       "      <td>0</td>\n",
       "    </tr>\n",
       "    <tr>\n",
       "      <th>DAYS_BIRTH</th>\n",
       "      <td>1.903080e+07</td>\n",
       "      <td>-16028.704285</td>\n",
       "      <td>17262</td>\n",
       "      <td>0</td>\n",
       "    </tr>\n",
       "    <tr>\n",
       "      <th>DAYS_EMPLOYED</th>\n",
       "      <td>1.991909e+10</td>\n",
       "      <td>63641.422129</td>\n",
       "      <td>10928</td>\n",
       "      <td>0</td>\n",
       "    </tr>\n",
       "  </tbody>\n",
       "</table>\n",
       "</div>"
      ],
      "text/plain": [
       "                                      var          mean  nunique  nan_cnt\n",
       "FLAG_MOBIL                   0.000000e+00      1.000000        1        0\n",
       "FLAG_DOCUMENT_12             6.636625e-06      0.000007        2        0\n",
       "FLAG_DOCUMENT_10             1.327316e-05      0.000013        2        0\n",
       "FLAG_DOCUMENT_2              2.654597e-05      0.000027        2        0\n",
       "FLAG_DOCUMENT_4              6.636228e-05      0.000066        2        0\n",
       "FLAG_DOCUMENT_7              1.924264e-04      0.000192        2        0\n",
       "FLAG_DOCUMENT_17             2.587631e-04      0.000259        2        0\n",
       "FLAG_DOCUMENT_21             2.985609e-04      0.000299        2        0\n",
       "FLAG_DOCUMENT_20             4.842421e-04      0.000484        2        0\n",
       "FLAG_DOCUMENT_19             6.102007e-04      0.000611        2        0\n",
       "FLAG_DOCUMENT_15             1.166689e-03      0.001168        2        0\n",
       "FLAG_CONT_MOBILE             1.947374e-03      0.998049        2        0\n",
       "FLAG_DOCUMENT_14             2.918205e-03      0.002927        2        0\n",
       "FLAG_DOCUMENT_13             3.472111e-03      0.003484        2        0\n",
       "FLAG_DOCUMENT_9              3.913472e-03      0.003929        2        0\n",
       "FLAG_DOCUMENT_11             4.005646e-03      0.004022        2        0\n",
       "FLAG_DOCUMENT_18             7.867922e-03      0.007931        2        0\n",
       "FLAG_DOCUMENT_16             1.024602e-02      0.010353        2        0\n",
       "FLAG_DOCUMENT_5              1.509568e-02      0.015331        2        0\n",
       "REG_REGION_NOT_LIVE_REGION   1.523075e-02      0.015470        2        0\n",
       "LIVE_REGION_NOT_WORK_REGION  3.944816e-02      0.041140        2        0\n",
       "REG_REGION_NOT_WORK_REGION   4.878873e-02      0.051434        2        0\n",
       "FLAG_EMAIL                   5.394122e-02      0.057214        2        0\n",
       "REG_CITY_NOT_LIVE_CITY       7.342026e-02      0.079786        2        0\n",
       "FLAG_DOCUMENT_8              7.426149e-02      0.080788        2        0\n",
       "FLAG_DOCUMENT_6              7.982560e-02      0.087477        2        0\n",
       "LIVE_CITY_NOT_WORK_CITY      1.471153e-01      0.179242        2        0\n",
       "FLAG_EMP_PHONE               1.473748e-01      0.820353        2        0\n",
       "FLAG_WORK_PHONE              1.598306e-01      0.199716        2        0\n",
       "REG_CITY_NOT_WORK_CITY       1.777442e-01      0.231193        2        0\n",
       "FLAG_PHONE                   2.015046e-01      0.279780        2        0\n",
       "FLAG_DOCUMENT_3              2.056196e-01      0.710670        2        0\n",
       "REGION_RATING_CLIENT_W_CITY  2.527288e-01      2.030409        3        0\n",
       "REGION_RATING_CLIENT         2.593294e-01      2.051314        3        0\n",
       "CNT_CHILDREN                 5.172443e-01      0.415479       14        0\n",
       "HOUR_APPR_PROCESS_START      1.070089e+01     12.063074       24        0\n",
       "DAYS_ID_PUBLISH              2.280641e+06  -2992.722443     6041        0\n",
       "DAYS_BIRTH                   1.903080e+07 -16028.704285    17262        0\n",
       "DAYS_EMPLOYED                1.991909e+10  63641.422129    10928        0"
      ]
     },
     "execution_count": 23,
     "metadata": {},
     "output_type": "execute_result"
    }
   ],
   "source": [
    "drop_features = []\n",
    "\n",
    "def nan_cnt(X):\n",
    "    return X.isna().sum()\n",
    "\n",
    "st = ['var', 'mean', 'nunique', nan_cnt]\n",
    "var_info = X_train[dtypes['int64']].agg(st).T.sort_values(by='var')\n",
    "var_info.astype({'nunique': 'int', 'nan_cnt': 'int'})"
   ]
  },
  {
   "cell_type": "markdown",
   "metadata": {
    "papermill": {
     "duration": 0.072426,
     "end_time": "2020-12-12T16:59:04.629256",
     "exception": false,
     "start_time": "2020-12-12T16:59:04.556830",
     "status": "completed"
    },
    "tags": []
   },
   "source": [
    "<font color=blue>Получается, у некоторых признаков вообще отсутствует (или почти отсутствует) какое-либо разнообразие в значениях. В случае малого числа различных значений для построения дерева это будет означать меньший шанс попадения в критерий расщепления — `FLAG_MOBIL` вообще константен (наверное, тяжело взять кредит без предоставления номера телефона), и в обучении он никак не поможет. Очевидно, мы его удаляем. Также мы удалим признаки `FLAG_DOCUMENT_12`, ..., FLAG_DOCUMENT_5, поскольку они отвечают за наличиев документов (которые почти все либо предоставляют, либо не предоставляют), что не является информативным для выдачи кредита, а также FLAG_CONT_MOBILE.</font>"
   ]
  },
  {
   "cell_type": "code",
   "execution_count": 24,
   "metadata": {
    "execution": {
     "iopub.execute_input": "2020-12-12T16:59:04.778014Z",
     "iopub.status.busy": "2020-12-12T16:59:04.777151Z",
     "iopub.status.idle": "2020-12-12T16:59:04.780150Z",
     "shell.execute_reply": "2020-12-12T16:59:04.779529Z"
    },
    "papermill": {
     "duration": 0.077638,
     "end_time": "2020-12-12T16:59:04.780251",
     "exception": false,
     "start_time": "2020-12-12T16:59:04.702613",
     "status": "completed"
    },
    "tags": []
   },
   "outputs": [],
   "source": [
    "drop_features += list(var_info.loc[:'REG_REGION_NOT_LIVE_REGION'].index)"
   ]
  },
  {
   "cell_type": "markdown",
   "metadata": {
    "papermill": {
     "duration": 0.072987,
     "end_time": "2020-12-12T16:59:04.924881",
     "exception": false,
     "start_time": "2020-12-12T16:59:04.851894",
     "status": "completed"
    },
    "tags": []
   },
   "source": [
    "<font color=blue>Таким образом, мы удалили константные и почти константные целочисленные признаки, по смыслу не являющиеся значимыми для кредитного скоринга. Кстати, в целочисленных признаках не оказалось пропусков.</font>\n",
    "\n",
    "<font color=blue>А что с вещественными?</font>"
   ]
  },
  {
   "cell_type": "code",
   "execution_count": 25,
   "metadata": {
    "execution": {
     "iopub.execute_input": "2020-12-12T16:59:05.105273Z",
     "iopub.status.busy": "2020-12-12T16:59:05.104362Z",
     "iopub.status.idle": "2020-12-12T16:59:05.884513Z",
     "shell.execute_reply": "2020-12-12T16:59:05.884999Z"
    },
    "papermill": {
     "duration": 0.889848,
     "end_time": "2020-12-12T16:59:05.885130",
     "exception": false,
     "start_time": "2020-12-12T16:59:04.995282",
     "status": "completed"
    },
    "tags": []
   },
   "outputs": [
    {
     "data": {
      "text/html": [
       "<style  type=\"text/css\" >\n",
       "</style><table id=\"T_57fc18e2_3c9b_11eb_8cb4_0242ac130202\" ><thead>    <tr>        <th class=\"blank level0\" ></th>        <th class=\"col_heading level0 col0\" >mean</th>        <th class=\"col_heading level0 col1\" >nan_cnt</th>    </tr></thead><tbody>\n",
       "                <tr>\n",
       "                        <th id=\"T_57fc18e2_3c9b_11eb_8cb4_0242ac130202level0_row0\" class=\"row_heading level0 row0\" >COMMONAREA_MODE</th>\n",
       "                        <td id=\"T_57fc18e2_3c9b_11eb_8cb4_0242ac130202row0_col0\" class=\"data row0 col0\" >0.042554</td>\n",
       "                        <td id=\"T_57fc18e2_3c9b_11eb_8cb4_0242ac130202row0_col1\" class=\"data row0 col1\" >105370</td>\n",
       "            </tr>\n",
       "            <tr>\n",
       "                        <th id=\"T_57fc18e2_3c9b_11eb_8cb4_0242ac130202level0_row1\" class=\"row_heading level0 row1\" >COMMONAREA_MEDI</th>\n",
       "                        <td id=\"T_57fc18e2_3c9b_11eb_8cb4_0242ac130202row1_col0\" class=\"data row1 col0\" >0.044675</td>\n",
       "                        <td id=\"T_57fc18e2_3c9b_11eb_8cb4_0242ac130202row1_col1\" class=\"data row1 col1\" >105370</td>\n",
       "            </tr>\n",
       "            <tr>\n",
       "                        <th id=\"T_57fc18e2_3c9b_11eb_8cb4_0242ac130202level0_row2\" class=\"row_heading level0 row2\" >COMMONAREA_AVG</th>\n",
       "                        <td id=\"T_57fc18e2_3c9b_11eb_8cb4_0242ac130202row2_col0\" class=\"data row2 col0\" >0.044744</td>\n",
       "                        <td id=\"T_57fc18e2_3c9b_11eb_8cb4_0242ac130202row2_col1\" class=\"data row2 col1\" >105370</td>\n",
       "            </tr>\n",
       "            <tr>\n",
       "                        <th id=\"T_57fc18e2_3c9b_11eb_8cb4_0242ac130202level0_row3\" class=\"row_heading level0 row3\" >NONLIVINGAPARTMENTS_MODE</th>\n",
       "                        <td id=\"T_57fc18e2_3c9b_11eb_8cb4_0242ac130202row3_col0\" class=\"data row3 col0\" >0.008246</td>\n",
       "                        <td id=\"T_57fc18e2_3c9b_11eb_8cb4_0242ac130202row3_col1\" class=\"data row3 col1\" >104629</td>\n",
       "            </tr>\n",
       "            <tr>\n",
       "                        <th id=\"T_57fc18e2_3c9b_11eb_8cb4_0242ac130202level0_row4\" class=\"row_heading level0 row4\" >NONLIVINGAPARTMENTS_MEDI</th>\n",
       "                        <td id=\"T_57fc18e2_3c9b_11eb_8cb4_0242ac130202row4_col0\" class=\"data row4 col0\" >0.008849</td>\n",
       "                        <td id=\"T_57fc18e2_3c9b_11eb_8cb4_0242ac130202row4_col1\" class=\"data row4 col1\" >104629</td>\n",
       "            </tr>\n",
       "            <tr>\n",
       "                        <th id=\"T_57fc18e2_3c9b_11eb_8cb4_0242ac130202level0_row5\" class=\"row_heading level0 row5\" >NONLIVINGAPARTMENTS_AVG</th>\n",
       "                        <td id=\"T_57fc18e2_3c9b_11eb_8cb4_0242ac130202row5_col0\" class=\"data row5 col0\" >0.009002</td>\n",
       "                        <td id=\"T_57fc18e2_3c9b_11eb_8cb4_0242ac130202row5_col1\" class=\"data row5 col1\" >104629</td>\n",
       "            </tr>\n",
       "            <tr>\n",
       "                        <th id=\"T_57fc18e2_3c9b_11eb_8cb4_0242ac130202level0_row6\" class=\"row_heading level0 row6\" >LIVINGAPARTMENTS_MODE</th>\n",
       "                        <td id=\"T_57fc18e2_3c9b_11eb_8cb4_0242ac130202row6_col0\" class=\"data row6 col0\" >0.105664</td>\n",
       "                        <td id=\"T_57fc18e2_3c9b_11eb_8cb4_0242ac130202row6_col1\" class=\"data row6 col1\" >103029</td>\n",
       "            </tr>\n",
       "            <tr>\n",
       "                        <th id=\"T_57fc18e2_3c9b_11eb_8cb4_0242ac130202level0_row7\" class=\"row_heading level0 row7\" >LIVINGAPARTMENTS_MEDI</th>\n",
       "                        <td id=\"T_57fc18e2_3c9b_11eb_8cb4_0242ac130202row7_col0\" class=\"data row7 col0\" >0.102026</td>\n",
       "                        <td id=\"T_57fc18e2_3c9b_11eb_8cb4_0242ac130202row7_col1\" class=\"data row7 col1\" >103029</td>\n",
       "            </tr>\n",
       "            <tr>\n",
       "                        <th id=\"T_57fc18e2_3c9b_11eb_8cb4_0242ac130202level0_row8\" class=\"row_heading level0 row8\" >LIVINGAPARTMENTS_AVG</th>\n",
       "                        <td id=\"T_57fc18e2_3c9b_11eb_8cb4_0242ac130202row8_col0\" class=\"data row8 col0\" >0.100902</td>\n",
       "                        <td id=\"T_57fc18e2_3c9b_11eb_8cb4_0242ac130202row8_col1\" class=\"data row8 col1\" >103029</td>\n",
       "            </tr>\n",
       "            <tr>\n",
       "                        <th id=\"T_57fc18e2_3c9b_11eb_8cb4_0242ac130202level0_row9\" class=\"row_heading level0 row9\" >FLOORSMIN_MEDI</th>\n",
       "                        <td id=\"T_57fc18e2_3c9b_11eb_8cb4_0242ac130202row9_col0\" class=\"data row9 col0\" >0.231721</td>\n",
       "                        <td id=\"T_57fc18e2_3c9b_11eb_8cb4_0242ac130202row9_col1\" class=\"data row9 col1\" >102286</td>\n",
       "            </tr>\n",
       "            <tr>\n",
       "                        <th id=\"T_57fc18e2_3c9b_11eb_8cb4_0242ac130202level0_row10\" class=\"row_heading level0 row10\" >FLOORSMIN_AVG</th>\n",
       "                        <td id=\"T_57fc18e2_3c9b_11eb_8cb4_0242ac130202row10_col0\" class=\"data row10 col0\" >0.232018</td>\n",
       "                        <td id=\"T_57fc18e2_3c9b_11eb_8cb4_0242ac130202row10_col1\" class=\"data row10 col1\" >102286</td>\n",
       "            </tr>\n",
       "            <tr>\n",
       "                        <th id=\"T_57fc18e2_3c9b_11eb_8cb4_0242ac130202level0_row11\" class=\"row_heading level0 row11\" >FLOORSMIN_MODE</th>\n",
       "                        <td id=\"T_57fc18e2_3c9b_11eb_8cb4_0242ac130202row11_col0\" class=\"data row11 col0\" >0.228072</td>\n",
       "                        <td id=\"T_57fc18e2_3c9b_11eb_8cb4_0242ac130202row11_col1\" class=\"data row11 col1\" >102286</td>\n",
       "            </tr>\n",
       "            <tr>\n",
       "                        <th id=\"T_57fc18e2_3c9b_11eb_8cb4_0242ac130202level0_row12\" class=\"row_heading level0 row12\" >YEARS_BUILD_AVG</th>\n",
       "                        <td id=\"T_57fc18e2_3c9b_11eb_8cb4_0242ac130202row12_col0\" class=\"data row12 col0\" >0.753136</td>\n",
       "                        <td id=\"T_57fc18e2_3c9b_11eb_8cb4_0242ac130202row12_col1\" class=\"data row12 col1\" >100215</td>\n",
       "            </tr>\n",
       "            <tr>\n",
       "                        <th id=\"T_57fc18e2_3c9b_11eb_8cb4_0242ac130202level0_row13\" class=\"row_heading level0 row13\" >YEARS_BUILD_MEDI</th>\n",
       "                        <td id=\"T_57fc18e2_3c9b_11eb_8cb4_0242ac130202row13_col0\" class=\"data row13 col0\" >0.756391</td>\n",
       "                        <td id=\"T_57fc18e2_3c9b_11eb_8cb4_0242ac130202row13_col1\" class=\"data row13 col1\" >100215</td>\n",
       "            </tr>\n",
       "            <tr>\n",
       "                        <th id=\"T_57fc18e2_3c9b_11eb_8cb4_0242ac130202level0_row14\" class=\"row_heading level0 row14\" >YEARS_BUILD_MODE</th>\n",
       "                        <td id=\"T_57fc18e2_3c9b_11eb_8cb4_0242ac130202row14_col0\" class=\"data row14 col0\" >0.760243</td>\n",
       "                        <td id=\"T_57fc18e2_3c9b_11eb_8cb4_0242ac130202row14_col1\" class=\"data row14 col1\" >100215</td>\n",
       "            </tr>\n",
       "            <tr>\n",
       "                        <th id=\"T_57fc18e2_3c9b_11eb_8cb4_0242ac130202level0_row15\" class=\"row_heading level0 row15\" >OWN_CAR_AGE</th>\n",
       "                        <td id=\"T_57fc18e2_3c9b_11eb_8cb4_0242ac130202row15_col0\" class=\"data row15 col0\" >12.049785</td>\n",
       "                        <td id=\"T_57fc18e2_3c9b_11eb_8cb4_0242ac130202row15_col1\" class=\"data row15 col1\" >99258</td>\n",
       "            </tr>\n",
       "            <tr>\n",
       "                        <th id=\"T_57fc18e2_3c9b_11eb_8cb4_0242ac130202level0_row16\" class=\"row_heading level0 row16\" >LANDAREA_AVG</th>\n",
       "                        <td id=\"T_57fc18e2_3c9b_11eb_8cb4_0242ac130202row16_col0\" class=\"data row16 col0\" >0.066451</td>\n",
       "                        <td id=\"T_57fc18e2_3c9b_11eb_8cb4_0242ac130202row16_col1\" class=\"data row16 col1\" >89514</td>\n",
       "            </tr>\n",
       "            <tr>\n",
       "                        <th id=\"T_57fc18e2_3c9b_11eb_8cb4_0242ac130202level0_row17\" class=\"row_heading level0 row17\" >LANDAREA_MODE</th>\n",
       "                        <td id=\"T_57fc18e2_3c9b_11eb_8cb4_0242ac130202row17_col0\" class=\"data row17 col0\" >0.064994</td>\n",
       "                        <td id=\"T_57fc18e2_3c9b_11eb_8cb4_0242ac130202row17_col1\" class=\"data row17 col1\" >89514</td>\n",
       "            </tr>\n",
       "            <tr>\n",
       "                        <th id=\"T_57fc18e2_3c9b_11eb_8cb4_0242ac130202level0_row18\" class=\"row_heading level0 row18\" >LANDAREA_MEDI</th>\n",
       "                        <td id=\"T_57fc18e2_3c9b_11eb_8cb4_0242ac130202row18_col0\" class=\"data row18 col0\" >0.067291</td>\n",
       "                        <td id=\"T_57fc18e2_3c9b_11eb_8cb4_0242ac130202row18_col1\" class=\"data row18 col1\" >89514</td>\n",
       "            </tr>\n",
       "            <tr>\n",
       "                        <th id=\"T_57fc18e2_3c9b_11eb_8cb4_0242ac130202level0_row19\" class=\"row_heading level0 row19\" >BASEMENTAREA_MEDI</th>\n",
       "                        <td id=\"T_57fc18e2_3c9b_11eb_8cb4_0242ac130202row19_col0\" class=\"data row19 col0\" >0.088066</td>\n",
       "                        <td id=\"T_57fc18e2_3c9b_11eb_8cb4_0242ac130202row19_col1\" class=\"data row19 col1\" >88213</td>\n",
       "            </tr>\n",
       "            <tr>\n",
       "                        <th id=\"T_57fc18e2_3c9b_11eb_8cb4_0242ac130202level0_row20\" class=\"row_heading level0 row20\" >BASEMENTAREA_AVG</th>\n",
       "                        <td id=\"T_57fc18e2_3c9b_11eb_8cb4_0242ac130202row20_col0\" class=\"data row20 col0\" >0.088551</td>\n",
       "                        <td id=\"T_57fc18e2_3c9b_11eb_8cb4_0242ac130202row20_col1\" class=\"data row20 col1\" >88213</td>\n",
       "            </tr>\n",
       "            <tr>\n",
       "                        <th id=\"T_57fc18e2_3c9b_11eb_8cb4_0242ac130202level0_row21\" class=\"row_heading level0 row21\" >BASEMENTAREA_MODE</th>\n",
       "                        <td id=\"T_57fc18e2_3c9b_11eb_8cb4_0242ac130202row21_col0\" class=\"data row21 col0\" >0.087624</td>\n",
       "                        <td id=\"T_57fc18e2_3c9b_11eb_8cb4_0242ac130202row21_col1\" class=\"data row21 col1\" >88213</td>\n",
       "            </tr>\n",
       "            <tr>\n",
       "                        <th id=\"T_57fc18e2_3c9b_11eb_8cb4_0242ac130202level0_row22\" class=\"row_heading level0 row22\" >EXT_SOURCE_1</th>\n",
       "                        <td id=\"T_57fc18e2_3c9b_11eb_8cb4_0242ac130202row22_col0\" class=\"data row22 col0\" >0.502899</td>\n",
       "                        <td id=\"T_57fc18e2_3c9b_11eb_8cb4_0242ac130202row22_col1\" class=\"data row22 col1\" >84920</td>\n",
       "            </tr>\n",
       "            <tr>\n",
       "                        <th id=\"T_57fc18e2_3c9b_11eb_8cb4_0242ac130202level0_row23\" class=\"row_heading level0 row23\" >NONLIVINGAREA_MEDI</th>\n",
       "                        <td id=\"T_57fc18e2_3c9b_11eb_8cb4_0242ac130202row23_col0\" class=\"data row23 col0\" >0.028175</td>\n",
       "                        <td id=\"T_57fc18e2_3c9b_11eb_8cb4_0242ac130202row23_col1\" class=\"data row23 col1\" >83233</td>\n",
       "            </tr>\n",
       "            <tr>\n",
       "                        <th id=\"T_57fc18e2_3c9b_11eb_8cb4_0242ac130202level0_row24\" class=\"row_heading level0 row24\" >NONLIVINGAREA_MODE</th>\n",
       "                        <td id=\"T_57fc18e2_3c9b_11eb_8cb4_0242ac130202row24_col0\" class=\"data row24 col0\" >0.026953</td>\n",
       "                        <td id=\"T_57fc18e2_3c9b_11eb_8cb4_0242ac130202row24_col1\" class=\"data row24 col1\" >83233</td>\n",
       "            </tr>\n",
       "            <tr>\n",
       "                        <th id=\"T_57fc18e2_3c9b_11eb_8cb4_0242ac130202level0_row25\" class=\"row_heading level0 row25\" >NONLIVINGAREA_AVG</th>\n",
       "                        <td id=\"T_57fc18e2_3c9b_11eb_8cb4_0242ac130202row25_col0\" class=\"data row25 col0\" >0.028374</td>\n",
       "                        <td id=\"T_57fc18e2_3c9b_11eb_8cb4_0242ac130202row25_col1\" class=\"data row25 col1\" >83233</td>\n",
       "            </tr>\n",
       "            <tr>\n",
       "                        <th id=\"T_57fc18e2_3c9b_11eb_8cb4_0242ac130202level0_row26\" class=\"row_heading level0 row26\" >ELEVATORS_AVG</th>\n",
       "                        <td id=\"T_57fc18e2_3c9b_11eb_8cb4_0242ac130202row26_col0\" class=\"data row26 col0\" >0.079357</td>\n",
       "                        <td id=\"T_57fc18e2_3c9b_11eb_8cb4_0242ac130202row26_col1\" class=\"data row26 col1\" >80298</td>\n",
       "            </tr>\n",
       "            <tr>\n",
       "                        <th id=\"T_57fc18e2_3c9b_11eb_8cb4_0242ac130202level0_row27\" class=\"row_heading level0 row27\" >ELEVATORS_MODE</th>\n",
       "                        <td id=\"T_57fc18e2_3c9b_11eb_8cb4_0242ac130202row27_col0\" class=\"data row27 col0\" >0.074802</td>\n",
       "                        <td id=\"T_57fc18e2_3c9b_11eb_8cb4_0242ac130202row27_col1\" class=\"data row27 col1\" >80298</td>\n",
       "            </tr>\n",
       "            <tr>\n",
       "                        <th id=\"T_57fc18e2_3c9b_11eb_8cb4_0242ac130202level0_row28\" class=\"row_heading level0 row28\" >ELEVATORS_MEDI</th>\n",
       "                        <td id=\"T_57fc18e2_3c9b_11eb_8cb4_0242ac130202row28_col0\" class=\"data row28 col0\" >0.078413</td>\n",
       "                        <td id=\"T_57fc18e2_3c9b_11eb_8cb4_0242ac130202row28_col1\" class=\"data row28 col1\" >80298</td>\n",
       "            </tr>\n",
       "            <tr>\n",
       "                        <th id=\"T_57fc18e2_3c9b_11eb_8cb4_0242ac130202level0_row29\" class=\"row_heading level0 row29\" >APARTMENTS_MODE</th>\n",
       "                        <td id=\"T_57fc18e2_3c9b_11eb_8cb4_0242ac130202row29_col0\" class=\"data row29 col0\" >0.113980</td>\n",
       "                        <td id=\"T_57fc18e2_3c9b_11eb_8cb4_0242ac130202row29_col1\" class=\"data row29 col1\" >76432</td>\n",
       "            </tr>\n",
       "            <tr>\n",
       "                        <th id=\"T_57fc18e2_3c9b_11eb_8cb4_0242ac130202level0_row30\" class=\"row_heading level0 row30\" >APARTMENTS_AVG</th>\n",
       "                        <td id=\"T_57fc18e2_3c9b_11eb_8cb4_0242ac130202row30_col0\" class=\"data row30 col0\" >0.117301</td>\n",
       "                        <td id=\"T_57fc18e2_3c9b_11eb_8cb4_0242ac130202row30_col1\" class=\"data row30 col1\" >76432</td>\n",
       "            </tr>\n",
       "            <tr>\n",
       "                        <th id=\"T_57fc18e2_3c9b_11eb_8cb4_0242ac130202level0_row31\" class=\"row_heading level0 row31\" >APARTMENTS_MEDI</th>\n",
       "                        <td id=\"T_57fc18e2_3c9b_11eb_8cb4_0242ac130202row31_col0\" class=\"data row31 col0\" >0.117634</td>\n",
       "                        <td id=\"T_57fc18e2_3c9b_11eb_8cb4_0242ac130202row31_col1\" class=\"data row31 col1\" >76432</td>\n",
       "            </tr>\n",
       "            <tr>\n",
       "                        <th id=\"T_57fc18e2_3c9b_11eb_8cb4_0242ac130202level0_row32\" class=\"row_heading level0 row32\" >ENTRANCES_MODE</th>\n",
       "                        <td id=\"T_57fc18e2_3c9b_11eb_8cb4_0242ac130202row32_col0\" class=\"data row32 col0\" >0.145165</td>\n",
       "                        <td id=\"T_57fc18e2_3c9b_11eb_8cb4_0242ac130202row32_col1\" class=\"data row32 col1\" >75900</td>\n",
       "            </tr>\n",
       "            <tr>\n",
       "                        <th id=\"T_57fc18e2_3c9b_11eb_8cb4_0242ac130202level0_row33\" class=\"row_heading level0 row33\" >ENTRANCES_AVG</th>\n",
       "                        <td id=\"T_57fc18e2_3c9b_11eb_8cb4_0242ac130202row33_col0\" class=\"data row33 col0\" >0.149726</td>\n",
       "                        <td id=\"T_57fc18e2_3c9b_11eb_8cb4_0242ac130202row33_col1\" class=\"data row33 col1\" >75900</td>\n",
       "            </tr>\n",
       "            <tr>\n",
       "                        <th id=\"T_57fc18e2_3c9b_11eb_8cb4_0242ac130202level0_row34\" class=\"row_heading level0 row34\" >ENTRANCES_MEDI</th>\n",
       "                        <td id=\"T_57fc18e2_3c9b_11eb_8cb4_0242ac130202row34_col0\" class=\"data row34 col0\" >0.149199</td>\n",
       "                        <td id=\"T_57fc18e2_3c9b_11eb_8cb4_0242ac130202row34_col1\" class=\"data row34 col1\" >75900</td>\n",
       "            </tr>\n",
       "            <tr>\n",
       "                        <th id=\"T_57fc18e2_3c9b_11eb_8cb4_0242ac130202level0_row35\" class=\"row_heading level0 row35\" >LIVINGAREA_MODE</th>\n",
       "                        <td id=\"T_57fc18e2_3c9b_11eb_8cb4_0242ac130202row35_col0\" class=\"data row35 col0\" >0.105839</td>\n",
       "                        <td id=\"T_57fc18e2_3c9b_11eb_8cb4_0242ac130202row35_col1\" class=\"data row35 col1\" >75645</td>\n",
       "            </tr>\n",
       "            <tr>\n",
       "                        <th id=\"T_57fc18e2_3c9b_11eb_8cb4_0242ac130202level0_row36\" class=\"row_heading level0 row36\" >LIVINGAREA_MEDI</th>\n",
       "                        <td id=\"T_57fc18e2_3c9b_11eb_8cb4_0242ac130202row36_col0\" class=\"data row36 col0\" >0.108543</td>\n",
       "                        <td id=\"T_57fc18e2_3c9b_11eb_8cb4_0242ac130202row36_col1\" class=\"data row36 col1\" >75645</td>\n",
       "            </tr>\n",
       "            <tr>\n",
       "                        <th id=\"T_57fc18e2_3c9b_11eb_8cb4_0242ac130202level0_row37\" class=\"row_heading level0 row37\" >LIVINGAREA_AVG</th>\n",
       "                        <td id=\"T_57fc18e2_3c9b_11eb_8cb4_0242ac130202row37_col0\" class=\"data row37 col0\" >0.107424</td>\n",
       "                        <td id=\"T_57fc18e2_3c9b_11eb_8cb4_0242ac130202row37_col1\" class=\"data row37 col1\" >75645</td>\n",
       "            </tr>\n",
       "            <tr>\n",
       "                        <th id=\"T_57fc18e2_3c9b_11eb_8cb4_0242ac130202level0_row38\" class=\"row_heading level0 row38\" >FLOORSMAX_AVG</th>\n",
       "                        <td id=\"T_57fc18e2_3c9b_11eb_8cb4_0242ac130202row38_col0\" class=\"data row38 col0\" >0.226390</td>\n",
       "                        <td id=\"T_57fc18e2_3c9b_11eb_8cb4_0242ac130202row38_col1\" class=\"data row38 col1\" >75005</td>\n",
       "            </tr>\n",
       "            <tr>\n",
       "                        <th id=\"T_57fc18e2_3c9b_11eb_8cb4_0242ac130202level0_row39\" class=\"row_heading level0 row39\" >FLOORSMAX_MEDI</th>\n",
       "                        <td id=\"T_57fc18e2_3c9b_11eb_8cb4_0242ac130202row39_col0\" class=\"data row39 col0\" >0.226041</td>\n",
       "                        <td id=\"T_57fc18e2_3c9b_11eb_8cb4_0242ac130202row39_col1\" class=\"data row39 col1\" >75005</td>\n",
       "            </tr>\n",
       "            <tr>\n",
       "                        <th id=\"T_57fc18e2_3c9b_11eb_8cb4_0242ac130202level0_row40\" class=\"row_heading level0 row40\" >FLOORSMAX_MODE</th>\n",
       "                        <td id=\"T_57fc18e2_3c9b_11eb_8cb4_0242ac130202row40_col0\" class=\"data row40 col0\" >0.222449</td>\n",
       "                        <td id=\"T_57fc18e2_3c9b_11eb_8cb4_0242ac130202row40_col1\" class=\"data row40 col1\" >75005</td>\n",
       "            </tr>\n",
       "            <tr>\n",
       "                        <th id=\"T_57fc18e2_3c9b_11eb_8cb4_0242ac130202level0_row41\" class=\"row_heading level0 row41\" >YEARS_BEGINEXPLUATATION_MODE</th>\n",
       "                        <td id=\"T_57fc18e2_3c9b_11eb_8cb4_0242ac130202row41_col0\" class=\"data row41 col0\" >0.977057</td>\n",
       "                        <td id=\"T_57fc18e2_3c9b_11eb_8cb4_0242ac130202row41_col1\" class=\"data row41 col1\" >73486</td>\n",
       "            </tr>\n",
       "            <tr>\n",
       "                        <th id=\"T_57fc18e2_3c9b_11eb_8cb4_0242ac130202level0_row42\" class=\"row_heading level0 row42\" >YEARS_BEGINEXPLUATATION_AVG</th>\n",
       "                        <td id=\"T_57fc18e2_3c9b_11eb_8cb4_0242ac130202row42_col0\" class=\"data row42 col0\" >0.977707</td>\n",
       "                        <td id=\"T_57fc18e2_3c9b_11eb_8cb4_0242ac130202row42_col1\" class=\"data row42 col1\" >73486</td>\n",
       "            </tr>\n",
       "            <tr>\n",
       "                        <th id=\"T_57fc18e2_3c9b_11eb_8cb4_0242ac130202level0_row43\" class=\"row_heading level0 row43\" >YEARS_BEGINEXPLUATATION_MEDI</th>\n",
       "                        <td id=\"T_57fc18e2_3c9b_11eb_8cb4_0242ac130202row43_col0\" class=\"data row43 col0\" >0.977712</td>\n",
       "                        <td id=\"T_57fc18e2_3c9b_11eb_8cb4_0242ac130202row43_col1\" class=\"data row43 col1\" >73486</td>\n",
       "            </tr>\n",
       "            <tr>\n",
       "                        <th id=\"T_57fc18e2_3c9b_11eb_8cb4_0242ac130202level0_row44\" class=\"row_heading level0 row44\" >TOTALAREA_MODE</th>\n",
       "                        <td id=\"T_57fc18e2_3c9b_11eb_8cb4_0242ac130202row44_col0\" class=\"data row44 col0\" >0.102458</td>\n",
       "                        <td id=\"T_57fc18e2_3c9b_11eb_8cb4_0242ac130202row44_col1\" class=\"data row44 col1\" >72713</td>\n",
       "            </tr>\n",
       "            <tr>\n",
       "                        <th id=\"T_57fc18e2_3c9b_11eb_8cb4_0242ac130202level0_row45\" class=\"row_heading level0 row45\" >EXT_SOURCE_3</th>\n",
       "                        <td id=\"T_57fc18e2_3c9b_11eb_8cb4_0242ac130202row45_col0\" class=\"data row45 col0\" >0.510890</td>\n",
       "                        <td id=\"T_57fc18e2_3c9b_11eb_8cb4_0242ac130202row45_col1\" class=\"data row45 col1\" >30032</td>\n",
       "            </tr>\n",
       "            <tr>\n",
       "                        <th id=\"T_57fc18e2_3c9b_11eb_8cb4_0242ac130202level0_row46\" class=\"row_heading level0 row46\" >AMT_REQ_CREDIT_BUREAU_HOUR</th>\n",
       "                        <td id=\"T_57fc18e2_3c9b_11eb_8cb4_0242ac130202row46_col0\" class=\"data row46 col0\" >0.006628</td>\n",
       "                        <td id=\"T_57fc18e2_3c9b_11eb_8cb4_0242ac130202row46_col1\" class=\"data row46 col1\" >20477</td>\n",
       "            </tr>\n",
       "            <tr>\n",
       "                        <th id=\"T_57fc18e2_3c9b_11eb_8cb4_0242ac130202level0_row47\" class=\"row_heading level0 row47\" >AMT_REQ_CREDIT_BUREAU_DAY</th>\n",
       "                        <td id=\"T_57fc18e2_3c9b_11eb_8cb4_0242ac130202row47_col0\" class=\"data row47 col0\" >0.006728</td>\n",
       "                        <td id=\"T_57fc18e2_3c9b_11eb_8cb4_0242ac130202row47_col1\" class=\"data row47 col1\" >20477</td>\n",
       "            </tr>\n",
       "            <tr>\n",
       "                        <th id=\"T_57fc18e2_3c9b_11eb_8cb4_0242ac130202level0_row48\" class=\"row_heading level0 row48\" >AMT_REQ_CREDIT_BUREAU_WEEK</th>\n",
       "                        <td id=\"T_57fc18e2_3c9b_11eb_8cb4_0242ac130202row48_col0\" class=\"data row48 col0\" >0.034324</td>\n",
       "                        <td id=\"T_57fc18e2_3c9b_11eb_8cb4_0242ac130202row48_col1\" class=\"data row48 col1\" >20477</td>\n",
       "            </tr>\n",
       "            <tr>\n",
       "                        <th id=\"T_57fc18e2_3c9b_11eb_8cb4_0242ac130202level0_row49\" class=\"row_heading level0 row49\" >AMT_REQ_CREDIT_BUREAU_MON</th>\n",
       "                        <td id=\"T_57fc18e2_3c9b_11eb_8cb4_0242ac130202row49_col0\" class=\"data row49 col0\" >0.267999</td>\n",
       "                        <td id=\"T_57fc18e2_3c9b_11eb_8cb4_0242ac130202row49_col1\" class=\"data row49 col1\" >20477</td>\n",
       "            </tr>\n",
       "            <tr>\n",
       "                        <th id=\"T_57fc18e2_3c9b_11eb_8cb4_0242ac130202level0_row50\" class=\"row_heading level0 row50\" >AMT_REQ_CREDIT_BUREAU_QRT</th>\n",
       "                        <td id=\"T_57fc18e2_3c9b_11eb_8cb4_0242ac130202row50_col0\" class=\"data row50 col0\" >0.266225</td>\n",
       "                        <td id=\"T_57fc18e2_3c9b_11eb_8cb4_0242ac130202row50_col1\" class=\"data row50 col1\" >20477</td>\n",
       "            </tr>\n",
       "            <tr>\n",
       "                        <th id=\"T_57fc18e2_3c9b_11eb_8cb4_0242ac130202level0_row51\" class=\"row_heading level0 row51\" >AMT_REQ_CREDIT_BUREAU_YEAR</th>\n",
       "                        <td id=\"T_57fc18e2_3c9b_11eb_8cb4_0242ac130202row51_col0\" class=\"data row51 col0\" >1.900378</td>\n",
       "                        <td id=\"T_57fc18e2_3c9b_11eb_8cb4_0242ac130202row51_col1\" class=\"data row51 col1\" >20477</td>\n",
       "            </tr>\n",
       "            <tr>\n",
       "                        <th id=\"T_57fc18e2_3c9b_11eb_8cb4_0242ac130202level0_row52\" class=\"row_heading level0 row52\" >OBS_30_CNT_SOCIAL_CIRCLE</th>\n",
       "                        <td id=\"T_57fc18e2_3c9b_11eb_8cb4_0242ac130202row52_col0\" class=\"data row52 col0\" >1.424769</td>\n",
       "                        <td id=\"T_57fc18e2_3c9b_11eb_8cb4_0242ac130202row52_col1\" class=\"data row52 col1\" >501</td>\n",
       "            </tr>\n",
       "            <tr>\n",
       "                        <th id=\"T_57fc18e2_3c9b_11eb_8cb4_0242ac130202level0_row53\" class=\"row_heading level0 row53\" >DEF_30_CNT_SOCIAL_CIRCLE</th>\n",
       "                        <td id=\"T_57fc18e2_3c9b_11eb_8cb4_0242ac130202row53_col0\" class=\"data row53 col0\" >0.143483</td>\n",
       "                        <td id=\"T_57fc18e2_3c9b_11eb_8cb4_0242ac130202row53_col1\" class=\"data row53 col1\" >501</td>\n",
       "            </tr>\n",
       "            <tr>\n",
       "                        <th id=\"T_57fc18e2_3c9b_11eb_8cb4_0242ac130202level0_row54\" class=\"row_heading level0 row54\" >OBS_60_CNT_SOCIAL_CIRCLE</th>\n",
       "                        <td id=\"T_57fc18e2_3c9b_11eb_8cb4_0242ac130202row54_col0\" class=\"data row54 col0\" >1.407729</td>\n",
       "                        <td id=\"T_57fc18e2_3c9b_11eb_8cb4_0242ac130202row54_col1\" class=\"data row54 col1\" >501</td>\n",
       "            </tr>\n",
       "            <tr>\n",
       "                        <th id=\"T_57fc18e2_3c9b_11eb_8cb4_0242ac130202level0_row55\" class=\"row_heading level0 row55\" >DEF_60_CNT_SOCIAL_CIRCLE</th>\n",
       "                        <td id=\"T_57fc18e2_3c9b_11eb_8cb4_0242ac130202row55_col0\" class=\"data row55 col0\" >0.099782</td>\n",
       "                        <td id=\"T_57fc18e2_3c9b_11eb_8cb4_0242ac130202row55_col1\" class=\"data row55 col1\" >501</td>\n",
       "            </tr>\n",
       "            <tr>\n",
       "                        <th id=\"T_57fc18e2_3c9b_11eb_8cb4_0242ac130202level0_row56\" class=\"row_heading level0 row56\" >EXT_SOURCE_2</th>\n",
       "                        <td id=\"T_57fc18e2_3c9b_11eb_8cb4_0242ac130202row56_col0\" class=\"data row56 col0\" >0.514286</td>\n",
       "                        <td id=\"T_57fc18e2_3c9b_11eb_8cb4_0242ac130202row56_col1\" class=\"data row56 col1\" >336</td>\n",
       "            </tr>\n",
       "            <tr>\n",
       "                        <th id=\"T_57fc18e2_3c9b_11eb_8cb4_0242ac130202level0_row57\" class=\"row_heading level0 row57\" >AMT_GOODS_PRICE</th>\n",
       "                        <td id=\"T_57fc18e2_3c9b_11eb_8cb4_0242ac130202row57_col0\" class=\"data row57 col0\" >538610.625889</td>\n",
       "                        <td id=\"T_57fc18e2_3c9b_11eb_8cb4_0242ac130202row57_col1\" class=\"data row57 col1\" >134</td>\n",
       "            </tr>\n",
       "            <tr>\n",
       "                        <th id=\"T_57fc18e2_3c9b_11eb_8cb4_0242ac130202level0_row58\" class=\"row_heading level0 row58\" >AMT_ANNUITY</th>\n",
       "                        <td id=\"T_57fc18e2_3c9b_11eb_8cb4_0242ac130202row58_col0\" class=\"data row58 col0\" >27101.810092</td>\n",
       "                        <td id=\"T_57fc18e2_3c9b_11eb_8cb4_0242ac130202row58_col1\" class=\"data row58 col1\" >6</td>\n",
       "            </tr>\n",
       "            <tr>\n",
       "                        <th id=\"T_57fc18e2_3c9b_11eb_8cb4_0242ac130202level0_row59\" class=\"row_heading level0 row59\" >AMT_CREDIT</th>\n",
       "                        <td id=\"T_57fc18e2_3c9b_11eb_8cb4_0242ac130202row59_col0\" class=\"data row59 col0\" >599314.692419</td>\n",
       "                        <td id=\"T_57fc18e2_3c9b_11eb_8cb4_0242ac130202row59_col1\" class=\"data row59 col1\" >0</td>\n",
       "            </tr>\n",
       "            <tr>\n",
       "                        <th id=\"T_57fc18e2_3c9b_11eb_8cb4_0242ac130202level0_row60\" class=\"row_heading level0 row60\" >DAYS_LAST_PHONE_CHANGE</th>\n",
       "                        <td id=\"T_57fc18e2_3c9b_11eb_8cb4_0242ac130202row60_col0\" class=\"data row60 col0\" >-960.784476</td>\n",
       "                        <td id=\"T_57fc18e2_3c9b_11eb_8cb4_0242ac130202row60_col1\" class=\"data row60 col1\" >0</td>\n",
       "            </tr>\n",
       "            <tr>\n",
       "                        <th id=\"T_57fc18e2_3c9b_11eb_8cb4_0242ac130202level0_row61\" class=\"row_heading level0 row61\" >CNT_FAM_MEMBERS</th>\n",
       "                        <td id=\"T_57fc18e2_3c9b_11eb_8cb4_0242ac130202row61_col0\" class=\"data row61 col0\" >2.151806</td>\n",
       "                        <td id=\"T_57fc18e2_3c9b_11eb_8cb4_0242ac130202row61_col1\" class=\"data row61 col1\" >0</td>\n",
       "            </tr>\n",
       "            <tr>\n",
       "                        <th id=\"T_57fc18e2_3c9b_11eb_8cb4_0242ac130202level0_row62\" class=\"row_heading level0 row62\" >DAYS_REGISTRATION</th>\n",
       "                        <td id=\"T_57fc18e2_3c9b_11eb_8cb4_0242ac130202row62_col0\" class=\"data row62 col0\" >-4981.284665</td>\n",
       "                        <td id=\"T_57fc18e2_3c9b_11eb_8cb4_0242ac130202row62_col1\" class=\"data row62 col1\" >0</td>\n",
       "            </tr>\n",
       "            <tr>\n",
       "                        <th id=\"T_57fc18e2_3c9b_11eb_8cb4_0242ac130202level0_row63\" class=\"row_heading level0 row63\" >REGION_POPULATION_RELATIVE</th>\n",
       "                        <td id=\"T_57fc18e2_3c9b_11eb_8cb4_0242ac130202row63_col0\" class=\"data row63 col0\" >0.020872</td>\n",
       "                        <td id=\"T_57fc18e2_3c9b_11eb_8cb4_0242ac130202row63_col1\" class=\"data row63 col1\" >0</td>\n",
       "            </tr>\n",
       "            <tr>\n",
       "                        <th id=\"T_57fc18e2_3c9b_11eb_8cb4_0242ac130202level0_row64\" class=\"row_heading level0 row64\" >AMT_INCOME_TOTAL</th>\n",
       "                        <td id=\"T_57fc18e2_3c9b_11eb_8cb4_0242ac130202row64_col0\" class=\"data row64 col0\" >168694.879017</td>\n",
       "                        <td id=\"T_57fc18e2_3c9b_11eb_8cb4_0242ac130202row64_col1\" class=\"data row64 col1\" >0</td>\n",
       "            </tr>\n",
       "    </tbody></table>"
      ],
      "text/plain": [
       "<pandas.io.formats.style.Styler at 0x7f5b0a2e7bd0>"
      ]
     },
     "execution_count": 25,
     "metadata": {},
     "output_type": "execute_result"
    }
   ],
   "source": [
    "float_info = X_train[dtypes['float64']].agg(['mean', nan_cnt]).T\n",
    "df_full_col(float_info.sort_values('nan_cnt', ascending=False)\n",
    "            .astype({'nan_cnt': 'int'}))"
   ]
  },
  {
   "cell_type": "markdown",
   "metadata": {
    "papermill": {
     "duration": 0.072151,
     "end_time": "2020-12-12T16:59:06.028847",
     "exception": false,
     "start_time": "2020-12-12T16:59:05.956696",
     "status": "completed"
    },
    "tags": []
   },
   "source": [
    "<font color=blue>Здесь с пропусками все хуже. Очевидно, что некоторые из них сильно коррелированы — и в случае с линейными моделями стоило бы выбрать хотя бы лучший признак в каждой группе. Однако мультиколлинеарность в случае ансамбля деревьев не страшна: расщепление, производимое в вершинах, будет выбирать наилучшие признаки.</font>\n",
    "\n",
    "<font color=blue>Вернемся к вопросу заполнения пропусков. Поскольку разрешается «произвольная стретегия», то воспользуемся тем, что и CatBoost, и LightGBM умеют (и делают это по умолчанию) обрабатывать пропуски — оставим их сейчас без изменения.</font>\n",
    "\n",
    "<font color=blue>Мы можем видеть крайне низкое среднее у NONLIVINGAPARTMENTS (т.е. заемщики не часто владеют нежилыми квартирами) и крайне выское число пропусков, что делает группу признаков не особо информативным (но на всякий случай оставим NONLIVINGAREA). Еще крайне много нулей в AMT_REQ_CREDIT_BUREAU_HOUR и AMT_REQ_CREDIT_BUREAU_DAY (действительно, часто ли люди берут кредит ежедневно и уж тем более ежечасно), удалим и их:</font>"
   ]
  },
  {
   "cell_type": "code",
   "execution_count": 26,
   "metadata": {
    "execution": {
     "iopub.execute_input": "2020-12-12T16:59:06.193496Z",
     "iopub.status.busy": "2020-12-12T16:59:06.192822Z",
     "iopub.status.idle": "2020-12-12T16:59:06.195678Z",
     "shell.execute_reply": "2020-12-12T16:59:06.195190Z"
    },
    "papermill": {
     "duration": 0.094599,
     "end_time": "2020-12-12T16:59:06.195789",
     "exception": false,
     "start_time": "2020-12-12T16:59:06.101190",
     "status": "completed"
    },
    "tags": []
   },
   "outputs": [],
   "source": [
    "drop_features += ['NONLIVINGAPARTMENTS_MEDI', 'NONLIVINGAPARTMENTS_AVG',\n",
    "                  'NONLIVINGAPARTMENTS_MODE', 'AMT_REQ_CREDIT_BUREAU_HOUR',\n",
    "                  'AMT_REQ_CREDIT_BUREAU_DAY']"
   ]
  },
  {
   "cell_type": "markdown",
   "metadata": {
    "papermill": {
     "duration": 0.090732,
     "end_time": "2020-12-12T16:59:06.366444",
     "exception": false,
     "start_time": "2020-12-12T16:59:06.275712",
     "status": "completed"
    },
    "tags": []
   },
   "source": [
    "<font color=blue>Осталось разобраться со строками.</font>"
   ]
  },
  {
   "cell_type": "code",
   "execution_count": 27,
   "metadata": {
    "execution": {
     "iopub.execute_input": "2020-12-12T16:59:06.565468Z",
     "iopub.status.busy": "2020-12-12T16:59:06.564617Z",
     "iopub.status.idle": "2020-12-12T16:59:07.067712Z",
     "shell.execute_reply": "2020-12-12T16:59:07.068215Z"
    },
    "papermill": {
     "duration": 0.618117,
     "end_time": "2020-12-12T16:59:07.068374",
     "exception": false,
     "start_time": "2020-12-12T16:59:06.450257",
     "status": "completed"
    },
    "tags": []
   },
   "outputs": [
    {
     "data": {
      "text/html": [
       "<div>\n",
       "<style scoped>\n",
       "    .dataframe tbody tr th:only-of-type {\n",
       "        vertical-align: middle;\n",
       "    }\n",
       "\n",
       "    .dataframe tbody tr th {\n",
       "        vertical-align: top;\n",
       "    }\n",
       "\n",
       "    .dataframe thead th {\n",
       "        text-align: right;\n",
       "    }\n",
       "</style>\n",
       "<table border=\"1\" class=\"dataframe\">\n",
       "  <thead>\n",
       "    <tr style=\"text-align: right;\">\n",
       "      <th></th>\n",
       "      <th>nunique</th>\n",
       "      <th>nan_cnt</th>\n",
       "    </tr>\n",
       "  </thead>\n",
       "  <tbody>\n",
       "    <tr>\n",
       "      <th>FONDKAPREMONT_MODE</th>\n",
       "      <td>4</td>\n",
       "      <td>103091</td>\n",
       "    </tr>\n",
       "    <tr>\n",
       "      <th>WALLSMATERIAL_MODE</th>\n",
       "      <td>7</td>\n",
       "      <td>76639</td>\n",
       "    </tr>\n",
       "    <tr>\n",
       "      <th>HOUSETYPE_MODE</th>\n",
       "      <td>3</td>\n",
       "      <td>75628</td>\n",
       "    </tr>\n",
       "    <tr>\n",
       "      <th>EMERGENCYSTATE_MODE</th>\n",
       "      <td>2</td>\n",
       "      <td>71419</td>\n",
       "    </tr>\n",
       "    <tr>\n",
       "      <th>OCCUPATION_TYPE</th>\n",
       "      <td>18</td>\n",
       "      <td>47109</td>\n",
       "    </tr>\n",
       "    <tr>\n",
       "      <th>NAME_TYPE_SUITE</th>\n",
       "      <td>7</td>\n",
       "      <td>643</td>\n",
       "    </tr>\n",
       "    <tr>\n",
       "      <th>NAME_CONTRACT_TYPE</th>\n",
       "      <td>2</td>\n",
       "      <td>0</td>\n",
       "    </tr>\n",
       "    <tr>\n",
       "      <th>CODE_GENDER</th>\n",
       "      <td>3</td>\n",
       "      <td>0</td>\n",
       "    </tr>\n",
       "    <tr>\n",
       "      <th>FLAG_OWN_CAR</th>\n",
       "      <td>2</td>\n",
       "      <td>0</td>\n",
       "    </tr>\n",
       "    <tr>\n",
       "      <th>FLAG_OWN_REALTY</th>\n",
       "      <td>2</td>\n",
       "      <td>0</td>\n",
       "    </tr>\n",
       "    <tr>\n",
       "      <th>NAME_INCOME_TYPE</th>\n",
       "      <td>8</td>\n",
       "      <td>0</td>\n",
       "    </tr>\n",
       "    <tr>\n",
       "      <th>NAME_EDUCATION_TYPE</th>\n",
       "      <td>5</td>\n",
       "      <td>0</td>\n",
       "    </tr>\n",
       "    <tr>\n",
       "      <th>NAME_FAMILY_STATUS</th>\n",
       "      <td>5</td>\n",
       "      <td>0</td>\n",
       "    </tr>\n",
       "    <tr>\n",
       "      <th>NAME_HOUSING_TYPE</th>\n",
       "      <td>6</td>\n",
       "      <td>0</td>\n",
       "    </tr>\n",
       "    <tr>\n",
       "      <th>WEEKDAY_APPR_PROCESS_START</th>\n",
       "      <td>7</td>\n",
       "      <td>0</td>\n",
       "    </tr>\n",
       "    <tr>\n",
       "      <th>ORGANIZATION_TYPE</th>\n",
       "      <td>58</td>\n",
       "      <td>0</td>\n",
       "    </tr>\n",
       "  </tbody>\n",
       "</table>\n",
       "</div>"
      ],
      "text/plain": [
       "                            nunique  nan_cnt\n",
       "FONDKAPREMONT_MODE                4   103091\n",
       "WALLSMATERIAL_MODE                7    76639\n",
       "HOUSETYPE_MODE                    3    75628\n",
       "EMERGENCYSTATE_MODE               2    71419\n",
       "OCCUPATION_TYPE                  18    47109\n",
       "NAME_TYPE_SUITE                   7      643\n",
       "NAME_CONTRACT_TYPE                2        0\n",
       "CODE_GENDER                       3        0\n",
       "FLAG_OWN_CAR                      2        0\n",
       "FLAG_OWN_REALTY                   2        0\n",
       "NAME_INCOME_TYPE                  8        0\n",
       "NAME_EDUCATION_TYPE               5        0\n",
       "NAME_FAMILY_STATUS                5        0\n",
       "NAME_HOUSING_TYPE                 6        0\n",
       "WEEKDAY_APPR_PROCESS_START        7        0\n",
       "ORGANIZATION_TYPE                58        0"
      ]
     },
     "execution_count": 27,
     "metadata": {},
     "output_type": "execute_result"
    }
   ],
   "source": [
    "st = ['nunique', nan_cnt]\n",
    "X_train[dtypes['object']].agg(st).T.sort_values('nan_cnt', ascending=False)"
   ]
  },
  {
   "cell_type": "markdown",
   "metadata": {
    "papermill": {
     "duration": 0.073346,
     "end_time": "2020-12-12T16:59:07.216957",
     "exception": false,
     "start_time": "2020-12-12T16:59:07.143611",
     "status": "completed"
    },
    "tags": []
   },
   "source": [
    "<font color=blue>Поскольку впереди нас ждет кодирование, проще сразу заполнить пропуски строкой 'nan'.</font>"
   ]
  },
  {
   "cell_type": "code",
   "execution_count": 28,
   "metadata": {
    "execution": {
     "iopub.execute_input": "2020-12-12T16:59:07.373875Z",
     "iopub.status.busy": "2020-12-12T16:59:07.373208Z",
     "iopub.status.idle": "2020-12-12T16:59:07.860219Z",
     "shell.execute_reply": "2020-12-12T16:59:07.859415Z"
    },
    "papermill": {
     "duration": 0.569724,
     "end_time": "2020-12-12T16:59:07.860332",
     "exception": false,
     "start_time": "2020-12-12T16:59:07.290608",
     "status": "completed"
    },
    "tags": []
   },
   "outputs": [
    {
     "name": "stderr",
     "output_type": "stream",
     "text": [
      "/opt/conda/lib/python3.7/site-packages/pandas/core/indexing.py:1715: SettingWithCopyWarning: \n",
      "A value is trying to be set on a copy of a slice from a DataFrame.\n",
      "Try using .loc[row_indexer,col_indexer] = value instead\n",
      "\n",
      "See the caveats in the documentation: https://pandas.pydata.org/pandas-docs/stable/user_guide/indexing.html#returning-a-view-versus-a-copy\n",
      "  isetter(loc, v)\n"
     ]
    }
   ],
   "source": [
    "X_train.loc[:, dtypes['object']] = X_train.loc[:, dtypes['object']].fillna('nan')\n",
    "X_test.loc[:, dtypes['object']] = X_test.loc[:, dtypes['object']].fillna('nan')"
   ]
  },
  {
   "cell_type": "markdown",
   "metadata": {
    "papermill": {
     "duration": 0.074504,
     "end_time": "2020-12-12T16:59:08.009802",
     "exception": false,
     "start_time": "2020-12-12T16:59:07.935298",
     "status": "completed"
    },
    "tags": []
   },
   "source": [
    "<font color=blue>Что касается отбора категориальных признаков, то далее мы будем использовать несколько способов их кодирования и правильлнее было бы оценивать важность уже новых численных признаков. Но чтобы завершить блок отбора признаков, все же попробуем на данном этапе оценить важность непосредственно сырых категорий для предсказания целевой переменной.</font>\n",
    "\n",
    "<font color=blue>Поскольку <s>я пока не знаю других статистических тестов, которые применимы к данной задаче</s> число категорий в каждом признаке (кроме, может быть `ORGANIZATION_TYPE`) не велико, может быть разумно проверить критерий независимости $\\chi^2$ (Пирсона). Кстати, в sklearn'е своеобразная реализация этого теста (т.е. он считает другую статистику: <a href=https://stackoverflow.com/questions/21281328/scikit-learn-%CF%87%C2%B2-chi-squared-statistic-and-corresponding-contingency-table>link1</a>, <a href=https://stackoverflow.com/questions/50932433/scipy-and-sklearn-chi2-implementations-give-different-results>link2</a>, <a href=https://stats.stackexchange.com/questions/315697/%CF%87%C2%B2-chi-squared-statistic-of-scipy-stats-chi2-contingency-vs-sklearn-feature-se>link3</a>), поэтому воспользуемся scipy.</font>"
   ]
  },
  {
   "cell_type": "code",
   "execution_count": 29,
   "metadata": {
    "execution": {
     "iopub.execute_input": "2020-12-12T16:59:08.166033Z",
     "iopub.status.busy": "2020-12-12T16:59:08.165325Z",
     "iopub.status.idle": "2020-12-12T16:59:08.711298Z",
     "shell.execute_reply": "2020-12-12T16:59:08.710664Z"
    },
    "papermill": {
     "duration": 0.62722,
     "end_time": "2020-12-12T16:59:08.711446",
     "exception": false,
     "start_time": "2020-12-12T16:59:08.084226",
     "status": "completed"
    },
    "tags": []
   },
   "outputs": [],
   "source": [
    "from scipy.stats import chi2_contingency\n",
    "\n",
    "chi2s = []\n",
    "ps = []\n",
    "for cat in dtypes['object']:\n",
    "    chi2, p, _, _ = chi2_contingency(pd.crosstab(X_train[cat], y_train))\n",
    "    chi2s.append(chi2)\n",
    "    ps.append(p)"
   ]
  },
  {
   "cell_type": "code",
   "execution_count": 30,
   "metadata": {
    "execution": {
     "iopub.execute_input": "2020-12-12T16:59:08.874777Z",
     "iopub.status.busy": "2020-12-12T16:59:08.874063Z",
     "iopub.status.idle": "2020-12-12T16:59:08.877920Z",
     "shell.execute_reply": "2020-12-12T16:59:08.878383Z"
    },
    "papermill": {
     "duration": 0.092055,
     "end_time": "2020-12-12T16:59:08.878553",
     "exception": false,
     "start_time": "2020-12-12T16:59:08.786498",
     "status": "completed"
    },
    "tags": []
   },
   "outputs": [
    {
     "data": {
      "text/html": [
       "<div>\n",
       "<style scoped>\n",
       "    .dataframe tbody tr th:only-of-type {\n",
       "        vertical-align: middle;\n",
       "    }\n",
       "\n",
       "    .dataframe tbody tr th {\n",
       "        vertical-align: top;\n",
       "    }\n",
       "\n",
       "    .dataframe thead th {\n",
       "        text-align: right;\n",
       "    }\n",
       "</style>\n",
       "<table border=\"1\" class=\"dataframe\">\n",
       "  <thead>\n",
       "    <tr style=\"text-align: right;\">\n",
       "      <th></th>\n",
       "      <th>$\\chi^2$</th>\n",
       "      <th>p-value</th>\n",
       "    </tr>\n",
       "  </thead>\n",
       "  <tbody>\n",
       "    <tr>\n",
       "      <th>WEEKDAY_APPR_PROCESS_START</th>\n",
       "      <td>11.858025</td>\n",
       "      <td>6.521208e-02</td>\n",
       "    </tr>\n",
       "    <tr>\n",
       "      <th>FLAG_OWN_REALTY</th>\n",
       "      <td>12.355045</td>\n",
       "      <td>4.397964e-04</td>\n",
       "    </tr>\n",
       "    <tr>\n",
       "      <th>NAME_TYPE_SUITE</th>\n",
       "      <td>25.637753</td>\n",
       "      <td>5.844937e-04</td>\n",
       "    </tr>\n",
       "    <tr>\n",
       "      <th>FLAG_OWN_CAR</th>\n",
       "      <td>92.652410</td>\n",
       "      <td>6.233463e-22</td>\n",
       "    </tr>\n",
       "    <tr>\n",
       "      <th>FONDKAPREMONT_MODE</th>\n",
       "      <td>140.616874</td>\n",
       "      <td>2.082451e-29</td>\n",
       "    </tr>\n",
       "    <tr>\n",
       "      <th>NAME_CONTRACT_TYPE</th>\n",
       "      <td>169.916476</td>\n",
       "      <td>7.716297e-39</td>\n",
       "    </tr>\n",
       "    <tr>\n",
       "      <th>NAME_HOUSING_TYPE</th>\n",
       "      <td>209.263077</td>\n",
       "      <td>2.959164e-43</td>\n",
       "    </tr>\n",
       "    <tr>\n",
       "      <th>HOUSETYPE_MODE</th>\n",
       "      <td>237.851083</td>\n",
       "      <td>2.774602e-51</td>\n",
       "    </tr>\n",
       "    <tr>\n",
       "      <th>EMERGENCYSTATE_MODE</th>\n",
       "      <td>259.118953</td>\n",
       "      <td>5.407970e-57</td>\n",
       "    </tr>\n",
       "    <tr>\n",
       "      <th>NAME_FAMILY_STATUS</th>\n",
       "      <td>260.691500</td>\n",
       "      <td>3.235759e-55</td>\n",
       "    </tr>\n",
       "    <tr>\n",
       "      <th>WALLSMATERIAL_MODE</th>\n",
       "      <td>287.570645</td>\n",
       "      <td>2.723340e-58</td>\n",
       "    </tr>\n",
       "    <tr>\n",
       "      <th>NAME_EDUCATION_TYPE</th>\n",
       "      <td>461.867777</td>\n",
       "      <td>1.180458e-98</td>\n",
       "    </tr>\n",
       "    <tr>\n",
       "      <th>CODE_GENDER</th>\n",
       "      <td>491.309872</td>\n",
       "      <td>2.057865e-107</td>\n",
       "    </tr>\n",
       "    <tr>\n",
       "      <th>NAME_INCOME_TYPE</th>\n",
       "      <td>612.739268</td>\n",
       "      <td>4.394843e-128</td>\n",
       "    </tr>\n",
       "    <tr>\n",
       "      <th>ORGANIZATION_TYPE</th>\n",
       "      <td>861.477254</td>\n",
       "      <td>4.399737e-144</td>\n",
       "    </tr>\n",
       "    <tr>\n",
       "      <th>OCCUPATION_TYPE</th>\n",
       "      <td>982.212069</td>\n",
       "      <td>4.429543e-197</td>\n",
       "    </tr>\n",
       "  </tbody>\n",
       "</table>\n",
       "</div>"
      ],
      "text/plain": [
       "                              $\\chi^2$        p-value\n",
       "WEEKDAY_APPR_PROCESS_START   11.858025   6.521208e-02\n",
       "FLAG_OWN_REALTY              12.355045   4.397964e-04\n",
       "NAME_TYPE_SUITE              25.637753   5.844937e-04\n",
       "FLAG_OWN_CAR                 92.652410   6.233463e-22\n",
       "FONDKAPREMONT_MODE          140.616874   2.082451e-29\n",
       "NAME_CONTRACT_TYPE          169.916476   7.716297e-39\n",
       "NAME_HOUSING_TYPE           209.263077   2.959164e-43\n",
       "HOUSETYPE_MODE              237.851083   2.774602e-51\n",
       "EMERGENCYSTATE_MODE         259.118953   5.407970e-57\n",
       "NAME_FAMILY_STATUS          260.691500   3.235759e-55\n",
       "WALLSMATERIAL_MODE          287.570645   2.723340e-58\n",
       "NAME_EDUCATION_TYPE         461.867777   1.180458e-98\n",
       "CODE_GENDER                 491.309872  2.057865e-107\n",
       "NAME_INCOME_TYPE            612.739268  4.394843e-128\n",
       "ORGANIZATION_TYPE           861.477254  4.399737e-144\n",
       "OCCUPATION_TYPE             982.212069  4.429543e-197"
      ]
     },
     "execution_count": 30,
     "metadata": {},
     "output_type": "execute_result"
    }
   ],
   "source": [
    "st = {'$\\chi^2$': chi2s, 'p-value': ps}\n",
    "pd.DataFrame(data=st, index=dtypes['object']).sort_values('$\\chi^2$')"
   ]
  },
  {
   "cell_type": "markdown",
   "metadata": {
    "papermill": {
     "duration": 0.07559,
     "end_time": "2020-12-12T16:59:09.029156",
     "exception": false,
     "start_time": "2020-12-12T16:59:08.953566",
     "status": "completed"
    },
    "tags": []
   },
   "source": [
    "<font color=blue>Гипотезу независимости принимаем только для `WEEKDAY_APPR_PROCESS_START` (и исключаем этот столбец). Действительно, здесь записан день недели подачи заявки — вполне предсказуемо, что он не имеет особого смысла для предсказания. А вот следующий за ним `FLAG_OWN_REALTY` уже так смело выкидывать нельзя: тут указано, живет клиент в доме или в квартире, что в процессе построения дерева все-таки может сыграть роль.</font>"
   ]
  },
  {
   "cell_type": "code",
   "execution_count": 31,
   "metadata": {
    "execution": {
     "iopub.execute_input": "2020-12-12T16:59:09.183777Z",
     "iopub.status.busy": "2020-12-12T16:59:09.183148Z",
     "iopub.status.idle": "2020-12-12T16:59:09.186126Z",
     "shell.execute_reply": "2020-12-12T16:59:09.186652Z"
    },
    "papermill": {
     "duration": 0.082743,
     "end_time": "2020-12-12T16:59:09.186794",
     "exception": false,
     "start_time": "2020-12-12T16:59:09.104051",
     "status": "completed"
    },
    "tags": []
   },
   "outputs": [],
   "source": [
    "drop_features += ['WEEKDAY_APPR_PROCESS_START']"
   ]
  },
  {
   "cell_type": "markdown",
   "metadata": {
    "papermill": {
     "duration": 0.075142,
     "end_time": "2020-12-12T16:59:09.338152",
     "exception": false,
     "start_time": "2020-12-12T16:59:09.263010",
     "status": "completed"
    },
    "tags": []
   },
   "source": [
    "<font color=blue>Ура, мы наконец разобрались с пропусками и отобрали признаки. <i>Более точный/избирательный отбор можно было бы производить с помощью самих моделей бустинга (используя, например, `feature_importance`), тогда параллельно можно за качеством. Также мы не попробовали жадный перебор.</i></font>"
   ]
  },
  {
   "cell_type": "code",
   "execution_count": 32,
   "metadata": {
    "execution": {
     "iopub.execute_input": "2020-12-12T16:59:09.502217Z",
     "iopub.status.busy": "2020-12-12T16:59:09.501510Z",
     "iopub.status.idle": "2020-12-12T16:59:09.593309Z",
     "shell.execute_reply": "2020-12-12T16:59:09.592755Z"
    },
    "papermill": {
     "duration": 0.175198,
     "end_time": "2020-12-12T16:59:09.593440",
     "exception": false,
     "start_time": "2020-12-12T16:59:09.418242",
     "status": "completed"
    },
    "tags": []
   },
   "outputs": [
    {
     "name": "stdout",
     "output_type": "stream",
     "text": [
      "Raw feature counts: {'int64': 39, 'float64': 65, 'object': 16}\n",
      "After feature selection: {'int64': 19, 'float64': 60, 'object': 15}\n"
     ]
    }
   ],
   "source": [
    "print('Raw feature counts:', {dtype: len(dtypes[dtype]) for dtype in dtypes})\n",
    "X_train = X_train.drop(columns=drop_features)\n",
    "X_test = X_test.drop(columns=drop_features)\n",
    "dtypes = get_dtypes(X_train)\n",
    "print('After feature selection:', {dtype: len(dtypes[dtype]) for dtype in dtypes})"
   ]
  },
  {
   "cell_type": "markdown",
   "metadata": {
    "papermill": {
     "duration": 0.075251,
     "end_time": "2020-12-12T16:59:09.746149",
     "exception": false,
     "start_time": "2020-12-12T16:59:09.670898",
     "status": "completed"
    },
    "tags": []
   },
   "source": [
    "<font color=blue>Далее нам будет удобно рассматривать разбиение только на две группы.</font>"
   ]
  },
  {
   "cell_type": "code",
   "execution_count": 33,
   "metadata": {
    "execution": {
     "iopub.execute_input": "2020-12-12T16:59:09.900827Z",
     "iopub.status.busy": "2020-12-12T16:59:09.900219Z",
     "iopub.status.idle": "2020-12-12T16:59:09.902781Z",
     "shell.execute_reply": "2020-12-12T16:59:09.902162Z"
    },
    "papermill": {
     "duration": 0.081197,
     "end_time": "2020-12-12T16:59:09.902878",
     "exception": false,
     "start_time": "2020-12-12T16:59:09.821681",
     "status": "completed"
    },
    "tags": []
   },
   "outputs": [],
   "source": [
    "num_features = dtypes['int64'] + dtypes['float64']\n",
    "str_features = dtypes['object']"
   ]
  },
  {
   "cell_type": "markdown",
   "metadata": {
    "papermill": {
     "duration": 0.074783,
     "end_time": "2020-12-12T16:59:10.052849",
     "exception": false,
     "start_time": "2020-12-12T16:59:09.978066",
     "status": "completed"
    },
    "tags": []
   },
   "source": [
    "**Задание 5 (1 балл)**"
   ]
  },
  {
   "cell_type": "markdown",
   "metadata": {
    "papermill": {
     "duration": 0.075704,
     "end_time": "2020-12-12T16:59:10.206225",
     "exception": false,
     "start_time": "2020-12-12T16:59:10.130521",
     "status": "completed"
    },
    "tags": []
   },
   "source": [
    "Обучите реализации градиентного бустинга LightGBM и Catboost на вещественных признаках без подбора параметров. **Получилась ли заметная разнциа в качестве? Как вы думаете, почему?**\n",
    "\n",
    "**Замечание:**\n",
    "* В этом и последующих экспериментах необходимо измерять время обучения моделей."
   ]
  },
  {
   "cell_type": "markdown",
   "metadata": {
    "papermill": {
     "duration": 0.078512,
     "end_time": "2020-12-12T16:59:10.362197",
     "exception": false,
     "start_time": "2020-12-12T16:59:10.283685",
     "status": "completed"
    },
    "tags": []
   },
   "source": [
    "<font color=blue>Обсуждение в телеграме подтвердило, что общем случае есть проблемы со способом вычисления PR-AUC: у нас неопределенность в начальной точке, а также численно по-разному считаются average_precision_score и auc(recall, precision). Но в случае предсказаний бустинга разница почти отсутствует, и мы будем далее считать функционал с помощью average_precision_score. </font>"
   ]
  },
  {
   "cell_type": "code",
   "execution_count": 34,
   "metadata": {
    "execution": {
     "iopub.execute_input": "2020-12-12T16:59:10.523451Z",
     "iopub.status.busy": "2020-12-12T16:59:10.522819Z",
     "iopub.status.idle": "2020-12-12T16:59:10.525283Z",
     "shell.execute_reply": "2020-12-12T16:59:10.525847Z"
    },
    "papermill": {
     "duration": 0.085235,
     "end_time": "2020-12-12T16:59:10.525978",
     "exception": false,
     "start_time": "2020-12-12T16:59:10.440743",
     "status": "completed"
    },
    "tags": []
   },
   "outputs": [],
   "source": [
    "from sklearn.metrics import average_precision_score as pr_auc\n",
    "\n",
    "def learn_predict_auc(clf, X_train, y_train, X_test, y_test):\n",
    "    clf.fit(X_train, y_train)\n",
    "    y_proba = clf.predict_proba(X_test)[:, 1]\n",
    "    return pr_auc(y_test, y_proba)"
   ]
  },
  {
   "cell_type": "code",
   "execution_count": 35,
   "metadata": {
    "execution": {
     "iopub.execute_input": "2020-12-12T16:59:10.690773Z",
     "iopub.status.busy": "2020-12-12T16:59:10.690106Z",
     "iopub.status.idle": "2020-12-12T16:59:10.919761Z",
     "shell.execute_reply": "2020-12-12T16:59:10.919195Z"
    },
    "papermill": {
     "duration": 0.312213,
     "end_time": "2020-12-12T16:59:10.919885",
     "exception": false,
     "start_time": "2020-12-12T16:59:10.607672",
     "status": "completed"
    },
    "tags": []
   },
   "outputs": [],
   "source": [
    "from lightgbm import LGBMClassifier\n",
    "from catboost import CatBoostClassifier\n",
    "\n",
    "samples = [X_train[num_features], y_train, X_test[num_features], y_test]"
   ]
  },
  {
   "cell_type": "markdown",
   "metadata": {
    "papermill": {
     "duration": 0.077304,
     "end_time": "2020-12-12T16:59:11.074127",
     "exception": false,
     "start_time": "2020-12-12T16:59:10.996823",
     "status": "completed"
    },
    "tags": []
   },
   "source": [
    "<font color=blue>Напомним, что мы везде используем random_state (равный нулю) для воспроизводимости.</font>"
   ]
  },
  {
   "cell_type": "code",
   "execution_count": 36,
   "metadata": {
    "execution": {
     "iopub.execute_input": "2020-12-12T16:59:11.233685Z",
     "iopub.status.busy": "2020-12-12T16:59:11.233073Z",
     "iopub.status.idle": "2020-12-12T16:59:15.298917Z",
     "shell.execute_reply": "2020-12-12T16:59:15.299486Z"
    },
    "papermill": {
     "duration": 4.147909,
     "end_time": "2020-12-12T16:59:15.299665",
     "exception": false,
     "start_time": "2020-12-12T16:59:11.151756",
     "status": "completed"
    },
    "tags": []
   },
   "outputs": [
    {
     "name": "stdout",
     "output_type": "stream",
     "text": [
      "CPU times: user 14.6 s, sys: 285 ms, total: 14.8 s\n",
      "Wall time: 4.06 s\n"
     ]
    },
    {
     "data": {
      "text/plain": [
       "0.2269831522669753"
      ]
     },
     "execution_count": 36,
     "metadata": {},
     "output_type": "execute_result"
    }
   ],
   "source": [
    "%%time\n",
    "learn_predict_auc(LGBMClassifier(random_state=0), *samples)"
   ]
  },
  {
   "cell_type": "code",
   "execution_count": 37,
   "metadata": {
    "execution": {
     "iopub.execute_input": "2020-12-12T16:59:15.555976Z",
     "iopub.status.busy": "2020-12-12T16:59:15.552106Z",
     "iopub.status.idle": "2020-12-12T17:00:16.607282Z",
     "shell.execute_reply": "2020-12-12T17:00:16.606750Z"
    },
    "papermill": {
     "duration": 61.208778,
     "end_time": "2020-12-12T17:00:16.607405",
     "exception": false,
     "start_time": "2020-12-12T16:59:15.398627",
     "status": "completed"
    },
    "tags": []
   },
   "outputs": [
    {
     "name": "stdout",
     "output_type": "stream",
     "text": [
      "CPU times: user 3min 30s, sys: 10.9 s, total: 3min 41s\n",
      "Wall time: 1min 1s\n"
     ]
    },
    {
     "data": {
      "text/plain": [
       "0.2314512745089144"
      ]
     },
     "execution_count": 37,
     "metadata": {},
     "output_type": "execute_result"
    }
   ],
   "source": [
    "%%time\n",
    "learn_predict_auc(CatBoostClassifier(random_state=0, verbose=0), *samples)"
   ]
  },
  {
   "cell_type": "markdown",
   "metadata": {
    "papermill": {
     "duration": 0.100173,
     "end_time": "2020-12-12T17:00:16.788226",
     "exception": false,
     "start_time": "2020-12-12T17:00:16.688053",
     "status": "completed"
    },
    "tags": []
   },
   "source": [
    "<font color=blue>Разница в качестве не столь заметна, но она есть. Причины разницы в том, что CatBoost нацелен как раз на меньшую чувствительность к настройке гиперпараметров, и ожидаемо видеть у него лучшее качество на данном этапе. К тому же реализации отличаются способом построения деревьев: leaf-wise у LightGBM и depth-wise у CatBoost. Еще мы можем видеть существенные различия во времени работы (обусловленные оптимизациями LightGBM).</font>"
   ]
  },
  {
   "cell_type": "markdown",
   "metadata": {
    "papermill": {
     "duration": 0.077189,
     "end_time": "2020-12-12T17:00:16.952891",
     "exception": false,
     "start_time": "2020-12-12T17:00:16.875702",
     "status": "completed"
    },
    "tags": []
   },
   "source": [
    "__Задание 6. (2 балла)__\n",
    "\n",
    "Подберите оптимальные с точки зрения метрики качества параметры алгоритмов, изменяя:\n",
    "\n",
    "* глубину деревьев;\n",
    "* количество деревьев;\n",
    "* темп обучения;\n",
    "* оптимизируемый функционал.\n",
    "\n",
    "Масштаб значений предлагается посмотреть [тут](https://github.com/esokolov/ml-course-hse/blob/master/2019-fall/seminars/sem10-gbm.ipynb).\n",
    "\n",
    "**Проанализируйте соотношения получившихся оптимальных глубины и количества деревьев в зависимости от алгоритма.** \n",
    "\n",
    "**Если на перебор гиперпараметров уходит много времени, то переберите значениях каких-нибудь 1-2 гиперпараметров, а не всех предложенных 4**"
   ]
  },
  {
   "cell_type": "markdown",
   "metadata": {
    "papermill": {
     "duration": 0.076784,
     "end_time": "2020-12-12T17:00:17.107615",
     "exception": false,
     "start_time": "2020-12-12T17:00:17.030831",
     "status": "completed"
    },
    "tags": []
   },
   "source": [
    "<font color=blue>Вообще говоря, в документации LightGBM к важным признакам относятся также `num_leaves` и `min_data_in_leaf`. Вариант настройки в задании больше относится к росту деревьев depth-wise, что реализовано в CatBoost. Также удобно все параметры перебирать на увеличенном темпе обучения (отчего уменьшатся и необходимое число деревьев). Но тогда нам останется подобрать только глубину. А от оптимизируемого функционала вообще зависит решение. В общем, параетров мало, диапазон значений тоже небольшой, поэтому сделаем полный перебор. В качестве оптимизируемого функционала оставим логлосс, поскольку для других вариантов нужно либо использовать регрессор вместо классификатора, либо передавать кастомную метрику.</font>"
   ]
  },
  {
   "cell_type": "code",
   "execution_count": 38,
   "metadata": {
    "execution": {
     "iopub.execute_input": "2020-12-12T17:00:17.272479Z",
     "iopub.status.busy": "2020-12-12T17:00:17.271807Z",
     "iopub.status.idle": "2020-12-12T17:00:17.290350Z",
     "shell.execute_reply": "2020-12-12T17:00:17.289685Z"
    },
    "papermill": {
     "duration": 0.10501,
     "end_time": "2020-12-12T17:00:17.290476",
     "exception": false,
     "start_time": "2020-12-12T17:00:17.185466",
     "status": "completed"
    },
    "tags": []
   },
   "outputs": [],
   "source": [
    "from sklearn.model_selection import PredefinedSplit\n",
    "\n",
    "split = np.where(y_test.index.get_indexer(features.index) < 0, -1, 0)\n",
    "ps = PredefinedSplit(test_fold=split)\n",
    "\n",
    "param_grid = {\n",
    "    'max_depth': [3, 4, 5, 6, 7],\n",
    "    'learning_rate': [0.01, 0.05, 0.1, 0.15],\n",
    "    'n_estimators': [1, 5, 10, 100, 200, 300, 400, 500, 600, 700],\n",
    "}"
   ]
  },
  {
   "cell_type": "code",
   "execution_count": 39,
   "metadata": {
    "execution": {
     "iopub.execute_input": "2020-12-12T17:00:17.540699Z",
     "iopub.status.busy": "2020-12-12T17:00:17.539749Z",
     "iopub.status.idle": "2020-12-12T17:27:19.559846Z",
     "shell.execute_reply": "2020-12-12T17:27:19.560459Z"
    },
    "papermill": {
     "duration": 1622.188954,
     "end_time": "2020-12-12T17:27:19.560644",
     "exception": false,
     "start_time": "2020-12-12T17:00:17.371690",
     "status": "completed"
    },
    "tags": []
   },
   "outputs": [
    {
     "data": {
      "text/plain": [
       "GridSearchCV(cv=PredefinedSplit(test_fold=array([-1,  0, ..., -1,  0])),\n",
       "             estimator=LGBMClassifier(random_state=0),\n",
       "             param_grid={'learning_rate': [0.01, 0.05, 0.1, 0.15],\n",
       "                         'max_depth': [3, 4, 5, 6, 7],\n",
       "                         'n_estimators': [1, 5, 10, 100, 200, 300, 400, 500,\n",
       "                                          600, 700]},\n",
       "             scoring='average_precision')"
      ]
     },
     "execution_count": 39,
     "metadata": {},
     "output_type": "execute_result"
    }
   ],
   "source": [
    "from sklearn.model_selection import GridSearchCV\n",
    "\n",
    "clf = LGBMClassifier(random_state=0)\n",
    "gs = GridSearchCV(clf, param_grid, scoring='average_precision', cv=ps)\n",
    "gs.fit(features[num_features], Y)"
   ]
  },
  {
   "cell_type": "code",
   "execution_count": 40,
   "metadata": {
    "execution": {
     "iopub.execute_input": "2020-12-12T17:27:19.748246Z",
     "iopub.status.busy": "2020-12-12T17:27:19.747425Z",
     "iopub.status.idle": "2020-12-12T17:27:19.750461Z",
     "shell.execute_reply": "2020-12-12T17:27:19.749838Z"
    },
    "papermill": {
     "duration": 0.086442,
     "end_time": "2020-12-12T17:27:19.750562",
     "exception": false,
     "start_time": "2020-12-12T17:27:19.664120",
     "status": "completed"
    },
    "tags": []
   },
   "outputs": [],
   "source": [
    "def print_gs_info(gs):\n",
    "    print('Best parameters:', gs.best_params_)\n",
    "    print('Best PR-AUC:', gs.best_score_)\n",
    "    times = gs.cv_results_['mean_fit_time']\n",
    "    print(f'Fit time of the best estimator: {times[gs.best_index_]:.2f} s')\n",
    "    print(f'Mean fit time: {times.mean():.2f} s')\n",
    "    print(f'Total fit time in grid search: {times.sum():.2f} s')"
   ]
  },
  {
   "cell_type": "code",
   "execution_count": 41,
   "metadata": {
    "execution": {
     "iopub.execute_input": "2020-12-12T17:27:19.910900Z",
     "iopub.status.busy": "2020-12-12T17:27:19.910255Z",
     "iopub.status.idle": "2020-12-12T17:27:19.914089Z",
     "shell.execute_reply": "2020-12-12T17:27:19.913590Z"
    },
    "papermill": {
     "duration": 0.084712,
     "end_time": "2020-12-12T17:27:19.914180",
     "exception": false,
     "start_time": "2020-12-12T17:27:19.829468",
     "status": "completed"
    },
    "tags": []
   },
   "outputs": [
    {
     "name": "stdout",
     "output_type": "stream",
     "text": [
      "Best parameters: {'learning_rate': 0.05, 'max_depth': 4, 'n_estimators': 400}\n",
      "Best PR-AUC: 0.2355643566917928\n",
      "Fit time of the best estimator: 9.80 s\n",
      "Mean fit time: 7.61 s\n",
      "Total fit time in grid search: 1521.92 s\n"
     ]
    }
   ],
   "source": [
    "print_gs_info(gs)"
   ]
  },
  {
   "cell_type": "code",
   "execution_count": 42,
   "metadata": {
    "execution": {
     "iopub.execute_input": "2020-12-12T17:27:20.116456Z",
     "iopub.status.busy": "2020-12-12T17:27:20.115381Z",
     "iopub.status.idle": "2020-12-12T18:18:23.766681Z",
     "shell.execute_reply": "2020-12-12T18:18:23.767203Z"
    },
    "papermill": {
     "duration": 3063.774644,
     "end_time": "2020-12-12T18:18:23.767345",
     "exception": false,
     "start_time": "2020-12-12T17:27:19.992701",
     "status": "completed"
    },
    "tags": []
   },
   "outputs": [
    {
     "data": {
      "text/plain": [
       "GridSearchCV(cv=PredefinedSplit(test_fold=array([-1,  0, ..., -1,  0])),\n",
       "             estimator=<catboost.core.CatBoostClassifier object at 0x7f5b27572710>,\n",
       "             param_grid={'learning_rate': [0.01, 0.05, 0.1, 0.15],\n",
       "                         'max_depth': [3, 4, 5, 6, 7],\n",
       "                         'n_estimators': [1, 5, 10, 100, 200, 300, 400, 500,\n",
       "                                          600, 700]},\n",
       "             scoring='average_precision')"
      ]
     },
     "execution_count": 42,
     "metadata": {},
     "output_type": "execute_result"
    }
   ],
   "source": [
    "clf = CatBoostClassifier(verbose=0, random_state=0)\n",
    "gs = GridSearchCV(clf, param_grid, scoring='average_precision', cv=ps)\n",
    "gs.fit(features[num_features], Y)"
   ]
  },
  {
   "cell_type": "code",
   "execution_count": 43,
   "metadata": {
    "execution": {
     "iopub.execute_input": "2020-12-12T18:18:23.935271Z",
     "iopub.status.busy": "2020-12-12T18:18:23.934625Z",
     "iopub.status.idle": "2020-12-12T18:18:23.937364Z",
     "shell.execute_reply": "2020-12-12T18:18:23.938485Z"
    },
    "papermill": {
     "duration": 0.086871,
     "end_time": "2020-12-12T18:18:23.938621",
     "exception": false,
     "start_time": "2020-12-12T18:18:23.851750",
     "status": "completed"
    },
    "tags": []
   },
   "outputs": [
    {
     "name": "stdout",
     "output_type": "stream",
     "text": [
      "Best parameters: {'learning_rate': 0.1, 'max_depth': 4, 'n_estimators': 400}\n",
      "Best PR-AUC: 0.2384497560211465\n",
      "Fit time of the best estimator: 18.55 s\n",
      "Mean fit time: 15.15 s\n",
      "Total fit time in grid search: 3030.46 s\n"
     ]
    }
   ],
   "source": [
    "print_gs_info(gs)"
   ]
  },
  {
   "cell_type": "markdown",
   "metadata": {
    "papermill": {
     "duration": 0.078759,
     "end_time": "2020-12-12T18:18:24.095659",
     "exception": false,
     "start_time": "2020-12-12T18:18:24.016900",
     "status": "completed"
    },
    "tags": []
   },
   "source": [
    "**Your answer here:**\n",
    "* <font color=blue>В обоих случаях удалось улучшить качество на дефолтных параметрах, причем относительные результаты остались стабильными: у CatBoost лучшая метрика, а у LightGBM — скорость.</font>\n",
    "* <font color=blue>Соотношения получившихся оптимальных глубины и числа деревьев совпало для обоих алгоритмов! Это вызвано нашим дизайном эксперимента (выбором настраиваемых параметров и их диапазона), при учете особенностей каждой из реализаций бустинга итоговые результаты вышли бы разными. Тем не менее получившаяся глубина — 4 — хоть и относится к средним вариантам, такие деревья обычно считаются неглубокими. Интересно, что с небольшой глубиной обычно требуется большее число деревьев, однако у нас оптимальным вышло среднее числов диапазоне. Темп обучения 0.1, оптимальный в CatBoost, считается достаточно агрессивным, но вполне приемлем при таком числе деревьев, а в LightGBM оптимальным оказался чуть меньший, 0.05. Отметим, что все полученные гиперпараметры не являются граничными в исследуемом пространстве.</font>"
   ]
  },
  {
   "cell_type": "markdown",
   "metadata": {
    "papermill": {
     "duration": 0.079036,
     "end_time": "2020-12-12T18:18:24.254147",
     "exception": false,
     "start_time": "2020-12-12T18:18:24.175111",
     "status": "completed"
    },
    "tags": []
   },
   "source": [
    "**Задание 7 (1.5 баллa)**\n",
    "\n",
    "Добавьте категориальные признаки к вещественным следующими способами:\n",
    "\n",
    "* как OHE признаки;\n",
    "* как счетчики со сглаживанием.\n",
    "\n",
    "Можно использовать библиотечные реализации; при подсчете счетчиков нельзя использовать циклы.\n",
    "\n",
    "Как меняется время, необходимое для обучения моделей в зависимости от способа кодирования? (Параметры можно не подбирать)."
   ]
  },
  {
   "cell_type": "markdown",
   "metadata": {
    "papermill": {
     "duration": 0.080128,
     "end_time": "2020-12-12T18:18:24.414787",
     "exception": false,
     "start_time": "2020-12-12T18:18:24.334659",
     "status": "completed"
    },
    "tags": []
   },
   "source": [
    "<font color=blue>Воспользуемся библиотечными реализациями <a href='http://contrib.scikit-learn.org/category_encoders/'>Category Encoders</a>. Ради интереса замерим и время предобработки.</font>"
   ]
  },
  {
   "cell_type": "code",
   "execution_count": 44,
   "metadata": {
    "execution": {
     "iopub.execute_input": "2020-12-12T18:18:24.593193Z",
     "iopub.status.busy": "2020-12-12T18:18:24.592590Z",
     "iopub.status.idle": "2020-12-12T18:18:39.105301Z",
     "shell.execute_reply": "2020-12-12T18:18:39.104733Z"
    },
    "papermill": {
     "duration": 14.606887,
     "end_time": "2020-12-12T18:18:39.105437",
     "exception": false,
     "start_time": "2020-12-12T18:18:24.498550",
     "status": "completed"
    },
    "tags": []
   },
   "outputs": [
    {
     "name": "stderr",
     "output_type": "stream",
     "text": [
      "/opt/conda/lib/python3.7/site-packages/category_encoders/utils.py:21: FutureWarning: is_categorical is deprecated and will be removed in a future version.  Use is_categorical_dtype instead\n",
      "  elif pd.api.types.is_categorical(cols):\n"
     ]
    },
    {
     "name": "stdout",
     "output_type": "stream",
     "text": [
      "5.22 s ± 0 ns per loop (mean ± std. dev. of 1 run, 1 loop each)\n"
     ]
    },
    {
     "name": "stderr",
     "output_type": "stream",
     "text": [
      "/opt/conda/lib/python3.7/site-packages/category_encoders/utils.py:21: FutureWarning: is_categorical is deprecated and will be removed in a future version.  Use is_categorical_dtype instead\n",
      "  elif pd.api.types.is_categorical(cols):\n"
     ]
    },
    {
     "name": "stdout",
     "output_type": "stream",
     "text": [
      "1.74 s ± 0 ns per loop (mean ± std. dev. of 1 run, 1 loop each)\n"
     ]
    }
   ],
   "source": [
    "import category_encoders as ce\n",
    "\n",
    "ohe_enc = ce.one_hot.OneHotEncoder(cols=str_features)\n",
    "%timeit -r1 -n1 ohe_enc.fit(X_train)\n",
    "X_train_ohe = ohe_enc.transform(X_train)\n",
    "X_test_ohe = ohe_enc.transform(X_test)\n",
    "\n",
    "smoothed_cnt_enc = ce.target_encoder.TargetEncoder(cols=str_features,\n",
    "                                                   smoothing=1)\n",
    "%timeit -r1 -n1 smoothed_cnt_enc.fit(X_train, y_train)\n",
    "X_train_cnt = smoothed_cnt_enc.transform(X_train)\n",
    "X_test_cnt = smoothed_cnt_enc.transform(X_test)\n",
    "\n",
    "enc_names = ['no categorical', 'one-hot', 'smoothed counts']\n",
    "enc_trains = [X_train[num_features], X_train_ohe, X_train_cnt]\n",
    "enc_tests = [X_test[num_features], X_test_ohe, X_test_cnt]"
   ]
  },
  {
   "cell_type": "markdown",
   "metadata": {
    "papermill": {
     "duration": 0.08238,
     "end_time": "2020-12-12T18:18:39.270713",
     "exception": false,
     "start_time": "2020-12-12T18:18:39.188333",
     "status": "completed"
    },
    "tags": []
   },
   "source": [
    "<font color=blue>На самом деле для one-hot гораздо быстрее работает get_dummies (из Pandas), но его неудобно применять из-за отсутствия явной обработки ситуаций, когда в тесте появляются новые категории или пропадают старые. Warning'и некритичны, связаны с обновлением интерфейса Pandas.</font>"
   ]
  },
  {
   "cell_type": "code",
   "execution_count": 45,
   "metadata": {
    "execution": {
     "iopub.execute_input": "2020-12-12T18:18:39.445727Z",
     "iopub.status.busy": "2020-12-12T18:18:39.444852Z",
     "iopub.status.idle": "2020-12-12T18:18:39.447608Z",
     "shell.execute_reply": "2020-12-12T18:18:39.447072Z"
    },
    "papermill": {
     "duration": 0.095886,
     "end_time": "2020-12-12T18:18:39.447718",
     "exception": false,
     "start_time": "2020-12-12T18:18:39.351832",
     "status": "completed"
    },
    "tags": []
   },
   "outputs": [],
   "source": [
    "lgbm_params = {\n",
    "    'random_state': 0,\n",
    "    'learning_rate': 0.05,\n",
    "    'max_depth': 4,\n",
    "    'n_estimators': 400\n",
    "}\n",
    "\n",
    "cb_params = {\n",
    "    'random_state': 0,\n",
    "    'verbose': 0,\n",
    "    'learning_rate': 0.1,\n",
    "    'max_depth': 4,\n",
    "    'n_estimators': 400\n",
    "}\n",
    "\n",
    "clfs = {\n",
    "    'LightGBM': LGBMClassifier(**lgbm_params),\n",
    "    'CatBoost': CatBoostClassifier(**cb_params),\n",
    "}"
   ]
  },
  {
   "cell_type": "markdown",
   "metadata": {
    "papermill": {
     "duration": 0.084448,
     "end_time": "2020-12-12T18:18:39.614534",
     "exception": false,
     "start_time": "2020-12-12T18:18:39.530086",
     "status": "completed"
    },
    "tags": []
   },
   "source": [
    "<font color=blue>Каждую комбинацию запустим 3 раза и усредним время (секунды).</font>"
   ]
  },
  {
   "cell_type": "code",
   "execution_count": 46,
   "metadata": {
    "execution": {
     "iopub.execute_input": "2020-12-12T18:18:39.811097Z",
     "iopub.status.busy": "2020-12-12T18:18:39.810104Z",
     "iopub.status.idle": "2020-12-12T18:23:04.169453Z",
     "shell.execute_reply": "2020-12-12T18:23:04.168911Z"
    },
    "papermill": {
     "duration": 264.459376,
     "end_time": "2020-12-12T18:23:04.169587",
     "exception": false,
     "start_time": "2020-12-12T18:18:39.710211",
     "status": "completed"
    },
    "tags": []
   },
   "outputs": [],
   "source": [
    "res_idx = pd.MultiIndex.from_product([clfs.keys(), ['time', 'PR-AUC']])\n",
    "results = pd.DataFrame(index=res_idx, columns=enc_names)\n",
    "\n",
    "for clf_name in clfs:\n",
    "    for enc_name, Xtr, Xts in zip(enc_names, enc_trains, enc_tests):\n",
    "        fit_time = %timeit -r3 -n1 -o -q clfs[clf_name].fit(Xtr, y_train)\n",
    "        results.loc[(clf_name, 'time'), enc_name] = round(np.mean(fit_time.timings), 2)\n",
    "        score = pr_auc(y_test, clfs[clf_name].predict_proba(Xts)[:, 1])\n",
    "        results.loc[(clf_name, 'PR-AUC'), enc_name] = score"
   ]
  },
  {
   "cell_type": "code",
   "execution_count": 47,
   "metadata": {
    "execution": {
     "iopub.execute_input": "2020-12-12T18:23:04.345013Z",
     "iopub.status.busy": "2020-12-12T18:23:04.344428Z",
     "iopub.status.idle": "2020-12-12T18:23:04.348910Z",
     "shell.execute_reply": "2020-12-12T18:23:04.348440Z"
    },
    "papermill": {
     "duration": 0.096824,
     "end_time": "2020-12-12T18:23:04.349013",
     "exception": false,
     "start_time": "2020-12-12T18:23:04.252189",
     "status": "completed"
    },
    "tags": []
   },
   "outputs": [
    {
     "data": {
      "text/html": [
       "<div>\n",
       "<style scoped>\n",
       "    .dataframe tbody tr th:only-of-type {\n",
       "        vertical-align: middle;\n",
       "    }\n",
       "\n",
       "    .dataframe tbody tr th {\n",
       "        vertical-align: top;\n",
       "    }\n",
       "\n",
       "    .dataframe thead th {\n",
       "        text-align: right;\n",
       "    }\n",
       "</style>\n",
       "<table border=\"1\" class=\"dataframe\">\n",
       "  <thead>\n",
       "    <tr style=\"text-align: right;\">\n",
       "      <th></th>\n",
       "      <th></th>\n",
       "      <th>no categorical</th>\n",
       "      <th>one-hot</th>\n",
       "      <th>smoothed counts</th>\n",
       "    </tr>\n",
       "  </thead>\n",
       "  <tbody>\n",
       "    <tr>\n",
       "      <th rowspan=\"2\" valign=\"top\">LightGBM</th>\n",
       "      <th>time</th>\n",
       "      <td>8.9</td>\n",
       "      <td>11.08</td>\n",
       "      <td>10.52</td>\n",
       "    </tr>\n",
       "    <tr>\n",
       "      <th>PR-AUC</th>\n",
       "      <td>0.235564</td>\n",
       "      <td>0.237361</td>\n",
       "      <td>0.240463</td>\n",
       "    </tr>\n",
       "    <tr>\n",
       "      <th rowspan=\"2\" valign=\"top\">CatBoost</th>\n",
       "      <th>time</th>\n",
       "      <td>18.03</td>\n",
       "      <td>19.58</td>\n",
       "      <td>19.33</td>\n",
       "    </tr>\n",
       "    <tr>\n",
       "      <th>PR-AUC</th>\n",
       "      <td>0.237463</td>\n",
       "      <td>0.240453</td>\n",
       "      <td>0.242491</td>\n",
       "    </tr>\n",
       "  </tbody>\n",
       "</table>\n",
       "</div>"
      ],
      "text/plain": [
       "                no categorical   one-hot smoothed counts\n",
       "LightGBM time              8.9     11.08           10.52\n",
       "         PR-AUC       0.235564  0.237361        0.240463\n",
       "CatBoost time            18.03     19.58           19.33\n",
       "         PR-AUC       0.237463  0.240453        0.242491"
      ]
     },
     "execution_count": 47,
     "metadata": {},
     "output_type": "execute_result"
    }
   ],
   "source": [
    "results"
   ]
  },
  {
   "cell_type": "markdown",
   "metadata": {
    "papermill": {
     "duration": 0.082106,
     "end_time": "2020-12-12T18:23:04.514029",
     "exception": false,
     "start_time": "2020-12-12T18:23:04.431923",
     "status": "completed"
    },
    "tags": []
   },
   "source": [
    "<font color=blue>Во-первых снова подчеркнем крутость счетчиков: они дают лучшее качество и работают быстрее one-hot кодирования. При включении категориальных признаков обоими способами, время обучения увеличивается, разница при one-hot более выражена из-за расширения признакового пространства (в соответствии с общим числом категорий). Но разница во времени не столь существенна из-за не очень уж и большого признакового пространства для градиентного бустинга даже при one-hot:</font>"
   ]
  },
  {
   "cell_type": "code",
   "execution_count": 48,
   "metadata": {
    "execution": {
     "iopub.execute_input": "2020-12-12T18:23:04.686972Z",
     "iopub.status.busy": "2020-12-12T18:23:04.685968Z",
     "iopub.status.idle": "2020-12-12T18:23:04.690313Z",
     "shell.execute_reply": "2020-12-12T18:23:04.689805Z"
    },
    "papermill": {
     "duration": 0.092727,
     "end_time": "2020-12-12T18:23:04.690458",
     "exception": false,
     "start_time": "2020-12-12T18:23:04.597731",
     "status": "completed"
    },
    "tags": []
   },
   "outputs": [
    {
     "data": {
      "text/plain": [
       "[79, 217, 94]"
      ]
     },
     "execution_count": 48,
     "metadata": {},
     "output_type": "execute_result"
    }
   ],
   "source": [
    "[tr.shape[1] for tr in enc_trains]"
   ]
  },
  {
   "cell_type": "markdown",
   "metadata": {
    "papermill": {
     "duration": 0.08616,
     "end_time": "2020-12-12T18:23:04.858634",
     "exception": false,
     "start_time": "2020-12-12T18:23:04.772474",
     "status": "completed"
    },
    "tags": []
   },
   "source": [
    "**Задание 8 (1 балл)**\n",
    "\n",
    "Для CatBoost можно не делать ручную обработку категориальных признаков, а подавать как есть. Обучите модель CatBoost, не обрабатывая специально категориальные признаки, замерьте время обучения (параметры возьмите из предыдущего пункта).  Сравните с временем обучения модели CatBoost из предыдущего пункта. Как изменилось время? Почему?"
   ]
  },
  {
   "cell_type": "code",
   "execution_count": 49,
   "metadata": {
    "execution": {
     "iopub.execute_input": "2020-12-12T18:23:05.459387Z",
     "iopub.status.busy": "2020-12-12T18:23:05.261484Z",
     "iopub.status.idle": "2020-12-12T18:26:28.629097Z",
     "shell.execute_reply": "2020-12-12T18:26:28.628515Z"
    },
    "papermill": {
     "duration": 203.688966,
     "end_time": "2020-12-12T18:26:28.629208",
     "exception": false,
     "start_time": "2020-12-12T18:23:04.940242",
     "status": "completed"
    },
    "tags": []
   },
   "outputs": [
    {
     "name": "stdout",
     "output_type": "stream",
     "text": [
      "1min 7s ± 192 ms per loop (mean ± std. dev. of 3 runs, 1 loop each)\n"
     ]
    },
    {
     "data": {
      "text/plain": [
       "0.24167154059163654"
      ]
     },
     "execution_count": 49,
     "metadata": {},
     "output_type": "execute_result"
    }
   ],
   "source": [
    "%timeit -r3 -n1 clfs['CatBoost'].fit(X_train, y_train, cat_features=str_features)\n",
    "pr_auc(y_test, clfs['CatBoost'].predict_proba(X_test)[:, 1])"
   ]
  },
  {
   "cell_type": "markdown",
   "metadata": {
    "papermill": {
     "duration": 0.083995,
     "end_time": "2020-12-12T18:26:28.799225",
     "exception": false,
     "start_time": "2020-12-12T18:26:28.715230",
     "status": "completed"
    },
    "tags": []
   },
   "source": [
    "<font color=blue>Время увеличилось, неужели документация нас <a href='https://catboost.ai/docs/features/categorical-features.html'>обманула</a>?! Ну, во-первых, CatBoost даже по умолчанию реализует не совсем тривиальную обработку категориальных признаков: при дефолтном one-hot, например, в нем используется малое число значений, и, возможно, алгоритмы предобработки CatBoost оказываются быстрее при большем объеме данных (или на других наборах гиперпараметров). А во-вторых, качество получилось лучше, чем при предварительном one-hot кодировании. (Хотя и меньше, чем при использовании сглаженного счетчика).</font>"
   ]
  },
  {
   "cell_type": "markdown",
   "metadata": {
    "papermill": {
     "duration": 0.082697,
     "end_time": "2020-12-12T18:26:28.971025",
     "exception": false,
     "start_time": "2020-12-12T18:26:28.888328",
     "status": "completed"
    },
    "tags": []
   },
   "source": [
    "**Бонус. (1 балл)**\n",
    "\n",
    "Подберите оптимальные параметры для LightGBM с вещественными и категориальными признаками (предварительно обработанные каким-нибудь способом). Подберите оптимальные параметры для CatBoost с вещественными и необработанными категориальными признаками. Сравните качество моделей на наилучших параметрах. Какой метод получился лучше с точки зрения качества? Совпадает ли результат с вашими ожиданиями?"
   ]
  },
  {
   "cell_type": "markdown",
   "metadata": {
    "papermill": {
     "duration": 0.082376,
     "end_time": "2020-12-12T18:26:29.135133",
     "exception": false,
     "start_time": "2020-12-12T18:26:29.052757",
     "status": "completed"
    },
    "tags": []
   },
   "source": [
    "**Бонус (0.2 балла)**\n",
    "\n",
    "Вставьте лучший мем 2020"
   ]
  },
  {
   "cell_type": "markdown",
   "metadata": {
    "papermill": {
     "duration": 0.082836,
     "end_time": "2020-12-12T18:26:29.300498",
     "exception": false,
     "start_time": "2020-12-12T18:26:29.217662",
     "status": "completed"
    },
    "tags": []
   },
   "source": [
    "<font color=blue>Извините, но будет два!</font>"
   ]
  },
  {
   "cell_type": "markdown",
   "metadata": {
    "papermill": {
     "duration": 0.08405,
     "end_time": "2020-12-12T18:26:29.467517",
     "exception": false,
     "start_time": "2020-12-12T18:26:29.383467",
     "status": "completed"
    },
    "tags": []
   },
   "source": [
    "<img src='https://i.ibb.co/6DDXMGR/strad2.jpg' width='400'>"
   ]
  },
  {
   "cell_type": "markdown",
   "metadata": {
    "papermill": {
     "duration": 0.08414,
     "end_time": "2020-12-12T18:26:29.635210",
     "exception": false,
     "start_time": "2020-12-12T18:26:29.551070",
     "status": "completed"
    },
    "tags": []
   },
   "source": [
    "<img src='https://i.ibb.co/VQtZHNM/stradaniyeeeeeeeeeeeeeeeeeeeeeeeeeeeeeeeeeeeeeeeeeeeeeeeeeeeeeeeeeeeeeeeeeeeeeeeeeeeeeeeeeeeeeeeeeee.jpg' width=\"600\">"
   ]
  }
 ],
 "metadata": {
  "kernelspec": {
   "display_name": "Python 3",
   "language": "python",
   "name": "python3"
  },
  "language_info": {
   "codemirror_mode": {
    "name": "ipython",
    "version": 3
   },
   "file_extension": ".py",
   "mimetype": "text/x-python",
   "name": "python",
   "nbconvert_exporter": "python",
   "pygments_lexer": "ipython3",
   "version": "3.7.6"
  },
  "papermill": {
   "duration": 5687.746304,
   "end_time": "2020-12-12T18:26:29.825447",
   "environment_variables": {},
   "exception": null,
   "input_path": "__notebook__.ipynb",
   "output_path": "__notebook__.ipynb",
   "parameters": {},
   "start_time": "2020-12-12T16:51:42.079143",
   "version": "2.1.0"
  },
  "widgets": {
   "application/vnd.jupyter.widget-state+json": {
    "state": {
     "225177c2f2e442368608687cef888a39": {
      "model_module": "@jupyter-widgets/base",
      "model_module_version": "1.2.0",
      "model_name": "LayoutModel",
      "state": {
       "_model_module": "@jupyter-widgets/base",
       "_model_module_version": "1.2.0",
       "_model_name": "LayoutModel",
       "_view_count": null,
       "_view_module": "@jupyter-widgets/base",
       "_view_module_version": "1.2.0",
       "_view_name": "LayoutView",
       "align_content": null,
       "align_items": null,
       "align_self": null,
       "border": null,
       "bottom": null,
       "display": null,
       "flex": null,
       "flex_flow": null,
       "grid_area": null,
       "grid_auto_columns": null,
       "grid_auto_flow": null,
       "grid_auto_rows": null,
       "grid_column": null,
       "grid_gap": null,
       "grid_row": null,
       "grid_template_areas": null,
       "grid_template_columns": null,
       "grid_template_rows": null,
       "height": null,
       "justify_content": null,
       "justify_items": null,
       "left": null,
       "margin": null,
       "max_height": null,
       "max_width": null,
       "min_height": null,
       "min_width": null,
       "object_fit": null,
       "object_position": null,
       "order": null,
       "overflow": null,
       "overflow_x": null,
       "overflow_y": null,
       "padding": null,
       "right": null,
       "top": null,
       "visibility": null,
       "width": null
      }
     },
     "24f3f257534545f9b668cefd6cad6c16": {
      "model_module": "@jupyter-widgets/controls",
      "model_module_version": "1.5.0",
      "model_name": "HBoxModel",
      "state": {
       "_dom_classes": [],
       "_model_module": "@jupyter-widgets/controls",
       "_model_module_version": "1.5.0",
       "_model_name": "HBoxModel",
       "_view_count": null,
       "_view_module": "@jupyter-widgets/controls",
       "_view_module_version": "1.5.0",
       "_view_name": "HBoxView",
       "box_style": "",
       "children": [
        "IPY_MODEL_ff3a18c46fd34f80b563b6b5f6519cff",
        "IPY_MODEL_99bbf1d3b88e44469ef82f965ff6e40d"
       ],
       "layout": "IPY_MODEL_27c486beab904a6f8fb746ad97774cff"
      }
     },
     "27c486beab904a6f8fb746ad97774cff": {
      "model_module": "@jupyter-widgets/base",
      "model_module_version": "1.2.0",
      "model_name": "LayoutModel",
      "state": {
       "_model_module": "@jupyter-widgets/base",
       "_model_module_version": "1.2.0",
       "_model_name": "LayoutModel",
       "_view_count": null,
       "_view_module": "@jupyter-widgets/base",
       "_view_module_version": "1.2.0",
       "_view_name": "LayoutView",
       "align_content": null,
       "align_items": null,
       "align_self": null,
       "border": null,
       "bottom": null,
       "display": null,
       "flex": null,
       "flex_flow": null,
       "grid_area": null,
       "grid_auto_columns": null,
       "grid_auto_flow": null,
       "grid_auto_rows": null,
       "grid_column": null,
       "grid_gap": null,
       "grid_row": null,
       "grid_template_areas": null,
       "grid_template_columns": null,
       "grid_template_rows": null,
       "height": null,
       "justify_content": null,
       "justify_items": null,
       "left": null,
       "margin": null,
       "max_height": null,
       "max_width": null,
       "min_height": null,
       "min_width": null,
       "object_fit": null,
       "object_position": null,
       "order": null,
       "overflow": null,
       "overflow_x": null,
       "overflow_y": null,
       "padding": null,
       "right": null,
       "top": null,
       "visibility": null,
       "width": null
      }
     },
     "39e8d2e7237d402a8df532e8741c96fb": {
      "model_module": "@jupyter-widgets/controls",
      "model_module_version": "1.5.0",
      "model_name": "ProgressStyleModel",
      "state": {
       "_model_module": "@jupyter-widgets/controls",
       "_model_module_version": "1.5.0",
       "_model_name": "ProgressStyleModel",
       "_view_count": null,
       "_view_module": "@jupyter-widgets/base",
       "_view_module_version": "1.2.0",
       "_view_name": "StyleView",
       "bar_color": null,
       "description_width": "initial"
      }
     },
     "42a73df74847431cb82902f7349fae76": {
      "model_module": "@jupyter-widgets/base",
      "model_module_version": "1.2.0",
      "model_name": "LayoutModel",
      "state": {
       "_model_module": "@jupyter-widgets/base",
       "_model_module_version": "1.2.0",
       "_model_name": "LayoutModel",
       "_view_count": null,
       "_view_module": "@jupyter-widgets/base",
       "_view_module_version": "1.2.0",
       "_view_name": "LayoutView",
       "align_content": null,
       "align_items": null,
       "align_self": null,
       "border": null,
       "bottom": null,
       "display": null,
       "flex": null,
       "flex_flow": null,
       "grid_area": null,
       "grid_auto_columns": null,
       "grid_auto_flow": null,
       "grid_auto_rows": null,
       "grid_column": null,
       "grid_gap": null,
       "grid_row": null,
       "grid_template_areas": null,
       "grid_template_columns": null,
       "grid_template_rows": null,
       "height": null,
       "justify_content": null,
       "justify_items": null,
       "left": null,
       "margin": null,
       "max_height": null,
       "max_width": null,
       "min_height": null,
       "min_width": null,
       "object_fit": null,
       "object_position": null,
       "order": null,
       "overflow": null,
       "overflow_x": null,
       "overflow_y": null,
       "padding": null,
       "right": null,
       "top": null,
       "visibility": null,
       "width": null
      }
     },
     "49383ce6cdde4000b51459c3b8aab1a5": {
      "model_module": "@jupyter-widgets/controls",
      "model_module_version": "1.5.0",
      "model_name": "HBoxModel",
      "state": {
       "_dom_classes": [],
       "_model_module": "@jupyter-widgets/controls",
       "_model_module_version": "1.5.0",
       "_model_name": "HBoxModel",
       "_view_count": null,
       "_view_module": "@jupyter-widgets/controls",
       "_view_module_version": "1.5.0",
       "_view_name": "HBoxView",
       "box_style": "",
       "children": [
        "IPY_MODEL_cf5d50ab3a0b4f319224be1fc2567fbf",
        "IPY_MODEL_9d53849afb594066a691c0ddaebd5e18"
       ],
       "layout": "IPY_MODEL_c0b56170b85b4956a6ceae86f5483439"
      }
     },
     "557222764f26461da70d377b863d4d3e": {
      "model_module": "@jupyter-widgets/controls",
      "model_module_version": "1.5.0",
      "model_name": "HTMLModel",
      "state": {
       "_dom_classes": [],
       "_model_module": "@jupyter-widgets/controls",
       "_model_module_version": "1.5.0",
       "_model_name": "HTMLModel",
       "_view_count": null,
       "_view_module": "@jupyter-widgets/controls",
       "_view_module_version": "1.5.0",
       "_view_name": "HTMLView",
       "description": "",
       "description_tooltip": null,
       "layout": "IPY_MODEL_af2259be6fd640b998636ed183c860ed",
       "placeholder": "​",
       "style": "IPY_MODEL_9cdc249c852f45f7850bcecb743f58a6",
       "value": " 1000/1000 [00:09&lt;00:00, 110.25it/s]"
      }
     },
     "5594abee07974546832b3c7d9b6313df": {
      "model_module": "@jupyter-widgets/base",
      "model_module_version": "1.2.0",
      "model_name": "LayoutModel",
      "state": {
       "_model_module": "@jupyter-widgets/base",
       "_model_module_version": "1.2.0",
       "_model_name": "LayoutModel",
       "_view_count": null,
       "_view_module": "@jupyter-widgets/base",
       "_view_module_version": "1.2.0",
       "_view_name": "LayoutView",
       "align_content": null,
       "align_items": null,
       "align_self": null,
       "border": null,
       "bottom": null,
       "display": null,
       "flex": null,
       "flex_flow": null,
       "grid_area": null,
       "grid_auto_columns": null,
       "grid_auto_flow": null,
       "grid_auto_rows": null,
       "grid_column": null,
       "grid_gap": null,
       "grid_row": null,
       "grid_template_areas": null,
       "grid_template_columns": null,
       "grid_template_rows": null,
       "height": null,
       "justify_content": null,
       "justify_items": null,
       "left": null,
       "margin": null,
       "max_height": null,
       "max_width": null,
       "min_height": null,
       "min_width": null,
       "object_fit": null,
       "object_position": null,
       "order": null,
       "overflow": null,
       "overflow_x": null,
       "overflow_y": null,
       "padding": null,
       "right": null,
       "top": null,
       "visibility": null,
       "width": null
      }
     },
     "5b4c630fdbeb47eab4a6ad8625b91477": {
      "model_module": "@jupyter-widgets/controls",
      "model_module_version": "1.5.0",
      "model_name": "ProgressStyleModel",
      "state": {
       "_model_module": "@jupyter-widgets/controls",
       "_model_module_version": "1.5.0",
       "_model_name": "ProgressStyleModel",
       "_view_count": null,
       "_view_module": "@jupyter-widgets/base",
       "_view_module_version": "1.2.0",
       "_view_name": "StyleView",
       "bar_color": null,
       "description_width": "initial"
      }
     },
     "67e71b4d0eb647e6b0de050aef9be874": {
      "model_module": "@jupyter-widgets/base",
      "model_module_version": "1.2.0",
      "model_name": "LayoutModel",
      "state": {
       "_model_module": "@jupyter-widgets/base",
       "_model_module_version": "1.2.0",
       "_model_name": "LayoutModel",
       "_view_count": null,
       "_view_module": "@jupyter-widgets/base",
       "_view_module_version": "1.2.0",
       "_view_name": "LayoutView",
       "align_content": null,
       "align_items": null,
       "align_self": null,
       "border": null,
       "bottom": null,
       "display": null,
       "flex": null,
       "flex_flow": null,
       "grid_area": null,
       "grid_auto_columns": null,
       "grid_auto_flow": null,
       "grid_auto_rows": null,
       "grid_column": null,
       "grid_gap": null,
       "grid_row": null,
       "grid_template_areas": null,
       "grid_template_columns": null,
       "grid_template_rows": null,
       "height": null,
       "justify_content": null,
       "justify_items": null,
       "left": null,
       "margin": null,
       "max_height": null,
       "max_width": null,
       "min_height": null,
       "min_width": null,
       "object_fit": null,
       "object_position": null,
       "order": null,
       "overflow": null,
       "overflow_x": null,
       "overflow_y": null,
       "padding": null,
       "right": null,
       "top": null,
       "visibility": null,
       "width": null
      }
     },
     "84e76564d0814ce8beb80a24f84db6b0": {
      "model_module": "@jupyter-widgets/controls",
      "model_module_version": "1.5.0",
      "model_name": "FloatProgressModel",
      "state": {
       "_dom_classes": [],
       "_model_module": "@jupyter-widgets/controls",
       "_model_module_version": "1.5.0",
       "_model_name": "FloatProgressModel",
       "_view_count": null,
       "_view_module": "@jupyter-widgets/controls",
       "_view_module_version": "1.5.0",
       "_view_name": "ProgressView",
       "bar_style": "success",
       "description": "100%",
       "description_tooltip": null,
       "layout": "IPY_MODEL_dce734e712b94613be58183b487005aa",
       "max": 1000.0,
       "min": 0.0,
       "orientation": "horizontal",
       "style": "IPY_MODEL_5b4c630fdbeb47eab4a6ad8625b91477",
       "value": 1000.0
      }
     },
     "99bbf1d3b88e44469ef82f965ff6e40d": {
      "model_module": "@jupyter-widgets/controls",
      "model_module_version": "1.5.0",
      "model_name": "HTMLModel",
      "state": {
       "_dom_classes": [],
       "_model_module": "@jupyter-widgets/controls",
       "_model_module_version": "1.5.0",
       "_model_name": "HTMLModel",
       "_view_count": null,
       "_view_module": "@jupyter-widgets/controls",
       "_view_module_version": "1.5.0",
       "_view_name": "HTMLView",
       "description": "",
       "description_tooltip": null,
       "layout": "IPY_MODEL_5594abee07974546832b3c7d9b6313df",
       "placeholder": "​",
       "style": "IPY_MODEL_d682f76d33f545dbad2523674b6e055c",
       "value": " 1000/1000 [37:29&lt;00:00,  2.25s/it]"
      }
     },
     "9cdc249c852f45f7850bcecb743f58a6": {
      "model_module": "@jupyter-widgets/controls",
      "model_module_version": "1.5.0",
      "model_name": "DescriptionStyleModel",
      "state": {
       "_model_module": "@jupyter-widgets/controls",
       "_model_module_version": "1.5.0",
       "_model_name": "DescriptionStyleModel",
       "_view_count": null,
       "_view_module": "@jupyter-widgets/base",
       "_view_module_version": "1.2.0",
       "_view_name": "StyleView",
       "description_width": ""
      }
     },
     "9d53849afb594066a691c0ddaebd5e18": {
      "model_module": "@jupyter-widgets/controls",
      "model_module_version": "1.5.0",
      "model_name": "HTMLModel",
      "state": {
       "_dom_classes": [],
       "_model_module": "@jupyter-widgets/controls",
       "_model_module_version": "1.5.0",
       "_model_name": "HTMLModel",
       "_view_count": null,
       "_view_module": "@jupyter-widgets/controls",
       "_view_module_version": "1.5.0",
       "_view_name": "HTMLView",
       "description": "",
       "description_tooltip": null,
       "layout": "IPY_MODEL_f1b39755cba54678be8da63c2f182ada",
       "placeholder": "​",
       "style": "IPY_MODEL_a241bccb11bb4a999176e41558c981e4",
       "value": " 1000/1000 [00:10&lt;00:00, 99.01it/s]"
      }
     },
     "a241bccb11bb4a999176e41558c981e4": {
      "model_module": "@jupyter-widgets/controls",
      "model_module_version": "1.5.0",
      "model_name": "DescriptionStyleModel",
      "state": {
       "_model_module": "@jupyter-widgets/controls",
       "_model_module_version": "1.5.0",
       "_model_name": "DescriptionStyleModel",
       "_view_count": null,
       "_view_module": "@jupyter-widgets/base",
       "_view_module_version": "1.2.0",
       "_view_name": "StyleView",
       "description_width": ""
      }
     },
     "af2259be6fd640b998636ed183c860ed": {
      "model_module": "@jupyter-widgets/base",
      "model_module_version": "1.2.0",
      "model_name": "LayoutModel",
      "state": {
       "_model_module": "@jupyter-widgets/base",
       "_model_module_version": "1.2.0",
       "_model_name": "LayoutModel",
       "_view_count": null,
       "_view_module": "@jupyter-widgets/base",
       "_view_module_version": "1.2.0",
       "_view_name": "LayoutView",
       "align_content": null,
       "align_items": null,
       "align_self": null,
       "border": null,
       "bottom": null,
       "display": null,
       "flex": null,
       "flex_flow": null,
       "grid_area": null,
       "grid_auto_columns": null,
       "grid_auto_flow": null,
       "grid_auto_rows": null,
       "grid_column": null,
       "grid_gap": null,
       "grid_row": null,
       "grid_template_areas": null,
       "grid_template_columns": null,
       "grid_template_rows": null,
       "height": null,
       "justify_content": null,
       "justify_items": null,
       "left": null,
       "margin": null,
       "max_height": null,
       "max_width": null,
       "min_height": null,
       "min_width": null,
       "object_fit": null,
       "object_position": null,
       "order": null,
       "overflow": null,
       "overflow_x": null,
       "overflow_y": null,
       "padding": null,
       "right": null,
       "top": null,
       "visibility": null,
       "width": null
      }
     },
     "c0b56170b85b4956a6ceae86f5483439": {
      "model_module": "@jupyter-widgets/base",
      "model_module_version": "1.2.0",
      "model_name": "LayoutModel",
      "state": {
       "_model_module": "@jupyter-widgets/base",
       "_model_module_version": "1.2.0",
       "_model_name": "LayoutModel",
       "_view_count": null,
       "_view_module": "@jupyter-widgets/base",
       "_view_module_version": "1.2.0",
       "_view_name": "LayoutView",
       "align_content": null,
       "align_items": null,
       "align_self": null,
       "border": null,
       "bottom": null,
       "display": null,
       "flex": null,
       "flex_flow": null,
       "grid_area": null,
       "grid_auto_columns": null,
       "grid_auto_flow": null,
       "grid_auto_rows": null,
       "grid_column": null,
       "grid_gap": null,
       "grid_row": null,
       "grid_template_areas": null,
       "grid_template_columns": null,
       "grid_template_rows": null,
       "height": null,
       "justify_content": null,
       "justify_items": null,
       "left": null,
       "margin": null,
       "max_height": null,
       "max_width": null,
       "min_height": null,
       "min_width": null,
       "object_fit": null,
       "object_position": null,
       "order": null,
       "overflow": null,
       "overflow_x": null,
       "overflow_y": null,
       "padding": null,
       "right": null,
       "top": null,
       "visibility": null,
       "width": null
      }
     },
     "c811dff2b30c4ec3b44b8f7bdeee124f": {
      "model_module": "@jupyter-widgets/controls",
      "model_module_version": "1.5.0",
      "model_name": "HBoxModel",
      "state": {
       "_dom_classes": [],
       "_model_module": "@jupyter-widgets/controls",
       "_model_module_version": "1.5.0",
       "_model_name": "HBoxModel",
       "_view_count": null,
       "_view_module": "@jupyter-widgets/controls",
       "_view_module_version": "1.5.0",
       "_view_name": "HBoxView",
       "box_style": "",
       "children": [
        "IPY_MODEL_84e76564d0814ce8beb80a24f84db6b0",
        "IPY_MODEL_557222764f26461da70d377b863d4d3e"
       ],
       "layout": "IPY_MODEL_67e71b4d0eb647e6b0de050aef9be874"
      }
     },
     "cf5d50ab3a0b4f319224be1fc2567fbf": {
      "model_module": "@jupyter-widgets/controls",
      "model_module_version": "1.5.0",
      "model_name": "FloatProgressModel",
      "state": {
       "_dom_classes": [],
       "_model_module": "@jupyter-widgets/controls",
       "_model_module_version": "1.5.0",
       "_model_name": "FloatProgressModel",
       "_view_count": null,
       "_view_module": "@jupyter-widgets/controls",
       "_view_module_version": "1.5.0",
       "_view_name": "ProgressView",
       "bar_style": "success",
       "description": "100%",
       "description_tooltip": null,
       "layout": "IPY_MODEL_225177c2f2e442368608687cef888a39",
       "max": 1000.0,
       "min": 0.0,
       "orientation": "horizontal",
       "style": "IPY_MODEL_39e8d2e7237d402a8df532e8741c96fb",
       "value": 1000.0
      }
     },
     "d682f76d33f545dbad2523674b6e055c": {
      "model_module": "@jupyter-widgets/controls",
      "model_module_version": "1.5.0",
      "model_name": "DescriptionStyleModel",
      "state": {
       "_model_module": "@jupyter-widgets/controls",
       "_model_module_version": "1.5.0",
       "_model_name": "DescriptionStyleModel",
       "_view_count": null,
       "_view_module": "@jupyter-widgets/base",
       "_view_module_version": "1.2.0",
       "_view_name": "StyleView",
       "description_width": ""
      }
     },
     "dce734e712b94613be58183b487005aa": {
      "model_module": "@jupyter-widgets/base",
      "model_module_version": "1.2.0",
      "model_name": "LayoutModel",
      "state": {
       "_model_module": "@jupyter-widgets/base",
       "_model_module_version": "1.2.0",
       "_model_name": "LayoutModel",
       "_view_count": null,
       "_view_module": "@jupyter-widgets/base",
       "_view_module_version": "1.2.0",
       "_view_name": "LayoutView",
       "align_content": null,
       "align_items": null,
       "align_self": null,
       "border": null,
       "bottom": null,
       "display": null,
       "flex": null,
       "flex_flow": null,
       "grid_area": null,
       "grid_auto_columns": null,
       "grid_auto_flow": null,
       "grid_auto_rows": null,
       "grid_column": null,
       "grid_gap": null,
       "grid_row": null,
       "grid_template_areas": null,
       "grid_template_columns": null,
       "grid_template_rows": null,
       "height": null,
       "justify_content": null,
       "justify_items": null,
       "left": null,
       "margin": null,
       "max_height": null,
       "max_width": null,
       "min_height": null,
       "min_width": null,
       "object_fit": null,
       "object_position": null,
       "order": null,
       "overflow": null,
       "overflow_x": null,
       "overflow_y": null,
       "padding": null,
       "right": null,
       "top": null,
       "visibility": null,
       "width": null
      }
     },
     "f1b39755cba54678be8da63c2f182ada": {
      "model_module": "@jupyter-widgets/base",
      "model_module_version": "1.2.0",
      "model_name": "LayoutModel",
      "state": {
       "_model_module": "@jupyter-widgets/base",
       "_model_module_version": "1.2.0",
       "_model_name": "LayoutModel",
       "_view_count": null,
       "_view_module": "@jupyter-widgets/base",
       "_view_module_version": "1.2.0",
       "_view_name": "LayoutView",
       "align_content": null,
       "align_items": null,
       "align_self": null,
       "border": null,
       "bottom": null,
       "display": null,
       "flex": null,
       "flex_flow": null,
       "grid_area": null,
       "grid_auto_columns": null,
       "grid_auto_flow": null,
       "grid_auto_rows": null,
       "grid_column": null,
       "grid_gap": null,
       "grid_row": null,
       "grid_template_areas": null,
       "grid_template_columns": null,
       "grid_template_rows": null,
       "height": null,
       "justify_content": null,
       "justify_items": null,
       "left": null,
       "margin": null,
       "max_height": null,
       "max_width": null,
       "min_height": null,
       "min_width": null,
       "object_fit": null,
       "object_position": null,
       "order": null,
       "overflow": null,
       "overflow_x": null,
       "overflow_y": null,
       "padding": null,
       "right": null,
       "top": null,
       "visibility": null,
       "width": null
      }
     },
     "f7e3eeb33ef64d6494b54de471c9f3c9": {
      "model_module": "@jupyter-widgets/controls",
      "model_module_version": "1.5.0",
      "model_name": "ProgressStyleModel",
      "state": {
       "_model_module": "@jupyter-widgets/controls",
       "_model_module_version": "1.5.0",
       "_model_name": "ProgressStyleModel",
       "_view_count": null,
       "_view_module": "@jupyter-widgets/base",
       "_view_module_version": "1.2.0",
       "_view_name": "StyleView",
       "bar_color": null,
       "description_width": "initial"
      }
     },
     "ff3a18c46fd34f80b563b6b5f6519cff": {
      "model_module": "@jupyter-widgets/controls",
      "model_module_version": "1.5.0",
      "model_name": "FloatProgressModel",
      "state": {
       "_dom_classes": [],
       "_model_module": "@jupyter-widgets/controls",
       "_model_module_version": "1.5.0",
       "_model_name": "FloatProgressModel",
       "_view_count": null,
       "_view_module": "@jupyter-widgets/controls",
       "_view_module_version": "1.5.0",
       "_view_name": "ProgressView",
       "bar_style": "success",
       "description": "100%",
       "description_tooltip": null,
       "layout": "IPY_MODEL_42a73df74847431cb82902f7349fae76",
       "max": 1000.0,
       "min": 0.0,
       "orientation": "horizontal",
       "style": "IPY_MODEL_f7e3eeb33ef64d6494b54de471c9f3c9",
       "value": 1000.0
      }
     }
    },
    "version_major": 2,
    "version_minor": 0
   }
  }
 },
 "nbformat": 4,
 "nbformat_minor": 4
}
