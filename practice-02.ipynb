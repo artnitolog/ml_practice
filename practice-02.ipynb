{
 "cells": [
  {
   "cell_type": "markdown",
   "metadata": {
    "papermill": {
     "duration": 0.040054,
     "end_time": "2020-10-24T20:19:20.342439",
     "exception": false,
     "start_time": "2020-10-24T20:19:20.302385",
     "status": "completed"
    },
    "tags": []
   },
   "source": [
    "## Машинное обучение, ВМК МГУ\n",
    "\n",
    "## Практическое задание 2\n",
    "\n",
    "### Общая информация\n",
    "Дата выдачи: 7 октября 2020\n",
    "\n",
    "Максимальная оценка: 10 баллов + 1 бонусный балл\n",
    "\n",
    "Мягкий дедлайн: 23:59MSK 20 октября\n",
    "\n",
    "Жесткий дедлайн: 23:59MSK 27 октября."
   ]
  },
  {
   "cell_type": "markdown",
   "metadata": {
    "papermill": {
     "duration": 0.037321,
     "end_time": "2020-10-24T20:19:20.417670",
     "exception": false,
     "start_time": "2020-10-24T20:19:20.380349",
     "status": "completed"
    },
    "tags": []
   },
   "source": [
    "### О задании\n",
    "\n",
    "В этом задании вы:\n",
    "- Познакомитесь с методом решения задачи регрессии на основе метода ближайших соседей.\n",
    "- Реализуете алгоритм kNN для задачи регрессии.\n",
    "- Изучите методы работы с категориальными и текстовыми переменными.\n",
    "\n",
    "\n",
    "### Оценивание и штрафы\n",
    "Каждая из задач имеет определенную «стоимость» (указана в скобках около задачи). Максимально допустимая оценка за работу — 10 баллов.\n",
    "\n",
    "Сдавать задание после указанного срока сдачи нельзя. При выставлении неполного балла за задание в связи с наличием ошибок на усмотрение проверяющего предусмотрена возможность исправить работу на указанных в ответном письме условиях.\n",
    "\n",
    "Задание выполняется самостоятельно. «Похожие» решения считаются плагиатом и все задействованные студенты (в том числе те, у кого списали) не могут получить за него больше 0 баллов (подробнее о плагиате см. на странице курса). Если вы нашли решение какого-то из заданий (или его часть) в открытом источнике, необходимо указать ссылку на этот источник в отдельном блоке в конце вашей работы (скорее всего вы будете не единственным, кто это нашел, поэтому чтобы исключить подозрение в плагиате, необходима ссылка на источник).\n",
    "\n",
    "Неэффективная реализация кода может негативно отразиться на оценке.\n",
    "\n",
    "\n",
    "### Формат сдачи\n",
    "Для сдачи задания переименуйте получившийся файл *.ipynb в соответствии со следующим форматом: homework-practice-02-Username.ipynb, где Username — ваша фамилия и имя на латинице именно в таком порядке (например, homework-practice-02-ivanov.ipynb).\n",
    "\n",
    "Далее отправьте этот файл на anytask в соответсвующий раздел."
   ]
  },
  {
   "cell_type": "code",
   "execution_count": 1,
   "metadata": {
    "execution": {
     "iopub.execute_input": "2020-10-24T20:19:20.498306Z",
     "iopub.status.busy": "2020-10-24T20:19:20.497344Z",
     "iopub.status.idle": "2020-10-24T20:19:20.500470Z",
     "shell.execute_reply": "2020-10-24T20:19:20.499834Z"
    },
    "papermill": {
     "duration": 0.045351,
     "end_time": "2020-10-24T20:19:20.500584",
     "exception": false,
     "start_time": "2020-10-24T20:19:20.455233",
     "status": "completed"
    },
    "tags": []
   },
   "outputs": [],
   "source": [
    "import numpy as np\n",
    "import pandas as pd"
   ]
  },
  {
   "cell_type": "markdown",
   "metadata": {
    "papermill": {
     "duration": 0.037705,
     "end_time": "2020-10-24T20:19:20.576520",
     "exception": false,
     "start_time": "2020-10-24T20:19:20.538815",
     "status": "completed"
    },
    "tags": []
   },
   "source": [
    "Все эксперименты в этой лабораторной работе предлагается проводить на данных соревнования New York City Airbnb Open Data: https://www.kaggle.com/dgomonov/new-york-city-airbnb-open-data#AB_NYC_2019.csv\n",
    "\n",
    "В данной задаче предлагается предсказать цену на съем квартиры в зависимости от её параметров."
   ]
  },
  {
   "cell_type": "code",
   "execution_count": 2,
   "metadata": {
    "execution": {
     "iopub.execute_input": "2020-10-24T20:19:20.662670Z",
     "iopub.status.busy": "2020-10-24T20:19:20.662044Z",
     "iopub.status.idle": "2020-10-24T20:19:20.885545Z",
     "shell.execute_reply": "2020-10-24T20:19:20.885029Z"
    },
    "papermill": {
     "duration": 0.271236,
     "end_time": "2020-10-24T20:19:20.885668",
     "exception": false,
     "start_time": "2020-10-24T20:19:20.614432",
     "status": "completed"
    },
    "tags": []
   },
   "outputs": [
    {
     "data": {
      "text/html": [
       "<div>\n",
       "<style scoped>\n",
       "    .dataframe tbody tr th:only-of-type {\n",
       "        vertical-align: middle;\n",
       "    }\n",
       "\n",
       "    .dataframe tbody tr th {\n",
       "        vertical-align: top;\n",
       "    }\n",
       "\n",
       "    .dataframe thead th {\n",
       "        text-align: right;\n",
       "    }\n",
       "</style>\n",
       "<table border=\"1\" class=\"dataframe\">\n",
       "  <thead>\n",
       "    <tr style=\"text-align: right;\">\n",
       "      <th></th>\n",
       "      <th>id</th>\n",
       "      <th>name</th>\n",
       "      <th>host_id</th>\n",
       "      <th>host_name</th>\n",
       "      <th>neighbourhood_group</th>\n",
       "      <th>neighbourhood</th>\n",
       "      <th>latitude</th>\n",
       "      <th>longitude</th>\n",
       "      <th>room_type</th>\n",
       "      <th>price</th>\n",
       "      <th>minimum_nights</th>\n",
       "      <th>number_of_reviews</th>\n",
       "      <th>last_review</th>\n",
       "      <th>reviews_per_month</th>\n",
       "      <th>calculated_host_listings_count</th>\n",
       "      <th>availability_365</th>\n",
       "    </tr>\n",
       "  </thead>\n",
       "  <tbody>\n",
       "    <tr>\n",
       "      <th>0</th>\n",
       "      <td>2539</td>\n",
       "      <td>Clean &amp; quiet apt home by the park</td>\n",
       "      <td>2787</td>\n",
       "      <td>John</td>\n",
       "      <td>Brooklyn</td>\n",
       "      <td>Kensington</td>\n",
       "      <td>40.64749</td>\n",
       "      <td>-73.97237</td>\n",
       "      <td>Private room</td>\n",
       "      <td>149</td>\n",
       "      <td>1</td>\n",
       "      <td>9</td>\n",
       "      <td>2018-10-19</td>\n",
       "      <td>0.21</td>\n",
       "      <td>6</td>\n",
       "      <td>365</td>\n",
       "    </tr>\n",
       "    <tr>\n",
       "      <th>1</th>\n",
       "      <td>2595</td>\n",
       "      <td>Skylit Midtown Castle</td>\n",
       "      <td>2845</td>\n",
       "      <td>Jennifer</td>\n",
       "      <td>Manhattan</td>\n",
       "      <td>Midtown</td>\n",
       "      <td>40.75362</td>\n",
       "      <td>-73.98377</td>\n",
       "      <td>Entire home/apt</td>\n",
       "      <td>225</td>\n",
       "      <td>1</td>\n",
       "      <td>45</td>\n",
       "      <td>2019-05-21</td>\n",
       "      <td>0.38</td>\n",
       "      <td>2</td>\n",
       "      <td>355</td>\n",
       "    </tr>\n",
       "    <tr>\n",
       "      <th>2</th>\n",
       "      <td>3647</td>\n",
       "      <td>THE VILLAGE OF HARLEM....NEW YORK !</td>\n",
       "      <td>4632</td>\n",
       "      <td>Elisabeth</td>\n",
       "      <td>Manhattan</td>\n",
       "      <td>Harlem</td>\n",
       "      <td>40.80902</td>\n",
       "      <td>-73.94190</td>\n",
       "      <td>Private room</td>\n",
       "      <td>150</td>\n",
       "      <td>3</td>\n",
       "      <td>0</td>\n",
       "      <td>NaN</td>\n",
       "      <td>NaN</td>\n",
       "      <td>1</td>\n",
       "      <td>365</td>\n",
       "    </tr>\n",
       "    <tr>\n",
       "      <th>3</th>\n",
       "      <td>3831</td>\n",
       "      <td>Cozy Entire Floor of Brownstone</td>\n",
       "      <td>4869</td>\n",
       "      <td>LisaRoxanne</td>\n",
       "      <td>Brooklyn</td>\n",
       "      <td>Clinton Hill</td>\n",
       "      <td>40.68514</td>\n",
       "      <td>-73.95976</td>\n",
       "      <td>Entire home/apt</td>\n",
       "      <td>89</td>\n",
       "      <td>1</td>\n",
       "      <td>270</td>\n",
       "      <td>2019-07-05</td>\n",
       "      <td>4.64</td>\n",
       "      <td>1</td>\n",
       "      <td>194</td>\n",
       "    </tr>\n",
       "    <tr>\n",
       "      <th>4</th>\n",
       "      <td>5022</td>\n",
       "      <td>Entire Apt: Spacious Studio/Loft by central park</td>\n",
       "      <td>7192</td>\n",
       "      <td>Laura</td>\n",
       "      <td>Manhattan</td>\n",
       "      <td>East Harlem</td>\n",
       "      <td>40.79851</td>\n",
       "      <td>-73.94399</td>\n",
       "      <td>Entire home/apt</td>\n",
       "      <td>80</td>\n",
       "      <td>10</td>\n",
       "      <td>9</td>\n",
       "      <td>2018-11-19</td>\n",
       "      <td>0.10</td>\n",
       "      <td>1</td>\n",
       "      <td>0</td>\n",
       "    </tr>\n",
       "  </tbody>\n",
       "</table>\n",
       "</div>"
      ],
      "text/plain": [
       "     id                                              name  host_id  \\\n",
       "0  2539                Clean & quiet apt home by the park     2787   \n",
       "1  2595                             Skylit Midtown Castle     2845   \n",
       "2  3647               THE VILLAGE OF HARLEM....NEW YORK !     4632   \n",
       "3  3831                   Cozy Entire Floor of Brownstone     4869   \n",
       "4  5022  Entire Apt: Spacious Studio/Loft by central park     7192   \n",
       "\n",
       "     host_name neighbourhood_group neighbourhood  latitude  longitude  \\\n",
       "0         John            Brooklyn    Kensington  40.64749  -73.97237   \n",
       "1     Jennifer           Manhattan       Midtown  40.75362  -73.98377   \n",
       "2    Elisabeth           Manhattan        Harlem  40.80902  -73.94190   \n",
       "3  LisaRoxanne            Brooklyn  Clinton Hill  40.68514  -73.95976   \n",
       "4        Laura           Manhattan   East Harlem  40.79851  -73.94399   \n",
       "\n",
       "         room_type  price  minimum_nights  number_of_reviews last_review  \\\n",
       "0     Private room    149               1                  9  2018-10-19   \n",
       "1  Entire home/apt    225               1                 45  2019-05-21   \n",
       "2     Private room    150               3                  0         NaN   \n",
       "3  Entire home/apt     89               1                270  2019-07-05   \n",
       "4  Entire home/apt     80              10                  9  2018-11-19   \n",
       "\n",
       "   reviews_per_month  calculated_host_listings_count  availability_365  \n",
       "0               0.21                               6               365  \n",
       "1               0.38                               2               355  \n",
       "2                NaN                               1               365  \n",
       "3               4.64                               1               194  \n",
       "4               0.10                               1                 0  "
      ]
     },
     "execution_count": 2,
     "metadata": {},
     "output_type": "execute_result"
    }
   ],
   "source": [
    "# data = pd.read_csv('AB_NYC_2019.csv')\n",
    "data = pd.read_csv('/kaggle/input/new-york-city-airbnb-open-data/AB_NYC_2019.csv')\n",
    "data.head()"
   ]
  },
  {
   "cell_type": "code",
   "execution_count": 3,
   "metadata": {
    "execution": {
     "iopub.execute_input": "2020-10-24T20:19:20.969654Z",
     "iopub.status.busy": "2020-10-24T20:19:20.968740Z",
     "iopub.status.idle": "2020-10-24T20:19:20.972056Z",
     "shell.execute_reply": "2020-10-24T20:19:20.972650Z"
    },
    "papermill": {
     "duration": 0.047805,
     "end_time": "2020-10-24T20:19:20.972822",
     "exception": false,
     "start_time": "2020-10-24T20:19:20.925017",
     "status": "completed"
    },
    "tags": []
   },
   "outputs": [
    {
     "data": {
      "text/plain": [
       "(48895, 16)"
      ]
     },
     "execution_count": 3,
     "metadata": {},
     "output_type": "execute_result"
    }
   ],
   "source": [
    "data.shape"
   ]
  },
  {
   "cell_type": "code",
   "execution_count": 4,
   "metadata": {
    "execution": {
     "iopub.execute_input": "2020-10-24T20:19:21.057765Z",
     "iopub.status.busy": "2020-10-24T20:19:21.057111Z",
     "iopub.status.idle": "2020-10-24T20:19:21.104284Z",
     "shell.execute_reply": "2020-10-24T20:19:21.103330Z"
    },
    "papermill": {
     "duration": 0.091866,
     "end_time": "2020-10-24T20:19:21.104444",
     "exception": false,
     "start_time": "2020-10-24T20:19:21.012578",
     "status": "completed"
    },
    "tags": []
   },
   "outputs": [
    {
     "name": "stdout",
     "output_type": "stream",
     "text": [
      "id 48895\n",
      "name 47906\n",
      "host_id 37457\n",
      "host_name 11453\n",
      "neighbourhood_group 5\n",
      "neighbourhood 221\n",
      "latitude 19048\n",
      "longitude 14718\n",
      "room_type 3\n",
      "price 674\n",
      "minimum_nights 109\n",
      "number_of_reviews 394\n",
      "last_review 1765\n",
      "reviews_per_month 938\n",
      "calculated_host_listings_count 47\n",
      "availability_365 366\n"
     ]
    }
   ],
   "source": [
    "# число значений у признаков\n",
    "for col_name in data.columns:\n",
    "    print(col_name, len(data[col_name].unique()))"
   ]
  },
  {
   "cell_type": "code",
   "execution_count": 5,
   "metadata": {
    "execution": {
     "iopub.execute_input": "2020-10-24T20:19:21.192156Z",
     "iopub.status.busy": "2020-10-24T20:19:21.191477Z",
     "iopub.status.idle": "2020-10-24T20:19:21.211887Z",
     "shell.execute_reply": "2020-10-24T20:19:21.211314Z"
    },
    "papermill": {
     "duration": 0.066323,
     "end_time": "2020-10-24T20:19:21.211995",
     "exception": false,
     "start_time": "2020-10-24T20:19:21.145672",
     "status": "completed"
    },
    "tags": []
   },
   "outputs": [
    {
     "data": {
      "text/plain": [
       "id                                    0\n",
       "name                                 16\n",
       "host_id                               0\n",
       "host_name                            21\n",
       "neighbourhood_group                   0\n",
       "neighbourhood                         0\n",
       "latitude                              0\n",
       "longitude                             0\n",
       "room_type                             0\n",
       "price                                 0\n",
       "minimum_nights                        0\n",
       "number_of_reviews                     0\n",
       "last_review                       10052\n",
       "reviews_per_month                 10052\n",
       "calculated_host_listings_count        0\n",
       "availability_365                      0\n",
       "dtype: int64"
      ]
     },
     "execution_count": 5,
     "metadata": {},
     "output_type": "execute_result"
    }
   ],
   "source": [
    "data.isna().sum()"
   ]
  },
  {
   "cell_type": "markdown",
   "metadata": {
    "papermill": {
     "duration": 0.04049,
     "end_time": "2020-10-24T20:19:21.292896",
     "exception": false,
     "start_time": "2020-10-24T20:19:21.252406",
     "status": "completed"
    },
    "tags": []
   },
   "source": [
    "Как видите, в данных есть пропуски. Не забудьте обработать их"
   ]
  },
  {
   "cell_type": "code",
   "execution_count": 6,
   "metadata": {
    "execution": {
     "iopub.execute_input": "2020-10-24T20:19:21.387255Z",
     "iopub.status.busy": "2020-10-24T20:19:21.379503Z",
     "iopub.status.idle": "2020-10-24T20:19:21.396487Z",
     "shell.execute_reply": "2020-10-24T20:19:21.396010Z"
    },
    "papermill": {
     "duration": 0.06329,
     "end_time": "2020-10-24T20:19:21.396600",
     "exception": false,
     "start_time": "2020-10-24T20:19:21.333310",
     "status": "completed"
    },
    "tags": []
   },
   "outputs": [
    {
     "data": {
      "text/html": [
       "<div>\n",
       "<style scoped>\n",
       "    .dataframe tbody tr th:only-of-type {\n",
       "        vertical-align: middle;\n",
       "    }\n",
       "\n",
       "    .dataframe tbody tr th {\n",
       "        vertical-align: top;\n",
       "    }\n",
       "\n",
       "    .dataframe thead th {\n",
       "        text-align: right;\n",
       "    }\n",
       "</style>\n",
       "<table border=\"1\" class=\"dataframe\">\n",
       "  <thead>\n",
       "    <tr style=\"text-align: right;\">\n",
       "      <th></th>\n",
       "      <th>name</th>\n",
       "      <th>host_name</th>\n",
       "      <th>last_review</th>\n",
       "      <th>reviews_per_month</th>\n",
       "    </tr>\n",
       "  </thead>\n",
       "  <tbody>\n",
       "    <tr>\n",
       "      <th>0</th>\n",
       "      <td>Clean &amp; quiet apt home by the park</td>\n",
       "      <td>John</td>\n",
       "      <td>2018-10-19</td>\n",
       "      <td>0.21</td>\n",
       "    </tr>\n",
       "    <tr>\n",
       "      <th>1</th>\n",
       "      <td>Skylit Midtown Castle</td>\n",
       "      <td>Jennifer</td>\n",
       "      <td>2019-05-21</td>\n",
       "      <td>0.38</td>\n",
       "    </tr>\n",
       "    <tr>\n",
       "      <th>2</th>\n",
       "      <td>THE VILLAGE OF HARLEM....NEW YORK !</td>\n",
       "      <td>Elisabeth</td>\n",
       "      <td>NaN</td>\n",
       "      <td>NaN</td>\n",
       "    </tr>\n",
       "    <tr>\n",
       "      <th>3</th>\n",
       "      <td>Cozy Entire Floor of Brownstone</td>\n",
       "      <td>LisaRoxanne</td>\n",
       "      <td>2019-07-05</td>\n",
       "      <td>4.64</td>\n",
       "    </tr>\n",
       "    <tr>\n",
       "      <th>4</th>\n",
       "      <td>Entire Apt: Spacious Studio/Loft by central park</td>\n",
       "      <td>Laura</td>\n",
       "      <td>2018-11-19</td>\n",
       "      <td>0.10</td>\n",
       "    </tr>\n",
       "    <tr>\n",
       "      <th>...</th>\n",
       "      <td>...</td>\n",
       "      <td>...</td>\n",
       "      <td>...</td>\n",
       "      <td>...</td>\n",
       "    </tr>\n",
       "    <tr>\n",
       "      <th>48890</th>\n",
       "      <td>Charming one bedroom - newly renovated rowhouse</td>\n",
       "      <td>Sabrina</td>\n",
       "      <td>NaN</td>\n",
       "      <td>NaN</td>\n",
       "    </tr>\n",
       "    <tr>\n",
       "      <th>48891</th>\n",
       "      <td>Affordable room in Bushwick/East Williamsburg</td>\n",
       "      <td>Marisol</td>\n",
       "      <td>NaN</td>\n",
       "      <td>NaN</td>\n",
       "    </tr>\n",
       "    <tr>\n",
       "      <th>48892</th>\n",
       "      <td>Sunny Studio at Historical Neighborhood</td>\n",
       "      <td>Ilgar &amp; Aysel</td>\n",
       "      <td>NaN</td>\n",
       "      <td>NaN</td>\n",
       "    </tr>\n",
       "    <tr>\n",
       "      <th>48893</th>\n",
       "      <td>43rd St. Time Square-cozy single bed</td>\n",
       "      <td>Taz</td>\n",
       "      <td>NaN</td>\n",
       "      <td>NaN</td>\n",
       "    </tr>\n",
       "    <tr>\n",
       "      <th>48894</th>\n",
       "      <td>Trendy duplex in the very heart of Hell's Kitchen</td>\n",
       "      <td>Christophe</td>\n",
       "      <td>NaN</td>\n",
       "      <td>NaN</td>\n",
       "    </tr>\n",
       "  </tbody>\n",
       "</table>\n",
       "<p>48895 rows × 4 columns</p>\n",
       "</div>"
      ],
      "text/plain": [
       "                                                    name      host_name  \\\n",
       "0                     Clean & quiet apt home by the park           John   \n",
       "1                                  Skylit Midtown Castle       Jennifer   \n",
       "2                    THE VILLAGE OF HARLEM....NEW YORK !      Elisabeth   \n",
       "3                        Cozy Entire Floor of Brownstone    LisaRoxanne   \n",
       "4       Entire Apt: Spacious Studio/Loft by central park          Laura   \n",
       "...                                                  ...            ...   \n",
       "48890    Charming one bedroom - newly renovated rowhouse        Sabrina   \n",
       "48891      Affordable room in Bushwick/East Williamsburg        Marisol   \n",
       "48892            Sunny Studio at Historical Neighborhood  Ilgar & Aysel   \n",
       "48893               43rd St. Time Square-cozy single bed            Taz   \n",
       "48894  Trendy duplex in the very heart of Hell's Kitchen     Christophe   \n",
       "\n",
       "      last_review  reviews_per_month  \n",
       "0      2018-10-19               0.21  \n",
       "1      2019-05-21               0.38  \n",
       "2             NaN                NaN  \n",
       "3      2019-07-05               4.64  \n",
       "4      2018-11-19               0.10  \n",
       "...           ...                ...  \n",
       "48890         NaN                NaN  \n",
       "48891         NaN                NaN  \n",
       "48892         NaN                NaN  \n",
       "48893         NaN                NaN  \n",
       "48894         NaN                NaN  \n",
       "\n",
       "[48895 rows x 4 columns]"
      ]
     },
     "execution_count": 6,
     "metadata": {},
     "output_type": "execute_result"
    }
   ],
   "source": [
    "missing_cols = ['name', 'host_name', 'last_review', 'reviews_per_month']\n",
    "data[missing_cols]"
   ]
  },
  {
   "cell_type": "markdown",
   "metadata": {
    "papermill": {
     "duration": 0.040314,
     "end_time": "2020-10-24T20:19:21.477647",
     "exception": false,
     "start_time": "2020-10-24T20:19:21.437333",
     "status": "completed"
    },
    "tags": []
   },
   "source": [
    "<font color='blue'> Заметим, что `last_review` содержит даты. Тип `object` для их обработки не удобен, так что сразу переведем этот столбец в datetime, который позволяет их сравнивать, вычитать - обрабатывать почти как численные признаки. Дальнейшие преобразования будет зависеть от модели: можно сделать новые признаки с годом, месяцем и днем, можно просто отсчитывать дни.\n",
    "</font>"
   ]
  },
  {
   "cell_type": "code",
   "execution_count": 7,
   "metadata": {
    "execution": {
     "iopub.execute_input": "2020-10-24T20:19:21.574782Z",
     "iopub.status.busy": "2020-10-24T20:19:21.574123Z",
     "iopub.status.idle": "2020-10-24T20:19:21.578794Z",
     "shell.execute_reply": "2020-10-24T20:19:21.578159Z"
    },
    "papermill": {
     "duration": 0.060673,
     "end_time": "2020-10-24T20:19:21.578943",
     "exception": false,
     "start_time": "2020-10-24T20:19:21.518270",
     "status": "completed"
    },
    "tags": []
   },
   "outputs": [],
   "source": [
    "data.last_review = pd.to_datetime(data.last_review)"
   ]
  },
  {
   "cell_type": "code",
   "execution_count": 8,
   "metadata": {
    "execution": {
     "iopub.execute_input": "2020-10-24T20:19:21.667536Z",
     "iopub.status.busy": "2020-10-24T20:19:21.666916Z",
     "iopub.status.idle": "2020-10-24T20:19:21.691807Z",
     "shell.execute_reply": "2020-10-24T20:19:21.692322Z"
    },
    "papermill": {
     "duration": 0.071835,
     "end_time": "2020-10-24T20:19:21.692466",
     "exception": false,
     "start_time": "2020-10-24T20:19:21.620631",
     "status": "completed"
    },
    "tags": []
   },
   "outputs": [
    {
     "name": "stdout",
     "output_type": "stream",
     "text": [
      "Is last_review is missing if and only if reviews_per_month?\n",
      "True\n",
      "Minimum of reviews_per_month: 0.01\n"
     ]
    }
   ],
   "source": [
    "print('Is last_review is missing if and only if reviews_per_month?')\n",
    "print((data.last_review.isna() == data.reviews_per_month.isna()).all())\n",
    "print(f'Minimum of reviews_per_month: {data.reviews_per_month.min()}')"
   ]
  },
  {
   "cell_type": "markdown",
   "metadata": {
    "papermill": {
     "duration": 0.041199,
     "end_time": "2020-10-24T20:19:21.775242",
     "exception": false,
     "start_time": "2020-10-24T20:19:21.734043",
     "status": "completed"
    },
    "tags": []
   },
   "source": [
    "\n",
    "* <font color=blue>Пропусков в `name` и `host_name` совсем немного — их заполним (аналогично прошлому занятию) пустыми строками.</font>\n",
    "* <font color=blue>Однако столбцы `last_review` и `reviews_per_month`, во-первых, содержат слишком много пропусков, а, во-вторых, представляют собой соответственно даты и вещественный признак.</font>\n",
    "* <font color=blue>Как показано выше, пропуск в `last_review` равносилен пропуску в `reviews_per_month`.</font>\n",
    "* <font color=blue>Также мы обнаружили, что минимальное значение `reviews_per_month` $> 0$ — это позволяет предположить, что пропуски в рассматриваемых колонках связаны с отсутствием отзывов (reviews) вовсе. Поэтому причине разумно заполнить пропуски `reviews_per_month` нулями, а `last_review` достаточно «старой датой», например, годом ранее наименьшей из известных дат.</font>\n",
    "* <font color=blue>Нельзя утверждать, что вышеприведенные меры — лучшие для обработки пропусков в данной задаче. При необходимости можно посмотреть, какие методы более пригодны, например, по кросс-валидации.</font>\n",
    "* <font color=blue>Последнее (правда!) замечание по поводу пропусков: часто предобработку правильнее производить после разбиения на обучение и тест (чтобы не было утечек), но в нашем случае единственный использующий информацию о всей выборке параметр — «старая дата», и мы скорее хотим сохранить одинаковое значение такого заполнения для пропущенных дат.</font>"
   ]
  },
  {
   "cell_type": "code",
   "execution_count": 9,
   "metadata": {
    "execution": {
     "iopub.execute_input": "2020-10-24T20:19:21.863863Z",
     "iopub.status.busy": "2020-10-24T20:19:21.863169Z",
     "iopub.status.idle": "2020-10-24T20:19:21.877090Z",
     "shell.execute_reply": "2020-10-24T20:19:21.876407Z"
    },
    "papermill": {
     "duration": 0.060714,
     "end_time": "2020-10-24T20:19:21.877201",
     "exception": false,
     "start_time": "2020-10-24T20:19:21.816487",
     "status": "completed"
    },
    "tags": []
   },
   "outputs": [],
   "source": [
    "from datetime import timedelta\n",
    "\n",
    "cat_fills = {\n",
    "    'name': '',\n",
    "    'host_name': '',\n",
    "    'last_review': data.last_review.min() - timedelta(days=365),\n",
    "    'reviews_per_month': 0, \n",
    "}\n",
    "data.fillna(value=cat_fills, inplace=True)"
   ]
  },
  {
   "cell_type": "markdown",
   "metadata": {
    "papermill": {
     "duration": 0.041468,
     "end_time": "2020-10-24T20:19:21.960339",
     "exception": false,
     "start_time": "2020-10-24T20:19:21.918871",
     "status": "completed"
    },
    "tags": []
   },
   "source": [
    "Разобъем данные на обучение и контроль."
   ]
  },
  {
   "cell_type": "code",
   "execution_count": 10,
   "metadata": {
    "execution": {
     "iopub.execute_input": "2020-10-24T20:19:22.050352Z",
     "iopub.status.busy": "2020-10-24T20:19:22.049669Z",
     "iopub.status.idle": "2020-10-24T20:19:23.050670Z",
     "shell.execute_reply": "2020-10-24T20:19:23.050005Z"
    },
    "papermill": {
     "duration": 1.047878,
     "end_time": "2020-10-24T20:19:23.050810",
     "exception": false,
     "start_time": "2020-10-24T20:19:22.002932",
     "status": "completed"
    },
    "tags": []
   },
   "outputs": [],
   "source": [
    "from sklearn.model_selection import train_test_split\n",
    "X_train, X_test, y_train, y_test = train_test_split(data.drop(columns=['price']), data[['price']],\n",
    "                                                    test_size=0.3, random_state=241)"
   ]
  },
  {
   "cell_type": "markdown",
   "metadata": {
    "papermill": {
     "duration": 0.04115,
     "end_time": "2020-10-24T20:19:23.133408",
     "exception": false,
     "start_time": "2020-10-24T20:19:23.092258",
     "status": "completed"
    },
    "tags": []
   },
   "source": [
    "## Часть 1: Алгоритм kNN в задаче регрессии"
   ]
  },
  {
   "cell_type": "markdown",
   "metadata": {
    "papermill": {
     "duration": 0.041262,
     "end_time": "2020-10-24T20:19:23.217193",
     "exception": false,
     "start_time": "2020-10-24T20:19:23.175931",
     "status": "completed"
    },
    "tags": []
   },
   "source": [
    "<b> 1.1 (1.5 балла) </b>\n",
    "Реализуйте класс `KNNRegressor`, который используя метод k ближайших соседей решает задачу регрессии. Для решение данной задачи, необходимо найти $N_k$ - k соседей, и после использовать значения их целевых переменных для предсказания:\n",
    "\\begin{align}\n",
    "y = \\frac{1}{k}\\sum_{n \\in N_k}w_n y_n,\n",
    "\\end{align}\n",
    "\n",
    "где $w_n$ - вес каждого соседа. \n",
    "\n",
    "При этом `KNNRegressor` может работать в 2 режимах:\n",
    " - $uniform$ - ближайшие соседи учитываются с одинаковыми весами.\n",
    " - $distance$ - вес ближайших соседей зависит от расстояния\n",
    " \n",
    "**Сигнатуру методов, классов, функции при желании можно менять.**"
   ]
  },
  {
   "cell_type": "markdown",
   "metadata": {
    "papermill": {
     "duration": 0.042549,
     "end_time": "2020-10-24T20:19:23.301187",
     "exception": false,
     "start_time": "2020-10-24T20:19:23.258638",
     "status": "completed"
    },
    "tags": []
   },
   "source": [
    "<font color=blue>В следующей ячейке приведены функции, использующиеся для вычисления величин, которые затем будут нужны категориальным метрикам. Для каждого признака формируется свой словарь, который выдает нужную величину по значению категории.</font>"
   ]
  },
  {
   "cell_type": "code",
   "execution_count": 11,
   "metadata": {
    "execution": {
     "iopub.execute_input": "2020-10-24T20:19:23.394620Z",
     "iopub.status.busy": "2020-10-24T20:19:23.393735Z",
     "iopub.status.idle": "2020-10-24T20:19:23.398361Z",
     "shell.execute_reply": "2020-10-24T20:19:23.397762Z"
    },
    "papermill": {
     "duration": 0.05519,
     "end_time": "2020-10-24T20:19:23.398471",
     "exception": false,
     "start_time": "2020-10-24T20:19:23.343281",
     "status": "completed"
    },
    "tags": []
   },
   "outputs": [],
   "source": [
    "def calc_p2_sum(X):\n",
    "    \"\"\"\n",
    "    Find cumulative sum of p^2-s for each unique value column-wise.\n",
    "    Parameters:\n",
    "        X: ndarray\n",
    "    Returns:\n",
    "        p2_sum: list of dictionaries, each one represents map for one column\n",
    "    \"\"\"\n",
    "    p2_sum = []\n",
    "    for cat_col in X.T:\n",
    "        val, f = np.unique(cat_col, return_counts=True)\n",
    "        inds = f.argsort()\n",
    "        p2_sum.append(dict(zip(val[inds], (f[inds]*(f[inds]-1)).cumsum()\n",
    "                                          / (len(X)*(len(X)-1)))))\n",
    "    return p2_sum\n",
    "\n",
    "def calc_log_f(X):\n",
    "    \"\"\"\n",
    "    Find log of (number of occurrences + 1) for each unique value column-wise.\n",
    "    Parameters:\n",
    "        X: ndarray\n",
    "    Returns:\n",
    "        f: list of dictionaries, each one represents map for one column\n",
    "    \"\"\"\n",
    "    all_f = []\n",
    "    for cat_col in X.T:\n",
    "        val, f = np.unique(cat_col, return_counts=True)\n",
    "        all_f.append(dict(zip(val, np.log(f + 1))))\n",
    "    return all_f"
   ]
  },
  {
   "cell_type": "code",
   "execution_count": 12,
   "metadata": {
    "execution": {
     "iopub.execute_input": "2020-10-24T20:19:23.501320Z",
     "iopub.status.busy": "2020-10-24T20:19:23.500581Z",
     "iopub.status.idle": "2020-10-24T20:19:23.649296Z",
     "shell.execute_reply": "2020-10-24T20:19:23.648571Z"
    },
    "papermill": {
     "duration": 0.209591,
     "end_time": "2020-10-24T20:19:23.649417",
     "exception": false,
     "start_time": "2020-10-24T20:19:23.439826",
     "status": "completed"
    },
    "tags": []
   },
   "outputs": [],
   "source": [
    "from typing import Union, Callable, Iterable, Optional\n",
    "from sklearn.neighbors import NearestNeighbors\n",
    "\n",
    "\n",
    "class KNNRegressor:\n",
    "    eps = 10 ** -6  # in case distance is 0\n",
    "\n",
    "    def __init__(self, n_neighbors: int, metric: Union[str, Callable] = 'euclidean',\n",
    "                 mode: str = 'uniform', n_jobs: int = -1):\n",
    "        \"\"\"\n",
    "        params:\n",
    "            n_neighbors: number of neighbors\n",
    "            metric: metric to use for distance computation\n",
    "            mode: 'uniform' or 'distance'\n",
    "            'uniform' - all points in each neighborhood are weighted equally\n",
    "            'distance' - weight points by the inverse of their distance (+ eps)\n",
    "            n_jobs — the number of parallel jobs to run for neighbors search\n",
    "        \"\"\"\n",
    "        self._n_neighbors = n_neighbors\n",
    "        self._metric = metric\n",
    "        self._mode = mode\n",
    "        self._n_jobs = n_jobs\n",
    "\n",
    "    def fit(self, X: np.array, y: np.array, cat_weights=None) -> None:\n",
    "        \"\"\"\n",
    "            X: data\n",
    "            y: labels\n",
    "            cat_weights: weights for categorical variables (optional)\n",
    "        \"\"\"\n",
    "        metric_params = {}\n",
    "        if self._metric == 'flattened_overlap':\n",
    "            metric_params['p2_sum'] = calc_p2_sum(X)\n",
    "        elif self._metric == 'log_overlap':\n",
    "            metric_params['log_f'] = calc_log_f(X)\n",
    "        if cat_weights is not None:\n",
    "            metric_params['weights'] = cat_weights\n",
    "        self._cat_weights = cat_weights\n",
    "        self._nn = NearestNeighbors(n_neighbors=self._n_neighbors, algorithm='brute',\n",
    "                                    metric=self._metric, metric_params=metric_params,\n",
    "                                    n_jobs=self._n_jobs)\n",
    "        self._nn.fit(X)\n",
    "        self._y = y  # X is already in __nn._fit_X\n",
    "        return self\n",
    "\n",
    "    def _predict_uniform(self, X: np.array, n_neighbors: Optional[int] = None) -> np.array:\n",
    "        inds = self._nn.kneighbors(X, n_neighbors, return_distance=False)\n",
    "        return self._y[inds].mean(axis=1)\n",
    "\n",
    "    def _predict_distance(self, X: np.array, n_neighbors: Optional[int] = None) -> np.array:\n",
    "        dists, inds = self._nn.kneighbors(X, n_neighbors)\n",
    "        return np.average(self._y[inds], axis=1, weights=1/(self.eps+dists))\n",
    "\n",
    "    def predict_ultimate(self, X, k_max, return_weighted=True):\n",
    "        \"\"\"\n",
    "        Make predictions for all k in {1,...,k_max},\n",
    "        for both modes if return_weighted is True,\n",
    "        only uniform otherwise.\n",
    "        \"\"\"\n",
    "        if return_weighted == False:\n",
    "            inds = self._nn.kneighbors(X, k_max, return_distance=False)\n",
    "            return self._y[inds].cumsum(axis=1) / (np.arange(k_max) + 1)\n",
    "        ws, inds = self._nn.kneighbors(X, k_max)\n",
    "        ws = 1/(self.eps+ws)\n",
    "        uniform_preds = self._y[inds].cumsum(axis=1) / (np.arange(k_max) + 1)\n",
    "        weighted_preds = (self._y[inds] * ws).cumsum(axis=1) / ws.cumsum(axis=1)\n",
    "        return uniform_preds, weighted_preds\n",
    "\n",
    "    def predict(self, X: np.array, n_neighbors: Optional[int] = None) -> np.array:\n",
    "        \"\"\"\n",
    "            X: data\n",
    "            n_neighbors: number of neighbors\n",
    "        \"\"\"\n",
    "        if self._mode == 'uniform':\n",
    "            return self._predict_uniform(X, n_neighbors)\n",
    "        else:\n",
    "            return self._predict_distance(X, n_neighbors)"
   ]
  },
  {
   "cell_type": "markdown",
   "metadata": {
    "papermill": {
     "duration": 0.041436,
     "end_time": "2020-10-24T20:19:23.732668",
     "exception": false,
     "start_time": "2020-10-24T20:19:23.691232",
     "status": "completed"
    },
    "tags": []
   },
   "source": [
    "<font color=blue>Общие комментарии к реализации:</font>\n",
    "* <font color=blue>Инициализация NearestNeighbors перенесена в fit, а в качестве алгоритма всегда используется `brute`, т.к. у склерна несколько противоречивая документация о деревьях: <a href=\"https://scikit-learn.org/stable/modules/generated/sklearn.neighbors.KDTree.html\" style=\"color:red;\">здесь</a> говорится, что таже KD-дерево не работает с кастомными метриками, хотя в <a href=\"https://scikit-learn.org/stable/modules/generated/sklearn.neighbors.NearestNeighbors.html\" style=\"color:red;\">общем классе</a> это допускается.</font>\n",
    "* <font color=blue>Взвешенный kNN немного модифицирован: чтобы не получать ошибок на нулевом расстоянии, к нему добавляется малое $\\varepsilon = 10^{-6}$. </font>\n",
    "* <font color=blue>Для будущих категориальных метрик не нужно отдельно считать и запоминать величины $p_j$ и $p_j^2$, т.к. они используются только в сглаженном индикаторе и можно сразу предподсчитать кумулятивные суммы. Такой подход позволит вычислять метрику на одном признаке за $O(1)$, не производя одинаковых суммирования повторно. Для log-overlap вместо $f_j$ сразу сохраняются $\\log{f_j}$.</font>\n",
    "* <font color=blue>Параметр `cat_weights`, передающийся в фит, соответствует не весам kNN, а весам, с которыми учитываются отдельные категориальные метрики согласно семинару.</font>\n",
    "* <font color=blue>Метод `predict_ultimate` эффективно находит предсказания для всех k от 1 до $k_{max}$ (будет использован в одном из следующих заданий)."
   ]
  },
  {
   "cell_type": "markdown",
   "metadata": {
    "papermill": {
     "duration": 0.041982,
     "end_time": "2020-10-24T20:19:23.816443",
     "exception": false,
     "start_time": "2020-10-24T20:19:23.774461",
     "status": "completed"
    },
    "tags": []
   },
   "source": [
    "## Часть 2: Категориальные признаки"
   ]
  },
  {
   "cell_type": "markdown",
   "metadata": {
    "papermill": {
     "duration": 0.041406,
     "end_time": "2020-10-24T20:19:23.899873",
     "exception": false,
     "start_time": "2020-10-24T20:19:23.858467",
     "status": "completed"
    },
    "tags": []
   },
   "source": [
    "<b>2.1 (1 балл)</b>\n",
    "Реализуйте три функции расстояния на категориальных признаках _(в этом задании только на них!)_ , которые обсуждались на [втором семинаре](https://github.com/mmp-mmro-team/mmp_mmro_fall_2020/blob/master/seminars/sem02_knn.pdf). Не забудьте, что KNNRegressor должен уметь работать с этими функциями расстояния. Как вариант, можно реализовать метрики как [user-defined distance](http://scikit-learn.org/stable/modules/generated/sklearn.neighbors.DistanceMetric.html)."
   ]
  },
  {
   "cell_type": "markdown",
   "metadata": {
    "papermill": {
     "duration": 0.041469,
     "end_time": "2020-10-24T20:19:23.982803",
     "exception": false,
     "start_time": "2020-10-24T20:19:23.941334",
     "status": "completed"
    },
    "tags": []
   },
   "source": [
    "<font color=blue>Используем декоратор для более быстрого поиска ближайших соседей, как было предложено Андреем в чате в телеграме:</font>"
   ]
  },
  {
   "cell_type": "code",
   "execution_count": 13,
   "metadata": {
    "execution": {
     "iopub.execute_input": "2020-10-24T20:19:24.076748Z",
     "iopub.status.busy": "2020-10-24T20:19:24.075955Z",
     "iopub.status.idle": "2020-10-24T20:19:24.078802Z",
     "shell.execute_reply": "2020-10-24T20:19:24.079255Z"
    },
    "papermill": {
     "duration": 0.054546,
     "end_time": "2020-10-24T20:19:24.079394",
     "exception": false,
     "start_time": "2020-10-24T20:19:24.024848",
     "status": "completed"
    },
    "tags": []
   },
   "outputs": [],
   "source": [
    "import sklearn.neighbors\n",
    "import sklearn.metrics\n",
    "\n",
    "vbrute = sklearn.neighbors.VALID_METRICS['brute']\n",
    "vmetrics = sklearn.metrics.pairwise._VALID_METRICS\n",
    "pairwise = sklearn.metrics.pairwise.PAIRWISE_DISTANCE_FUNCTIONS\n",
    "\n",
    "def install_metric(f):\n",
    "    name = f.__name__\n",
    "    if name not in vbrute:\n",
    "        vbrute.append(name)\n",
    "    if name not in vmetrics:\n",
    "        vmetrics.append(name)\n",
    "    pairwise[name] = f\n",
    "    return f"
   ]
  },
  {
   "cell_type": "markdown",
   "metadata": {
    "papermill": {
     "duration": 0.041877,
     "end_time": "2020-10-24T20:19:24.163323",
     "exception": false,
     "start_time": "2020-10-24T20:19:24.121446",
     "status": "completed"
    },
    "tags": []
   },
   "source": [
    "<font color=blue>Теперь реализуем метрики. Также используются две вспомогательные функции, избавляющие от повторов кода: `map_cols` отображает категориальные признаки в величины, требуемые для вычисления метрики (которые были предподсчитаны во время `fit`), а `w_sums` просто суммирует метрики с учетом весов (не связанных с весами kNN), если таковые переданы:</font>"
   ]
  },
  {
   "cell_type": "code",
   "execution_count": 14,
   "metadata": {
    "execution": {
     "iopub.execute_input": "2020-10-24T20:19:24.259249Z",
     "iopub.status.busy": "2020-10-24T20:19:24.258558Z",
     "iopub.status.idle": "2020-10-24T20:19:24.261641Z",
     "shell.execute_reply": "2020-10-24T20:19:24.261100Z"
    },
    "papermill": {
     "duration": 0.056331,
     "end_time": "2020-10-24T20:19:24.261768",
     "exception": false,
     "start_time": "2020-10-24T20:19:24.205437",
     "status": "completed"
    },
    "tags": []
   },
   "outputs": [],
   "source": [
    "def map_cols(X, maps, default=0, dtype=float):\n",
    "    \"\"\"\n",
    "    Map values of array column-wise.\n",
    "    Parameters:\n",
    "        X: ndarray\n",
    "        maps: list of dictionaries\n",
    "        default: numeric\n",
    "        dtype: data-type or str\n",
    "    Returns:\n",
    "        X_mapped: ndarray with the same shape as X\n",
    "    \"\"\"\n",
    "    X_mapped = np.empty_like(X, dtype=dtype)\n",
    "    for i, col in enumerate(X.T):\n",
    "        X_mapped[:, i] = np.vectorize(lambda x: maps[i].get(x, default))(col)\n",
    "    return X_mapped\n",
    "\n",
    "def w_sum(A, weights=None):\n",
    "    \"\"\"\n",
    "    Compute weighted sum A elements over the last axis.\n",
    "    Parameters:\n",
    "        A: ndarray\n",
    "        weights: array of length euqal to the size of the last dimenstion of A\n",
    "    Returns:\n",
    "        sum: ndarray of shape A.shape[:-1]\n",
    "    \"\"\"\n",
    "    if weights is None:\n",
    "        return A.sum(axis=-1)\n",
    "    else:\n",
    "        return A.dot(weights)\n",
    "\n",
    "@install_metric\n",
    "def overlap(X, Z, weights=None):\n",
    "    return w_sum((X[:, np.newaxis] != Z), weights)\n",
    "\n",
    "@install_metric\n",
    "def flattened_overlap(X, Z, p2_sum, weights=None):\n",
    "    return w_sum((X[:, np.newaxis] != Z) + (X[:, np.newaxis] == Z) * map_cols(Z, p2_sum), weights)\n",
    "\n",
    "@install_metric\n",
    "def log_overlap(X, Z, log_f, weights=None):\n",
    "    return w_sum(((X[:, np.newaxis] != Z) * map_cols(X, log_f)[:, np.newaxis] * map_cols(Z, log_f)),\n",
    "                 weights)"
   ]
  },
  {
   "cell_type": "code",
   "execution_count": 15,
   "metadata": {
    "execution": {
     "iopub.execute_input": "2020-10-24T20:19:24.351294Z",
     "iopub.status.busy": "2020-10-24T20:19:24.350589Z",
     "iopub.status.idle": "2020-10-24T20:19:24.353248Z",
     "shell.execute_reply": "2020-10-24T20:19:24.352595Z"
    },
    "papermill": {
     "duration": 0.048916,
     "end_time": "2020-10-24T20:19:24.353364",
     "exception": false,
     "start_time": "2020-10-24T20:19:24.304448",
     "status": "completed"
    },
    "tags": []
   },
   "outputs": [],
   "source": [
    "# TESTS\n",
    "\n",
    "# A = np.array([\n",
    "#     ['A', '1', 'MIPT'],\n",
    "#     ['A', '4', 'MIPT'],\n",
    "#     ['B', '3', 'Vyshka'],\n",
    "#     ['B', '2', 'MSU'],\n",
    "#     ['A', '5', 'MSU'],\n",
    "# ], dtype=str)\n",
    "\n",
    "# B = np.array([\n",
    "#     ['A', '1', 'MIPT'],\n",
    "#     ['-', '-', '-'],\n",
    "#     ['C', '1', 'MSU'],\n",
    "#     ['A', '2', 'GBPOU MO \"Balashikha technical school'],\n",
    "# ])\n",
    "\n",
    "# overlap(A, B)\n",
    "# p2_sum = calc_p2_sum(A)\n",
    "# flattened_overlap(A, B, p2_sum)\n",
    "# log_f = calc_log_f(A)\n",
    "# log_overlap(A, B, log_f)"
   ]
  },
  {
   "cell_type": "markdown",
   "metadata": {
    "papermill": {
     "duration": 0.0421,
     "end_time": "2020-10-24T20:19:24.437589",
     "exception": false,
     "start_time": "2020-10-24T20:19:24.395489",
     "status": "completed"
    },
    "tags": []
   },
   "source": [
    "<b>2.2 (1 балл)</b> Найдите все категориальные признаки в данных. Подсчитайте для каждой из метрик качество на тестовой выборке `X_test` при числе соседей $k = 10$. Качество измеряйте с помощью RMSE.\n",
    "\n",
    "Какая функция расстояния оказалась лучшей? Почему?"
   ]
  },
  {
   "cell_type": "markdown",
   "metadata": {
    "papermill": {
     "duration": 0.041707,
     "end_time": "2020-10-24T20:19:24.521519",
     "exception": false,
     "start_time": "2020-10-24T20:19:24.479812",
     "status": "completed"
    },
    "tags": []
   },
   "source": [
    "<font color=blue>Разберемся, какие признаки в данной задаче будем рассмаривать как категориальные.</font>"
   ]
  },
  {
   "cell_type": "code",
   "execution_count": 16,
   "metadata": {
    "execution": {
     "iopub.execute_input": "2020-10-24T20:19:24.612110Z",
     "iopub.status.busy": "2020-10-24T20:19:24.611351Z",
     "iopub.status.idle": "2020-10-24T20:19:24.673597Z",
     "shell.execute_reply": "2020-10-24T20:19:24.672904Z"
    },
    "papermill": {
     "duration": 0.11011,
     "end_time": "2020-10-24T20:19:24.673757",
     "exception": false,
     "start_time": "2020-10-24T20:19:24.563647",
     "status": "completed"
    },
    "tags": []
   },
   "outputs": [
    {
     "name": "stdout",
     "output_type": "stream",
     "text": [
      "Распределение типов и уникальных значений:\n"
     ]
    },
    {
     "data": {
      "text/html": [
       "<div>\n",
       "<style scoped>\n",
       "    .dataframe tbody tr th:only-of-type {\n",
       "        vertical-align: middle;\n",
       "    }\n",
       "\n",
       "    .dataframe tbody tr th {\n",
       "        vertical-align: top;\n",
       "    }\n",
       "\n",
       "    .dataframe thead th {\n",
       "        text-align: right;\n",
       "    }\n",
       "</style>\n",
       "<table border=\"1\" class=\"dataframe\">\n",
       "  <thead>\n",
       "    <tr style=\"text-align: right;\">\n",
       "      <th></th>\n",
       "      <th>dtype</th>\n",
       "      <th>n_unique</th>\n",
       "    </tr>\n",
       "  </thead>\n",
       "  <tbody>\n",
       "    <tr>\n",
       "      <th>calculated_host_listings_count</th>\n",
       "      <td>int64</td>\n",
       "      <td>47</td>\n",
       "    </tr>\n",
       "    <tr>\n",
       "      <th>minimum_nights</th>\n",
       "      <td>int64</td>\n",
       "      <td>109</td>\n",
       "    </tr>\n",
       "    <tr>\n",
       "      <th>availability_365</th>\n",
       "      <td>int64</td>\n",
       "      <td>366</td>\n",
       "    </tr>\n",
       "    <tr>\n",
       "      <th>number_of_reviews</th>\n",
       "      <td>int64</td>\n",
       "      <td>394</td>\n",
       "    </tr>\n",
       "    <tr>\n",
       "      <th>host_id</th>\n",
       "      <td>int64</td>\n",
       "      <td>37457</td>\n",
       "    </tr>\n",
       "    <tr>\n",
       "      <th>id</th>\n",
       "      <td>int64</td>\n",
       "      <td>48895</td>\n",
       "    </tr>\n",
       "    <tr>\n",
       "      <th>reviews_per_month</th>\n",
       "      <td>float64</td>\n",
       "      <td>938</td>\n",
       "    </tr>\n",
       "    <tr>\n",
       "      <th>longitude</th>\n",
       "      <td>float64</td>\n",
       "      <td>14718</td>\n",
       "    </tr>\n",
       "    <tr>\n",
       "      <th>latitude</th>\n",
       "      <td>float64</td>\n",
       "      <td>19048</td>\n",
       "    </tr>\n",
       "    <tr>\n",
       "      <th>last_review</th>\n",
       "      <td>datetime64[ns]</td>\n",
       "      <td>1765</td>\n",
       "    </tr>\n",
       "    <tr>\n",
       "      <th>room_type</th>\n",
       "      <td>object</td>\n",
       "      <td>3</td>\n",
       "    </tr>\n",
       "    <tr>\n",
       "      <th>neighbourhood_group</th>\n",
       "      <td>object</td>\n",
       "      <td>5</td>\n",
       "    </tr>\n",
       "    <tr>\n",
       "      <th>neighbourhood</th>\n",
       "      <td>object</td>\n",
       "      <td>221</td>\n",
       "    </tr>\n",
       "    <tr>\n",
       "      <th>host_name</th>\n",
       "      <td>object</td>\n",
       "      <td>11453</td>\n",
       "    </tr>\n",
       "    <tr>\n",
       "      <th>name</th>\n",
       "      <td>object</td>\n",
       "      <td>47906</td>\n",
       "    </tr>\n",
       "  </tbody>\n",
       "</table>\n",
       "</div>"
      ],
      "text/plain": [
       "                                         dtype n_unique\n",
       "calculated_host_listings_count           int64       47\n",
       "minimum_nights                           int64      109\n",
       "availability_365                         int64      366\n",
       "number_of_reviews                        int64      394\n",
       "host_id                                  int64    37457\n",
       "id                                       int64    48895\n",
       "reviews_per_month                      float64      938\n",
       "longitude                              float64    14718\n",
       "latitude                               float64    19048\n",
       "last_review                     datetime64[ns]     1765\n",
       "room_type                               object        3\n",
       "neighbourhood_group                     object        5\n",
       "neighbourhood                           object      221\n",
       "host_name                               object    11453\n",
       "name                                    object    47906"
      ]
     },
     "execution_count": 16,
     "metadata": {},
     "output_type": "execute_result"
    }
   ],
   "source": [
    "un_dt = ['dtype', 'n_unique']\n",
    "print('Распределение типов и уникальных значений:')\n",
    "pd.DataFrame([data.dtypes, data.nunique()], index=un_dt).drop(columns='price').T.sort_values(by=un_dt)"
   ]
  },
  {
   "cell_type": "code",
   "execution_count": 17,
   "metadata": {
    "execution": {
     "iopub.execute_input": "2020-10-24T20:19:24.766756Z",
     "iopub.status.busy": "2020-10-24T20:19:24.766044Z",
     "iopub.status.idle": "2020-10-24T20:19:24.780661Z",
     "shell.execute_reply": "2020-10-24T20:19:24.780193Z"
    },
    "papermill": {
     "duration": 0.063696,
     "end_time": "2020-10-24T20:19:24.780805",
     "exception": false,
     "start_time": "2020-10-24T20:19:24.717109",
     "status": "completed"
    },
    "tags": []
   },
   "outputs": [
    {
     "name": "stdout",
     "output_type": "stream",
     "text": [
      "Что представляют собой признаки в строковом типе:\n"
     ]
    },
    {
     "data": {
      "text/html": [
       "<div>\n",
       "<style scoped>\n",
       "    .dataframe tbody tr th:only-of-type {\n",
       "        vertical-align: middle;\n",
       "    }\n",
       "\n",
       "    .dataframe tbody tr th {\n",
       "        vertical-align: top;\n",
       "    }\n",
       "\n",
       "    .dataframe thead th {\n",
       "        text-align: right;\n",
       "    }\n",
       "</style>\n",
       "<table border=\"1\" class=\"dataframe\">\n",
       "  <thead>\n",
       "    <tr style=\"text-align: right;\">\n",
       "      <th></th>\n",
       "      <th>name</th>\n",
       "      <th>host_name</th>\n",
       "      <th>neighbourhood_group</th>\n",
       "      <th>neighbourhood</th>\n",
       "      <th>room_type</th>\n",
       "    </tr>\n",
       "  </thead>\n",
       "  <tbody>\n",
       "    <tr>\n",
       "      <th>0</th>\n",
       "      <td>Clean &amp; quiet apt home by the park</td>\n",
       "      <td>John</td>\n",
       "      <td>Brooklyn</td>\n",
       "      <td>Kensington</td>\n",
       "      <td>Private room</td>\n",
       "    </tr>\n",
       "    <tr>\n",
       "      <th>1</th>\n",
       "      <td>Skylit Midtown Castle</td>\n",
       "      <td>Jennifer</td>\n",
       "      <td>Manhattan</td>\n",
       "      <td>Midtown</td>\n",
       "      <td>Entire home/apt</td>\n",
       "    </tr>\n",
       "    <tr>\n",
       "      <th>2</th>\n",
       "      <td>THE VILLAGE OF HARLEM....NEW YORK !</td>\n",
       "      <td>Elisabeth</td>\n",
       "      <td>Manhattan</td>\n",
       "      <td>Harlem</td>\n",
       "      <td>Private room</td>\n",
       "    </tr>\n",
       "    <tr>\n",
       "      <th>3</th>\n",
       "      <td>Cozy Entire Floor of Brownstone</td>\n",
       "      <td>LisaRoxanne</td>\n",
       "      <td>Brooklyn</td>\n",
       "      <td>Clinton Hill</td>\n",
       "      <td>Entire home/apt</td>\n",
       "    </tr>\n",
       "    <tr>\n",
       "      <th>4</th>\n",
       "      <td>Entire Apt: Spacious Studio/Loft by central park</td>\n",
       "      <td>Laura</td>\n",
       "      <td>Manhattan</td>\n",
       "      <td>East Harlem</td>\n",
       "      <td>Entire home/apt</td>\n",
       "    </tr>\n",
       "  </tbody>\n",
       "</table>\n",
       "</div>"
      ],
      "text/plain": [
       "                                               name    host_name  \\\n",
       "0                Clean & quiet apt home by the park         John   \n",
       "1                             Skylit Midtown Castle     Jennifer   \n",
       "2               THE VILLAGE OF HARLEM....NEW YORK !    Elisabeth   \n",
       "3                   Cozy Entire Floor of Brownstone  LisaRoxanne   \n",
       "4  Entire Apt: Spacious Studio/Loft by central park        Laura   \n",
       "\n",
       "  neighbourhood_group neighbourhood        room_type  \n",
       "0            Brooklyn    Kensington     Private room  \n",
       "1           Manhattan       Midtown  Entire home/apt  \n",
       "2           Manhattan        Harlem     Private room  \n",
       "3            Brooklyn  Clinton Hill  Entire home/apt  \n",
       "4           Manhattan   East Harlem  Entire home/apt  "
      ]
     },
     "execution_count": 17,
     "metadata": {},
     "output_type": "execute_result"
    }
   ],
   "source": [
    "print('Что представляют собой признаки в строковом типе:')\n",
    "data[data.columns[data.dtypes == 'object']].head()"
   ]
  },
  {
   "cell_type": "code",
   "execution_count": 18,
   "metadata": {
    "execution": {
     "iopub.execute_input": "2020-10-24T20:19:24.875398Z",
     "iopub.status.busy": "2020-10-24T20:19:24.874700Z",
     "iopub.status.idle": "2020-10-24T20:19:24.877845Z",
     "shell.execute_reply": "2020-10-24T20:19:24.877154Z"
    },
    "papermill": {
     "duration": 0.052152,
     "end_time": "2020-10-24T20:19:24.877959",
     "exception": false,
     "start_time": "2020-10-24T20:19:24.825807",
     "status": "completed"
    },
    "tags": []
   },
   "outputs": [],
   "source": [
    "num_features = ['calculated_host_listings_count', 'minimum_nights', 'availability_365',\n",
    "                'number_of_reviews', 'reviews_per_month', 'longitude', 'latitude']\n",
    "cat_features = ['room_type', 'neighbourhood_group', 'neighbourhood', 'host_id']\n",
    "text_features = ['name']\n",
    "other_features = ['last_review']\n",
    "drop_features = ['id', 'host_name']"
   ]
  },
  {
   "cell_type": "markdown",
   "metadata": {
    "papermill": {
     "duration": 0.044014,
     "end_time": "2020-10-24T20:19:24.966108",
     "exception": false,
     "start_time": "2020-10-24T20:19:24.922094",
     "status": "completed"
    },
    "tags": []
   },
   "source": [
    "### <font color=blue>Какие выводы можно сделать о признаках и их типах уже сейчас?</font>\n",
    "#### <font color=blue>Некатегориальные:</font>\n",
    "* <font color=blue>Все числовые признаки, записанные в переменную `num_features` действительно могут рассматриваться как вещественные (целочисленные) переменные с разумным отношением порядка.</font>\n",
    "* <font color=blue>В `text_features` записан единственный признак `name`, содержащий, по-видимому описание квартир. В качестве категории его брать бессмысленно, так как все строки уникальны.</font>\n",
    "* <font color=blue>`id` — по-видимому, уникальный идентификатор, в качестве признака его брать бессмысленно.</font>\n",
    "* <font color=blue>Из `last_review` (даты) можно будет извлечь числовые признак(и).</font>\n",
    "* <font color=blue>`host_name` не информативен, за исключением совпадения владельцев квартир. Но эта информация содержится в `host_id`.</font>\n",
    "\n",
    "#### <font color=blue>Категориальные:</font>\n",
    "\n",
    "* <font color=blue>`room_type` (тип комнаты), `neighbourhood_group` (боро — административная единица Нью-Йорка), `neighbourhood` (район) — по смыслу означают соответствующие категории, а также формально их можно сравнить только на равенство, а число уникальных значений не величко — данные признаки однозначно категориальные.</font>\n",
    "* <font color=blue>Признак `host_id` (номер владельца) — тоже разбивает данные на категории (по владельцам — это полезная информация) и эти номера можно сравнивать только на равенство. Проблема может возникнуть в том, что уникальных значений у этого признака достаточно много, что делает менее эффективным работу с ним как с категориальным. Спойлер: как мы дальше покажем, скорость работы почти не замедлится, а вот качество улучшится. В следующей клетке небольшая иллюстрация того факта, что у одного и того же владельца квартиры имеют «похожие» цены, но близость `host_id` у разных владельцев не позволяет сделать выводов о цене.\n",
    "</font>"
   ]
  },
  {
   "cell_type": "code",
   "execution_count": 19,
   "metadata": {
    "execution": {
     "iopub.execute_input": "2020-10-24T20:19:25.108366Z",
     "iopub.status.busy": "2020-10-24T20:19:25.107774Z",
     "iopub.status.idle": "2020-10-24T20:19:25.117953Z",
     "shell.execute_reply": "2020-10-24T20:19:25.117331Z"
    },
    "papermill": {
     "duration": 0.05946,
     "end_time": "2020-10-24T20:19:25.118062",
     "exception": false,
     "start_time": "2020-10-24T20:19:25.058602",
     "status": "completed"
    },
    "tags": []
   },
   "outputs": [
    {
     "data": {
      "text/html": [
       "<div>\n",
       "<style scoped>\n",
       "    .dataframe tbody tr th:only-of-type {\n",
       "        vertical-align: middle;\n",
       "    }\n",
       "\n",
       "    .dataframe tbody tr th {\n",
       "        vertical-align: top;\n",
       "    }\n",
       "\n",
       "    .dataframe thead th {\n",
       "        text-align: right;\n",
       "    }\n",
       "</style>\n",
       "<table border=\"1\" class=\"dataframe\">\n",
       "  <thead>\n",
       "    <tr style=\"text-align: right;\">\n",
       "      <th></th>\n",
       "      <th>host_id</th>\n",
       "      <th>price</th>\n",
       "    </tr>\n",
       "  </thead>\n",
       "  <tbody>\n",
       "    <tr>\n",
       "      <th>557</th>\n",
       "      <td>12221</td>\n",
       "      <td>50</td>\n",
       "    </tr>\n",
       "    <tr>\n",
       "      <th>610</th>\n",
       "      <td>12221</td>\n",
       "      <td>50</td>\n",
       "    </tr>\n",
       "    <tr>\n",
       "      <th>6785</th>\n",
       "      <td>12220</td>\n",
       "      <td>90</td>\n",
       "    </tr>\n",
       "    <tr>\n",
       "      <th>42981</th>\n",
       "      <td>12220</td>\n",
       "      <td>228</td>\n",
       "    </tr>\n",
       "    <tr>\n",
       "      <th>42982</th>\n",
       "      <td>12220</td>\n",
       "      <td>236</td>\n",
       "    </tr>\n",
       "  </tbody>\n",
       "</table>\n",
       "</div>"
      ],
      "text/plain": [
       "       host_id  price\n",
       "557      12221     50\n",
       "610      12221     50\n",
       "6785     12220     90\n",
       "42981    12220    228\n",
       "42982    12220    236"
      ]
     },
     "execution_count": 19,
     "metadata": {},
     "output_type": "execute_result"
    }
   ],
   "source": [
    "data[(data.host_id == 12220) | (data.host_id == 12221)][['host_id', 'price']]"
   ]
  },
  {
   "cell_type": "code",
   "execution_count": 20,
   "metadata": {
    "execution": {
     "iopub.execute_input": "2020-10-24T20:19:25.216316Z",
     "iopub.status.busy": "2020-10-24T20:19:25.214408Z",
     "iopub.status.idle": "2020-10-24T20:19:25.996692Z",
     "shell.execute_reply": "2020-10-24T20:19:25.996159Z"
    },
    "papermill": {
     "duration": 0.83406,
     "end_time": "2020-10-24T20:19:25.996822",
     "exception": false,
     "start_time": "2020-10-24T20:19:25.162762",
     "status": "completed"
    },
    "tags": []
   },
   "outputs": [],
   "source": [
    "from sklearn.preprocessing import OrdinalEncoder\n",
    "\n",
    "# sklearn.neighbors.NearestNeighbors не допускает даже хранение строк,\n",
    "# так что придется закодировать\n",
    "enc = OrdinalEncoder(dtype=np.int)\n",
    "enc.fit(np.concatenate([X_train[cat_features], X_test[cat_features]]))\n",
    "X_train_cat = enc.transform(X_train[cat_features])\n",
    "X_test_cat = enc.transform(X_test[cat_features])\n",
    "y_train_np = y_train.to_numpy().ravel()\n",
    "y_test_np = y_test.to_numpy().ravel()"
   ]
  },
  {
   "cell_type": "markdown",
   "metadata": {
    "papermill": {
     "duration": 0.05511,
     "end_time": "2020-10-24T20:19:26.097376",
     "exception": false,
     "start_time": "2020-10-24T20:19:26.042266",
     "status": "completed"
    },
    "tags": []
   },
   "source": [
    "<font color=blue>Рассмотрим как обычный kNN, так и учитывающий зависимость от расстояний.</font>"
   ]
  },
  {
   "cell_type": "code",
   "execution_count": 21,
   "metadata": {
    "execution": {
     "iopub.execute_input": "2020-10-24T20:19:26.221472Z",
     "iopub.status.busy": "2020-10-24T20:19:26.220656Z",
     "iopub.status.idle": "2020-10-24T20:21:31.359658Z",
     "shell.execute_reply": "2020-10-24T20:21:31.360216Z"
    },
    "papermill": {
     "duration": 125.207395,
     "end_time": "2020-10-24T20:21:31.360375",
     "exception": false,
     "start_time": "2020-10-24T20:19:26.152980",
     "status": "completed"
    },
    "tags": []
   },
   "outputs": [
    {
     "name": "stdout",
     "output_type": "stream",
     "text": [
      "Results for all categorical features:\n"
     ]
    },
    {
     "data": {
      "text/html": [
       "<style  type=\"text/css\" >\n",
       "#T_80fd0d0e_1636_11eb_b540_0242ac130202row4_col0{\n",
       "            background-color:  yellow;\n",
       "        }</style><table id=\"T_80fd0d0e_1636_11eb_b540_0242ac130202\" ><thead>    <tr>        <th class=\"blank\" ></th>        <th class=\"blank level0\" ></th>        <th class=\"col_heading level0 col0\" >RMSE</th>        <th class=\"col_heading level0 col1\" >time</th>    </tr>    <tr>        <th class=\"index_name level0\" >mode</th>        <th class=\"index_name level1\" >metric</th>        <th class=\"blank\" ></th>        <th class=\"blank\" ></th>    </tr></thead><tbody>\n",
       "                <tr>\n",
       "                        <th id=\"T_80fd0d0e_1636_11eb_b540_0242ac130202level0_row0\" class=\"row_heading level0 row0\" rowspan=3>uniform</th>\n",
       "                        <th id=\"T_80fd0d0e_1636_11eb_b540_0242ac130202level1_row0\" class=\"row_heading level1 row0\" >overlap</th>\n",
       "                        <td id=\"T_80fd0d0e_1636_11eb_b540_0242ac130202row0_col0\" class=\"data row0 col0\" >213.047879</td>\n",
       "                        <td id=\"T_80fd0d0e_1636_11eb_b540_0242ac130202row0_col1\" class=\"data row0 col1\" >16.976620</td>\n",
       "            </tr>\n",
       "            <tr>\n",
       "                                <th id=\"T_80fd0d0e_1636_11eb_b540_0242ac130202level1_row1\" class=\"row_heading level1 row1\" >flattened_overlap</th>\n",
       "                        <td id=\"T_80fd0d0e_1636_11eb_b540_0242ac130202row1_col0\" class=\"data row1 col0\" >202.224648</td>\n",
       "                        <td id=\"T_80fd0d0e_1636_11eb_b540_0242ac130202row1_col1\" class=\"data row1 col1\" >22.248951</td>\n",
       "            </tr>\n",
       "            <tr>\n",
       "                                <th id=\"T_80fd0d0e_1636_11eb_b540_0242ac130202level1_row2\" class=\"row_heading level1 row2\" >log_overlap</th>\n",
       "                        <td id=\"T_80fd0d0e_1636_11eb_b540_0242ac130202row2_col0\" class=\"data row2 col0\" >248.477869</td>\n",
       "                        <td id=\"T_80fd0d0e_1636_11eb_b540_0242ac130202row2_col1\" class=\"data row2 col1\" >23.226589</td>\n",
       "            </tr>\n",
       "            <tr>\n",
       "                        <th id=\"T_80fd0d0e_1636_11eb_b540_0242ac130202level0_row3\" class=\"row_heading level0 row3\" rowspan=3>distance</th>\n",
       "                        <th id=\"T_80fd0d0e_1636_11eb_b540_0242ac130202level1_row3\" class=\"row_heading level1 row3\" >overlap</th>\n",
       "                        <td id=\"T_80fd0d0e_1636_11eb_b540_0242ac130202row3_col0\" class=\"data row3 col0\" >217.220558</td>\n",
       "                        <td id=\"T_80fd0d0e_1636_11eb_b540_0242ac130202row3_col1\" class=\"data row3 col1\" >16.945924</td>\n",
       "            </tr>\n",
       "            <tr>\n",
       "                                <th id=\"T_80fd0d0e_1636_11eb_b540_0242ac130202level1_row4\" class=\"row_heading level1 row4\" >flattened_overlap</th>\n",
       "                        <td id=\"T_80fd0d0e_1636_11eb_b540_0242ac130202row4_col0\" class=\"data row4 col0\" >200.819435</td>\n",
       "                        <td id=\"T_80fd0d0e_1636_11eb_b540_0242ac130202row4_col1\" class=\"data row4 col1\" >21.929471</td>\n",
       "            </tr>\n",
       "            <tr>\n",
       "                                <th id=\"T_80fd0d0e_1636_11eb_b540_0242ac130202level1_row5\" class=\"row_heading level1 row5\" >log_overlap</th>\n",
       "                        <td id=\"T_80fd0d0e_1636_11eb_b540_0242ac130202row5_col0\" class=\"data row5 col0\" >245.064871</td>\n",
       "                        <td id=\"T_80fd0d0e_1636_11eb_b540_0242ac130202row5_col1\" class=\"data row5 col1\" >23.556497</td>\n",
       "            </tr>\n",
       "    </tbody></table>"
      ],
      "text/plain": [
       "<pandas.io.formats.style.Styler at 0x7f7bcb149250>"
      ]
     },
     "execution_count": 21,
     "metadata": {},
     "output_type": "execute_result"
    }
   ],
   "source": [
    "from time import time\n",
    "\n",
    "def rmse(y_test, y_pred):\n",
    "    return np.linalg.norm(y_test - y_pred, axis=-1) / np.sqrt(len(y_test))\n",
    "\n",
    "modes = ['uniform', 'distance']\n",
    "metrics = ['overlap', 'flattened_overlap', 'log_overlap']\n",
    "results = pd.DataFrame(columns=['RMSE', 'time'], \n",
    "                       index=pd.MultiIndex.from_product([modes, metrics], names=['mode', 'metric']))\n",
    "print('Results for all categorical features:')\n",
    "for mode in modes:\n",
    "    for metric in metrics:\n",
    "        model = KNNRegressor(n_neighbors=10, metric=metric, mode=mode)\n",
    "        model.fit(X_train_cat, y_train_np)\n",
    "        start = time()\n",
    "        y_pred = model.predict(X_test_cat)\n",
    "        finish = time()\n",
    "        results.loc[mode, metric]['RMSE'] = rmse(y_test_np, y_pred)\n",
    "        results.loc[mode, metric]['time'] = finish - start\n",
    "\n",
    "results.style.highlight_min(subset='RMSE')"
   ]
  },
  {
   "cell_type": "markdown",
   "metadata": {
    "papermill": {
     "duration": 0.044832,
     "end_time": "2020-10-24T20:21:31.450721",
     "exception": false,
     "start_time": "2020-10-24T20:21:31.405889",
     "status": "completed"
    },
    "tags": []
   },
   "source": [
    "<font color=blue>Теперь попробуем убрать `host_id`:</font>"
   ]
  },
  {
   "cell_type": "code",
   "execution_count": 22,
   "metadata": {
    "execution": {
     "iopub.execute_input": "2020-10-24T20:21:31.556563Z",
     "iopub.status.busy": "2020-10-24T20:21:31.555427Z",
     "iopub.status.idle": "2020-10-24T20:23:28.014913Z",
     "shell.execute_reply": "2020-10-24T20:23:28.015418Z"
    },
    "papermill": {
     "duration": 116.518947,
     "end_time": "2020-10-24T20:23:28.015570",
     "exception": false,
     "start_time": "2020-10-24T20:21:31.496623",
     "status": "completed"
    },
    "tags": []
   },
   "outputs": [
    {
     "name": "stdout",
     "output_type": "stream",
     "text": [
      "Results for categorical features without host_id:\n"
     ]
    },
    {
     "data": {
      "text/html": [
       "<style  type=\"text/css\" >\n",
       "#T_c6858d6a_1636_11eb_b540_0242ac130202row1_col0{\n",
       "            background-color:  yellow;\n",
       "        }</style><table id=\"T_c6858d6a_1636_11eb_b540_0242ac130202\" ><thead>    <tr>        <th class=\"blank\" ></th>        <th class=\"blank level0\" ></th>        <th class=\"col_heading level0 col0\" >RMSE</th>        <th class=\"col_heading level0 col1\" >time</th>    </tr>    <tr>        <th class=\"index_name level0\" >mode</th>        <th class=\"index_name level1\" >metric</th>        <th class=\"blank\" ></th>        <th class=\"blank\" ></th>    </tr></thead><tbody>\n",
       "                <tr>\n",
       "                        <th id=\"T_c6858d6a_1636_11eb_b540_0242ac130202level0_row0\" class=\"row_heading level0 row0\" rowspan=3>uniform</th>\n",
       "                        <th id=\"T_c6858d6a_1636_11eb_b540_0242ac130202level1_row0\" class=\"row_heading level1 row0\" >overlap</th>\n",
       "                        <td id=\"T_c6858d6a_1636_11eb_b540_0242ac130202row0_col0\" class=\"data row0 col0\" >215.658061</td>\n",
       "                        <td id=\"T_c6858d6a_1636_11eb_b540_0242ac130202row0_col1\" class=\"data row0 col1\" >16.770939</td>\n",
       "            </tr>\n",
       "            <tr>\n",
       "                                <th id=\"T_c6858d6a_1636_11eb_b540_0242ac130202level1_row1\" class=\"row_heading level1 row1\" >flattened_overlap</th>\n",
       "                        <td id=\"T_c6858d6a_1636_11eb_b540_0242ac130202row1_col0\" class=\"data row1 col0\" >212.020825</td>\n",
       "                        <td id=\"T_c6858d6a_1636_11eb_b540_0242ac130202row1_col1\" class=\"data row1 col1\" >20.513793</td>\n",
       "            </tr>\n",
       "            <tr>\n",
       "                                <th id=\"T_c6858d6a_1636_11eb_b540_0242ac130202level1_row2\" class=\"row_heading level1 row2\" >log_overlap</th>\n",
       "                        <td id=\"T_c6858d6a_1636_11eb_b540_0242ac130202row2_col0\" class=\"data row2 col0\" >255.356332</td>\n",
       "                        <td id=\"T_c6858d6a_1636_11eb_b540_0242ac130202row2_col1\" class=\"data row2 col1\" >21.150269</td>\n",
       "            </tr>\n",
       "            <tr>\n",
       "                        <th id=\"T_c6858d6a_1636_11eb_b540_0242ac130202level0_row3\" class=\"row_heading level0 row3\" rowspan=3>distance</th>\n",
       "                        <th id=\"T_c6858d6a_1636_11eb_b540_0242ac130202level1_row3\" class=\"row_heading level1 row3\" >overlap</th>\n",
       "                        <td id=\"T_c6858d6a_1636_11eb_b540_0242ac130202row3_col0\" class=\"data row3 col0\" >215.999464</td>\n",
       "                        <td id=\"T_c6858d6a_1636_11eb_b540_0242ac130202row3_col1\" class=\"data row3 col1\" >16.643780</td>\n",
       "            </tr>\n",
       "            <tr>\n",
       "                                <th id=\"T_c6858d6a_1636_11eb_b540_0242ac130202level1_row4\" class=\"row_heading level1 row4\" >flattened_overlap</th>\n",
       "                        <td id=\"T_c6858d6a_1636_11eb_b540_0242ac130202row4_col0\" class=\"data row4 col0\" >212.077899</td>\n",
       "                        <td id=\"T_c6858d6a_1636_11eb_b540_0242ac130202row4_col1\" class=\"data row4 col1\" >20.340045</td>\n",
       "            </tr>\n",
       "            <tr>\n",
       "                                <th id=\"T_c6858d6a_1636_11eb_b540_0242ac130202level1_row5\" class=\"row_heading level1 row5\" >log_overlap</th>\n",
       "                        <td id=\"T_c6858d6a_1636_11eb_b540_0242ac130202row5_col0\" class=\"data row5 col0\" >255.582266</td>\n",
       "                        <td id=\"T_c6858d6a_1636_11eb_b540_0242ac130202row5_col1\" class=\"data row5 col1\" >20.964110</td>\n",
       "            </tr>\n",
       "    </tbody></table>"
      ],
      "text/plain": [
       "<pandas.io.formats.style.Styler at 0x7f7bd1804510>"
      ]
     },
     "execution_count": 22,
     "metadata": {},
     "output_type": "execute_result"
    }
   ],
   "source": [
    "print('Results for categorical features without host_id:')\n",
    "for mode in modes:\n",
    "    for metric in metrics:\n",
    "        model = KNNRegressor(n_neighbors=10, metric=metric, mode=mode)\n",
    "        model.fit(X_train_cat[:, :3], y_train_np)\n",
    "        start = time()\n",
    "        y_pred = model.predict(X_test_cat[:, :3])\n",
    "        finish = time()\n",
    "        results.loc[mode, metric]['RMSE'] = rmse(y_test_np, y_pred)\n",
    "        results.loc[mode, metric]['time'] = finish - start\n",
    "\n",
    "results.style.highlight_min(subset='RMSE')"
   ]
  },
  {
   "cell_type": "markdown",
   "metadata": {
    "papermill": {
     "duration": 0.061501,
     "end_time": "2020-10-24T20:23:28.124477",
     "exception": false,
     "start_time": "2020-10-24T20:23:28.062976",
     "status": "completed"
    },
    "tags": []
   },
   "source": [
    "* <font color=blue>Мы показали, с `host_id` ошибка меньше, а скорость работы меняется незначительно. </font>\n",
    "* <font color=blue>Во всех случаях минимальная ошибка получается у метрики `flattened_overlap`. Причина может быть в том, что признаки распределены неравномерно, и: \n",
    "    1. Совпадение в популярных значениях категории (например, почти половина всех квартир расположены в Манхэттене) не столь важно, поскольку встречается часто. \n",
    "    2. Информация о более редких значениях представляет большую ценность (например, менее популярные районы).</font>"
   ]
  },
  {
   "cell_type": "markdown",
   "metadata": {
    "papermill": {
     "duration": 0.050334,
     "end_time": "2020-10-24T20:23:28.231995",
     "exception": false,
     "start_time": "2020-10-24T20:23:28.181661",
     "status": "completed"
    },
    "tags": []
   },
   "source": [
    "<b>2.3 (1 балл) бонус</b> Подберите лучшее (на тестовой выборке) число соседей $k$ для каждой из функций расстояния. Какого удалось достичь уровня качества?"
   ]
  },
  {
   "cell_type": "markdown",
   "metadata": {
    "papermill": {
     "duration": 0.055446,
     "end_time": "2020-10-24T20:23:28.333718",
     "exception": false,
     "start_time": "2020-10-24T20:23:28.278272",
     "status": "completed"
    },
    "tags": []
   },
   "source": [
    "<font color=blue>Заметим (на волне домашней работы по практикуму), что в данной задаче эффективно найти матрицу с максимально интересующим нас числом $k_{max}$ ближайших соседей, а затем по ней сразу кумулятивно посчитать средние (а заодно и взвешенные). Необходимый функционал реализован в методе `predict_ultimate` нашего регрессора.</font> "
   ]
  },
  {
   "cell_type": "code",
   "execution_count": 23,
   "metadata": {
    "execution": {
     "iopub.execute_input": "2020-10-24T20:23:28.449487Z",
     "iopub.status.busy": "2020-10-24T20:23:28.448823Z",
     "iopub.status.idle": "2020-10-24T20:24:31.420856Z",
     "shell.execute_reply": "2020-10-24T20:24:31.421372Z"
    },
    "papermill": {
     "duration": 63.041282,
     "end_time": "2020-10-24T20:24:31.421523",
     "exception": false,
     "start_time": "2020-10-24T20:23:28.380241",
     "status": "completed"
    },
    "tags": []
   },
   "outputs": [
    {
     "data": {
      "image/png": "[encoded data removed]",
      "text/plain": [
       "<Figure size 1080x360 with 3 Axes>"
      ]
     },
     "metadata": {
      "needs_background": "light"
     },
     "output_type": "display_data"
    }
   ],
   "source": [
    "%matplotlib inline\n",
    "import matplotlib.pyplot as plt\n",
    "plt.style.use(['seaborn-bright'])\n",
    "\n",
    "def ultimate_rmse(y_true, Y_preds):\n",
    "    Y_preds - y_true\n",
    "\n",
    "k_max = 150\n",
    "\n",
    "plt.figure(figsize=(15, 5))\n",
    "results = pd.DataFrame(columns=['best k', 'RMSE'], \n",
    "                       index=pd.MultiIndex.from_product([modes, metrics], names=['mode', 'metric']))\n",
    "\n",
    "for i, metric in enumerate(metrics):\n",
    "    model = KNNRegressor(n_neighbors=k_max, metric=metric)\n",
    "    model.fit(X_train_cat, y_train_np)\n",
    "    plt.subplot(1, 3, i + 1)\n",
    "    plt.xlim(1, k_max)\n",
    "    plt.xticks([1] + list(range(10, k_max+1,10)), rotation=45)\n",
    "    plt.ylabel('RMSE')\n",
    "    plt.xlabel('k', fontsize=14)\n",
    "    plt.title(metric, fontsize=16)\n",
    "    for Y_pred, mode in zip(model.predict_ultimate(X_test_cat, k_max), modes):\n",
    "        rmses = rmse(y_test_np, Y_pred.T)\n",
    "        kb = rmses.argmin()\n",
    "#         print(f'{mode} {metric} {kb + 1} {rmses[kb]:.2f}')\n",
    "        plt.plot(np.arange(k_max) + 1, rmses)\n",
    "        plt.scatter(kb, rmses[kb], c='r', lw=1.5)\n",
    "        results.loc[mode, metric]['best k'] = kb + 1\n",
    "        results.loc[mode, metric]['RMSE'] = rmses[kb]\n",
    "    plt.legend(modes, fontsize=15)\n",
    "plt.tight_layout()"
   ]
  },
  {
   "cell_type": "code",
   "execution_count": 24,
   "metadata": {
    "execution": {
     "iopub.execute_input": "2020-10-24T20:24:31.530383Z",
     "iopub.status.busy": "2020-10-24T20:24:31.529613Z",
     "iopub.status.idle": "2020-10-24T20:24:31.534515Z",
     "shell.execute_reply": "2020-10-24T20:24:31.534033Z"
    },
    "papermill": {
     "duration": 0.064959,
     "end_time": "2020-10-24T20:24:31.534626",
     "exception": false,
     "start_time": "2020-10-24T20:24:31.469667",
     "status": "completed"
    },
    "tags": []
   },
   "outputs": [
    {
     "data": {
      "text/html": [
       "<style  type=\"text/css\" >\n",
       "#T_ec68aaa8_1636_11eb_b540_0242ac130202row4_col1{\n",
       "            background-color:  yellow;\n",
       "        }</style><table id=\"T_ec68aaa8_1636_11eb_b540_0242ac130202\" ><thead>    <tr>        <th class=\"blank\" ></th>        <th class=\"blank level0\" ></th>        <th class=\"col_heading level0 col0\" >best k</th>        <th class=\"col_heading level0 col1\" >RMSE</th>    </tr>    <tr>        <th class=\"index_name level0\" >mode</th>        <th class=\"index_name level1\" >metric</th>        <th class=\"blank\" ></th>        <th class=\"blank\" ></th>    </tr></thead><tbody>\n",
       "                <tr>\n",
       "                        <th id=\"T_ec68aaa8_1636_11eb_b540_0242ac130202level0_row0\" class=\"row_heading level0 row0\" rowspan=3>uniform</th>\n",
       "                        <th id=\"T_ec68aaa8_1636_11eb_b540_0242ac130202level1_row0\" class=\"row_heading level1 row0\" >overlap</th>\n",
       "                        <td id=\"T_ec68aaa8_1636_11eb_b540_0242ac130202row0_col0\" class=\"data row0 col0\" >65</td>\n",
       "                        <td id=\"T_ec68aaa8_1636_11eb_b540_0242ac130202row0_col1\" class=\"data row0 col1\" >206.148524</td>\n",
       "            </tr>\n",
       "            <tr>\n",
       "                                <th id=\"T_ec68aaa8_1636_11eb_b540_0242ac130202level1_row1\" class=\"row_heading level1 row1\" >flattened_overlap</th>\n",
       "                        <td id=\"T_ec68aaa8_1636_11eb_b540_0242ac130202row1_col0\" class=\"data row1 col0\" >6</td>\n",
       "                        <td id=\"T_ec68aaa8_1636_11eb_b540_0242ac130202row1_col1\" class=\"data row1 col1\" >198.818466</td>\n",
       "            </tr>\n",
       "            <tr>\n",
       "                                <th id=\"T_ec68aaa8_1636_11eb_b540_0242ac130202level1_row2\" class=\"row_heading level1 row2\" >log_overlap</th>\n",
       "                        <td id=\"T_ec68aaa8_1636_11eb_b540_0242ac130202row2_col0\" class=\"data row2 col0\" >39</td>\n",
       "                        <td id=\"T_ec68aaa8_1636_11eb_b540_0242ac130202row2_col1\" class=\"data row2 col1\" >205.597071</td>\n",
       "            </tr>\n",
       "            <tr>\n",
       "                        <th id=\"T_ec68aaa8_1636_11eb_b540_0242ac130202level0_row3\" class=\"row_heading level0 row3\" rowspan=3>distance</th>\n",
       "                        <th id=\"T_ec68aaa8_1636_11eb_b540_0242ac130202level1_row3\" class=\"row_heading level1 row3\" >overlap</th>\n",
       "                        <td id=\"T_ec68aaa8_1636_11eb_b540_0242ac130202row3_col0\" class=\"data row3 col0\" >66</td>\n",
       "                        <td id=\"T_ec68aaa8_1636_11eb_b540_0242ac130202row3_col1\" class=\"data row3 col1\" >209.117483</td>\n",
       "            </tr>\n",
       "            <tr>\n",
       "                                <th id=\"T_ec68aaa8_1636_11eb_b540_0242ac130202level1_row4\" class=\"row_heading level1 row4\" >flattened_overlap</th>\n",
       "                        <td id=\"T_ec68aaa8_1636_11eb_b540_0242ac130202row4_col0\" class=\"data row4 col0\" >6</td>\n",
       "                        <td id=\"T_ec68aaa8_1636_11eb_b540_0242ac130202row4_col1\" class=\"data row4 col1\" >198.519474</td>\n",
       "            </tr>\n",
       "            <tr>\n",
       "                                <th id=\"T_ec68aaa8_1636_11eb_b540_0242ac130202level1_row5\" class=\"row_heading level1 row5\" >log_overlap</th>\n",
       "                        <td id=\"T_ec68aaa8_1636_11eb_b540_0242ac130202row5_col0\" class=\"data row5 col0\" >39</td>\n",
       "                        <td id=\"T_ec68aaa8_1636_11eb_b540_0242ac130202row5_col1\" class=\"data row5 col1\" >200.975194</td>\n",
       "            </tr>\n",
       "    </tbody></table>"
      ],
      "text/plain": [
       "<pandas.io.formats.style.Styler at 0x7f7bc9d42110>"
      ]
     },
     "execution_count": 24,
     "metadata": {},
     "output_type": "execute_result"
    }
   ],
   "source": [
    "results.style.highlight_min(subset='RMSE')"
   ]
  },
  {
   "cell_type": "markdown",
   "metadata": {
    "papermill": {
     "duration": 0.048906,
     "end_time": "2020-10-24T20:24:31.632889",
     "exception": false,
     "start_time": "2020-10-24T20:24:31.583983",
     "status": "completed"
    },
    "tags": []
   },
   "source": [
    "<font color=blue>В таблице выше для разных метрик приведены наименьшее значения RMSE и оптимальное число соседей, на котором оно достигается. Проверены оба варианта $kNN$ — как взешенный, так и равномерный. Зависимость функции потерь от числа соседей проиллюстрирована на графиках.</font>"
   ]
  },
  {
   "cell_type": "markdown",
   "metadata": {
    "papermill": {
     "duration": 0.048654,
     "end_time": "2020-10-24T20:24:31.730707",
     "exception": false,
     "start_time": "2020-10-24T20:24:31.682053",
     "status": "completed"
    },
    "tags": []
   },
   "source": [
    "<b>2.4 (2.5 балла)</b> Отойдем ненадолго от задачи регрессии и перейдём к задаче классификации: будем определять, являеться ли квартира дорогой $(target = 1)$ или дешевой $(target = 0)$. Будем считать дорогими квариры, цена которых выше среднего."
   ]
  },
  {
   "cell_type": "code",
   "execution_count": 25,
   "metadata": {
    "execution": {
     "iopub.execute_input": "2020-10-24T20:24:31.835589Z",
     "iopub.status.busy": "2020-10-24T20:24:31.834658Z",
     "iopub.status.idle": "2020-10-24T20:24:31.839504Z",
     "shell.execute_reply": "2020-10-24T20:24:31.839016Z"
    },
    "papermill": {
     "duration": 0.060084,
     "end_time": "2020-10-24T20:24:31.839630",
     "exception": false,
     "start_time": "2020-10-24T20:24:31.779546",
     "status": "completed"
    },
    "tags": []
   },
   "outputs": [],
   "source": [
    "data['target'] = (data.price > data.price.mean()).astype(int)"
   ]
  },
  {
   "cell_type": "markdown",
   "metadata": {
    "papermill": {
     "duration": 0.04926,
     "end_time": "2020-10-24T20:24:31.937896",
     "exception": false,
     "start_time": "2020-10-24T20:24:31.888636",
     "status": "completed"
    },
    "tags": []
   },
   "source": [
    "Реализуйте счетчики, которые заменят категориальные признаки на вещественные.\n",
    "\n",
    "А именно, для каждого категориального признака $f_j(x)$ необходимо сделать следующее:\n",
    "1. Число `counts` объектов в обучающей выборке с таким же значением признака.\n",
    "\\begin{align}\n",
    "counts_j(c) = \\sum_{i=1}^l [f_j(x_i) = c]\n",
    "\\end{align}\n",
    "2. Число `successes` объектов первого класса ($y = 1$) в обучающей выборке с таким же значением признака.\n",
    "\\begin{align}\n",
    "successes_j(c) = \\sum_{i=1}^l[f_j(x_i) = c][y_i = +1].\n",
    "\\end{align}\n",
    "3. Сглаженное отношение двух предыдущих величин:\n",
    "\\begin{align}\n",
    "p_j(c) = \\frac{successes_j(c) + a}{counts_j(c) + b},\n",
    "\\end{align}\n",
    "\n",
    "где $a$ и $b$ - априорные счетчики (например, a = 1, b = 2)."
   ]
  },
  {
   "cell_type": "markdown",
   "metadata": {
    "papermill": {
     "duration": 0.048691,
     "end_time": "2020-10-24T20:24:32.035726",
     "exception": false,
     "start_time": "2020-10-24T20:24:31.987035",
     "status": "completed"
    },
    "tags": []
   },
   "source": [
    "* <font color=blue>В функции трансформации будем передавать не отдельную колонку, а сразу X_train и X_test, которые нужно преобразовать.</font>\n",
    "* <font color=blue>Будем использовать реализованную выше функцю map_col.</font>"
   ]
  },
  {
   "cell_type": "code",
   "execution_count": 26,
   "metadata": {
    "execution": {
     "iopub.execute_input": "2020-10-24T20:24:32.235514Z",
     "iopub.status.busy": "2020-10-24T20:24:32.137307Z",
     "iopub.status.idle": "2020-10-24T20:24:32.246462Z",
     "shell.execute_reply": "2020-10-24T20:24:32.245820Z"
    },
    "papermill": {
     "duration": 0.162015,
     "end_time": "2020-10-24T20:24:32.246574",
     "exception": false,
     "start_time": "2020-10-24T20:24:32.084559",
     "status": "completed"
    },
    "tags": []
   },
   "outputs": [],
   "source": [
    "def counts(X_train, X_test, map_train=False):\n",
    "    \"\"\"\n",
    "    Parameters:\n",
    "        X_train : ndarray of shape (n_rows_1, n_cols)\n",
    "        X_test : ndarray of shape (n_rows_2, n_cols)\n",
    "        map_train : bool\n",
    "    Returns:\n",
    "        X_train_mapped : ndarray of shape (n_rows_1, n_cols), if map_train is True\n",
    "        X_test_mapped : ndarray of shape (n_rows_2, n_cols)\n",
    "    \"\"\"\n",
    "    maps = [dict(zip(*np.unique(x, return_counts=True))) for x in X_train.T]\n",
    "    if map_train:\n",
    "        return map_cols(X_train, maps, dtype=int), map_cols(X_test, maps, dtype=int)\n",
    "    else:\n",
    "        return map_cols(X_test, maps, dtype=int)\n",
    "\n",
    "def successes(X_train, X_test, y_train, map_train=False):\n",
    "    \"\"\"\n",
    "    Parameters:\n",
    "        X_train : ndarray of shape (n_rows_1, n_cols)\n",
    "        X_test : ndarray of shape (n_rows_2, n_cols)\n",
    "        y_train : array of size n_rows_1\n",
    "        map_train : bool\n",
    "    Returns:\n",
    "        X_train_mapped : ndarray of shape (n_rows_1, n_cols), if map_train is True\n",
    "        X_test_mapped : ndarray of shape (n_rows_2, n_cols)\n",
    "    \"\"\"\n",
    "    maps = [dict(zip(*np.unique(x, return_counts=True))) for x in X_train[y_train == 1].T]\n",
    "    if map_train:\n",
    "        return map_cols(X_train, maps, dtype=int), map_cols(X_test, maps, dtype=int)\n",
    "    else:\n",
    "        return map_cols(X_test, maps, dtype=int)\n",
    "\n",
    "def smoothed_counts(X_train, X_test, y_train, a=1, b=2, map_train=False):\n",
    "    \"\"\"\n",
    "    Parameters:\n",
    "        X_train : ndarray of shape (n_rows_1, n_cols)\n",
    "        X_test : ndarray of shape (n_rows_2, n_cols)\n",
    "        y_train : array of size n_rows_1\n",
    "        a : int\n",
    "        b : int\n",
    "        map_train : bool\n",
    "    Returns:\n",
    "        X_train_mapped : ndarray of shape (n_rows_1, n_cols), if map_train is Trie\n",
    "        X_test_mapped : ndarray of shape (n_rows_2, n_cols)\n",
    "    \"\"\"\n",
    "    if map_train:\n",
    "        return tuple((s + a) / (c + b) for s, c in zip(successes(X_train, X_test, y_train, map_train=True),\n",
    "                                                       counts(X_train, X_test, map_train=True)))\n",
    "    else:\n",
    "        return ((successes(X_train, X_test, y_train) + a) \n",
    "                / (counts(X_train, X_test) + b))"
   ]
  },
  {
   "cell_type": "markdown",
   "metadata": {
    "papermill": {
     "duration": 0.048924,
     "end_time": "2020-10-24T20:24:32.344807",
     "exception": false,
     "start_time": "2020-10-24T20:24:32.295883",
     "status": "completed"
    },
    "tags": []
   },
   "source": [
    "Поскольку признаки, содержащие информацию о целевой переменной, могут привести к переобучению, может оказаться полезным сделать *фолдинг*: разбить обучающую выборку на $n$ частей, и для $i$-й части считать `counts` и `successes` по всем остальным частям. Для тестовой выборки используются счетчики, посчитанный по всей обучающей выборке. Реализуйте и такой вариант. Достаточно взять $n = 3$."
   ]
  },
  {
   "cell_type": "markdown",
   "metadata": {
    "papermill": {
     "duration": 0.048709,
     "end_time": "2020-10-24T20:24:32.442924",
     "exception": false,
     "start_time": "2020-10-24T20:24:32.394215",
     "status": "completed"
    },
    "tags": []
   },
   "source": [
    "<font color=blue>Напишем функцию-обертку `fold_wrap`, чтобы не писать реализовывать счетчики заново.</font>"
   ]
  },
  {
   "cell_type": "code",
   "execution_count": 27,
   "metadata": {
    "execution": {
     "iopub.execute_input": "2020-10-24T20:24:32.553269Z",
     "iopub.status.busy": "2020-10-24T20:24:32.552555Z",
     "iopub.status.idle": "2020-10-24T20:24:32.555810Z",
     "shell.execute_reply": "2020-10-24T20:24:32.555174Z"
    },
    "papermill": {
     "duration": 0.063874,
     "end_time": "2020-10-24T20:24:32.555923",
     "exception": false,
     "start_time": "2020-10-24T20:24:32.492049",
     "status": "completed"
    },
    "tags": []
   },
   "outputs": [],
   "source": [
    "from functools import partial\n",
    "from sklearn.model_selection import KFold\n",
    "\n",
    "def fold_transform(transformer, n_folds, X_train, X_test, *args, **kwargs):\n",
    "    \"\"\"\n",
    "    Parameters:\n",
    "        transformer : transformation function\n",
    "        n_folds : int\n",
    "        X_train : ndarray of shape (n_rows_1, n_cols)\n",
    "        X_test : ndarray of shape (n_rows_2, n_cols)\n",
    "        args, kwargs : additional arguments for transformer\n",
    "    Returns:\n",
    "        X_train_mapped : ndarray of shape (n_rows_1, n_cols)\n",
    "        X_test_mapped : ndarray of shape (n_rows_2, n_cols)\n",
    "    \"\"\"\n",
    "    if n_folds > 1:\n",
    "        kf = KFold(n_splits=n_folds)\n",
    "        Xtr_mapped_list = []\n",
    "        for train_idx, test_idx in kf.split(X_train):\n",
    "            if args:\n",
    "                Xtr_mapped_list.append(transformer(X_train[train_idx], X_train[test_idx], \n",
    "                                                   args[0][train_idx], **kwargs))\n",
    "            else:\n",
    "                Xtr_mapped_list.append(transformer(X_train[train_idx], X_train[test_idx],\n",
    "                                                   *args, **kwargs))\n",
    "        return np.concatenate(Xtr_mapped_list), transformer(X_train, X_test, *args, **kwargs)\n",
    "    elif n_folds == 1:\n",
    "        kwargs['map_train'] = True\n",
    "        return transformer(X_train, X_test, *args, **kwargs)\n",
    "    else:\n",
    "        raise ValueError\n",
    "\n",
    "# categorical transformations\n",
    "ct = {\n",
    "    'counts': counts,\n",
    "    'successes': successes,\n",
    "    'smoothed_counts': smoothed_counts,\n",
    "}\n",
    "\n",
    "def cat_transform(name, X_train, X_test, y_train=None, n_folds=1, **kwargs):\n",
    "    if name == 'counts':\n",
    "        return fold_transform(ct['counts'], n_folds, X_train, X_test, **kwargs)\n",
    "    else:\n",
    "        return fold_transform(ct[name], n_folds, X_train, X_test, y_train, **kwargs)"
   ]
  },
  {
   "cell_type": "code",
   "execution_count": 28,
   "metadata": {
    "execution": {
     "iopub.execute_input": "2020-10-24T20:24:32.663357Z",
     "iopub.status.busy": "2020-10-24T20:24:32.660476Z",
     "iopub.status.idle": "2020-10-24T20:24:32.670559Z",
     "shell.execute_reply": "2020-10-24T20:24:32.670022Z"
    },
    "papermill": {
     "duration": 0.065684,
     "end_time": "2020-10-24T20:24:32.670709",
     "exception": false,
     "start_time": "2020-10-24T20:24:32.605025",
     "status": "completed"
    },
    "tags": []
   },
   "outputs": [],
   "source": [
    "# кодирование host_id в этом и следующем задании не имеет смысла\n",
    "# используем категориальные признаки с не столь большим разбросом уникальных значений\n",
    "cat_features = ['room_type', 'neighbourhood_group', 'neighbourhood']\n",
    "X_train_cat = X_train[cat_features].to_numpy()\n",
    "X_test_cat = X_test[cat_features].to_numpy()\n",
    "y_train_class = data.target.loc[y_train.index].to_numpy()\n",
    "y_test_class = data.target.loc[y_test.index].to_numpy()"
   ]
  },
  {
   "cell_type": "markdown",
   "metadata": {
    "papermill": {
     "duration": 0.059073,
     "end_time": "2020-10-24T20:24:32.788329",
     "exception": false,
     "start_time": "2020-10-24T20:24:32.729256",
     "status": "completed"
    },
    "tags": []
   },
   "source": [
    "Посчитайте на тесте AUC-ROC метода $k$ ближайших соседей с евклидовой метрикой для выборки, где категориальные признаки заменены на счетчики. Сравните по AUC-ROC два варианта формирования выборки — с фолдингом и без. Не забудьте подобрать наилучшее число соседей $k$."
   ]
  },
  {
   "cell_type": "code",
   "execution_count": 29,
   "metadata": {
    "execution": {
     "iopub.execute_input": "2020-10-24T20:24:32.926534Z",
     "iopub.status.busy": "2020-10-24T20:24:32.922829Z",
     "iopub.status.idle": "2020-10-24T20:38:25.954533Z",
     "shell.execute_reply": "2020-10-24T20:38:25.953937Z"
    },
    "papermill": {
     "duration": 833.106544,
     "end_time": "2020-10-24T20:38:25.954660",
     "exception": false,
     "start_time": "2020-10-24T20:24:32.848116",
     "status": "completed"
    },
    "tags": []
   },
   "outputs": [
    {
     "name": "stdout",
     "output_type": "stream",
     "text": [
      "-\n",
      "+\n",
      "-\n",
      "+\n",
      "-\n",
      "+\n",
      "-\n",
      "+\n"
     ]
    }
   ],
   "source": [
    "from sklearn.metrics import roc_auc_score as auc\n",
    "from sklearn.neighbors import KNeighborsClassifier\n",
    "\n",
    "train_cat = [X_train_cat, X_test_cat, y_train_class]\n",
    "\n",
    "foldings = ['-', '+']\n",
    "idx = pd.MultiIndex.from_product([list(ct.keys()) + ['all'], foldings],\n",
    "                                 names=['transform', 'folding'])\n",
    "ks = np.arange(1, 101)\n",
    "df = pd.DataFrame(index=ks, columns=idx, dtype=float)\n",
    "\n",
    "Xtr_all = {'-': [], '+': []}\n",
    "Xts_all = {'-': [], '+': []}\n",
    "\n",
    "for name in ct:\n",
    "    for n_folds, folding in zip([1, 3], foldings):\n",
    "#         print(name, folding)\n",
    "        Xtr, Xts = cat_transform(name, *train_cat, n_folds=n_folds)\n",
    "        for k in ks:\n",
    "            model = KNeighborsClassifier(n_neighbors=k, n_jobs=-1)\n",
    "            model.fit(Xtr, y_train_class)\n",
    "            y_pred_class = model.predict(Xts)\n",
    "            df.loc[k, (name, folding)] = auc(y_test_class, y_pred_class)\n",
    "        print(folding)\n",
    "        Xtr_all[folding].append(Xtr)\n",
    "        Xts_all[folding].append(Xts)\n",
    "        \n",
    "for folding in foldings:\n",
    "    print(folding)\n",
    "    for k in ks:\n",
    "        Xtr = np.concatenate(Xtr_all[folding], axis=1)\n",
    "        Xts = np.concatenate(Xts_all[folding], axis=1)\n",
    "        model = KNeighborsClassifier(n_neighbors=k, n_jobs=-1)\n",
    "        model.fit(Xtr, y_train_class)\n",
    "        y_pred_class = model.predict(Xts)\n",
    "        df.loc[k, ('all', folding)] = auc(y_test_class, y_pred_class)\n",
    "\n",
    "# фух, вычислили!"
   ]
  },
  {
   "cell_type": "markdown",
   "metadata": {
    "papermill": {
     "duration": 0.050917,
     "end_time": "2020-10-24T20:38:26.057129",
     "exception": false,
     "start_time": "2020-10-24T20:38:26.006212",
     "status": "completed"
    },
    "tags": []
   },
   "source": [
    "<font color=blue>Ниже приведены измерений для минимальных и максимальных $k$, с точностью до трех знаков после запятой. `counts`, `successes`, `smoothed_counts` соответствуют типам счетчиков, которым заменяются категориальные призныки. В `all` использованы сразу все преобразования. `-` и `+` в `folding`'е соответствуют преобразованиям на всем трейне (`-`) и с разбиениями по условию, т.е. с фолдингом (`+`):</font>"
   ]
  },
  {
   "cell_type": "code",
   "execution_count": 30,
   "metadata": {
    "execution": {
     "iopub.execute_input": "2020-10-24T20:38:26.174068Z",
     "iopub.status.busy": "2020-10-24T20:38:26.173166Z",
     "iopub.status.idle": "2020-10-24T20:38:26.178025Z",
     "shell.execute_reply": "2020-10-24T20:38:26.177492Z"
    },
    "papermill": {
     "duration": 0.070168,
     "end_time": "2020-10-24T20:38:26.178142",
     "exception": false,
     "start_time": "2020-10-24T20:38:26.107974",
     "status": "completed"
    },
    "tags": []
   },
   "outputs": [
    {
     "data": {
      "text/html": [
       "<style  type=\"text/css\" >\n",
       "</style><table id=\"T_dde45390_1638_11eb_b540_0242ac130202\" ><thead>    <tr>        <th class=\"index_name level0\" >transform</th>        <th class=\"col_heading level0 col0\" colspan=2>counts</th>        <th class=\"col_heading level0 col2\" colspan=2>successes</th>        <th class=\"col_heading level0 col4\" colspan=2>smoothed_counts</th>        <th class=\"col_heading level0 col6\" colspan=2>all</th>    </tr>    <tr>        <th class=\"index_name level1\" >folding</th>        <th class=\"col_heading level1 col0\" >-</th>        <th class=\"col_heading level1 col1\" >+</th>        <th class=\"col_heading level1 col2\" >-</th>        <th class=\"col_heading level1 col3\" >+</th>        <th class=\"col_heading level1 col4\" >-</th>        <th class=\"col_heading level1 col5\" >+</th>        <th class=\"col_heading level1 col6\" >-</th>        <th class=\"col_heading level1 col7\" >+</th>    </tr></thead><tbody>\n",
       "                <tr>\n",
       "                        <th id=\"T_dde45390_1638_11eb_b540_0242ac130202level0_row0\" class=\"row_heading level0 row0\" >1</th>\n",
       "                        <td id=\"T_dde45390_1638_11eb_b540_0242ac130202row0_col0\" class=\"data row0 col0\" >0.677</td>\n",
       "                        <td id=\"T_dde45390_1638_11eb_b540_0242ac130202row0_col1\" class=\"data row0 col1\" >0.545</td>\n",
       "                        <td id=\"T_dde45390_1638_11eb_b540_0242ac130202row0_col2\" class=\"data row0 col2\" >0.661</td>\n",
       "                        <td id=\"T_dde45390_1638_11eb_b540_0242ac130202row0_col3\" class=\"data row0 col3\" >0.604</td>\n",
       "                        <td id=\"T_dde45390_1638_11eb_b540_0242ac130202row0_col4\" class=\"data row0 col4\" >0.704</td>\n",
       "                        <td id=\"T_dde45390_1638_11eb_b540_0242ac130202row0_col5\" class=\"data row0 col5\" >0.702</td>\n",
       "                        <td id=\"T_dde45390_1638_11eb_b540_0242ac130202row0_col6\" class=\"data row0 col6\" >0.683</td>\n",
       "                        <td id=\"T_dde45390_1638_11eb_b540_0242ac130202row0_col7\" class=\"data row0 col7\" >0.701</td>\n",
       "            </tr>\n",
       "            <tr>\n",
       "                        <th id=\"T_dde45390_1638_11eb_b540_0242ac130202level0_row1\" class=\"row_heading level0 row1\" >2</th>\n",
       "                        <td id=\"T_dde45390_1638_11eb_b540_0242ac130202row1_col0\" class=\"data row1 col0\" >0.648</td>\n",
       "                        <td id=\"T_dde45390_1638_11eb_b540_0242ac130202row1_col1\" class=\"data row1 col1\" >0.530</td>\n",
       "                        <td id=\"T_dde45390_1638_11eb_b540_0242ac130202row1_col2\" class=\"data row1 col2\" >0.685</td>\n",
       "                        <td id=\"T_dde45390_1638_11eb_b540_0242ac130202row1_col3\" class=\"data row1 col3\" >0.598</td>\n",
       "                        <td id=\"T_dde45390_1638_11eb_b540_0242ac130202row1_col4\" class=\"data row1 col4\" >0.628</td>\n",
       "                        <td id=\"T_dde45390_1638_11eb_b540_0242ac130202row1_col5\" class=\"data row1 col5\" >0.652</td>\n",
       "                        <td id=\"T_dde45390_1638_11eb_b540_0242ac130202row1_col6\" class=\"data row1 col6\" >0.643</td>\n",
       "                        <td id=\"T_dde45390_1638_11eb_b540_0242ac130202row1_col7\" class=\"data row1 col7\" >0.644</td>\n",
       "            </tr>\n",
       "            <tr>\n",
       "                        <th id=\"T_dde45390_1638_11eb_b540_0242ac130202level0_row2\" class=\"row_heading level0 row2\" >3</th>\n",
       "                        <td id=\"T_dde45390_1638_11eb_b540_0242ac130202row2_col0\" class=\"data row2 col0\" >0.713</td>\n",
       "                        <td id=\"T_dde45390_1638_11eb_b540_0242ac130202row2_col1\" class=\"data row2 col1\" >0.550</td>\n",
       "                        <td id=\"T_dde45390_1638_11eb_b540_0242ac130202row2_col2\" class=\"data row2 col2\" >0.761</td>\n",
       "                        <td id=\"T_dde45390_1638_11eb_b540_0242ac130202row2_col3\" class=\"data row2 col3\" >0.601</td>\n",
       "                        <td id=\"T_dde45390_1638_11eb_b540_0242ac130202row2_col4\" class=\"data row2 col4\" >0.741</td>\n",
       "                        <td id=\"T_dde45390_1638_11eb_b540_0242ac130202row2_col5\" class=\"data row2 col5\" >0.731</td>\n",
       "                        <td id=\"T_dde45390_1638_11eb_b540_0242ac130202row2_col6\" class=\"data row2 col6\" >0.717</td>\n",
       "                        <td id=\"T_dde45390_1638_11eb_b540_0242ac130202row2_col7\" class=\"data row2 col7\" >0.710</td>\n",
       "            </tr>\n",
       "            <tr>\n",
       "                        <th id=\"T_dde45390_1638_11eb_b540_0242ac130202level0_row3\" class=\"row_heading level0 row3\" >4</th>\n",
       "                        <td id=\"T_dde45390_1638_11eb_b540_0242ac130202row3_col0\" class=\"data row3 col0\" >0.705</td>\n",
       "                        <td id=\"T_dde45390_1638_11eb_b540_0242ac130202row3_col1\" class=\"data row3 col1\" >0.541</td>\n",
       "                        <td id=\"T_dde45390_1638_11eb_b540_0242ac130202row3_col2\" class=\"data row3 col2\" >0.733</td>\n",
       "                        <td id=\"T_dde45390_1638_11eb_b540_0242ac130202row3_col3\" class=\"data row3 col3\" >0.598</td>\n",
       "                        <td id=\"T_dde45390_1638_11eb_b540_0242ac130202row3_col4\" class=\"data row3 col4\" >0.728</td>\n",
       "                        <td id=\"T_dde45390_1638_11eb_b540_0242ac130202row3_col5\" class=\"data row3 col5\" >0.711</td>\n",
       "                        <td id=\"T_dde45390_1638_11eb_b540_0242ac130202row3_col6\" class=\"data row3 col6\" >0.657</td>\n",
       "                        <td id=\"T_dde45390_1638_11eb_b540_0242ac130202row3_col7\" class=\"data row3 col7\" >0.710</td>\n",
       "            </tr>\n",
       "            <tr>\n",
       "                        <th id=\"T_dde45390_1638_11eb_b540_0242ac130202level0_row4\" class=\"row_heading level0 row4\" >5</th>\n",
       "                        <td id=\"T_dde45390_1638_11eb_b540_0242ac130202row4_col0\" class=\"data row4 col0\" >0.720</td>\n",
       "                        <td id=\"T_dde45390_1638_11eb_b540_0242ac130202row4_col1\" class=\"data row4 col1\" >0.573</td>\n",
       "                        <td id=\"T_dde45390_1638_11eb_b540_0242ac130202row4_col2\" class=\"data row4 col2\" >0.739</td>\n",
       "                        <td id=\"T_dde45390_1638_11eb_b540_0242ac130202row4_col3\" class=\"data row4 col3\" >0.740</td>\n",
       "                        <td id=\"T_dde45390_1638_11eb_b540_0242ac130202row4_col4\" class=\"data row4 col4\" >0.763</td>\n",
       "                        <td id=\"T_dde45390_1638_11eb_b540_0242ac130202row4_col5\" class=\"data row4 col5\" >0.762</td>\n",
       "                        <td id=\"T_dde45390_1638_11eb_b540_0242ac130202row4_col6\" class=\"data row4 col6\" >0.731</td>\n",
       "                        <td id=\"T_dde45390_1638_11eb_b540_0242ac130202row4_col7\" class=\"data row4 col7\" >0.763</td>\n",
       "            </tr>\n",
       "            <tr>\n",
       "                        <th id=\"T_dde45390_1638_11eb_b540_0242ac130202level0_row5\" class=\"row_heading level0 row5\" >96</th>\n",
       "                        <td id=\"T_dde45390_1638_11eb_b540_0242ac130202row5_col0\" class=\"data row5 col0\" >0.767</td>\n",
       "                        <td id=\"T_dde45390_1638_11eb_b540_0242ac130202row5_col1\" class=\"data row5 col1\" >0.537</td>\n",
       "                        <td id=\"T_dde45390_1638_11eb_b540_0242ac130202row5_col2\" class=\"data row5 col2\" >0.750</td>\n",
       "                        <td id=\"T_dde45390_1638_11eb_b540_0242ac130202row5_col3\" class=\"data row5 col3\" >0.730</td>\n",
       "                        <td id=\"T_dde45390_1638_11eb_b540_0242ac130202row5_col4\" class=\"data row5 col4\" >0.759</td>\n",
       "                        <td id=\"T_dde45390_1638_11eb_b540_0242ac130202row5_col5\" class=\"data row5 col5\" >0.775</td>\n",
       "                        <td id=\"T_dde45390_1638_11eb_b540_0242ac130202row5_col6\" class=\"data row5 col6\" >0.771</td>\n",
       "                        <td id=\"T_dde45390_1638_11eb_b540_0242ac130202row5_col7\" class=\"data row5 col7\" >0.734</td>\n",
       "            </tr>\n",
       "            <tr>\n",
       "                        <th id=\"T_dde45390_1638_11eb_b540_0242ac130202level0_row6\" class=\"row_heading level0 row6\" >97</th>\n",
       "                        <td id=\"T_dde45390_1638_11eb_b540_0242ac130202row6_col0\" class=\"data row6 col0\" >0.767</td>\n",
       "                        <td id=\"T_dde45390_1638_11eb_b540_0242ac130202row6_col1\" class=\"data row6 col1\" >0.537</td>\n",
       "                        <td id=\"T_dde45390_1638_11eb_b540_0242ac130202row6_col2\" class=\"data row6 col2\" >0.753</td>\n",
       "                        <td id=\"T_dde45390_1638_11eb_b540_0242ac130202row6_col3\" class=\"data row6 col3\" >0.730</td>\n",
       "                        <td id=\"T_dde45390_1638_11eb_b540_0242ac130202row6_col4\" class=\"data row6 col4\" >0.767</td>\n",
       "                        <td id=\"T_dde45390_1638_11eb_b540_0242ac130202row6_col5\" class=\"data row6 col5\" >0.776</td>\n",
       "                        <td id=\"T_dde45390_1638_11eb_b540_0242ac130202row6_col6\" class=\"data row6 col6\" >0.771</td>\n",
       "                        <td id=\"T_dde45390_1638_11eb_b540_0242ac130202row6_col7\" class=\"data row6 col7\" >0.734</td>\n",
       "            </tr>\n",
       "            <tr>\n",
       "                        <th id=\"T_dde45390_1638_11eb_b540_0242ac130202level0_row7\" class=\"row_heading level0 row7\" >98</th>\n",
       "                        <td id=\"T_dde45390_1638_11eb_b540_0242ac130202row7_col0\" class=\"data row7 col0\" >0.759</td>\n",
       "                        <td id=\"T_dde45390_1638_11eb_b540_0242ac130202row7_col1\" class=\"data row7 col1\" >0.537</td>\n",
       "                        <td id=\"T_dde45390_1638_11eb_b540_0242ac130202row7_col2\" class=\"data row7 col2\" >0.753</td>\n",
       "                        <td id=\"T_dde45390_1638_11eb_b540_0242ac130202row7_col3\" class=\"data row7 col3\" >0.730</td>\n",
       "                        <td id=\"T_dde45390_1638_11eb_b540_0242ac130202row7_col4\" class=\"data row7 col4\" >0.761</td>\n",
       "                        <td id=\"T_dde45390_1638_11eb_b540_0242ac130202row7_col5\" class=\"data row7 col5\" >0.775</td>\n",
       "                        <td id=\"T_dde45390_1638_11eb_b540_0242ac130202row7_col6\" class=\"data row7 col6\" >0.771</td>\n",
       "                        <td id=\"T_dde45390_1638_11eb_b540_0242ac130202row7_col7\" class=\"data row7 col7\" >0.734</td>\n",
       "            </tr>\n",
       "            <tr>\n",
       "                        <th id=\"T_dde45390_1638_11eb_b540_0242ac130202level0_row8\" class=\"row_heading level0 row8\" >99</th>\n",
       "                        <td id=\"T_dde45390_1638_11eb_b540_0242ac130202row8_col0\" class=\"data row8 col0\" >0.765</td>\n",
       "                        <td id=\"T_dde45390_1638_11eb_b540_0242ac130202row8_col1\" class=\"data row8 col1\" >0.537</td>\n",
       "                        <td id=\"T_dde45390_1638_11eb_b540_0242ac130202row8_col2\" class=\"data row8 col2\" >0.755</td>\n",
       "                        <td id=\"T_dde45390_1638_11eb_b540_0242ac130202row8_col3\" class=\"data row8 col3\" >0.731</td>\n",
       "                        <td id=\"T_dde45390_1638_11eb_b540_0242ac130202row8_col4\" class=\"data row8 col4\" >0.764</td>\n",
       "                        <td id=\"T_dde45390_1638_11eb_b540_0242ac130202row8_col5\" class=\"data row8 col5\" >0.776</td>\n",
       "                        <td id=\"T_dde45390_1638_11eb_b540_0242ac130202row8_col6\" class=\"data row8 col6\" >0.771</td>\n",
       "                        <td id=\"T_dde45390_1638_11eb_b540_0242ac130202row8_col7\" class=\"data row8 col7\" >0.734</td>\n",
       "            </tr>\n",
       "            <tr>\n",
       "                        <th id=\"T_dde45390_1638_11eb_b540_0242ac130202level0_row9\" class=\"row_heading level0 row9\" >100</th>\n",
       "                        <td id=\"T_dde45390_1638_11eb_b540_0242ac130202row9_col0\" class=\"data row9 col0\" >0.765</td>\n",
       "                        <td id=\"T_dde45390_1638_11eb_b540_0242ac130202row9_col1\" class=\"data row9 col1\" >0.537</td>\n",
       "                        <td id=\"T_dde45390_1638_11eb_b540_0242ac130202row9_col2\" class=\"data row9 col2\" >0.746</td>\n",
       "                        <td id=\"T_dde45390_1638_11eb_b540_0242ac130202row9_col3\" class=\"data row9 col3\" >0.731</td>\n",
       "                        <td id=\"T_dde45390_1638_11eb_b540_0242ac130202row9_col4\" class=\"data row9 col4\" >0.759</td>\n",
       "                        <td id=\"T_dde45390_1638_11eb_b540_0242ac130202row9_col5\" class=\"data row9 col5\" >0.771</td>\n",
       "                        <td id=\"T_dde45390_1638_11eb_b540_0242ac130202row9_col6\" class=\"data row9 col6\" >0.769</td>\n",
       "                        <td id=\"T_dde45390_1638_11eb_b540_0242ac130202row9_col7\" class=\"data row9 col7\" >0.734</td>\n",
       "            </tr>\n",
       "    </tbody></table>"
      ],
      "text/plain": [
       "<pandas.io.formats.style.Styler at 0x7f7bc9104c50>"
      ]
     },
     "execution_count": 30,
     "metadata": {},
     "output_type": "execute_result"
    }
   ],
   "source": [
    "df.iloc[np.r_[0:5, -5:0]].style.format('{:.3f}')"
   ]
  },
  {
   "cell_type": "markdown",
   "metadata": {
    "papermill": {
     "duration": 0.05142,
     "end_time": "2020-10-24T20:38:26.281253",
     "exception": false,
     "start_time": "2020-10-24T20:38:26.229833",
     "status": "completed"
    },
    "tags": []
   },
   "source": [
    "<font color=blue>Как видим, результаты получились разными в зависимости от преобразования. Тажке нельзя утверждать, что фолдинг срабатывает лучше или хуже сразу для всех счетчиков — на этот фактор влияет и число соседей. Для обычных счетчиков и «успехов» чаще выигрывает вариант без фолдинга, для сглаженных — в особенности при больших $k$ — с фолдингом качество выше. При объединении всех преобразований результат снова зависит от $k$.</font>\n",
    "\n",
    "<font color=blue>Ниже приведены наилучшие результаты для всех вариантов: фолдинг положительно влияет при использовании сразу всех трансформаций, тем не менее науилучшим вариантом в данной задаче оказалось преобразование `successes`, проведенное без фолдинга.</font>"
   ]
  },
  {
   "cell_type": "code",
   "execution_count": 31,
   "metadata": {
    "execution": {
     "iopub.execute_input": "2020-10-24T20:38:26.400761Z",
     "iopub.status.busy": "2020-10-24T20:38:26.399906Z",
     "iopub.status.idle": "2020-10-24T20:38:26.404439Z",
     "shell.execute_reply": "2020-10-24T20:38:26.403790Z"
    },
    "papermill": {
     "duration": 0.071317,
     "end_time": "2020-10-24T20:38:26.404548",
     "exception": false,
     "start_time": "2020-10-24T20:38:26.333231",
     "status": "completed"
    },
    "tags": []
   },
   "outputs": [
    {
     "data": {
      "text/html": [
       "<style  type=\"text/css\" >\n",
       "#T_de07bd9e_1638_11eb_b540_0242ac130202row4_col1{\n",
       "            background-color:  yellow;\n",
       "        }</style><table id=\"T_de07bd9e_1638_11eb_b540_0242ac130202\" ><thead>    <tr>        <th class=\"blank\" ></th>        <th class=\"blank level0\" ></th>        <th class=\"col_heading level0 col0\" >best k</th>        <th class=\"col_heading level0 col1\" >ROC AUC</th>    </tr>    <tr>        <th class=\"index_name level0\" >transform</th>        <th class=\"index_name level1\" >folding</th>        <th class=\"blank\" ></th>        <th class=\"blank\" ></th>    </tr></thead><tbody>\n",
       "                <tr>\n",
       "                        <th id=\"T_de07bd9e_1638_11eb_b540_0242ac130202level0_row0\" class=\"row_heading level0 row0\" rowspan=2>counts</th>\n",
       "                        <th id=\"T_de07bd9e_1638_11eb_b540_0242ac130202level1_row0\" class=\"row_heading level1 row0\" >-</th>\n",
       "                        <td id=\"T_de07bd9e_1638_11eb_b540_0242ac130202row0_col0\" class=\"data row0 col0\" >79</td>\n",
       "                        <td id=\"T_de07bd9e_1638_11eb_b540_0242ac130202row0_col1\" class=\"data row0 col1\" >0.771131</td>\n",
       "            </tr>\n",
       "            <tr>\n",
       "                                <th id=\"T_de07bd9e_1638_11eb_b540_0242ac130202level1_row1\" class=\"row_heading level1 row1\" >+</th>\n",
       "                        <td id=\"T_de07bd9e_1638_11eb_b540_0242ac130202row1_col0\" class=\"data row1 col0\" >5</td>\n",
       "                        <td id=\"T_de07bd9e_1638_11eb_b540_0242ac130202row1_col1\" class=\"data row1 col1\" >0.573469</td>\n",
       "            </tr>\n",
       "            <tr>\n",
       "                        <th id=\"T_de07bd9e_1638_11eb_b540_0242ac130202level0_row2\" class=\"row_heading level0 row2\" rowspan=2>successes</th>\n",
       "                        <th id=\"T_de07bd9e_1638_11eb_b540_0242ac130202level1_row2\" class=\"row_heading level1 row2\" >-</th>\n",
       "                        <td id=\"T_de07bd9e_1638_11eb_b540_0242ac130202row2_col0\" class=\"data row2 col0\" >85</td>\n",
       "                        <td id=\"T_de07bd9e_1638_11eb_b540_0242ac130202row2_col1\" class=\"data row2 col1\" >0.761012</td>\n",
       "            </tr>\n",
       "            <tr>\n",
       "                                <th id=\"T_de07bd9e_1638_11eb_b540_0242ac130202level1_row3\" class=\"row_heading level1 row3\" >+</th>\n",
       "                        <td id=\"T_de07bd9e_1638_11eb_b540_0242ac130202row3_col0\" class=\"data row3 col0\" >5</td>\n",
       "                        <td id=\"T_de07bd9e_1638_11eb_b540_0242ac130202row3_col1\" class=\"data row3 col1\" >0.739834</td>\n",
       "            </tr>\n",
       "            <tr>\n",
       "                        <th id=\"T_de07bd9e_1638_11eb_b540_0242ac130202level0_row4\" class=\"row_heading level0 row4\" rowspan=2>smoothed_counts</th>\n",
       "                        <th id=\"T_de07bd9e_1638_11eb_b540_0242ac130202level1_row4\" class=\"row_heading level1 row4\" >-</th>\n",
       "                        <td id=\"T_de07bd9e_1638_11eb_b540_0242ac130202row4_col0\" class=\"data row4 col0\" >33</td>\n",
       "                        <td id=\"T_de07bd9e_1638_11eb_b540_0242ac130202row4_col1\" class=\"data row4 col1\" >0.780307</td>\n",
       "            </tr>\n",
       "            <tr>\n",
       "                                <th id=\"T_de07bd9e_1638_11eb_b540_0242ac130202level1_row5\" class=\"row_heading level1 row5\" >+</th>\n",
       "                        <td id=\"T_de07bd9e_1638_11eb_b540_0242ac130202row5_col0\" class=\"data row5 col0\" >97</td>\n",
       "                        <td id=\"T_de07bd9e_1638_11eb_b540_0242ac130202row5_col1\" class=\"data row5 col1\" >0.776438</td>\n",
       "            </tr>\n",
       "            <tr>\n",
       "                        <th id=\"T_de07bd9e_1638_11eb_b540_0242ac130202level0_row6\" class=\"row_heading level0 row6\" rowspan=2>all</th>\n",
       "                        <th id=\"T_de07bd9e_1638_11eb_b540_0242ac130202level1_row6\" class=\"row_heading level1 row6\" >-</th>\n",
       "                        <td id=\"T_de07bd9e_1638_11eb_b540_0242ac130202row6_col0\" class=\"data row6 col0\" >77</td>\n",
       "                        <td id=\"T_de07bd9e_1638_11eb_b540_0242ac130202row6_col1\" class=\"data row6 col1\" >0.774810</td>\n",
       "            </tr>\n",
       "            <tr>\n",
       "                                <th id=\"T_de07bd9e_1638_11eb_b540_0242ac130202level1_row7\" class=\"row_heading level1 row7\" >+</th>\n",
       "                        <td id=\"T_de07bd9e_1638_11eb_b540_0242ac130202row7_col0\" class=\"data row7 col0\" >7</td>\n",
       "                        <td id=\"T_de07bd9e_1638_11eb_b540_0242ac130202row7_col1\" class=\"data row7 col1\" >0.779547</td>\n",
       "            </tr>\n",
       "    </tbody></table>"
      ],
      "text/plain": [
       "<pandas.io.formats.style.Styler at 0x7f7bcb099f10>"
      ]
     },
     "execution_count": 31,
     "metadata": {},
     "output_type": "execute_result"
    }
   ],
   "source": [
    "pd.concat([df.idxmax().rename('best k'), df.max().rename('ROC AUC')], axis=1).style.highlight_max(subset=['ROC AUC'])"
   ]
  },
  {
   "cell_type": "markdown",
   "metadata": {
    "papermill": {
     "duration": 0.051998,
     "end_time": "2020-10-24T20:38:26.509644",
     "exception": false,
     "start_time": "2020-10-24T20:38:26.457646",
     "status": "completed"
    },
    "tags": []
   },
   "source": [
    "<b>2.5 (1 балл)</b> Вернемся к задаче регрессии. Утверждается, что для задачи регрессии можно также сделать преобразование категориальных признаков в действительные числа. Для этого достаточно для каждого значения признака $f_j$ вычислить:\n",
    "\\begin{align}\n",
    "p_j(c) = g(T_i | f_j(x_i) = c),\n",
    "\\end{align}\n",
    "\n",
    "где $T_i$ - значения целевой переменной объекта $x_i$. Функция $g$ - среднее (mean) или среднеквадратичное отклонение (std).\n",
    "\n",
    "Закодируйте категориальные признаки обоими способами и найдите значение RMSE. Используйте евклидову метрику для поиска ближайших соседей. Для какой функции $g$ значение RMSE лучше? Почему?"
   ]
  },
  {
   "cell_type": "markdown",
   "metadata": {
    "papermill": {
     "duration": 0.052494,
     "end_time": "2020-10-24T20:38:26.720419",
     "exception": false,
     "start_time": "2020-10-24T20:38:26.667925",
     "status": "completed"
    },
    "tags": []
   },
   "source": [
    "<font color=blue>А в этой задаче для разнообразия проведем преобразование с помощью инструментов Pandas. В случае отсутствия категории (например, такие случаи есть в `neighbourhood`) из тестовой выборки в трейне возьмем среднее и стандартное отклонение по всем ценам трейна.</font>"
   ]
  },
  {
   "cell_type": "code",
   "execution_count": 32,
   "metadata": {
    "execution": {
     "iopub.execute_input": "2020-10-24T20:38:26.843744Z",
     "iopub.status.busy": "2020-10-24T20:38:26.842966Z",
     "iopub.status.idle": "2020-10-24T20:38:51.356476Z",
     "shell.execute_reply": "2020-10-24T20:38:51.357006Z"
    },
    "papermill": {
     "duration": 24.583424,
     "end_time": "2020-10-24T20:38:51.357151",
     "exception": false,
     "start_time": "2020-10-24T20:38:26.773727",
     "status": "completed"
    },
    "tags": []
   },
   "outputs": [
    {
     "data": {
      "image/png": "[encoded data removed]",
      "text/plain": [
       "<Figure size 864x360 with 2 Axes>"
      ]
     },
     "metadata": {
      "needs_background": "light"
     },
     "output_type": "display_data"
    }
   ],
   "source": [
    "maps_mean = {feature: y_train.groupby(X_train[feature]).mean().to_dict()['price']\n",
    "             for feature in cat_features}\n",
    "maps_std = {feature: y_train.groupby(X_train[feature]).std().to_dict()['price']\n",
    "            for feature in cat_features}\n",
    "num_transforms = ['mean', 'std']\n",
    "\n",
    "results = pd.DataFrame(columns=['best k', 'RMSE'], \n",
    "                       index=pd.MultiIndex.from_product([modes, num_transforms], names=['mode', 'transformation']))\n",
    "k_max = 250\n",
    "plt.figure(figsize=(12, 5))\n",
    "\n",
    "for i, (name, d) in enumerate(zip(num_transforms, [maps_mean, maps_std])):\n",
    "    val = getattr(y_train.price, name)()\n",
    "    X_train_tonum = pd.concat([X_train[feature].map(d[feature])\n",
    "                               for feature in d], axis=1).fillna(val)\n",
    "    X_test_tonum = pd.concat([X_test[feature].map(d[feature]) \n",
    "                              for feature in d], axis=1).fillna(val)\n",
    "    model = KNNRegressor(n_neighbors=k_max)\n",
    "    model.fit(X_train_tonum.to_numpy(), y_train_np)\n",
    "    plt.subplot(1, 2, i + 1)\n",
    "    plt.xlim(1, k_max)\n",
    "    plt.xticks(list(range(10, k_max+1,40)), rotation=45)\n",
    "    plt.ylabel('RMSE')\n",
    "    plt.xlabel('k', fontsize=14)\n",
    "    plt.title(name, fontsize=16)\n",
    "    for Y_pred, mode in zip(model.predict_ultimate(X_test_tonum.to_numpy(), k_max), modes):\n",
    "        rmses = rmse(y_test_np, Y_pred.T)\n",
    "        kb = rmses.argmin()\n",
    "        plt.plot(np.arange(k_max) + 1, rmses)\n",
    "        plt.scatter(kb, rmses[kb], c='r', lw=1.5)\n",
    "        results.loc[mode, name]['best k'] = kb + 1\n",
    "        results.loc[mode, name]['RMSE'] = rmses[kb]\n",
    "    plt.legend(modes, fontsize=15)\n",
    "plt.tight_layout()"
   ]
  },
  {
   "cell_type": "code",
   "execution_count": 33,
   "metadata": {
    "execution": {
     "iopub.execute_input": "2020-10-24T20:38:51.476138Z",
     "iopub.status.busy": "2020-10-24T20:38:51.475369Z",
     "iopub.status.idle": "2020-10-24T20:38:51.478897Z",
     "shell.execute_reply": "2020-10-24T20:38:51.479339Z"
    },
    "papermill": {
     "duration": 0.068602,
     "end_time": "2020-10-24T20:38:51.479487",
     "exception": false,
     "start_time": "2020-10-24T20:38:51.410885",
     "status": "completed"
    },
    "tags": []
   },
   "outputs": [
    {
     "data": {
      "text/html": [
       "<div>\n",
       "<style scoped>\n",
       "    .dataframe tbody tr th:only-of-type {\n",
       "        vertical-align: middle;\n",
       "    }\n",
       "\n",
       "    .dataframe tbody tr th {\n",
       "        vertical-align: top;\n",
       "    }\n",
       "\n",
       "    .dataframe thead th {\n",
       "        text-align: right;\n",
       "    }\n",
       "</style>\n",
       "<table border=\"1\" class=\"dataframe\">\n",
       "  <thead>\n",
       "    <tr style=\"text-align: right;\">\n",
       "      <th></th>\n",
       "      <th></th>\n",
       "      <th>best k</th>\n",
       "      <th>RMSE</th>\n",
       "    </tr>\n",
       "    <tr>\n",
       "      <th>mode</th>\n",
       "      <th>transformation</th>\n",
       "      <th></th>\n",
       "      <th></th>\n",
       "    </tr>\n",
       "  </thead>\n",
       "  <tbody>\n",
       "    <tr>\n",
       "      <th rowspan=\"2\" valign=\"top\">uniform</th>\n",
       "      <th>mean</th>\n",
       "      <td>174</td>\n",
       "      <td>206.763</td>\n",
       "    </tr>\n",
       "    <tr>\n",
       "      <th>std</th>\n",
       "      <td>136</td>\n",
       "      <td>207.106</td>\n",
       "    </tr>\n",
       "    <tr>\n",
       "      <th rowspan=\"2\" valign=\"top\">distance</th>\n",
       "      <th>mean</th>\n",
       "      <td>225</td>\n",
       "      <td>207.208</td>\n",
       "    </tr>\n",
       "    <tr>\n",
       "      <th>std</th>\n",
       "      <td>232</td>\n",
       "      <td>207.239</td>\n",
       "    </tr>\n",
       "  </tbody>\n",
       "</table>\n",
       "</div>"
      ],
      "text/plain": [
       "                        best k     RMSE\n",
       "mode     transformation                \n",
       "uniform  mean              174  206.763\n",
       "         std               136  207.106\n",
       "distance mean              225  207.208\n",
       "         std               232  207.239"
      ]
     },
     "execution_count": 33,
     "metadata": {},
     "output_type": "execute_result"
    }
   ],
   "source": [
    "results"
   ]
  },
  {
   "cell_type": "markdown",
   "metadata": {
    "papermill": {
     "duration": 0.053843,
     "end_time": "2020-10-24T20:38:51.587361",
     "exception": false,
     "start_time": "2020-10-24T20:38:51.533518",
     "status": "completed"
    },
    "tags": []
   },
   "source": [
    "<font color=blue>Замена значений на средние показатели дает в незначительной мере лучший результат, чем использование стандартных отколнений.</font>\n",
    "    \n",
    "<font color=blue>Возможно, «соседство» по средней стоимости квартиры содержит больше информации, нежели близость в отклонении от среднего, ведь стандартное отклонение в цене может быть близким у нескольких квартир совершенно разного класса.</font>"
   ]
  },
  {
   "cell_type": "markdown",
   "metadata": {
    "papermill": {
     "duration": 0.053928,
     "end_time": "2020-10-24T20:38:51.695522",
     "exception": false,
     "start_time": "2020-10-24T20:38:51.641594",
     "status": "completed"
    },
    "tags": []
   },
   "source": [
    "## Часть 3: Текстовые признаки"
   ]
  },
  {
   "cell_type": "markdown",
   "metadata": {
    "papermill": {
     "duration": 0.053747,
     "end_time": "2020-10-24T20:38:51.803495",
     "exception": false,
     "start_time": "2020-10-24T20:38:51.749748",
     "status": "completed"
    },
    "tags": []
   },
   "source": [
    "<b>3.1 (2 балла)</b> Перейдем от категориальным признаков к текстовым. Рассмотрим 2 способа преобразования текста в действительные числа:\n",
    "- Мешок слов (Bag of Words)\n",
    "- TF-IDF\n",
    "\n",
    "[Здесь](https://scikit-learn.org/stable/modules/feature_extraction.html) вы можете прочитать про их применение в Питоне.\n",
    "\n",
    "Сравните оба способа на задаче регресси. Какую лучше метрику использовать: евклидову или косинусную меру? Постройте графики зависимости качества решения задачи от способа преобразования, метрики и количества соседей. Мера качества - RMSE.\n",
    "\n",
    "Объясните полученные результаты.\n",
    "\n",
    "Перед преобразованием не забудьте уменьшить размер словаря. Например, это можно сделать за счет приведения всех слов к одному регистру и удаления [стопслов](https://en.wikipedia.org/wiki/Stop_words) (артиклей, предлогов, союзов). Можно использовать использовать, например, библиотеку nltk."
   ]
  },
  {
   "cell_type": "code",
   "execution_count": 34,
   "metadata": {
    "execution": {
     "iopub.execute_input": "2020-10-24T20:38:51.919966Z",
     "iopub.status.busy": "2020-10-24T20:38:51.919321Z",
     "iopub.status.idle": "2020-10-24T20:38:53.300887Z",
     "shell.execute_reply": "2020-10-24T20:38:53.300182Z"
    },
    "papermill": {
     "duration": 1.443055,
     "end_time": "2020-10-24T20:38:53.301013",
     "exception": false,
     "start_time": "2020-10-24T20:38:51.857958",
     "status": "completed"
    },
    "tags": []
   },
   "outputs": [],
   "source": [
    "from sklearn.feature_extraction.text import CountVectorizer\n",
    "from sklearn.feature_extraction.text import TfidfTransformer\n",
    "from nltk.corpus import stopwords\n",
    "\n",
    "kwargs = {\n",
    "    'lowercase': True,\n",
    "    'stop_words': stopwords.words('english'),\n",
    "}\n",
    "\n",
    "vectorizer = CountVectorizer(**kwargs)\n",
    "tfidfer = TfidfTransformer()\n",
    "\n",
    "tfidfer.fit(vectorizer.fit_transform(data['name'].to_numpy()))\n",
    "\n",
    "X_train_vct = vectorizer.transform(X_train.name.to_numpy())\n",
    "X_test_vct = vectorizer.transform(X_test.name.to_numpy())\n",
    "\n",
    "X_train_ti = tfidfer.transform(X_train_vct)\n",
    "X_test_ti = tfidfer.transform(X_test_vct)"
   ]
  },
  {
   "cell_type": "markdown",
   "metadata": {
    "papermill": {
     "duration": 0.054185,
     "end_time": "2020-10-24T20:38:53.411309",
     "exception": false,
     "start_time": "2020-10-24T20:38:53.357124",
     "status": "completed"
    },
    "tags": []
   },
   "source": [
    "<font color=blue>Поскольку в задании требуется исследовать зависимость от способа преобразования, метрики и числа соседей, не будем перегружать еще и взешенным/невзвешенным kNN, а учтем соседей равномерно. Подписи на графиках отражают их смысл, но на всякий случай дополнительно прокомментируем:</font>\n",
    "* <font color=blue>Оси всех графиках, как и в предыдущех заданиях, отвечают числу соседей и RMSE. Таким образом, кривая показывает зависимость ошибки от числа соседей</font>\n",
    "* <font color=blue>Построены графики попарных сравнений способов преобразований при фиксированных метриках (верхний ряд) и метрик при фиксированных способах преобразования (нижний ряд)</font>\n",
    "* <font color=blue>Красной точкой отмечен минимум</font>"
   ]
  },
  {
   "cell_type": "code",
   "execution_count": 35,
   "metadata": {
    "execution": {
     "iopub.execute_input": "2020-10-24T20:38:53.554823Z",
     "iopub.status.busy": "2020-10-24T20:38:53.546846Z",
     "iopub.status.idle": "2020-10-24T20:40:00.128132Z",
     "shell.execute_reply": "2020-10-24T20:40:00.128652Z"
    },
    "papermill": {
     "duration": 66.661629,
     "end_time": "2020-10-24T20:40:00.128832",
     "exception": false,
     "start_time": "2020-10-24T20:38:53.467203",
     "status": "completed"
    },
    "tags": []
   },
   "outputs": [
    {
     "data": {
      "image/png": "[encoded data removed]",
      "text/plain": [
       "<Figure size 864x576 with 4 Axes>"
      ]
     },
     "metadata": {
      "needs_background": "light"
     },
     "output_type": "display_data"
    }
   ],
   "source": [
    "transforms = ['Bag of Words', 'TF-IDF']\n",
    "metrics = ['euclidean', 'cosine']\n",
    "names = ['transformation', 'metric']\n",
    "\n",
    "results = pd.DataFrame(columns=['best k', 'RMSE'], \n",
    "                       index=pd.MultiIndex.from_product([transforms, metrics], names=names))\n",
    "\n",
    "k_max = 120\n",
    "fig, ax = plt.subplots(2, 2, figsize=(12, 8))\n",
    "\n",
    "\n",
    "for i, metric in enumerate(metrics):\n",
    "    model = KNNRegressor(n_neighbors=k_max, metric=metric, n_jobs=4)\n",
    "    \n",
    "    model.fit(X_train_vct, y_train_np)\n",
    "    Y_pred = model.predict_ultimate(X_test_vct, k_max, return_weighted=False)\n",
    "    rmses = rmse(y_test_np, Y_pred.T)\n",
    "    kb = rmses.argmin()\n",
    "    results.loc['Bag of Words', metric]['best k'] = kb + 1\n",
    "    results.loc['Bag of Words', metric]['RMSE'] = rmses[kb]\n",
    "    \n",
    "    ax[0, i].plot(np.arange(k_max) + 1, rmses, label='Bag of Words')\n",
    "    ax[0, i].scatter(kb, rmses[kb], c='r', lw=1.5, label=None)\n",
    "    ax[1, 0].plot(np.arange(k_max) + 1, rmses, label=metric)\n",
    "    ax[1, 0].scatter(kb, rmses[kb], c='r', lw=1.5, label=None)\n",
    "    \n",
    "    model.fit(X_train_ti, y_train_np)\n",
    "    Y_pred = model.predict_ultimate(X_test_ti, k_max, return_weighted=False)\n",
    "    rmses = rmse(y_test_np, Y_pred.T)\n",
    "    kb = rmses.argmin()\n",
    "    results.loc['TF-IDF', metric]['best k'] = kb + 1\n",
    "    results.loc['TF-IDF', metric]['RMSE'] = rmses[kb]\n",
    "    \n",
    "    ax[0, i].plot(np.arange(k_max) + 1, rmses, label='TF-IDF')\n",
    "    ax[0, i].scatter(kb, rmses[kb], c='r', lw=1.5, label=None)\n",
    "    ax[1, 1].plot(np.arange(k_max) + 1, rmses, label=metric)\n",
    "    ax[1, 1].scatter(kb, rmses[kb], c='r', lw=1.5, label=None)\n",
    "\n",
    "for i, metric in enumerate(metrics):\n",
    "    ax[0, i].set_title(f'metric: {metric}', fontsize=16)\n",
    "for j, transform in enumerate(transforms):\n",
    "    ax[1, j].set_title(f'transformation: {transform}', fontsize=16)\n",
    "\n",
    "for i in range(2):\n",
    "    for j in range(2):\n",
    "        ax[i, j].legend(fontsize=15)\n",
    "        ax[i, j].set_xlim(1, k_max)\n",
    "        ax[i, j].set_xticks(list(range(10, k_max+1,10)))\n",
    "        ax[i, j].set_xticklabels(list(range(10, k_max+1,10)), rotation=45)\n",
    "        ax[i, j].set_xlabel('k', fontsize=14)\n",
    "        ax[i, j].set_ylabel('RMSE')\n",
    "\n",
    "plt.tight_layout()"
   ]
  },
  {
   "cell_type": "code",
   "execution_count": 36,
   "metadata": {
    "execution": {
     "iopub.execute_input": "2020-10-24T20:40:00.253064Z",
     "iopub.status.busy": "2020-10-24T20:40:00.252262Z",
     "iopub.status.idle": "2020-10-24T20:40:00.256208Z",
     "shell.execute_reply": "2020-10-24T20:40:00.255605Z"
    },
    "papermill": {
     "duration": 0.071472,
     "end_time": "2020-10-24T20:40:00.256321",
     "exception": false,
     "start_time": "2020-10-24T20:40:00.184849",
     "status": "completed"
    },
    "tags": []
   },
   "outputs": [
    {
     "data": {
      "text/html": [
       "<style  type=\"text/css\" >\n",
       "#T_15f883d2_1639_11eb_b540_0242ac130202row3_col1{\n",
       "            background-color:  yellow;\n",
       "        }</style><table id=\"T_15f883d2_1639_11eb_b540_0242ac130202\" ><thead>    <tr>        <th class=\"blank\" ></th>        <th class=\"blank level0\" ></th>        <th class=\"col_heading level0 col0\" >best k</th>        <th class=\"col_heading level0 col1\" >RMSE</th>    </tr>    <tr>        <th class=\"index_name level0\" >transformation</th>        <th class=\"index_name level1\" >metric</th>        <th class=\"blank\" ></th>        <th class=\"blank\" ></th>    </tr></thead><tbody>\n",
       "                <tr>\n",
       "                        <th id=\"T_15f883d2_1639_11eb_b540_0242ac130202level0_row0\" class=\"row_heading level0 row0\" rowspan=2>Bag of Words</th>\n",
       "                        <th id=\"T_15f883d2_1639_11eb_b540_0242ac130202level1_row0\" class=\"row_heading level1 row0\" >euclidean</th>\n",
       "                        <td id=\"T_15f883d2_1639_11eb_b540_0242ac130202row0_col0\" class=\"data row0 col0\" >34</td>\n",
       "                        <td id=\"T_15f883d2_1639_11eb_b540_0242ac130202row0_col1\" class=\"data row0 col1\" >212.340761</td>\n",
       "            </tr>\n",
       "            <tr>\n",
       "                                <th id=\"T_15f883d2_1639_11eb_b540_0242ac130202level1_row1\" class=\"row_heading level1 row1\" >cosine</th>\n",
       "                        <td id=\"T_15f883d2_1639_11eb_b540_0242ac130202row1_col0\" class=\"data row1 col0\" >18</td>\n",
       "                        <td id=\"T_15f883d2_1639_11eb_b540_0242ac130202row1_col1\" class=\"data row1 col1\" >206.464835</td>\n",
       "            </tr>\n",
       "            <tr>\n",
       "                        <th id=\"T_15f883d2_1639_11eb_b540_0242ac130202level0_row2\" class=\"row_heading level0 row2\" rowspan=2>TF-IDF</th>\n",
       "                        <th id=\"T_15f883d2_1639_11eb_b540_0242ac130202level1_row2\" class=\"row_heading level1 row2\" >euclidean</th>\n",
       "                        <td id=\"T_15f883d2_1639_11eb_b540_0242ac130202row2_col0\" class=\"data row2 col0\" >66</td>\n",
       "                        <td id=\"T_15f883d2_1639_11eb_b540_0242ac130202row2_col1\" class=\"data row2 col1\" >210.247556</td>\n",
       "            </tr>\n",
       "            <tr>\n",
       "                                <th id=\"T_15f883d2_1639_11eb_b540_0242ac130202level1_row3\" class=\"row_heading level1 row3\" >cosine</th>\n",
       "                        <td id=\"T_15f883d2_1639_11eb_b540_0242ac130202row3_col0\" class=\"data row3 col0\" >25</td>\n",
       "                        <td id=\"T_15f883d2_1639_11eb_b540_0242ac130202row3_col1\" class=\"data row3 col1\" >205.869387</td>\n",
       "            </tr>\n",
       "    </tbody></table>"
      ],
      "text/plain": [
       "<pandas.io.formats.style.Styler at 0x7f7bc8214cd0>"
      ]
     },
     "execution_count": 36,
     "metadata": {},
     "output_type": "execute_result"
    }
   ],
   "source": [
    "results.style.highlight_min(subset='RMSE')"
   ]
  },
  {
   "cell_type": "markdown",
   "metadata": {
    "papermill": {
     "duration": 0.057151,
     "end_time": "2020-10-24T20:40:00.371123",
     "exception": false,
     "start_time": "2020-10-24T20:40:00.313972",
     "status": "completed"
    },
    "tags": []
   },
   "source": [
    "<font color=blue> Как видим из результатов в таблице и на графиках, с TF-IDF качество получается лучше. При обоих вариантах преобразований (нижний ряд) лучшей метрикой оказывается косинусная. Более того, ее вклад имеет большую значимость, чем выбор между Bag of Words и TF-IDF (левый верхний график). Косинусная метрика может двавать лучшие результаты по сравнению с евклидовой, потому что не при ее вычислении векторы фактически нормируются, что важно при оценке близости закодированных текстов разной длины. Интересно, что это сработало даже в случае, когда все тексты достаточно короткие.</font>"
   ]
  },
  {
   "cell_type": "code",
   "execution_count": 37,
   "metadata": {
    "execution": {
     "iopub.execute_input": "2020-10-24T20:40:00.491954Z",
     "iopub.status.busy": "2020-10-24T20:40:00.491102Z",
     "iopub.status.idle": "2020-10-24T20:40:00.494398Z",
     "shell.execute_reply": "2020-10-24T20:40:00.495130Z"
    },
    "papermill": {
     "duration": 0.067799,
     "end_time": "2020-10-24T20:40:00.495332",
     "exception": false,
     "start_time": "2020-10-24T20:40:00.427533",
     "status": "completed"
    },
    "tags": []
   },
   "outputs": [
    {
     "name": "stdout",
     "output_type": "stream",
     "text": [
      "min length: L\n",
      "max length: The printing studio bedroom with garden in Bedstuy  !!Brooklyn. Historic neighborhood close to everything ! Full kitchen bathroom BBQ and porch at your disposal. Learn to print !!\n"
     ]
    }
   ],
   "source": [
    "print(f\"min length: {data.iloc[5337]['name']}\")\n",
    "print(f\"max length: {data.iloc[25832]['name']}\")"
   ]
  },
  {
   "cell_type": "markdown",
   "metadata": {
    "papermill": {
     "duration": 0.056325,
     "end_time": "2020-10-24T20:40:00.609218",
     "exception": false,
     "start_time": "2020-10-24T20:40:00.552893",
     "status": "completed"
    },
    "tags": []
   },
   "source": [
    "<font color=blue>К сожалению, пример короткого (не считаем пустые) названия скорее иллюстрирует наличие выбросов...</font>"
   ]
  },
  {
   "cell_type": "markdown",
   "metadata": {
    "papermill": {
     "duration": 0.056694,
     "end_time": "2020-10-24T20:40:00.722637",
     "exception": false,
     "start_time": "2020-10-24T20:40:00.665943",
     "status": "completed"
    },
    "tags": []
   },
   "source": [
    "<b>3.2 (1 балл)</b> Используя все доступные признаки, решите задачу регрессии. Для категориальных и текстовых признаков выберите лучшие преобразования (из сделанных раннее заданий). Повлияло ли добавление количественного признака на метрику качества?"
   ]
  },
  {
   "cell_type": "markdown",
   "metadata": {
    "papermill": {
     "duration": 0.056559,
     "end_time": "2020-10-24T20:40:00.836591",
     "exception": false,
     "start_time": "2020-10-24T20:40:00.780032",
     "status": "completed"
    },
    "tags": []
   },
   "source": [
    "* <font color=blue>`id` и `name` убираем из датасета в силу неинформативности.</font>\n",
    "* <font color=blue>`room_type`, `neighbourhood_group`, `neighbourhood` заменим, как в одном из заданий выше, условными средними цены в обучении.</font>\n",
    "* <font color=blue>`last_review` попробуем заменить на число дней, прошедших с наиболее ранней. (После обработки пропусков).</font>\n",
    "* <font color=blue>Остальные вещественные признаки можем взять как есть.</font>\n",
    "* <font color=blue>Ограничим число признаков, порожденных текстовыми, чтобы объеденить разреженный и обычный массивы.</font>"
   ]
  },
  {
   "cell_type": "code",
   "execution_count": 38,
   "metadata": {
    "execution": {
     "iopub.execute_input": "2020-10-24T20:40:00.963210Z",
     "iopub.status.busy": "2020-10-24T20:40:00.957953Z",
     "iopub.status.idle": "2020-10-24T20:40:25.578854Z",
     "shell.execute_reply": "2020-10-24T20:40:25.578316Z"
    },
    "papermill": {
     "duration": 24.685765,
     "end_time": "2020-10-24T20:40:25.578975",
     "exception": false,
     "start_time": "2020-10-24T20:40:00.893210",
     "status": "completed"
    },
    "tags": []
   },
   "outputs": [],
   "source": [
    "vectorizer = CountVectorizer(max_features=200, **kwargs)\n",
    "tfidfer = TfidfTransformer()\n",
    "tfidfer.fit(vectorizer.fit_transform(data['name'].to_numpy()))\n",
    "\n",
    "if 'host_id' not in num_features:\n",
    "    num_features.append('host_id')\n",
    "\n",
    "def last_trans(X):\n",
    "    X_days = (X.last_review - data.last_review.min()).dt.days.to_numpy()[:, np.newaxis]\n",
    "    mean = y_train_np.mean()\n",
    "    X_cat = pd.concat([X[feature].map(maps_mean[feature]) \n",
    "                       for feature in maps_mean], axis=1).fillna(mean).to_numpy()\n",
    "    X_txt = tfidfer.transform(vectorizer.transform(X.name.to_numpy())).toarray()\n",
    "    X_num = X[num_features].to_numpy()\n",
    "    return np.concatenate([X_num, X_days, X_cat, X_txt], axis=1)\n",
    "\n",
    "X_train_new = last_trans(X_train)\n",
    "X_test_new = last_trans(X_test)\n",
    "\n",
    "k_max = 150\n",
    "\n",
    "results = pd.DataFrame(columns=['best k', 'RMSE'], \n",
    "                       index=pd.MultiIndex.from_product([modes, metrics],\n",
    "                                                         names=['mode', 'metric']))\n",
    "\n",
    "for i, metric in enumerate(metrics):\n",
    "    model = KNNRegressor(n_neighbors=k_max, metric=metric, n_jobs=1)\n",
    "    model.fit(X_train_new, y_train_np)\n",
    "    for Y_pred, mode in zip(model.predict_ultimate(X_test_new, k_max), modes):\n",
    "        rmses = rmse(y_test_np, Y_pred.T)\n",
    "        kb = rmses.argmin()\n",
    "        results.loc[mode, metric]['best k'] = kb + 1\n",
    "        results.loc[mode, metric]['RMSE'] = rmses[kb]"
   ]
  },
  {
   "cell_type": "code",
   "execution_count": 39,
   "metadata": {
    "execution": {
     "iopub.execute_input": "2020-10-24T20:40:25.705496Z",
     "iopub.status.busy": "2020-10-24T20:40:25.704501Z",
     "iopub.status.idle": "2020-10-24T20:40:25.708304Z",
     "shell.execute_reply": "2020-10-24T20:40:25.707714Z"
    },
    "papermill": {
     "duration": 0.071866,
     "end_time": "2020-10-24T20:40:25.708410",
     "exception": false,
     "start_time": "2020-10-24T20:40:25.636544",
     "status": "completed"
    },
    "tags": []
   },
   "outputs": [
    {
     "data": {
      "text/html": [
       "<style  type=\"text/css\" >\n",
       "#T_25243f0e_1639_11eb_b540_0242ac130202row3_col1{\n",
       "            background-color:  yellow;\n",
       "        }</style><table id=\"T_25243f0e_1639_11eb_b540_0242ac130202\" ><thead>    <tr>        <th class=\"blank\" ></th>        <th class=\"blank level0\" ></th>        <th class=\"col_heading level0 col0\" >best k</th>        <th class=\"col_heading level0 col1\" >RMSE</th>    </tr>    <tr>        <th class=\"index_name level0\" >mode</th>        <th class=\"index_name level1\" >metric</th>        <th class=\"blank\" ></th>        <th class=\"blank\" ></th>    </tr></thead><tbody>\n",
       "                <tr>\n",
       "                        <th id=\"T_25243f0e_1639_11eb_b540_0242ac130202level0_row0\" class=\"row_heading level0 row0\" rowspan=2>uniform</th>\n",
       "                        <th id=\"T_25243f0e_1639_11eb_b540_0242ac130202level1_row0\" class=\"row_heading level1 row0\" >euclidean</th>\n",
       "                        <td id=\"T_25243f0e_1639_11eb_b540_0242ac130202row0_col0\" class=\"data row0 col0\" >53</td>\n",
       "                        <td id=\"T_25243f0e_1639_11eb_b540_0242ac130202row0_col1\" class=\"data row0 col1\" >219.815020</td>\n",
       "            </tr>\n",
       "            <tr>\n",
       "                                <th id=\"T_25243f0e_1639_11eb_b540_0242ac130202level1_row1\" class=\"row_heading level1 row1\" >cosine</th>\n",
       "                        <td id=\"T_25243f0e_1639_11eb_b540_0242ac130202row1_col0\" class=\"data row1 col0\" >35</td>\n",
       "                        <td id=\"T_25243f0e_1639_11eb_b540_0242ac130202row1_col1\" class=\"data row1 col1\" >206.282949</td>\n",
       "            </tr>\n",
       "            <tr>\n",
       "                        <th id=\"T_25243f0e_1639_11eb_b540_0242ac130202level0_row2\" class=\"row_heading level0 row2\" rowspan=2>distance</th>\n",
       "                        <th id=\"T_25243f0e_1639_11eb_b540_0242ac130202level1_row2\" class=\"row_heading level1 row2\" >euclidean</th>\n",
       "                        <td id=\"T_25243f0e_1639_11eb_b540_0242ac130202row2_col0\" class=\"data row2 col0\" >150</td>\n",
       "                        <td id=\"T_25243f0e_1639_11eb_b540_0242ac130202row2_col1\" class=\"data row2 col1\" >219.986670</td>\n",
       "            </tr>\n",
       "            <tr>\n",
       "                                <th id=\"T_25243f0e_1639_11eb_b540_0242ac130202level1_row3\" class=\"row_heading level1 row3\" >cosine</th>\n",
       "                        <td id=\"T_25243f0e_1639_11eb_b540_0242ac130202row3_col0\" class=\"data row3 col0\" >35</td>\n",
       "                        <td id=\"T_25243f0e_1639_11eb_b540_0242ac130202row3_col1\" class=\"data row3 col1\" >206.278800</td>\n",
       "            </tr>\n",
       "    </tbody></table>"
      ],
      "text/plain": [
       "<pandas.io.formats.style.Styler at 0x7f7bca50bd50>"
      ]
     },
     "execution_count": 39,
     "metadata": {},
     "output_type": "execute_result"
    }
   ],
   "source": [
    "results.style.highlight_min(subset='RMSE')"
   ]
  },
  {
   "cell_type": "markdown",
   "metadata": {},
   "source": [
    "<font color=blue>Как видим, такое разрозненное объединение не дает особых результатов — даже используя только текстовые признаки, но в полном объем, мы получали качество лучше. Работа с признаками разной природы требует более тщательной предобработки.</color>"
   ]
  },
  {
   "cell_type": "markdown",
   "metadata": {},
   "source": [
    "## Часть 4: Выводы\n"
   ]
  },
  {
   "cell_type": "markdown",
   "metadata": {},
   "source": [
    "<font color=blue> По итогам данной домашней работы было реализовано много функций для предобработки данных — в особенности, категориальных признаков. Были реализованы и исследованы разные метрики, регрессор, основанный на kNN, а также задействованы текстовые признаки. Что касается непосредственно задачи регрессии, которую мы все это время пытались решить, то интересно взглянуть, какая ошибка получается на константном прогнозе:</font>"
   ]
  },
  {
   "cell_type": "code",
   "execution_count": 40,
   "metadata": {},
   "outputs": [
    {
     "data": {
      "text/plain": [
       "220.08083872910575"
      ]
     },
     "execution_count": 40,
     "metadata": {},
     "output_type": "execute_result"
    }
   ],
   "source": [
    "rmse(y_test_np, y_train_np.mean())"
   ]
  },
  {
   "cell_type": "markdown",
   "metadata": {},
   "source": [
    "<font color=blue>Таким образом, нельзя утверждать, что мы научились качественно предсказывать цену съемной квартиры с помощью kNN.</font>\n",
    "\n",
    "<font color=blue>Лучший результат был получен в задании 2.3: тогда, работая только с категориальными признаками, RMSE удалось улучшить до **198.5** с помощью соответствующего выбора метрики, числа соседей и признаков.</font>"
   ]
  }
 ],
 "metadata": {
  "kernelspec": {
   "display_name": "Python 3",
   "language": "python",
   "name": "python3"
  },
  "language_info": {
   "codemirror_mode": {
    "name": "ipython",
    "version": 3
   },
   "file_extension": ".py",
   "mimetype": "text/x-python",
   "name": "python",
   "nbconvert_exporter": "python",
   "pygments_lexer": "ipython3",
   "version": "3.8.6"
  },
  "papermill": {
   "duration": 1270.02385,
   "end_time": "2020-10-24T20:40:26.114893",
   "environment_variables": {},
   "exception": null,
   "input_path": "__notebook__.ipynb",
   "output_path": "__notebook__.ipynb",
   "parameters": {},
   "start_time": "2020-10-24T20:19:16.091043",
   "version": "2.1.0"
  }
 },
 "nbformat": 4,
 "nbformat_minor": 4
}
