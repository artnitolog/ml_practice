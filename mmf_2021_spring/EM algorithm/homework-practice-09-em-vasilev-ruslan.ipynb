{
 "cells": [
  {
   "cell_type": "markdown",
   "metadata": {},
   "source": [
    "# Машинное обучение, ВМК МГУ\n",
    "\n",
    "# Практическое задание 2. EM-алгоритм\n",
    "\n",
    "## Общая информация\n",
    "Дата выдачи: 22.03.2021\n",
    "\n",
    "Мягкий дедлайн: 11.04.2021 23:59 MSK\n",
    "\n",
    "Жёсткий дедлайн: 18.04.2021 23:59 MSK\n",
    "\n",
    "## Оценивание и штрафы\n",
    "Каждая из задач имеет определенную «стоимость» (указана в скобках около задачи). **Максимальная оценка за работу (без учёта бонусов) — 10 баллов.**\n",
    "\n",
    "Сдавать задание после указанного жёсткого срока сдачи нельзя. При выставлении неполного балла за задание в связи с наличием ошибок на усмотрение проверяющего предусмотрена возможность исправить работу на указанных в ответном письме условиях.\n",
    "\n",
    "Задание выполняется самостоятельно. «Похожие» решения считаются плагиатом и все задействованные студенты (в том числе те, у кого списали) не могут получить за него больше 0 баллов (подробнее о плагиате см. на странице курса). Если вы нашли решение какого-то из заданий (или его часть) в открытом источнике, необходимо указать ссылку на этот источник в отдельном блоке в конце вашей работы (скорее всего вы будете не единственным, кто это нашел, поэтому чтобы исключить подозрение в плагиате, необходима ссылка на источник).\n",
    "\n",
    "Неэффективная реализация кода может негативно отразиться на оценке.\n",
    "\n",
    "## Формат сдачи !!ВАЖНО!!!\n",
    "Задания сдаются через систему anytask. Посылка должна содержать:\n",
    "* Ноутбук homework-practice-09-em-Username.ipynb\n",
    "* Модули preprocessing.py, metrics.py, models.py, содержащие написанный вами код\n",
    "* **Ссылки на посылки** в Яндекс.Контест для всех функций и классов, которые вы реализовали\n",
    "\n",
    "Ссылка на Яндекс.Контест: https://contest.yandex.ru/contest/25534\n",
    "\n",
    "Username — ваша фамилия и имя на латинице именно в таком порядке"
   ]
  },
  {
   "cell_type": "markdown",
   "metadata": {},
   "source": [
    "<p style=\"color:#de3815;font-size:25px;\">\n",
    "Напоминание об оформлении и выполнении ноутбука\n",
    "</p>"
   ]
  },
  {
   "cell_type": "markdown",
   "metadata": {},
   "source": [
    "* Все строчки должны быть выполнены. Нужно, чтобы output команды можно было увидеть, не запуская ячейки (кроме редких случаев, когда необходимо намеренно скрыть ненужный output, про такие случаи желательно писать пояснения в тексте). **В противном случае -1 балл**\n",
    "* При оформлении ДЗ нужно пользоваться данным файлом в качестве шаблона. Не нужно удалять и видоизменять написанный код и текст, если явно не указана такая возможность. **В противном случае -1 балл**\n",
    "* В anytask обязательно нужно прикреплять отдельно файл с расширением ipynb (не в архиве, а именно отдельно). Если необходимо отправить еще какие-то файлы, то вынесите их в отдельный архив (если файлов много) и пришлите. **В противном случае -0.5 балла**\n",
    "---\n",
    "* Пишите, пожалуйста, выводы и ответы на вопросы в текстовых ячейках/при помощи print в коде. При их отсутствии мы не можем понять, сделали ли вы задание и понимаете, что происходит, и **поэтому будем снижать баллы**\n",
    "* Если алгоритм не сказано реализовывать явно, его всегда можно импортировать из библиотеки.\n",
    "---\n",
    "* Про графики. _Штрафы будут применяться к каждому результату команды отображения графика (plt.show() и др. аналогичные). Исключением являются графики, генерируемые функциями каких-либо сторонних библиотек, если их нельзя кастомизировать_\n",
    "\n",
    "    * должно быть название (plt.title) графика; **В противном случае &ndash; -0.05 балла**\n",
    "    * на графиках должны быть подписаны оси (plt.xlabel, plt.ylabel); **В противном случае &ndash; -0.025 балла за каждую ось**\n",
    "    * должны быть подписаны единицы измерения (если это возможно); **В противном случае &ndash; -0.025 балла за каждую ось**\n",
    "    * все названия должны быть понятны любому человеку, знакомому с терминологией, без заглядывания в код; **В противном случае &ndash; -0.05 балла**\n",
    "    * подписи тиков на осях не должны сливаться как на одной оси, так и между ними; **В противном случае &ndash; -0.025 балла за каждую ось**\n",
    "    * если изображено несколько сущностей на одном холсте (например несколько функций), то необходима поясняющая легенда (plt.legend); **В противном случае &ndash; -0.05 балла**\n",
    "    * все линии на графиках должны быть чётко видны (нет похожих цветов или цветов, сливающихся с фоном); **В противном случае &ndash; -0.05 балла**\n",
    "    * если отображена величина, имеющая очевидный диапазон значений (например, проценты могут быть от 0 до 100), то желательно масштабировать ось на весь диапазон значений (исключением является случай, когда вам необходимо показать малое отличие, которое незаметно в таких масштабах);\n",
    "    * графики должны быть не супер-микро и не супер-макро по размерам, так, чтобы можно было увидеть все, что нужно.\n",
    "    * при необходимости улучшения наглядности графиков, можно пользоваться логарифмической шкалой по осям x/y.\n",
    "    "
   ]
  },
  {
   "cell_type": "code",
   "execution_count": 1,
   "metadata": {},
   "outputs": [],
   "source": [
    "import matplotlib.pyplot as plt\n",
    "plt.rc('axes', axisbelow=True, grid=True)\n",
    "plt.rc('grid', c='grey', ls=':')\n",
    "plt.rc('font', family='serif', size=8)\n",
    "plt.rc('image', cmap='Greys', interpolation='none')"
   ]
  },
  {
   "cell_type": "markdown",
   "metadata": {},
   "source": [
    "# Generative model of Labels, Abilities, and Difficulties (GLAD)\n",
    "\n",
    "В [семинаре 15](https://github.com/esokolov/ml-course-hse/blob/master/2020-spring/seminars/sem15-em.pdf) мы рассмотрели задачу восстановления истинной разметки по меткам от экспертов (которым мы не можем доверять в полной мере, более того, их предсказания могут расходиться).\n",
    "\n",
    "Рассмотрим следующую вероятностную модель:\n",
    "\n",
    "$$ p(L, Z | \\alpha, \\beta) = \\prod_{i=1}^{n} \\prod_{j=1}^m \\sigma(\\alpha_j\\beta_i)^{[l_{ij}=z_i]}\\sigma(-\\alpha_j\\beta_i)^{1-[l_{ij}=z_i]} p(z_j)$$\n",
    "\n",
    "где $l_{ij} -$ ответ $j$-го эксперта на задачу $i$, $z_j -$ истинная разметка, $\\alpha_j, \\beta_i-$ уровень экспертизы и сложность задачи соответственно. Для более подробного описания модели можно прочитать материалы семинара, а также [оригинальную статью](http://papers.nips.cc/paper/3644-whose-vote-should-count-more-optimal-integration-of-labels-from-labelers-of-unknown-expertise.pdf). Априорное распределение положим равномерным: $p(z_i) = 0.5$."
   ]
  },
  {
   "cell_type": "code",
   "execution_count": 2,
   "metadata": {},
   "outputs": [],
   "source": [
    "import numpy as np\n",
    "seed = 0xDEADF00D\n",
    "np.random.seed(seed)"
   ]
  },
  {
   "cell_type": "code",
   "execution_count": 3,
   "metadata": {},
   "outputs": [
    {
     "name": "stdout",
     "output_type": "stream",
     "text": [
      "Число задач (n_problems): 2000, число экспертов (n_experts): 20\n"
     ]
    }
   ],
   "source": [
    "L = np.load('L.npy')\n",
    "n, m = L.shape\n",
    "print(f\"Число задач (n_problems): {n}, число экспертов (n_experts): {m}\")"
   ]
  },
  {
   "cell_type": "markdown",
   "metadata": {},
   "source": [
    "---"
   ]
  },
  {
   "cell_type": "markdown",
   "metadata": {},
   "source": [
    "**Задание 1. (2 балла)** Реализуйте EM-алгоритм для заданной выше модели. Вы можете воспользоваться предложенными шаблонами или написать свои. \n",
    "\n",
    "Обратите внимание, что правдоподобие моделирует не вероятность метки $l_{ij}$ принять значение 1 или 0, а вероятность того, что она равна скрытой переменной $z_i$, т.е. $p(l_{ij} = z_j|z_j, \\alpha_j, \\beta_i) \\neq p(l_{ij} = 1|\\alpha_j, \\beta_i) $. При этом заранее неизвестно, какая из скрытых переменных соответствует метке 1. Не забывайте, что параметры $\\beta_i$ должны быть неотрицательными; для этого оптимизируйте $\\log \\beta$. На M-шаге можете использовать как один шаг градиентного спуска, так и несколько: разумные результаты у вас должны получаться вне зависимости от числа итераций.\n",
    "\n",
    "**Подсказки:**\n",
    "\n",
    "* При работе с вероятностями не забывайте о точности:\n",
    " 1. Используйте логарифмы вероятностей.\n",
    " 2. $\\log \\sigma(a)$ лучше преобразовать в $\\log \\sigma(a) = -\\log(1 + \\exp(-a)) = -\\mathrm{softplus}(-a) $\n",
    " 3. Ещё полезные функции: `scipy.special.expit`, `scipy.special.logsumexp`, `np.log1p`\n",
    "* Для отладки может быть полезно проверить градиенты, возвращаемые функциями `alpha_grad_lb` и `logbeta_grad_lb` с помощью `scipy.optimize.check_grad`.\n",
    "* Размеры возвращаемых значений, указанные в докстринге функций могут помочь вам понять, что необходимо возвращать\n",
    "* Почитайте докстринги, в них есть подсказки и ссылки на формулы из семинара"
   ]
  },
  {
   "cell_type": "markdown",
   "metadata": {},
   "source": [
    "---"
   ]
  },
  {
   "cell_type": "code",
   "execution_count": 4,
   "metadata": {},
   "outputs": [],
   "source": [
    "def softplus(x):\n",
    "    '''stable version of log(1 + exp(x))'''\n",
    "    c = (x > 20) * 1.\n",
    "    return np.log1p(np.exp(x * (1-c)) * (1-c)) + x * c"
   ]
  },
  {
   "cell_type": "markdown",
   "metadata": {},
   "source": [
    "<font color=blue>Отличия от шаблонов в сигнатуре написаны докстрингах. Из-за изменений функций код проверки градиента тоже немного изменен, чтобы соответствовать им.</font>"
   ]
  },
  {
   "cell_type": "code",
   "execution_count": 5,
   "metadata": {},
   "outputs": [],
   "source": [
    "from scipy.special import expit as sigmoid\n",
    "\n",
    "def posterior(alpha, beta, L):\n",
    "    \"\"\" p(z = 0 | l, \\alpha, \\beta)\n",
    "    Args:\n",
    "        alpha: ndarray of shape (n_experts).\n",
    "        beta: ndarray of shape (n_problems).\n",
    "        L: ndarray of shape (n_problems, n_experts).\n",
    "    Returns:\n",
    "        ndarray of shape (n_problems, 1)\n",
    "    \"\"\"\n",
    "    gamma = np.einsum('ij,j', (1 - 2*L), alpha) * beta\n",
    "    return sigmoid(gamma)[:, None]"
   ]
  },
  {
   "cell_type": "code",
   "execution_count": 6,
   "metadata": {},
   "outputs": [],
   "source": [
    "def lower_bound(alpha, beta, L, q0):\n",
    "    \"\"\" Lower bound\n",
    "    Args:\n",
    "        alpha: ndarray of shape (n_experts),\n",
    "        beta: ndarray of shape (n_problems),\n",
    "        L: ndarray of shape (n_problems, n_experts),\n",
    "        q0: ndarray of shape (n_problems, 1).\n",
    "    Returns:\n",
    "        single value, number\n",
    "    \"\"\"\n",
    "    outer = np.einsum('i,j->ij', beta, alpha)\n",
    "    return (outer * (q0 * (1 - 2*L) + L) - softplus(outer)).sum()"
   ]
  },
  {
   "cell_type": "code",
   "execution_count": 7,
   "metadata": {},
   "outputs": [],
   "source": [
    "def grad_lb(alpha, beta, L, q0):\n",
    "    \"\"\" Gradients of lower bound wrt alpha\n",
    "        and logarithm of beta.\n",
    "    Args:\n",
    "        alpha: ndarray of shape (n_experts),\n",
    "        beta: ndarray of shape (n_problems),\n",
    "        L: ndarray of shape (n_problems, n_experts),\n",
    "        q0: ndarray of shape (n_problems, 1).\n",
    "    Returns:\n",
    "        tuple, 2 ndarrays of shape (n_problems,)\n",
    "    \"\"\"\n",
    "    outer = np.einsum('i,j->ij', beta, alpha)\n",
    "    common = q0 * (1 - 2*L) + L - sigmoid(outer)\n",
    "    grad_alpha = np.einsum('ij,i', common, beta)\n",
    "    grad_logbeta = np.einsum('ij,j', common, alpha) * beta\n",
    "    return grad_alpha, grad_logbeta"
   ]
  },
  {
   "cell_type": "markdown",
   "metadata": {},
   "source": [
    "**Подсказка:**\n",
    "* При проверке alpha значения, выдываемые функцией `check_grad` должны быть не более 0.01. Иначе у вас где-то ошибка\n",
    "* При проверке logbeta значения, выдываемые функцией `check_grad` должны быть не более 0.05. Иначе у вас где-то ошибка"
   ]
  },
  {
   "cell_type": "code",
   "execution_count": 8,
   "metadata": {},
   "outputs": [
    {
     "data": {
      "text/plain": [
       "0.0014108659853362242"
      ]
     },
     "execution_count": 8,
     "metadata": {},
     "output_type": "execute_result"
    }
   ],
   "source": [
    "from scipy.optimize import check_grad\n",
    "from scipy.special import expit\n",
    "\n",
    "alpha, logbeta = np.random.randn(m), np.random.randn(n)\n",
    "beta = np.exp(logbeta)\n",
    "q = np.ones((2, len(beta))) * 0.5\n",
    "q0 = q[0, :, None]\n",
    "\n",
    "check_grad(\n",
    "    lambda a: lower_bound(a, beta, L, q0),\n",
    "    lambda a: grad_lb(a, beta, L, q0)[0],\n",
    "    alpha\n",
    ")"
   ]
  },
  {
   "cell_type": "code",
   "execution_count": 9,
   "metadata": {},
   "outputs": [
    {
     "data": {
      "text/plain": [
       "0.01364844776037449"
      ]
     },
     "execution_count": 9,
     "metadata": {},
     "output_type": "execute_result"
    }
   ],
   "source": [
    "check_grad(\n",
    "    lambda lb: lower_bound(alpha, np.exp(lb), L, q0),\n",
    "    lambda lb: grad_lb(alpha, np.exp(lb), L, q0)[1],\n",
    "    logbeta\n",
    ")"
   ]
  },
  {
   "cell_type": "code",
   "execution_count": 10,
   "metadata": {},
   "outputs": [],
   "source": [
    "def em(L, n_steps=1000, lr=1e-3):\n",
    "    alpha, logbeta = np.random.randn(m), np.random.randn(n)\n",
    "    beta = np.exp(logbeta)\n",
    "    q0 = np.ones((len(beta), 1)) * 0.5\n",
    "\n",
    "    for step in range(n_steps):\n",
    "        q0 = posterior(alpha, beta, L)\n",
    "        grad_alpha, grad_logbeta = grad_lb(alpha, beta, L, q0)\n",
    "        alpha += lr * grad_alpha\n",
    "        logbeta += lr * grad_logbeta\n",
    "        beta = np.exp(logbeta)\n",
    "        pass\n",
    "\n",
    "    return alpha, beta, q0"
   ]
  },
  {
   "cell_type": "code",
   "execution_count": 11,
   "metadata": {},
   "outputs": [
    {
     "name": "stdout",
     "output_type": "stream",
     "text": [
      "CPU times: user 588 ms, sys: 0 ns, total: 588 ms\n",
      "Wall time: 586 ms\n"
     ]
    }
   ],
   "source": [
    "%%time\n",
    "alpha, beta, q0 = em(L)"
   ]
  },
  {
   "cell_type": "markdown",
   "metadata": {},
   "source": [
    "---"
   ]
  },
  {
   "cell_type": "markdown",
   "metadata": {},
   "source": [
    "**Задание 2. (1 балл)** Загрузите настоящую разметку. Посчитайте `accuracy` разметки, полученной с помощью обычного голосования по большинству среди экспертов, и сравните его с качеством, полученным с помощью EM-алгоритма."
   ]
  },
  {
   "cell_type": "markdown",
   "metadata": {},
   "source": [
    "**Разбалловка:**\n",
    "* **0.5 балла** -- качество голосования не менее 0.904\n",
    "* **0.5 балла** -- качестве EM не менее 0.95"
   ]
  },
  {
   "cell_type": "markdown",
   "metadata": {},
   "source": [
    "**Подсказка:**\n",
    "* Помните, что алгоритму не важно, какая метка 0, а какая 1, поэтому если получите качество <0.5, то просто поменяйте метки классов (не забудьте также поменять знак у $\\alpha$). "
   ]
  },
  {
   "cell_type": "markdown",
   "metadata": {},
   "source": [
    "---"
   ]
  },
  {
   "cell_type": "code",
   "execution_count": 12,
   "metadata": {},
   "outputs": [
    {
     "name": "stdout",
     "output_type": "stream",
     "text": [
      "Accuracy (majority vote): 0.904\n",
      "Accuracy (EM): 0.9555\n"
     ]
    }
   ],
   "source": [
    "y = np.load('y.npy')\n",
    "\n",
    "acc_vote = ((L.mean(axis=1) > 0.5) == y).mean()\n",
    "print('Accuracy (majority vote):', acc_vote)\n",
    "\n",
    "acc_em = ((q0 < 0.5).ravel() == y).mean()\n",
    "print('Accuracy (EM):', acc_em)"
   ]
  },
  {
   "cell_type": "markdown",
   "metadata": {},
   "source": [
    "---"
   ]
  },
  {
   "cell_type": "markdown",
   "metadata": {},
   "source": [
    "**Задание 3. (0.5 балла)** Попробуйте проинтерпретировать полученные коэфициенты $\\alpha$. Есть ли в выборке эксперты, которые намеренно голосуют неверно? Как это можно понять по альфам? Продемонстрируйте, что эксперты действительно чаще голосуют за неверный класс. Отобразите визуализацию зависимости доли врено размеченных экспертом объектов от коэффициента $\\alpha$. Прокомментируйте результаты и полученную зависимость."
   ]
  },
  {
   "cell_type": "markdown",
   "metadata": {},
   "source": [
    "**Подсказки:**\n",
    "* Если вы отобразили или хотели отобразить зависимость при помощи обычного plot (график), то посмотрите повнимательнее/подумайте, почему это не очень хорошая визуализация. **Для возможности получения полного балла** правильно будет использовать тип отображения scatter plot.\n",
    "*  Также **для возможности получения полного балла** вам необходимо проинтерпретировать смысл зависимости для всех групп альф, которые вы увидите (спойлер: их должно быть 3:)"
   ]
  },
  {
   "cell_type": "markdown",
   "metadata": {},
   "source": [
    "---"
   ]
  },
  {
   "cell_type": "markdown",
   "metadata": {},
   "source": [
    "<font color=blue>Посмотрим, как связаны коэффициенты $\\alpha$ и с точностью экспертов.</font>"
   ]
  },
  {
   "cell_type": "code",
   "execution_count": 17,
   "metadata": {},
   "outputs": [
    {
     "data": {
      "image/png": "[encoded data removed]",
      "text/plain": [
       "<Figure size 720x360 with 1 Axes>"
      ]
     },
     "metadata": {
      "needs_background": "light"
     },
     "output_type": "display_data"
    }
   ],
   "source": [
    "acc_per_labeler = (L == y[:, None]).mean(axis=0)\n",
    "masks = alpha < -3.5, (-3.5 < alpha) & (alpha < 3.5), alpha > 3.5\n",
    "colors = ['r', 'b', 'g']\n",
    "plt.figure(figsize=(6, 3), dpi=120)\n",
    "for mask, c in zip(masks, colors):\n",
    "    plt.scatter(alpha[mask], acc_per_labeler[mask], marker='x', s=100,\n",
    "                lw=1, c=c, label=f'{mask.sum()} labelers', facecolor=None)\n",
    "plt.xlabel(r'$\\alpha$ — estimated level of expertise')\n",
    "plt.ylabel('labeler accuracy')\n",
    "plt.ylim(0, 1)\n",
    "plt.legend()\n",
    "plt.title(r'Correlation between $\\alpha$ and accuracy')\n",
    "plt.tight_layout()"
   ]
  },
  {
   "cell_type": "markdown",
   "metadata": {},
   "source": [
    "<font color=blue>Как видим, большее $\\alpha$ соответствует большей доле верно размеченных объектов. На графике четко разделяются три группы:</font>\n",
    "* <font color=blue>Малые ($\\alpha\\approx -4$, accuracy $\\approx 0.1$) — в «красной» группе эксперты преимущественно ставят противоположные метки (возможно, намеренно).</font>\n",
    "* <font color=blue>Средние ($\\alpha \\approx 0.6$, accuracy $\\approx 0.7$) — в «синей» группе эксперты нередко ошибаются, но стараются делать верную разметку.</font>\n",
    "* <font color=blue>Большие ($\\alpha \\approx 4$, accuracy $\\approx 0.9$) — в «зеленой» группе эксперты достаточно компетентны, а также не перепутали смысл меток.</font>\n",
    "\n",
    "<font color=blue>Итак, большее значение $\\alpha$ действительно соответствует большей частоте верных меток. При этом наибольший интерес вызывает «красная» группа, в которой эксперты с высокой точностью отличают метки друг от друга, но в итоге ставят противоположные.</font>"
   ]
  },
  {
   "cell_type": "markdown",
   "metadata": {},
   "source": [
    "**Задание 4. (бонус, 1 балл)**  Как уже было замечено выше, модели не важно, какой класс 1, а какой 0. Скажем, если все эксперты оказались максимально противными и ставят метку с точностью наоборот, то у вас будет полная согласованность между экспертами, при этом невозможно понять правильно они разметили выборку или нет, смотря только на такую разметку. Чтобы избежать этого, можно включать в выборку вопрос с заведомо известным ответом, тогда вы сможете определить, ставит ли эксперт специально неверные метки.\n",
    "\n",
    "Чтобы обощить данную модель на случай заданий с заведомо известной меткой, достоточно не делать для них E-шаг, а всегда полагать апостериорное распределение вырожденным в истинном классе. Реализуйте данную модель и используйте истинную разметку *для нескольких* задач из обучения. Сравните модифицированный алгоритм с обычным. Проинтерпретируйте полученные результаты."
   ]
  },
  {
   "cell_type": "markdown",
   "metadata": {},
   "source": [
    "**Подсказка:**\n",
    "* Как можно сравнить, что модифицированный алгоритм действительно \"лучше\" обычного: запускаем обычный и модифицированный много раз (например, 100). Для каждой версии считаем распределение полученных accuracy_score. Если все сделано верно, то в модифицированной версии доля больших значений accuracy должна быть выше, чем низких (это как раз и есть сигнал о перепутывании классов), а в обычной версии -- доли должны быть примерно равны. **Для возможности получения полного балла мы ожидаем от вас какого-то такого или похожего сравнения**"
   ]
  },
  {
   "cell_type": "markdown",
   "metadata": {},
   "source": [
    "---"
   ]
  },
  {
   "cell_type": "code",
   "execution_count": 21,
   "metadata": {},
   "outputs": [],
   "source": [
    "def get_known_idx(y, n_per_group=50):\n",
    "    rng = np.arange(len(y))\n",
    "    return np.hstack([np.random.choice(rng, size=n_per_group, replace=False,\n",
    "                      p=(y==i)/(y==i).sum()) for i in range(2)])\n",
    "\n",
    "def em_with_known_labels(L, known_idx, known_labels,\n",
    "                         n_steps=1000, lr=1e-3):\n",
    "    alpha, logbeta = np.random.randn(m), np.random.randn(n)\n",
    "    beta = np.exp(logbeta)\n",
    "    q0 = np.ones((len(beta), 1)) * 0.5\n",
    "    q0[known_idx, 0] = known_labels == 0\n",
    "    E_idx = np.ones(len(q0), dtype=bool)\n",
    "    E_idx[known_idx] = False\n",
    "    \n",
    "    for step in range(n_steps):\n",
    "        q0[E_idx] = posterior(alpha, beta[E_idx], L[E_idx])\n",
    "        grad_alpha, grad_logbeta = grad_lb(alpha, beta, L, q0)\n",
    "        alpha += lr * grad_alpha\n",
    "        logbeta += lr * grad_logbeta\n",
    "        beta = np.exp(logbeta)\n",
    "        pass\n",
    "\n",
    "    return alpha, beta, q0"
   ]
  },
  {
   "cell_type": "markdown",
   "metadata": {},
   "source": [
    "<font color=blue>В версии алгоритма с известными примерами будем считать accuracy только на оставшихся.</font>"
   ]
  },
  {
   "cell_type": "code",
   "execution_count": 22,
   "metadata": {},
   "outputs": [
    {
     "data": {
      "application/vnd.jupyter.widget-view+json": {
       "model_id": "8136243040aa449698014ef88fa1f05f",
       "version_major": 2,
       "version_minor": 0
      },
      "text/plain": [
       "  0%|          | 0/100 [00:00<?, ?it/s]"
      ]
     },
     "metadata": {},
     "output_type": "display_data"
    }
   ],
   "source": [
    "from tqdm.notebook import tqdm, trange\n",
    "\n",
    "acc_unknown, acc_with_known = [], []\n",
    "for i in trange(100):\n",
    "    q0 = em(L)[2]\n",
    "    acc = ((q0 < 0.5).ravel() == y).mean()\n",
    "    acc_unknown.append(acc)\n",
    "\n",
    "    known_idx = get_known_idx(y)\n",
    "    unknown = np.ones(len(y), dtype=bool)\n",
    "    unknown[known_idx] = False\n",
    "    q0 = em_with_known_labels(L, known_idx, y[known_idx])[2]\n",
    "    acc = ((q0[unknown] < 0.5).ravel() == y[unknown]).mean()\n",
    "    acc_with_known.append(acc)"
   ]
  },
  {
   "cell_type": "code",
   "execution_count": 25,
   "metadata": {},
   "outputs": [
    {
     "name": "stdout",
     "output_type": "stream",
     "text": [
      "===~ All labels are unknown ~===\n",
      "Accuracy is high in 49% cases\n",
      "\n",
      "===~ With some (100) known labels ~===\n",
      "Accuracy is high in 55% cases\n"
     ]
    }
   ],
   "source": [
    "print('===~ All labels are unknown ~===')\n",
    "n_success_unknown = int(np.greater(acc_unknown, 0.9).mean() * 100)\n",
    "print(f'Accuracy is high in {n_success_unknown}% cases')\n",
    "print()\n",
    "print('===~ With some (100) known labels ~===')\n",
    "n_success_known = int(np.greater(acc_with_known, 0.9).mean() * 100)\n",
    "print(f'Accuracy is high in {n_success_known}% cases')"
   ]
  },
  {
   "cell_type": "markdown",
   "metadata": {},
   "source": [
    "<font color=blue>Действительно, если несколько примеров заведомо известны, то классы перепутываются реже, чем без «подсказок».</font>"
   ]
  },
  {
   "cell_type": "markdown",
   "metadata": {},
   "source": [
    "# Выравнивание слов (Word Alignment)"
   ]
  },
  {
   "cell_type": "markdown",
   "metadata": {},
   "source": [
    "EM-алгоритм также применяют на практике для настройки параметров модели выравнивания слов, более сложные модификации которой используются в статистическом машинном переводе. Мы не будем подробно обсуждать применение word alignment для перевода и ограничимся следующей целью: пусть у нас есть параллельный корпус из предложений на исходном языке и их переводов на целевой язык (в этом задании используются английский и чешский соответственно). \n",
    "\n",
    "Первая задача — определить с помощью этого корпуса, как переводится каждое отдельное слово на целевом языке. Вторая задача — для произвольной пары из предложения и его перевода установить, переводом какого слова в исходном предложении является каждое слово в целевом предложении. Оказывается, у обеих задач существует элегантное и эффективное решение при введении правильной вероятностной модели: в этой части задания вам предстоит его реализовать и оценить результаты работы. Но обо всём по порядку :)\n",
    "\n",
    "---\n",
    "\n",
    "Перед тем, как заниматься машинным обучением, давайте разберёмся с данными и метриками в интересующей нас задаче. В ячейке ниже загружается и разархивируется параллельный английско-чешский корпус, в котором есть разметка выравнивания слов. Нетрудно заметить, что формат XML-файла, использованный его авторами, не вполне стандартный: нет готовой команды , которая позволила бы получить список пар предложений вместе с выравниваниями. Это значит, что нужно разобраться с форматом и написать парсер самостоятельно, используя встроенные средства Python, например, модуль [xml](https://docs.python.org/3.7/library/xml.html)."
   ]
  },
  {
   "cell_type": "code",
   "execution_count": 3,
   "metadata": {},
   "outputs": [
    {
     "name": "stdout",
     "output_type": "stream",
     "text": [
      "<?xml version=\"1.0\" encoding=\"utf-8\" ?>\n",
      "<sentences>\n",
      "<s id=\"project_syndicate_bacchetta1-s1\">\r\n",
      "  <english>Are the Dollar 's Days Numbered ?</english>\n",
      "  <czech>Jsou dny dolaru sečteny ?</czech>\n",
      "  <sure>1-1 3-3 5-2 6-4 7-5</sure>\n",
      "  <possible>2-2 4-3</possible>\n",
      "</s>\n",
      "<s id=\"project_syndicate_bacchetta1-s2\">\r\n",
      "  <english>Philippe Bacchetta and Eric van Wincoop</english>\n",
      "  <czech>Philippe Bacchetta and Eric van Wincoop</czech>\n",
      "  <sure>1-1 2-2 3-3 4-4 5-5 6-6</sure>\n",
      "  <possible></possible>\n",
      "</s>\n",
      "<s id=\"project_syndicate_bacchetta1-s3\">\r\n",
      "  <english>A year ago , the dollar bestrode the world like a colossus .</english>\n",
      "  <czech>Ještě před rokem dolar dominoval světu jako imperátor .</czech>\n",
      "  <sure>10-7 12-8 13-9 2-3 3-2 6-4 7-5 9-6</sure>\n",
      "  <possible>1-3 11-8 3-1 5-4 8-6</possible>\n",
      "</s>\n"
     ]
    }
   ],
   "source": [
    "%%bash\n",
    "wget -q https://lindat.mff.cuni.cz/repository/xmlui/bitstream/handle/11234/1-1804/CzEnAli_1.0.tar.gz -O CzEnAli_1.0.tar.gz\n",
    "mkdir -p data\n",
    "tar -xzf CzEnAli_1.0.tar.gz -C data/\n",
    "head -n 20 data/merged_data/project_syndicate/project_syndicate_bacchetta1.wa"
   ]
  },
  {
   "cell_type": "markdown",
   "metadata": {},
   "source": [
    "**Задание -2. (0.5 балла)** Реализуйте функцию `extract_sentences`, которая принимает на вход путь к файлу с XML-разметкой, используемой в этом датасете, и возвращает список параллельных предложений, а также список из «уверенных» (sure) и «возможных» (possible) пар выравниваний. Отправьте вашу реализацию в Яндекс.Контест, чтобы убедиться в её корректности; в следующей ячейке ноутбука соберите все пары размеченных предложений из датасета в два списка `all_sentences` (список `SentencePair`) и `all_targets` (список LabeledAlignment)."
   ]
  },
  {
   "cell_type": "markdown",
   "metadata": {},
   "source": [
    "**Подсказка:**\n",
    "* Возможно у вас не будут проходить тесты, но вы не будете понимать, в чем же дело:) Попробуйте в таком случае заменить & на `&amp;` или \n",
    "`&#038;`\n",
    "https://stackoverflow.com/questions/17423495/how-to-solve-ampersand-conversion-issue-in-xml\n"
   ]
  },
  {
   "cell_type": "markdown",
   "metadata": {},
   "source": [
    "---"
   ]
  },
  {
   "cell_type": "markdown",
   "metadata": {},
   "source": [
    "**Замечание:** \n",
    "* **Полностью проходящая все тесты посылка в этом заданиии дает 0.5 балла. За непроходящий хотя бы 1 тест вы получите 0 баллов.**\n",
    "* Здесь и далее соблюдайте сигнатуры функций и пользуйтесь объявленными в модуле `preprocessing.py` классами для организации данных. Стоит заметить, что предложения уже токенизированы (даже отделена пунктуация), поэтому предобработку текстов совершать не нужно. Обратите внимание на формат хранения выравниваний: нумерация начинается с 1 (в таком виде и нужно сохранять), первым в паре идёт слово из англоязычного предложения."
   ]
  },
  {
   "cell_type": "markdown",
   "metadata": {},
   "source": [
    "---\n",
    "**>>https://contest.yandex.ru/contest/25534/run-report/50302584/<<**\n",
    "\n",
    "---"
   ]
  },
  {
   "cell_type": "code",
   "execution_count": 26,
   "metadata": {},
   "outputs": [],
   "source": [
    "import glob\n",
    "from preprocessing import extract_sentences\n",
    "\n",
    "all_sentences = []\n",
    "all_targets = []\n",
    "\n",
    "for fpath in glob.glob('data/*/*/*.wa'):\n",
    "    sps, als = extract_sentences(fpath)\n",
    "    all_sentences += sps\n",
    "    all_targets += als"
   ]
  },
  {
   "cell_type": "markdown",
   "metadata": {},
   "source": [
    "---"
   ]
  },
  {
   "cell_type": "markdown",
   "metadata": {},
   "source": [
    "**Задание -1. (0.5 балла)** Реализуйте функции `get_token_to_index` и `tokenize_sents` из модуля `preprocessing.py`, постройте словари token->index для обоих языков и постройте список из `TokenizedSentencePair` по выборке. Реализации функций также отправьте в Яндекс.Контест."
   ]
  },
  {
   "cell_type": "markdown",
   "metadata": {},
   "source": [
    "**Замечание:** \n",
    "* **Полностью проходящая все тесты посылка в этом заданиии дает 0.5 балла. За непроходящий хотя бы 1 тест вы получите 0 баллов.**"
   ]
  },
  {
   "cell_type": "markdown",
   "metadata": {},
   "source": [
    "---\n",
    "**>>https://contest.yandex.ru/contest/25534/run-report/50319417/<<**\n",
    "\n",
    "---"
   ]
  },
  {
   "cell_type": "code",
   "execution_count": 27,
   "metadata": {},
   "outputs": [],
   "source": [
    "from preprocessing import get_token_to_index, tokenize_sents\n",
    "\n",
    "t_idx_src, t_idx_tgt = get_token_to_index(all_sentences)\n",
    "tokenized_sentences = tokenize_sents(all_sentences, t_idx_src, t_idx_tgt)"
   ]
  },
  {
   "cell_type": "markdown",
   "metadata": {},
   "source": [
    "В качестве бейзлайна для этой задачи мы возьмём способ выравнивания слов по коэффициенту Дайса: слово в исходном языке является переводом слова на целевом языке, если они часто встречаются в одних и тех же предложениях и редко встречаются по отдельности. \n",
    "\n",
    "Математически это записывается по аналогии с мерой Жаккара: пусть $c(x,y)$ — число параллельных предложений, в которых есть и $x$ (на исходном языке), и $y$ (на целевом языке), а $c(x)$ и $c(y)$ — суммарное количество предложений, в которых встречается слово $x$ и $y$ соответственно. Тогда $\\textrm{Dice}(x,y)=\\frac{2 \\cdot c(x,y)}{c(x) + c(y)}$ — характеристика «похожести» слов $x$ и $y$. Она равна 1, если слова встречаются только в контексте друг друга (не бывает предложений только со словом $x$ без $y$ в переводе и наоборот), равна 0, если слова никогда не встречаются в параллельных предложениях и находится между пороговыми значениями в остальных случаях.\n",
    "\n",
    "В файле `models.py` описан абстрактный класс `BaseAligner`, наследником которого должны являться все модели в задании, а также приведён пример реализации `DiceAligner` выравнивания слов описанным выше путём. Ниже вы можете увидеть, как применять эту модель."
   ]
  },
  {
   "cell_type": "code",
   "execution_count": 28,
   "metadata": {},
   "outputs": [],
   "source": [
    "from models import DiceAligner\n",
    "\n",
    "baseline = DiceAligner(len(t_idx_src), len(t_idx_tgt), threshold=0.01)\n",
    "baseline.fit(tokenized_sentences)"
   ]
  },
  {
   "cell_type": "markdown",
   "metadata": {},
   "source": [
    "---"
   ]
  },
  {
   "cell_type": "markdown",
   "metadata": {},
   "source": [
    "Чтобы оценить качество модели выравнивания, пользуясь имеющейся разметкой, существует ряд автоматических метрик. Они подразумевают, что в разметке есть два вида выравниваний — «уверенные» (sure) и «возможные» (possible). Обозначим для конкретного предложения первое множество выравниваний $S$, второе — $P$, а предсказанные выравнивания — $A$; причём, в отличие от разметки в файле, $S\\subseteq P$. Тогда можно предложить три метрики, используя только операции над этими множествами:\n",
    "\n",
    "Precision $=\\frac{|A\\cap P|}{|A|}$. Отражает, какая доля предсказанных нами выравниваний вообще корректна; если мы дадим в качестве ответа все возможные пары слов в предложении, эта метрика сильно просядет.\n",
    "\n",
    "Recall $=\\frac{|A\\cap S|}{|S|}$. Эта метрика показывает, какую долю «уверенных» выравниваний мы обнаружили. Если мы попытаемся сделать слишком консервативную модель, которая выдаёт 0 или 1 предсказание на нетривиальных предложениях, полнота получится крайне низкая. \n",
    "\n",
    "Alignment Error Rate (AER) $=1-\\frac{|A\\cap P|+|A\\cap S|}{|A|+|S|}$. Метрика является комбинацией двух предыдущих и отслеживает общее качество работы системы, штрафуя оба описанных выше вида нежелаемого поведения модели. "
   ]
  },
  {
   "cell_type": "markdown",
   "metadata": {},
   "source": [
    "**Задание 0. (0.5 балла)** Реализуйте функции compute_precision, compute_recall, compute_aer из модуля metrics.py. Оцените качество бейзлайнового метода. Обратите внимание, что нужно использовать микро-усреднение во всех функциях: необходимо просуммировать числитель и знаменатель по всем предложениям и только потом делить."
   ]
  },
  {
   "cell_type": "markdown",
   "metadata": {},
   "source": [
    "**Замечание:**\n",
    "* **Для возможности получения полного балла** ошибка aer должна быть не выше **0.82.** Если получили значение выше -- скорее всего, у вас где-то ошибка\n",
    "* **Полностью проходящая все тесты посылка в этом заданиии дает 0.5 балла. За непроходящий хотя бы 1 тест вы получите 0 баллов.**"
   ]
  },
  {
   "cell_type": "markdown",
   "metadata": {},
   "source": [
    "---\n",
    "**>>https://contest.yandex.ru/contest/25534/run-report/50321494/<<**"
   ]
  },
  {
   "cell_type": "markdown",
   "metadata": {},
   "source": [
    "---"
   ]
  },
  {
   "cell_type": "code",
   "execution_count": 29,
   "metadata": {},
   "outputs": [
    {
     "data": {
      "text/plain": [
       "0.8115275584918071"
      ]
     },
     "execution_count": 29,
     "metadata": {},
     "output_type": "execute_result"
    }
   ],
   "source": [
    "from metrics import compute_aer\n",
    "\n",
    "compute_aer(all_targets, baseline.align(tokenized_sentences))"
   ]
  },
  {
   "cell_type": "markdown",
   "metadata": {},
   "source": [
    "---"
   ]
  },
  {
   "cell_type": "markdown",
   "metadata": {},
   "source": [
    "Теперь мы можем перейти к базовой вероятностной модели для выравнивания слов. Пусть $S=(s_1,\\ldots,s_n)$ исходное предложение, $T=(t_1,\\ldots,t_m)$ — его перевод. В роли латентных переменных будут выступать выравнивания $A=(a_1,\\ldots,a_m)$ каждого слова в целевом предложении, причём $a_i\\in\\{1,\\ldots,n\\}$ (считаем, что каждое слово в $t$ является переводом какого-то слова из $s$). Параметрами модели является матрица условных вероятностей перевода: каждый её элемент $\\theta(y|x)=p(y|x)$ отражает вероятность того, что переводом слова $x$ с исходного языка на целевой является слово $y$ (нормировка, соответственно, совершается по словарю целевого языка). Правдоподобие латентных переменных и предложения на целевом языке в этой модели записывается так:\n",
    "\n",
    "$$\n",
    "p(A,T|S)=\\prod_{i=1}^m p(a_i)p(t_i|a_i,S)=\\prod_{i=1}^m \\frac{1}{n}\\theta(t_i|s_{a_i}).\n",
    "$$ "
   ]
  },
  {
   "cell_type": "markdown",
   "metadata": {},
   "source": [
    "**Задание 1. (2 балла)** Выведите шаги EM-алгоритма для этой модели, а также получите выражение для подсчёта нижней оценки правдоподобия ($\\mathcal{L}$ в обозначениях лекции и семинара). **Обратите внимание, что на M-шаге нужно найти аналитический максимум по параметрам.**"
   ]
  },
  {
   "cell_type": "markdown",
   "metadata": {},
   "source": [
    "**Замечание:**\n",
    "* _Возможные форматы ответа:_ в ячейке ноутбука, отдельно сданная в энитаск pdf c набранными формулами в LaTex, отдельная сданная в энитаск фотография (или скан) рукописного (и разборчивого) вывода.\n",
    "* Наличие только ответа оценивается **в 0 баллов**\n",
    "* Наличие неочевидных переходов без пояснений влияет на **баллы в меньшую сторону**\n",
    "\n",
    "**Подсказка:**\n",
    "* Не забывайте об ограничениях по значению на $\\theta$, это должно быть тем или иным образом отображено в выводе шагов\n",
    "* Помните, что у вас в корпусе несколько предложений (положим их число равным $R$ например)\n",
    "* А также помните, что длины каждой пары (предложение, перевод) различны. Длины предложений $i-$й пары можно обозначать, например, как $n_i$ и $m_i$. "
   ]
  },
  {
   "cell_type": "markdown",
   "metadata": {},
   "source": [
    "<font color=blue>Проведем вывод не на синем, а на</font> человеческом, <font color=blue>так как вроде бы синий латех воспринимается тяжко.</font>\n",
    "\n",
    "Выкладки несложные, но основная задача — не запутаться в трех уровнях индексации. Будем придерживаться следующих обозначений:\n",
    "\n",
    "> * $l$ — число предложений в корпусе, дла них используем индекс $i\\in\\overline{1,l}$;\n",
    "> * $n_i$ — число слов в $i$-м исходном предложении $s^i$, индекс по словам — $j\\in\\overline{1,n_i}$;\n",
    "> * $m_i$ — число слов в $i$-м целевом предложении $t^i$, индекс по словам — $k\\in\\overline{1,m_i}$;\n",
    "> \n",
    "> Например, $s^i_j$ и $t^i_k$ — это $j$-е слово $i$-го предложения на исходном языке и $k$-е слово его перевода соответственно.\n",
    "> \n",
    "> * $a^i_k$ — латентная переменная, т.е. выравнивание $k$-го слова $i$-го целевого предложения ($t^i_k$);\n",
    "> * $A=[a^1,\\dots,a^l]$, $S=[s^1,\\dots,s^l]$, $T=[t^1,\\dots,t^l]$ — латентные переменные (выравнивания), исходные и целевые предложения по всему корпусу;\n",
    "> * $\\theta_{xy}:= \\theta(y\\mid x)$, $x\\in\\mathcal{X}$ — множество слов на исходном языке, $y\\in\\mathcal{Y}$ — множество слов на целевом языке (понадобится на M-шаге).\n",
    "\n",
    "Тогда, согласно нашей модели:\n",
    "\n",
    "$$\n",
    "p(a^i_k=j, t^i_k \\mid s^i)=\n",
    "p(a^i_k=j)\\cdot p(t^i_k\\mid a^i_k=j, s^i)=\n",
    "\\frac{\\theta(t^i_k\\mid s^i_j)}{n_i}.\n",
    "$$\n",
    "\n",
    "**E-шаг.** Здесь мы обновляем распределение скрытых переменных $q^*(A)$, полагая его равным апостериорному распределению $p(A\\mid T,S)$:\n",
    "\n",
    "$$\n",
    "q_{ijk}:=\n",
    "q^*(a^i_k=j)=\n",
    "p(a^i_k=j\\mid t^i_k, s^i)=\n",
    "\\frac{p(a^i_k=j, t^i_k\\mid s^i)}{p(t^i_k\\mid s^i)}\n",
    "= \\\\ =\n",
    "\\frac{p(a^i_k=j, t^i_k\\mid s^i)}\n",
    "{\\sum\\limits_{\\ddot{\\jmath}=1}^{n_i}\n",
    "p(a^i_k=\\ddot{\\jmath}, t^i_k\\mid s^i)}\n",
    "=\n",
    "\\frac{\\frac{1}{n_i}\\cdot\\theta(t^i_k\\mid s^i_j)}\n",
    "{\\sum\\limits_{\\ddot{\\jmath}=1}^{n_i}\n",
    "\\frac{1}{n_i}\\cdot\\theta(t^i_k\\mid s^i_{\\ddot{\\jmath}})}\n",
    "= \\\\ =\n",
    "\\frac{\\theta(t^i_k\\mid s^i_j)}\n",
    "{\\sum\\limits_{\\ddot{\\jmath}=1}^{n_i}\n",
    "\\theta(t^i_k\\mid s^i_{\\ddot{\\jmath}})}.\n",
    "$$\n",
    "\n",
    "**Нижняя оценка логарифма полного правдоподобия $\\mathcal{L}$.** \n",
    "\n",
    "$$\n",
    "\\mathcal{L}=\\int q^*(A)\\cdot\\log \\frac{p(T, A)}{q^*(A)}\n",
    "=\\\\=\n",
    "\\sum\\limits_{i=1}^{l}\n",
    "\\sum\\limits_{j=1}^{n_i}\n",
    "\\sum\\limits_{k=1}^{m_i}\n",
    "q_{ijk}\\cdot\\log\n",
    "\\frac{p(a^i_k=j, t_k\\mid s^i)}{q_{ijk}}\n",
    "=\\\\=\n",
    "\\sum\\limits_{i=1}^{l}\n",
    "\\sum\\limits_{j=1}^{n_i}\n",
    "\\sum\\limits_{k=1}^{m_i}\n",
    "q_{ijk}\\cdot\\log\n",
    "\\frac{\\theta(t^i_k\\mid s^i_k)}{n_i\\cdot q_{ijk}}.\n",
    "$$\n",
    "\n",
    "**M-шаг**. Теперь мы хотим обновить значения переменных $\\theta(y\\mid x)=\\theta_{xy}$, максимизируя нижнюю оценку логарифма правдоподобия — $\\mathcal{L}$.\n",
    "\n",
    "Отбросим все лишнее:\n",
    "$$\n",
    "\\mathcal{L}=\n",
    "\\sum\\limits_{i=1}^{l}\n",
    "\\sum\\limits_{j=1}^{n_i}\n",
    "\\sum\\limits_{k=1}^{m_i}\n",
    "q_{ijk}\\cdot\\log\n",
    "\\frac{\\theta(t^i_k\\mid s^i_k)}{n_i\\cdot q_{ijk}}\n",
    "\\ \\rightarrow\\ \\max_{\\theta} \\\\\n",
    "\\sum\\limits_{i=1}^{l}\n",
    "\\sum\\limits_{j=1}^{n_i}\n",
    "\\sum\\limits_{k=1}^{m_i}\n",
    "q_{ijk}\\cdot\\log {\\theta(t^i_k\\mid s^i_k)}\n",
    "\\ \\rightarrow\\ \\max_{\\theta}\n",
    "$$\n",
    "\n",
    "У нас задача максимизации с ограничениями,\n",
    "$$\n",
    "\\forall x\\in\\mathcal{X}\\quad \\sum\\limits_{y\\in\\mathcal{Y}} \\theta_{xy}=1,\n",
    "$$\n",
    "поэтому будем дифференцировать лагранжиан $\\mathfrak{L}$ со множителями $\\lambda_x$ для каждого равенства:\n",
    "\n",
    "$$\n",
    "\\mathfrak{L}=\n",
    "\\sum\\limits_{i=1}^{l}\n",
    "\\sum\\limits_{j=1}^{n_i}\n",
    "\\sum\\limits_{k=1}^{m_i}\n",
    "q_{ijk}\\cdot\\log {\\theta(t^i_k\\mid s^i_k)}\n",
    "-\n",
    "\\sum\\limits_{x\\in\\mathcal{X}}\n",
    "\\lambda_x\\cdot\n",
    "\\left(\\sum\\limits_{y\\in\\mathcal{Y}} \\theta_{xy}-1\\right),\n",
    "$$\n",
    "\n",
    "Продифференцируем по $\\theta_{xy}$:\n",
    "$$\n",
    "\\frac{\\partial\\mathfrak{L}}{\\partial\\theta_{xy}}\n",
    "=\n",
    "\\sum\\limits_{i=1}^{l}\n",
    "\\sum\\limits_{j=1}^{n_i}\n",
    "\\sum\\limits_{k=1}^{m_i}\n",
    "q_{ijk}\\cdot\n",
    "\\frac{\\partial}{\\partial\\theta_{xy}}\n",
    "\\log {\\theta(t^i_k\\mid s^i_k)}\n",
    "-\n",
    "\\frac{\\partial}{\\partial\\theta_{xy}}\n",
    "\\sum\\limits_{x\\in\\mathcal{X}}\n",
    "\\lambda_x\\cdot\n",
    "\\left(\\sum\\limits_{y\\in\\mathcal{Y}} \\theta_{xy}-1\\right)\n",
    "= \\\\ =\n",
    "\\sum\\limits_{i=1}^{l}\n",
    "\\sum\\limits_{j=1}^{n_i}\n",
    "\\sum\\limits_{k=1}^{m_i}\n",
    "q_{ijk}\\cdot\n",
    "\\frac{1}{\\theta_{xy}}\\cdot[s^i_j=x]\\cdot[t^i_k=y]-\\lambda_x.\n",
    "$$\n",
    "\n",
    "Приравнивая производную нулю, выражаем $\\theta_{xy}$:\n",
    "$$\n",
    "\\theta_{xy}=\\frac{1}{\\lambda_{x}}\n",
    "\\sum\\limits_{i=1}^{l}\n",
    "\\sum\\limits_{j=1}^{n_i}\n",
    "\\sum\\limits_{k=1}^{m_i}\n",
    "q_{ijk}\\cdot\n",
    "[s^i_j=x]\\cdot[t^i_k=y],\n",
    "$$\n",
    "\n",
    "суммируем по всем $y\\in\\mathcal{Y}$:\n",
    "\n",
    "$$\n",
    "\\sum\\limits_{y\\in\\mathcal{Y}} \\theta_{xy}=1\n",
    "=\\\\=\n",
    "\\sum\\limits_{y\\in\\mathcal{Y}}\n",
    "\\frac{1}{\\lambda_{x}}\n",
    "\\sum\\limits_{i=1}^{l}\n",
    "\\sum\\limits_{j=1}^{n_i}\n",
    "\\sum\\limits_{k=1}^{m_i}\n",
    "q_{ijk}\\cdot\n",
    "[s^i_j=x]\\cdot[t^i_k=y]\n",
    "=\\\\=\n",
    "\\frac{1}{\\lambda_{x}}\n",
    "\\sum\\limits_{i=1}^{l}\n",
    "\\sum\\limits_{j=1}^{n_i}\n",
    "\\sum\\limits_{k=1}^{m_i}\n",
    "q_{ijk}\\cdot\n",
    "[s^i_j=x]\\cdot\n",
    "\\underbrace{\\sum\\limits_{y\\in\\mathcal{Y}}[t^i_k=y]}_{1}.\n",
    "$$\n",
    "\n",
    "Можем выразить множители Лагранжа:\n",
    "$$\n",
    "\\lambda_x=\n",
    "\\sum\\limits_{i=1}^{l}\n",
    "\\sum\\limits_{j=1}^{n_i}\n",
    "\\sum\\limits_{k=1}^{m_i}\n",
    "q_{ijk}\n",
    "[s^i_j=x].\n",
    "$$\n",
    "\n",
    "Осталось подставить в подставить в выражение для $\\theta_{xy}$:\n",
    "$$\n",
    "\\theta_{xy}=\\frac\n",
    "{\\sum\\limits_{i=1}^{l}\n",
    "\\sum\\limits_{j=1}^{n_i}\n",
    "\\sum\\limits_{k=1}^{m_i}\n",
    "q_{ijk}\\cdot\n",
    "[s^i_j=x]\\cdot[t^i_k=y]}\n",
    "{\\sum\\limits_{i=1}^{l}\n",
    "\\sum\\limits_{j=1}^{n_i}\n",
    "\\sum\\limits_{k=1}^{m_i}\n",
    "q_{ijk}\n",
    "[s^i_j=x]}.\n",
    "$$\n",
    "\n",
    "Почему на полученных значениях действительно достигается максимум? Потому что $\\theta_{xy}$ входят в $\\mathcal{L}$ только через логарифм, т.е. вогнутую функцию, а все наложенные ограничения — линейные. Таким образом, выполняется условие Слейтера (с заменой минимума на максимум и выпуклости на вогнутость)."
   ]
  },
  {
   "cell_type": "markdown",
   "metadata": {},
   "source": [
    "---"
   ]
  },
  {
   "cell_type": "markdown",
   "metadata": {},
   "source": [
    "**Задание 2. (2 балла)** Реализуйте все методы класса `WordAligner` в соответствии с полученными вами формулами. Протестируйте вашу реализацию через Яндекс.Контест, а здесь обучите модель и посчитайте её AER на истинной разметке. Чтобы предсказать выравнивание для пары предложений в этой модели, следует выбирать в соответствие для слова в целевом предложении с индексом $i$ позицию, соответствующую максимуму апостериорного распределения $p(a_i|T,S)$."
   ]
  },
  {
   "cell_type": "markdown",
   "metadata": {},
   "source": [
    "**Замечание:** \n",
    "* **Полностью проходящая все тесты посылка в этом заданиии дает 1 балл. За хотя бы 1 непройденный тест вы можете получить за это задание максимум 1 балл**\n",
    "* **Для возможности получения полного балла** ошибка aer должна быть не выше **0.6.** Если получили значение выше -- скорее всего, у вас где-то ошибка"
   ]
  },
  {
   "cell_type": "markdown",
   "metadata": {},
   "source": [
    "---\n",
    "**>>https://contest.yandex.ru/contest/25534/run-report/50456811/<<**\n",
    "\n",
    "---"
   ]
  },
  {
   "cell_type": "markdown",
   "metadata": {},
   "source": [
    "<font color=blue>Понадобилось много попыток, чтобы понять, что numpy не накапливает значения в дублирующихся индексах...</font>"
   ]
  },
  {
   "cell_type": "code",
   "execution_count": 30,
   "metadata": {},
   "outputs": [
    {
     "data": {
      "text/plain": [
       "0.5802839095012662"
      ]
     },
     "execution_count": 30,
     "metadata": {},
     "output_type": "execute_result"
    }
   ],
   "source": [
    "from models import WordAligner\n",
    "\n",
    "word_aligner = WordAligner(len(t_idx_src), len(t_idx_tgt), 20)\n",
    "word_aligner.fit(tokenized_sentences)\n",
    "compute_aer(all_targets, word_aligner.align(tokenized_sentences))"
   ]
  },
  {
   "cell_type": "markdown",
   "metadata": {},
   "source": [
    "Заметим, что таблицу вероятностей перевода можно использовать и саму по себе для построения словарей. Пример работы показан ниже: метод хоть и работает, но мягко говоря, неидально — слишком мало данных."
   ]
  },
  {
   "cell_type": "code",
   "execution_count": 31,
   "metadata": {},
   "outputs": [],
   "source": [
    "idx_token_tgt = {index:token for token, index in t_idx_tgt.items()}"
   ]
  },
  {
   "cell_type": "code",
   "execution_count": 32,
   "metadata": {},
   "outputs": [
    {
     "data": {
      "text/plain": [
       "['Pan', 'řekl', 'pan']"
      ]
     },
     "execution_count": 32,
     "metadata": {},
     "output_type": "execute_result"
    }
   ],
   "source": [
    "[idx_token_tgt[i] for i in word_aligner.translation_probs[t_idx_src['Mr']].argsort()[-3:]]"
   ]
  },
  {
   "cell_type": "code",
   "execution_count": 33,
   "metadata": {},
   "outputs": [
    {
     "data": {
      "text/plain": [
       "['-', 'Mannová', 'paní']"
      ]
     },
     "execution_count": 33,
     "metadata": {},
     "output_type": "execute_result"
    }
   ],
   "source": [
    "[idx_token_tgt[i] for i in word_aligner.translation_probs[t_idx_src['Mrs']].argsort()[-3:]]"
   ]
  },
  {
   "cell_type": "code",
   "execution_count": 34,
   "metadata": {
    "scrolled": true
   },
   "outputs": [
    {
     "data": {
      "text/plain": [
       "['z', 'pro', 'vody']"
      ]
     },
     "execution_count": 34,
     "metadata": {},
     "output_type": "execute_result"
    }
   ],
   "source": [
    "[idx_token_tgt[i] for i in word_aligner.translation_probs[t_idx_src['water']].argsort()[-3:]]"
   ]
  },
  {
   "cell_type": "code",
   "execution_count": 35,
   "metadata": {},
   "outputs": [
    {
     "data": {
      "text/plain": [
       "['koni', 'konec', 'S']"
      ]
     },
     "execution_count": 35,
     "metadata": {},
     "output_type": "execute_result"
    }
   ],
   "source": [
    "[idx_token_tgt[i] for i in word_aligner.translation_probs[t_idx_src['depended']].argsort()[-3:]]"
   ]
  },
  {
   "cell_type": "code",
   "execution_count": 36,
   "metadata": {},
   "outputs": [
    {
     "data": {
      "text/plain": [
       "['.', 'se', 'na']"
      ]
     },
     "execution_count": 36,
     "metadata": {},
     "output_type": "execute_result"
    }
   ],
   "source": [
    "[idx_token_tgt[i] for i in word_aligner.translation_probs[t_idx_src['on']].argsort()[-3:]]"
   ]
  },
  {
   "cell_type": "markdown",
   "metadata": {},
   "source": [
    "---"
   ]
  },
  {
   "cell_type": "markdown",
   "metadata": {},
   "source": [
    "**Задание 3. (0.5 балла)** Мы смогли получить матрицу условных вероятностей перевода исходного языка в целевой. Можно ли, пользуясь этой матрицей и ещё какими-то статистиками по параллельному корпусу, получить вероятности перевода целевого языка в исходный?\n",
    "\n",
    "* Объясните словами принцип работы вашего метода и реализуйте его.\n",
    "* Также приведите ниже пример его работы, показав пару удачных переводов.\n",
    "\n",
    "**Подсказка:** какие формулы из теории вероятностей вы знаете? :)"
   ]
  },
  {
   "cell_type": "markdown",
   "metadata": {},
   "source": [
    "---"
   ]
  },
  {
   "cell_type": "markdown",
   "metadata": {},
   "source": [
    "<font color=blue>...формула Байеса? Выражаем\n",
    "    $$p(x\\mid y)=\\frac{p(y|x)\\cdot p(x)}{p(y)},$$\n",
    "а априорные $p(x)$ и $p(y)$ оценим как частоты слов относительно всего корпуса (по своим языкам, разумеется).</font>"
   ]
  },
  {
   "cell_type": "code",
   "execution_count": 37,
   "metadata": {},
   "outputs": [],
   "source": [
    "priors_src, priors_tgt = np.zeros(len(t_idx_src)), np.zeros(len(t_idx_tgt))\n",
    "\n",
    "for pair in tokenized_sentences:\n",
    "    np.add.at(priors_src, pair.source_tokens, 1)\n",
    "    np.add.at(priors_tgt, pair.target_tokens, 1)\n",
    "\n",
    "priors_src /= priors_src.sum()\n",
    "priors_tgt /= priors_tgt.sum()\n",
    "\n",
    "reverse_translation = word_aligner.translation_probs.T * priors_src\n",
    "reverse_translation /= priors_tgt[:, None]\n",
    "\n",
    "idx_token_src = {index: token for token, index in t_idx_src.items()}"
   ]
  },
  {
   "cell_type": "code",
   "execution_count": 38,
   "metadata": {},
   "outputs": [],
   "source": [
    "def cz2eng(czech_word, n=3):\n",
    "    top_n = reverse_translation[t_idx_tgt[czech_word]].argsort()[-n:][::-1]\n",
    "    return [idx_token_src[i] for i in top_n]"
   ]
  },
  {
   "cell_type": "markdown",
   "metadata": {},
   "source": [
    "<font color=blue>Функция возвращает наиболее подходящие переводы в порядке <u>убывания</u> уверенности.</font>"
   ]
  },
  {
   "cell_type": "code",
   "execution_count": 39,
   "metadata": {},
   "outputs": [
    {
     "data": {
      "text/plain": [
       "['cry', 'recalls', 'anxious']"
      ]
     },
     "execution_count": 39,
     "metadata": {},
     "output_type": "execute_result"
    }
   ],
   "source": [
    "cz2eng('plakala')"
   ]
  },
  {
   "cell_type": "code",
   "execution_count": 40,
   "metadata": {},
   "outputs": [
    {
     "data": {
      "text/plain": [
       "['life', 'lives', 'ups']"
      ]
     },
     "execution_count": 40,
     "metadata": {},
     "output_type": "execute_result"
    }
   ],
   "source": [
    "cz2eng('život')"
   ]
  },
  {
   "cell_type": "code",
   "execution_count": 41,
   "metadata": {},
   "outputs": [
    {
     "data": {
      "text/plain": [
       "['pain', 'console', 'crushing']"
      ]
     },
     "execution_count": 41,
     "metadata": {},
     "output_type": "execute_result"
    }
   ],
   "source": [
    "cz2eng('bolest')"
   ]
  },
  {
   "cell_type": "code",
   "execution_count": 42,
   "metadata": {},
   "outputs": [
    {
     "data": {
      "text/plain": [
       "['Christmas', 'song', 'stocking']"
      ]
     },
     "execution_count": 42,
     "metadata": {},
     "output_type": "execute_result"
    }
   ],
   "source": [
    "cz2eng('vánoční')"
   ]
  },
  {
   "cell_type": "markdown",
   "metadata": {},
   "source": [
    "---"
   ]
  },
  {
   "cell_type": "markdown",
   "metadata": {},
   "source": [
    "**Задание 4. (0.5 балла)** Визуализируйте полученные выравнивания для нескольких предложений в виде heatmap: по одной из осей располагаются токены исходного текста, по другой — токены его перевода, на пересечении позиций $i$ и $j$ — 0 либо 1 в зависимости от того, является ли в обученной модели $a_i$ равным $j$. Проинтерпретируйте их.\n",
    "\n",
    "Постройте аналогичный график, но без дискретизации, а визуализируя напрямую апостериорное распределение. Можете ли вы найти ситуации, в которых модель не уверена, переводом какого слова является слово $i$?"
   ]
  },
  {
   "cell_type": "markdown",
   "metadata": {},
   "source": [
    "**Подсказка:**\n",
    "* Старайтесь не брать слишком короткие предложения"
   ]
  },
  {
   "cell_type": "markdown",
   "metadata": {},
   "source": [
    "---"
   ]
  },
  {
   "cell_type": "code",
   "execution_count": 45,
   "metadata": {},
   "outputs": [],
   "source": [
    "alignments = word_aligner.align(tokenized_sentences)\n",
    "posteriors = word_aligner._e_step(tokenized_sentences)"
   ]
  },
  {
   "cell_type": "code",
   "execution_count": 46,
   "metadata": {},
   "outputs": [
    {
     "data": {
      "image/png": "[encoded data removed]",
      "text/plain": [
       "<Figure size 1200x800 with 2 Axes>"
      ]
     },
     "metadata": {
      "needs_background": "light"
     },
     "output_type": "display_data"
    }
   ],
   "source": [
    "idx = 0\n",
    "src, tgt = all_sentences[idx].source, all_sentences[idx].target\n",
    "al_map = np.zeros((len(src), len(tgt)), dtype=bool)\n",
    "als = np.array(alignments[idx]).T - 1\n",
    "al_map[als[0], als[1]] = 1\n",
    "\n",
    "plt.figure(dpi=200)\n",
    "names = ['predicted alignments', 'posteriors']\n",
    "vmaps = [al_map, posteriors[idx]]\n",
    "for i, (vmap, name) in enumerate(zip(vmaps, names), 1):\n",
    "    plt.subplot(1, 2, i)\n",
    "    plt.title(name)\n",
    "    plt.imshow(vmap, aspect='equal')\n",
    "    plt.xlabel('target'), plt.ylabel('source')\n",
    "    for spine in plt.gca().spines.values():\n",
    "        spine.set_visible(False)\n",
    "    plt.grid([])\n",
    "    if i == 1:\n",
    "        plt.yticks(ticks=np.arange(len(src)), labels=src, fontsize=5)\n",
    "    else:\n",
    "        plt.yticks(ticks=np.arange(len(src)), labels=[])\n",
    "    plt.xticks(ticks=np.arange(len(tgt)), labels=tgt, rotation=-90, fontsize=5)\n",
    "plt.suptitle(f'Word alignment of the {idx}th sentence, EM', y=0.82)\n",
    "plt.tight_layout()"
   ]
  },
  {
   "cell_type": "code",
   "execution_count": 47,
   "metadata": {},
   "outputs": [
    {
     "data": {
      "image/png": "[encoded data removed]",
      "text/plain": [
       "<Figure size 1200x800 with 2 Axes>"
      ]
     },
     "metadata": {
      "needs_background": "light"
     },
     "output_type": "display_data"
    }
   ],
   "source": [
    "idx = 1\n",
    "src, tgt = all_sentences[idx].source, all_sentences[idx].target\n",
    "al_map = np.zeros((len(src), len(tgt)), dtype=bool)\n",
    "als = np.array(alignments[idx]).T - 1\n",
    "al_map[als[0], als[1]] = 1\n",
    "\n",
    "plt.figure(dpi=200)\n",
    "names = ['predicted alignments', 'posteriors']\n",
    "vmaps = [al_map, posteriors[idx]]\n",
    "for i, (vmap, name) in enumerate(zip(vmaps, names), 1):\n",
    "    plt.subplot(1, 2, i)\n",
    "    plt.title(name)\n",
    "    plt.imshow(vmap, aspect='equal')\n",
    "    plt.xlabel('target'), plt.ylabel('source')\n",
    "    for spine in plt.gca().spines.values():\n",
    "        spine.set_visible(False)\n",
    "    plt.grid([])\n",
    "    if i == 1:\n",
    "        plt.yticks(ticks=np.arange(len(src)), labels=src, fontsize=3)\n",
    "    else:\n",
    "        plt.yticks(ticks=np.arange(len(src)), labels=[])\n",
    "    plt.xticks(ticks=np.arange(len(tgt)), labels=tgt, rotation=-90, fontsize=3)\n",
    "plt.suptitle(f'Word alignment of the {idx}th sentence, EM', y=0.87)\n",
    "plt.tight_layout()"
   ]
  },
  {
   "cell_type": "code",
   "execution_count": 48,
   "metadata": {},
   "outputs": [
    {
     "data": {
      "image/png": "[encoded data removed]",
      "text/plain": [
       "<Figure size 1200x800 with 2 Axes>"
      ]
     },
     "metadata": {
      "needs_background": "light"
     },
     "output_type": "display_data"
    }
   ],
   "source": [
    "idx = 4\n",
    "src, tgt = all_sentences[idx].source, all_sentences[idx].target\n",
    "al_map = np.zeros((len(src), len(tgt)), dtype=bool)\n",
    "als = np.array(alignments[idx]).T - 1\n",
    "al_map[als[0], als[1]] = 1\n",
    "\n",
    "plt.figure(dpi=200)\n",
    "names = ['predicted alignments', 'posteriors']\n",
    "vmaps = [al_map, posteriors[idx]]\n",
    "for i, (vmap, name) in enumerate(zip(vmaps, names), 1):\n",
    "    plt.subplot(1, 2, i)\n",
    "    plt.title(name)\n",
    "    plt.imshow(vmap, aspect='equal')\n",
    "    plt.xlabel('target'), plt.ylabel('source')\n",
    "    for spine in plt.gca().spines.values():\n",
    "        spine.set_visible(False)\n",
    "    plt.grid([])\n",
    "    if i == 1:\n",
    "        plt.yticks(ticks=np.arange(len(src)), labels=src, fontsize=4)\n",
    "    else:\n",
    "        plt.yticks(ticks=np.arange(len(src)), labels=[])\n",
    "    plt.xticks(ticks=np.arange(len(tgt)), labels=tgt, rotation=-90, fontsize=4)\n",
    "plt.suptitle(f'Word alignment of the {idx}th sentence, EM', y=0.95)\n",
    "plt.tight_layout()"
   ]
  },
  {
   "cell_type": "markdown",
   "metadata": {},
   "source": [
    "<font color=blue>Основная особенность, видная на графиках — модель выстравивает выравнивание слов примерно согласно их расположению (т.е. на heatmap'е выделена диагональ). Также обнаруживается, что у некоторых слов целевого словаря совпадает распределение апостериорных вероятностей, и в максимум в итоге попадает довольно редкое слово. Помимо этого, токены, в которых модель стабильно не уверена — запятые.</font>"
   ]
  },
  {
   "cell_type": "markdown",
   "metadata": {},
   "source": [
    "## Бонусная часть"
   ]
  },
  {
   "cell_type": "markdown",
   "metadata": {},
   "source": [
    "Заметим, что при задании модели мы сделали довольно сильное предположение о том, что вероятности выбора слова для выравнивания никак не зависят от позиции слова в целевом предложении. Можно сделать эти вероятности настраиваемыми параметрами, получив прямоугольную матрицу $\\phi_{m,n}(j|i)=p(a_i=j|m,n)$ для каждой пары длин предложений $m,n$: по-прежнему мы получаем распределение над индексами в исходном предложении. Тогда модель приобретает вид\n",
    "$$\n",
    "p(A,T|S)=\\prod_{i=1}^m p(a_i|m,n)p(t_i| a_i, S)=\\prod_{i=1}^m \\phi_{m,n}(a_i|i)\\theta(t_i|s_{a_i}).\n",
    "$$"
   ]
  },
  {
   "cell_type": "markdown",
   "metadata": {},
   "source": [
    "**Задание 5. (бонус, 1.5 балла)** Выведите шаги EM-алгоритма для этой модели, а также получите выражение для подсчёта нижней оценки правдоподобия."
   ]
  },
  {
   "cell_type": "markdown",
   "metadata": {},
   "source": [
    "**Замечание:**\n",
    "* _Возможные форматы ответа:_ в ячейке ноутбука, отдельно сданная в энитаск pdf c набранными формулами в LaTex, отдельная сданная в энитаск фотография (или скан) рукописного (и разборчивого) вывода.\n",
    "* Наличие только ответа оценивается **в 0 баллов**\n",
    "* Наличие неочевидных переходов без пояснений влияет на **баллы в меньшую сторону**"
   ]
  },
  {
   "cell_type": "markdown",
   "metadata": {},
   "source": [
    "---"
   ]
  },
  {
   "cell_type": "markdown",
   "metadata": {},
   "source": [
    "Сохраним обозначения с вывода для `WordAligner`, но добавим новое для  $\\phi$:\n",
    "\n",
    "> $\\phi^{n_i m_i}_{jk} := \\phi_{m_i,n_i}(j\\mid k)$ — это проще согласуется с размером и индексацией;\n",
    "\n",
    "Отличие от прошлого вывода — замена $\\frac{1}{n_i}$ на набор $\\phi^{n_i m_i}_{jk}$. Таким образом, модель приобретает вид\n",
    "\n",
    "$$\n",
    "p(a^i_k=j, t^i_k \\mid s^i)=\n",
    "p(a^i_k=j\\mid m_i, n_i)\\cdot p(t^i_k\\mid a^i_k=j, s^i)=\n",
    "\\phi^{n_i m_i}_{jk}\\cdot\\theta(t^i_k\\mid s^i_j).\n",
    "$$\n",
    "\n",
    "**E-шаг**. Здесь пока все хорошо, просто подменяем:\n",
    "\n",
    "$$\n",
    "q_{ijk}:=\n",
    "q^*(a^i_k=j)=\n",
    "p(a^i_k=j\\mid t^i_k, s^i)=\n",
    "\\frac{p(a^i_k=j, t^i_k\\mid s^i)}{p(t^i_k\\mid s^i)}\n",
    "= \\\\ =\n",
    "\\frac{p(a^i_k=j, t^i_k\\mid s^i)}\n",
    "{\\sum\\limits_{\\ddot{\\jmath}=1}^{n_i}\n",
    "p(a^i_k=\\ddot{\\jmath}, t^i_k\\mid s^i)}\n",
    "=\n",
    "\\frac\n",
    "{\\phi^{n_i m_i}_{jk}\\cdot\\theta(t^i_k\\mid s^i_j)}\n",
    "{\\sum\\limits_{\\ddot{\\jmath}=1}^{n_i}\n",
    "\\phi^{n_i m_i}_{{\\ddot{\\jmath}}k}\\cdot\\theta(t^i_k\\mid s^i_{\\ddot{\\jmath}})\n",
    "}.\n",
    "$$\n",
    "\n",
    "**Нижняя оценка логарифма полного правдоподобия $\\mathcal{L}$.** Здесь пока тоже без сюрпризов!\n",
    "\n",
    "$$\n",
    "\\mathcal{L}=\\int q^*(A)\\cdot\\log \\frac{p(T, A)}{q^*(A)}\n",
    "=\\\\=\n",
    "\\sum\\limits_{i=1}^{l}\n",
    "\\sum\\limits_{j=1}^{n_i}\n",
    "\\sum\\limits_{k=1}^{m_i}\n",
    "q_{ijk}\\cdot\\log\n",
    "\\frac{p(a^i_k=j, t_k\\mid s^i)}{q_{ijk}}\n",
    "=\\\\=\n",
    "\\sum\\limits_{i=1}^{l}\n",
    "\\sum\\limits_{j=1}^{n_i}\n",
    "\\sum\\limits_{k=1}^{m_i}\n",
    "q_{ijk}\\cdot\\log\n",
    "\\frac{\\phi^{n_i m_i}_{jk}\\cdot\\theta(t^i_k\\mid s^i_j)}{q_{ijk}}.\n",
    "$$\n",
    "\n",
    "**M-шаг**. А вот сейчас начнется...\n",
    "\n",
    "Во-первых, заметим, что логарифм факторизует $\\mathcal{L}$ на отдельные компоненты с $\\theta$ и $\\phi$. Причем часть с $\\theta$ полностью совпадает с предыдущей моделью, поэтому сразу выпишем значения для аналитического максимума:\n",
    "\n",
    "$$\n",
    "\\theta_{xy}=\\frac\n",
    "{\\sum\\limits_{i=1}^{l}\n",
    "\\sum\\limits_{j=1}^{n_i}\n",
    "\\sum\\limits_{k=1}^{m_i}\n",
    "q_{ijk}\\cdot\n",
    "[s^i_j=x]\\cdot[t^i_k=y]}\n",
    "{\\sum\\limits_{i=1}^{l}\n",
    "\\sum\\limits_{j=1}^{n_i}\n",
    "\\sum\\limits_{k=1}^{m_i}\n",
    "q_{ijk}\n",
    "[s^i_j=x]}.\n",
    "$$\n",
    "\n",
    "Теперь разберемся с $\\phi$. Мы максимизируем \n",
    "$$\n",
    "\\sum\\limits_{i=1}^{l}\n",
    "\\sum\\limits_{j=1}^{n_i}\n",
    "\\sum\\limits_{k=1}^{m_i}\n",
    "q_{ijk}\\log {\\phi^{n_i m_i}_{jk}} \\ \\rightarrow \\ \\max_{\\phi},\n",
    "$$\n",
    "\n",
    "причем на $\\phi$ имеются ограничения — нормировка вероятностей:\n",
    "$$\n",
    "\\forall i\\in\\overline{1,l}, \\forall k\\in \\overline{1,m_i} \\quad\n",
    "\\sum\\limits_{j=1}^{n_i} \\phi^{n_i m_i}_{jk} =1.\n",
    "$$\n",
    "\n",
    "Записываем лагранжиан $\\mathfrak{L}$:\n",
    "$$\n",
    "\\mathfrak{L}=\n",
    "\\sum\\limits_{i=1}^{l}\n",
    "\\sum\\limits_{j=1}^{n_i}\n",
    "\\sum\\limits_{k=1}^{m_i}\n",
    "q_{ijk}\\log {\\phi^{n_i m_i}_{jk}} -\n",
    "\\sum\\limits_{i=1}^{l}\n",
    "\\sum\\limits_{k=1}^{m_i}\n",
    "\\lambda_{ik}\n",
    "\\sum\\limits_{j=1}^{n_i}\\left(\\phi^{n_i m_i}_{jk} -1\\right),\n",
    "$$\n",
    "\n",
    "дифференцируем по $\\phi^{n_a m_a}_{bc}$ (т.е. $i,j,k$ соответствуют $a,b,c$):\n",
    "$$\n",
    "0=\\frac{\\partial{\\mathfrak{L}}}{\\partial{\\phi^{n_a m_a}_{bc}}}=\n",
    "\\sum\\limits_{i=1}^{l}\n",
    "\\sum\\limits_{j=1}^{n_i}\n",
    "\\sum\\limits_{k=1}^{m_i}\n",
    "q_{ijk}\\frac{1}{\\phi^{n_i m_i}_{jk}}\n",
    "[n_i,m_i,j,k=n_a,m_a,b,c]\n",
    "-\n",
    "\\sum\\limits_{i=1}^{l}\n",
    "\\sum\\limits_{k=1}^{m_i}\n",
    "\\lambda_{ik}[n_i,m_i,k=n_a,m_a,c],\n",
    "$$\n",
    "\n",
    "где равенство внутри индикаторов означает проверку того, каждый элемент левой части равен соответствующему элементу правой. Выражаем $\\phi^{n_a m_a}_{bc}$:\n",
    "\n",
    "$$\n",
    "\\phi^{n_a m_a}_{bc}=\n",
    "\\frac\n",
    "{\n",
    "\\sum\\limits_{i=1}^{l}\n",
    "\\sum\\limits_{j=1}^{n_i}\n",
    "\\sum\\limits_{k=1}^{m_i}\n",
    "q_{ijk}\n",
    "[n_i,m_i,j,k=n_a,m_a,b,c]\n",
    "}\n",
    "{\n",
    "\\sum\\limits_{i=1}^{l}\n",
    "\\sum\\limits_{k=1}^{m_i}\n",
    "\\lambda_{ik}[n_i,m_i,k=n_a,m_a,c]\n",
    "}.\n",
    "$$\n",
    "\n",
    "Суммируем обе части равенства по $b\\in\\overline{1,n_a}$ и учитываем ограничения:\n",
    "$$\n",
    "\\sum\\limits_{b=1}^{n_a}\n",
    "\\phi^{n_a m_a}_{bc}\n",
    "=1\n",
    "= \\\\ =\n",
    "\\frac\n",
    "{\n",
    "\\sum\\limits_{i=1}^{l}\n",
    "\\sum\\limits_{j=1}^{n_i}\n",
    "\\sum\\limits_{k=1}^{m_i}\n",
    "q_{ijk}\n",
    "[n_i,m_i,j,k=n_a,m_a,b,c]\n",
    "}\n",
    "{\n",
    "\\sum\\limits_{i=1}^{l}\n",
    "\\sum\\limits_{k=1}^{m_i}\n",
    "\\lambda_{ik}[n_i,m_i,k=n_a,m_a,c]\n",
    "}\n",
    "= \\\\ =\n",
    "\\frac\n",
    "{\n",
    "\\sum\\limits_{i=1}^{l}\n",
    "\\sum\\limits_{j=1}^{n_i}\n",
    "\\sum\\limits_{k=1}^{m_i}\n",
    "q_{ijk}\n",
    "\\sum\\limits_{b=1}^{n_a}\n",
    "[n_i,m_i,j,k=n_a,m_a,b,c]\n",
    "}\n",
    "{\n",
    "\\sum\\limits_{i=1}^{l}\n",
    "\\sum\\limits_{k=1}^{m_i}\n",
    "\\lambda_{ik}[n_i,m_i,k=n_a,m_a,c]\n",
    "}\n",
    "= \\\\ =\n",
    "\\frac\n",
    "{\n",
    "\\sum\\limits_{i=1}^{l}\n",
    "\\sum\\limits_{j=1}^{n_i}\n",
    "\\sum\\limits_{k=1}^{m_i}\n",
    "q_{ijk}\n",
    "[n_i,m_i,k=n_a,m_a,c]\n",
    "}\n",
    "{\n",
    "\\sum\\limits_{i=1}^{l}\n",
    "\\sum\\limits_{k=1}^{m_i}\n",
    "\\lambda_{ik}[n_i,m_i,k=n_a,m_a,c]\n",
    "}\n",
    "\\ \\implies \\\\\n",
    "\\sum\\limits_{i=1}^{l}\n",
    "\\sum\\limits_{k=1}^{m_i}\n",
    "\\lambda_{ik}[n_i,m_i,k=n_a,m_a,c]\n",
    "=\n",
    "\\sum\\limits_{i=1}^{l}\n",
    "\\sum\\limits_{j=1}^{n_i}\n",
    "\\sum\\limits_{k=1}^{m_i}\n",
    "q_{ijk}\n",
    "[n_i,m_i,k=n_a,m_a,c]\n",
    "$$\n",
    "\n",
    "Ой, а это же как раз знаменатель, который нам нужен в ранее полученном выражении для $\\phi^{n_a m_a}_{bc}$. Подставляем и получаем искомые значения:\n",
    "\n",
    "$$\n",
    "\\phi^{n_a m_a}_{bc}=\n",
    "\\frac\n",
    "{\n",
    "\\sum\\limits_{i=1}^{l}\n",
    "\\sum\\limits_{j=1}^{n_i}\n",
    "\\sum\\limits_{k=1}^{m_i}\n",
    "q_{ijk}\n",
    "[n_i,m_i,j,k=n_a,m_a,b,c]\n",
    "}\n",
    "{\n",
    "\\sum\\limits_{i=1}^{l}\n",
    "\\sum\\limits_{j=1}^{n_i}\n",
    "\\sum\\limits_{k=1}^{m_i}\n",
    "q_{ijk}\n",
    "[n_i,m_i,k=n_a,m_a,c]\n",
    "}.\n",
    "$$"
   ]
  },
  {
   "cell_type": "markdown",
   "metadata": {},
   "source": [
    "---"
   ]
  },
  {
   "cell_type": "markdown",
   "metadata": {},
   "source": [
    "**Задание 6. (бонус, 1.5 балла)** Реализуйте все методы класса `WordPositionAligner`, протестируйте их корректность через Яндекс.Контест. Обучите модель, оцените её качество на истинной разметке и сравните его с качеством предыдущей более простой модели. Проиллюстрируйте влияние стартовых параметров на результат, проинициализировав эту модель параметрами модели из задания 2 (важно, чтобы суммарное число эпох обучения в обоих сценариях оставалось тем же)."
   ]
  },
  {
   "cell_type": "markdown",
   "metadata": {},
   "source": [
    "**Замечание:** \n",
    "* **Полностью проходящая все тесты посылка в этом заданиии дает 0.75 балла. За хотя бы 1 непройденный тест вы можете получить за это задание максимум 0.75 балла**"
   ]
  },
  {
   "cell_type": "markdown",
   "metadata": {},
   "source": [
    "---\n",
    "**>>https://contest.yandex.ru/contest/25534/run-report/50492511/<<**\n",
    "\n",
    "---"
   ]
  },
  {
   "cell_type": "code",
   "execution_count": 49,
   "metadata": {},
   "outputs": [
    {
     "data": {
      "text/plain": [
       "0.5973212319718155"
      ]
     },
     "execution_count": 49,
     "metadata": {},
     "output_type": "execute_result"
    }
   ],
   "source": [
    "from models import WordPositionAligner\n",
    "\n",
    "wp_aligner = WordPositionAligner(len(t_idx_src), len(t_idx_tgt), 20)\n",
    "wp_aligner.fit(tokenized_sentences)\n",
    "compute_aer(all_targets, wp_aligner.align(tokenized_sentences))"
   ]
  },
  {
   "cell_type": "markdown",
   "metadata": {},
   "source": [
    "<font color=blue>Получается, усложненная модель сработала хуже на том же числе эпох (20). Попробуем теперь обучить `WordAligner` на 10 эпохах, зафиксировать качество, инициализировать обученными параметрами `WordPositionAligner` и доучить последнюю модель еще на 10 эпохах.</font>"
   ]
  },
  {
   "cell_type": "code",
   "execution_count": 52,
   "metadata": {},
   "outputs": [
    {
     "name": "stdout",
     "output_type": "stream",
     "text": [
      "AER after 10 epochs of learning WA: 0.5828436364637235\n",
      "AER after another 10 epochs, initialized with WA, learning WPA: 0.562407106682814\n"
     ]
    }
   ],
   "source": [
    "word_aligner = WordAligner(len(t_idx_src), len(t_idx_tgt), 10)\n",
    "word_aligner.fit(tokenized_sentences)\n",
    "aer_10 = compute_aer(all_targets, word_aligner.align(tokenized_sentences))\n",
    "print(f'AER after 10 epochs of learning WA: {aer_10}')\n",
    "\n",
    "wp_aligner = WordPositionAligner(len(t_idx_src), len(t_idx_tgt), 10)\n",
    "wp_aligner.translation_probs = word_aligner.translation_probs\n",
    "wp_aligner.fit(tokenized_sentences)\n",
    "aer_20 = compute_aer(all_targets, wp_aligner.align(tokenized_sentences))\n",
    "print(f'AER after another 10 epochs, initialized with WA, learning WPA: {aer_20}')"
   ]
  },
  {
   "cell_type": "markdown",
   "metadata": {},
   "source": [
    "<font color=blue>Простая модель выравнивания, обученная на 10 эпохах (AER = 0.583), работает лучше сложной на, обученной 20 (AER = 0.597), но, если мы используем хак с инициализацией сложной модели, то получаем заметное улучшение (AER=0.562).</font>"
   ]
  },
  {
   "cell_type": "markdown",
   "metadata": {},
   "source": [
    "---"
   ]
  },
  {
   "cell_type": "markdown",
   "metadata": {},
   "source": [
    "**Задание 7. (бонус, 1 балл)** В предыдущих пунктах мы никак не заостряли внимание на предобработке текстов, что может негативно влиять на результаты обученной модели. Например, сейчас метод выравнивания учитывает регистр, а слова на чешском языке вдобавок обладают богатой морфологией и большим количеством диакритических знаков. Если сократить количество параметров модели (различных слов), можно ускорить обучение и добиться лучших результатов, потому что статистики по словам будут считаться по большему числу параллельных предложений.\n",
    "\n",
    "Примените к исходным данным [Unicode-нормализацию](https://en.wikipedia.org/wiki/Unicode_equivalence#Normalization), приведите их к нижнему регистру и обучите модель выравнивания заново. Сравните качество и скорость обучения с предыдущими результатами и сделайте выводы. Если вы найдете в данных ещё какие-то проблемы, которые можно исправить более грамотной предобработкой, также продемонстрируйте, как их решение влияет на качество.\n",
    "\n",
    "**Важно:** здесь и далее в процессе обработки данных у вас может получаться, что из тестовых данных будут удалены предложения из-за отсутствия слов в словаре. Если такое всё же произошло, для корректности сравнения считайте AER вашей модели на удалённых предложениях равным 1."
   ]
  },
  {
   "cell_type": "markdown",
   "metadata": {},
   "source": [
    "---"
   ]
  },
  {
   "cell_type": "code",
   "execution_count": null,
   "metadata": {},
   "outputs": [],
   "source": [
    "# (੭•̀ω•́)੭̸*✩⁺˚"
   ]
  },
  {
   "cell_type": "markdown",
   "metadata": {},
   "source": [
    "---"
   ]
  },
  {
   "cell_type": "markdown",
   "metadata": {},
   "source": [
    "**Задание 8. (бонус, до 3 баллов)** \n",
    "\n",
    "Улучшите качество получившейся системы настолько, насколько сможете. За каждые 5 процентов, на которые AER на тех же данных получается меньше, чем минимум ошибки всех предыдущих моделей, вы получите по 1 бонусному баллу.\n",
    "\n",
    "Ниже приведены несколько идей, которые могут помочь вам повысить \n",
    "\n",
    "* Модифицировать модель: как вы можете понять, недостатком второго реализованного вами подхода является избыточное число параметров из-за необходимости подерживать отдельную матрицу для каждой различной пары длин предложений в корпусе. В статье https://www.aclweb.org/anthology/N13-1073.pdf приведён способ снижения числа параметров, задающих априорное распределение позиций выравнивания, который позволяет в десять раз быстрее обучать модель и получать лучшее качество.\n",
    "* Агрегация по двум направлениям: в статье https://www.aclweb.org/anthology/J03-1002/ утверждается, что асимметричность выравниваний вредит качеству, потому что из-за выбранной модели одному слову в целевом предложении не может соответствовать два слова в исходном предложении. Для решения этой проблемы (и улучшения метрик, разумеется) авторы предлагают несколько алгоритмов, которые можно попробовать применить в этом задании.\n",
    "* Использовать больше обучающих данных. В корпусе, которым мы пользуемся, только пара тысяч предложений, чего может не хватать для по-настоящему хорошей модели выравнивания. Разумеется, неразмеченных параллельных английско-чешских корпусов гораздо больше, поэтому можно воспользоваться ими. Хорошая точка для старта — данные с соревнования по машинному переводу  [воркшопа WMT](http://www.statmt.org/wmt20/translation-task.html).\n",
    "* В языках часто существуют слова наподобие артиклей или предлогов, которым не соответствует ни одно слово в переводе. Все рассмотренные в рамках задания модели это не учитывают, возможно, добавление возможности перевода в «нулевой» токен улучшит качество модели (при тестировании такие выравнивания имеет смысл выбрасывать)"
   ]
  },
  {
   "cell_type": "code",
   "execution_count": null,
   "metadata": {},
   "outputs": [],
   "source": [
    "# ┐_(ツ)_┌━☆ﾟ.*･｡ﾟ"
   ]
  },
  {
   "cell_type": "markdown",
   "metadata": {},
   "source": [
    "### Картинка для поддержки ваших чувств по этому заданию"
   ]
  },
  {
   "cell_type": "markdown",
   "metadata": {},
   "source": [
    "![](https://a.d-cd.net/RAAAAgCnO-A-960.jpg)"
   ]
  }
 ],
 "metadata": {
  "kernelspec": {
   "display_name": "Python 3.8.5 64-bit ('tsss')",
   "language": "python",
   "name": "python38564bittsssa30b5c8500d64d4d9c0d870087ae02d4"
  },
  "language_info": {
   "codemirror_mode": {
    "name": "ipython",
    "version": 3
   },
   "file_extension": ".py",
   "mimetype": "text/x-python",
   "name": "python",
   "nbconvert_exporter": "python",
   "pygments_lexer": "ipython3",
   "version": "3.8.8"
  }
 },
 "nbformat": 4,
 "nbformat_minor": 4
}
